{
 "cells": [
  {
   "cell_type": "code",
   "execution_count": 1,
   "metadata": {},
   "outputs": [],
   "source": [
    "import numpy as np\n",
    "import healpy as hp"
   ]
  },
  {
   "cell_type": "code",
   "execution_count": 2,
   "metadata": {},
   "outputs": [],
   "source": [
    "#I think this method works, but I am not sure how to test it\n",
    "def pixel_corners(order):\n",
    "    pix_num = hp.order2npix(order)\n",
    "    pixel_corners = dict()\n",
    "    for ind in range(pix_num):\n",
    "        #Setting step to something greater than 1 would allow you to find more coordinates along the boundaries\n",
    "         vertices = hp.boundaries(hp.order2nside(order), ind, step=1)\n",
    "         rad_theta, rad_phi  = hp.vec2ang(vertices.T)\n",
    "         theta = np.rad2deg(rad_theta)\n",
    "         phi = 90 - np.rad2deg(rad_phi)\n",
    "         toAdd = []\n",
    "         for i in range(4):\n",
    "             toAdd.append((theta[i], phi[i]))\n",
    "         pixel_corners[ind] = toAdd\n",
    "         \n",
    "         \n",
    "         \n",
    "        \n",
    "        \n",
    "    \n",
    "    return pixel_corners"
   ]
  },
  {
   "cell_type": "code",
   "execution_count": 3,
   "metadata": {},
   "outputs": [],
   "source": [
    "#I don't know how to increment by one degree because I don't know how to keep the values in the boundry\n",
    "def increments(pixel):\n",
    "    toReturn = []\n",
    "\n",
    "    top = pixel[0]\n",
    "    right = pixel[1]\n",
    "    bottom = pixel[2]\n",
    "    left = pixel[3]\n",
    "    center = ((top[0] + bottom[0])/2, (right[1] + left[1])/2 )\n",
    "        \n",
    "        "
   ]
  },
  {
   "cell_type": "code",
   "execution_count": 11,
   "metadata": {},
   "outputs": [],
   "source": [
    "p = pixel_corners(0)"
   ]
  },
  {
   "cell_type": "code",
   "execution_count": 12,
   "metadata": {},
   "outputs": [
    {
     "data": {
      "text/plain": [
       "{0: [(0.0, 90.0),\n",
       "  (48.18968510422141, 90.0),\n",
       "  (90.0, 45.0),\n",
       "  (48.18968510422141, 0.0)],\n",
       " 1: [(0.0, 90.0),\n",
       "  (48.18968510422141, 0.0),\n",
       "  (90.0, -45.0),\n",
       "  (48.18968510422141, -90.0)],\n",
       " 2: [(0.0, 90.0),\n",
       "  (48.18968510422141, -90.0),\n",
       "  (90.0, -134.99999999999997),\n",
       "  (48.18968510422141, -180.0)],\n",
       " 3: [(0.0, 90.0),\n",
       "  (48.18968510422141, -180.0),\n",
       "  (90.0, -225.0),\n",
       "  (48.18968510422141, 90.0)],\n",
       " 4: [(48.18968510422141, 90.0),\n",
       "  (90.0, -225.0),\n",
       "  (131.81031489577862, 90.0),\n",
       "  (90.0, 45.0)],\n",
       " 5: [(48.18968510422141, 0.0),\n",
       "  (90.0, 45.0),\n",
       "  (131.81031489577862, 0.0),\n",
       "  (90.0, -45.0)],\n",
       " 6: [(48.18968510422141, -90.0),\n",
       "  (90.0, -45.0),\n",
       "  (131.81031489577862, -90.0),\n",
       "  (90.0, -134.99999999999997)],\n",
       " 7: [(48.18968510422141, -180.0),\n",
       "  (90.0, -134.99999999999997),\n",
       "  (131.81031489577862, -180.0),\n",
       "  (90.0, -225.0)],\n",
       " 8: [(90.0, 45.0),\n",
       "  (131.81031489577862, 90.0),\n",
       "  (180.0, 90.0),\n",
       "  (131.81031489577862, 0.0)],\n",
       " 9: [(90.0, -45.0),\n",
       "  (131.81031489577862, 0.0),\n",
       "  (180.0, 90.0),\n",
       "  (131.81031489577862, -90.0)],\n",
       " 10: [(90.0, -134.99999999999997),\n",
       "  (131.81031489577862, -90.0),\n",
       "  (180.0, 90.0),\n",
       "  (131.81031489577862, -180.0)],\n",
       " 11: [(90.0, -225.0),\n",
       "  (131.81031489577862, -180.0),\n",
       "  (180.0, 90.0),\n",
       "  (131.81031489577862, 90.0)]}"
      ]
     },
     "execution_count": 12,
     "metadata": {},
     "output_type": "execute_result"
    }
   ],
   "source": [
    "p"
   ]
  },
  {
   "cell_type": "code",
   "execution_count": null,
   "metadata": {},
   "outputs": [],
   "source": []
  }
 ],
 "metadata": {
  "kernelspec": {
   "display_name": "Cryo-EM_project",
   "language": "python",
   "name": "python3"
  },
  "language_info": {
   "codemirror_mode": {
    "name": "ipython",
    "version": 3
   },
   "file_extension": ".py",
   "mimetype": "text/x-python",
   "name": "python",
   "nbconvert_exporter": "python",
   "pygments_lexer": "ipython3",
   "version": "3.11.0"
  }
 },
 "nbformat": 4,
 "nbformat_minor": 2
}
