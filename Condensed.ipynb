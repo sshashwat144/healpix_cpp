{
 "cells": [
  {
   "cell_type": "code",
   "execution_count": null,
   "metadata": {},
   "outputs": [],
   "source": [
    "import numpy as np\n",
    "import healpy as hp"
   ]
  },
  {
   "cell_type": "code",
   "execution_count": null,
   "metadata": {},
   "outputs": [],
   "source": [
    "#I think this method works, but I am not sure how to test it\n",
    "def pixel_corners(order):\n",
    "    pix_num = hp.order2npix(order)\n",
    "    pixel_corners = dict()\n",
    "    for ind in range(pix_num):\n",
    "         vertices = hp.boundaries(hp.order2nside(order), ind, step=1)\n",
    "         rad_theta, rad_phi  = hp.vec2ang(vertices.T)\n",
    "         theta = np.rad2deg(rad_theta)\n",
    "         phi = 90 - np.rad2deg(rad_phi)\n",
    "         toAdd = []\n",
    "         for i in range(4):\n",
    "             toAdd.append((theta[i], phi[i]))\n",
    "         pixel_corners[ind] = toAdd\n",
    "         \n",
    "         \n",
    "         \n",
    "        \n",
    "        \n",
    "    \n",
    "    return pixel_corners"
   ]
  },
  {
   "cell_type": "code",
   "execution_count": null,
   "metadata": {},
   "outputs": [],
   "source": [
    "#I don't know how to increment by one degree because I don't know how to keep the values in the boundry\n",
    "def increments(pixel):\n",
    "    toReturn = []\n",
    "\n",
    "    top = pixel[0]\n",
    "    right = pixel[1]\n",
    "    bottom = pixel[2]\n",
    "    left = pixel[3]\n",
    "    center = ((top[0] + bottom[0])/2, (right[1] + left[1])/2 )\n",
    "        \n",
    "        "
   ]
  }
 ],
 "metadata": {
  "kernelspec": {
   "display_name": "Cryo-EM_project",
   "language": "python",
   "name": "python3"
  },
  "language_info": {
   "name": "python",
   "version": "3.11.0"
  }
 },
 "nbformat": 4,
 "nbformat_minor": 2
}
