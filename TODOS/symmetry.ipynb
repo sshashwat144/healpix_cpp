{
 "cells": [
  {
   "cell_type": "code",
   "execution_count": 15,
   "metadata": {},
   "outputs": [],
   "source": [
    "import numpy as np\n",
    "import matplotlib.pyplot as plt\n",
    "from mpl_toolkits.mplot3d import Axes3D\n",
    "from mpl_toolkits.mplot3d.art3d import Poly3DCollection\n",
    "import matplotlib.colors as mcolors\n",
    "import healpy as hp\n",
    "import math\n",
    "from shapely.geometry import Point, Polygon\n",
    "import plotly.graph_objects as go"
   ]
  },
  {
   "cell_type": "code",
   "execution_count": 16,
   "metadata": {},
   "outputs": [],
   "source": [
    "# void EulerSearch::SetSymmetryLimits( ) {\n",
    "#     // Frealign limits, original code written by Richard Henderson\n",
    "#     //    DATA  ASYMTEST/' CDTOI0123456789'/\n",
    "#     //    DATA  THETASTORE/90.0,  90.0,  54.7,  54.7,  31.7/\n",
    "#     //    DATA  PHISTORE/360.0,  360.0, 180.0,  90.0, 180.0/\n",
    "#     //    DATA  JSTORE/2,1,1,1,1/\n",
    "\n",
    "#     wxChar symmetry_type;\n",
    "#     long   symmetry_number;\n",
    "\n",
    "#     if ( symmetry_symbol.Length( ) < 1 ) {\n",
    "#         MyPrintWithDetails(\"Error: Must specify symmetry symbol\\n\");\n",
    "#         DEBUG_ABORT;\n",
    "#     }\n",
    "#     symmetry_type = symmetry_symbol.Capitalize( )[0];\n",
    "#     if ( symmetry_symbol.Length( ) == 1 ) {\n",
    "#         symmetry_number = 0;\n",
    "#     }\n",
    "#     else {\n",
    "#         if ( ! symmetry_symbol.Mid(1).ToLong(&symmetry_number) ) {\n",
    "#             MyPrintWithDetails(\"Error: Invalid n after symmetry symbol\\n\");\n",
    "#             DEBUG_ABORT;\n",
    "#         }\n",
    "#     }\n",
    "\n",
    "#     if ( symmetry_type == 'C' ) {\n",
    "#         if ( symmetry_number == 0 ) {\n",
    "#             MyPrintWithDetails(\"Error: Invalid n after symmetry symbol\\n\");\n",
    "#             DEBUG_ABORT;\n",
    "#         }\n",
    "\n",
    "#         phi_max     = 360.0 / symmetry_number;\n",
    "#         theta_max   = 90.0;\n",
    "#         test_mirror = true;\n",
    "\n",
    "#         return;\n",
    "#     }\n",
    "\n",
    "#     if ( symmetry_type == 'D' ) {\n",
    "#         if ( symmetry_number == 0 ) {\n",
    "#             MyPrintWithDetails(\"Error: Invalid n after symmetry symbol\\n\");\n",
    "#             DEBUG_ABORT;\n",
    "#         }\n",
    "\n",
    "#         phi_max     = 360.0 / symmetry_number;\n",
    "#         theta_max   = 90.0;\n",
    "#         test_mirror = false;\n",
    "\n",
    "#         return;\n",
    "#     }\n",
    "\n",
    "#     if ( symmetry_type == 'T' ) {\n",
    "#         phi_max     = 180.0;\n",
    "#         theta_max   = 54.7;\n",
    "#         test_mirror = false;\n",
    "\n",
    "#         return;\n",
    "#     }\n",
    "\n",
    "#     if ( symmetry_type == 'O' ) {\n",
    "#         phi_max     = 90.0;\n",
    "#         theta_max   = 54.7;\n",
    "#         test_mirror = false;\n",
    "\n",
    "#         return;\n",
    "#     }\n",
    "\n",
    "#     if ( symmetry_type == 'I' ) {\n",
    "#         phi_max     = 180.0;\n",
    "#         theta_max   = 31.7;\n",
    "#         test_mirror = false;\n",
    "\n",
    "#         return;\n",
    "#     }\n",
    "\n",
    "#     MyPrintWithDetails(\"Error: Invalid symmetry symbol\\n\");\n",
    "#     DEBUG_ABORT;\n",
    "# }"
   ]
  },
  {
   "cell_type": "code",
   "execution_count": 17,
   "metadata": {},
   "outputs": [],
   "source": [
    "def SetSymmetryLimits(symmetry_symbol, symmetry_number): \n",
    "    # // Frealign limits, original code written by Richard Henderson\n",
    "    # //    DATA  ASYMTEST/' CDTOI0123456789'/\n",
    "    # //    DATA  THETASTORE/90.0,  90.0,  54.7,  54.7,  31.7/\n",
    "    # //    DATA  PHISTORE/360.0,  360.0, 180.0,  90.0, 180.0/\n",
    "    # //    DATA  JSTORE/2,1,1,1,1/\n",
    "\n",
    "    # wxChar symmetry_type;\n",
    "    # long   symmetry_number;\n",
    "    \n",
    "    #Algorithm:\n",
    "    #Check if all four points of pixel are out of the theta phi range, if so skip pixel\n",
    "    #Mark pixels with 1-3 points of pixel out of range\n",
    "    #Filter points in these pixels\n",
    "    \n",
    "    symmetry_type = symmetry_symbol\n",
    "    # if ( symmetry_symbol.Length( ) < 1 ) {\n",
    "    #     MyPrintWithDetails(\"Error: Must specify symmetry symbol\\n\");\n",
    "    #     DEBUG_ABORT;\n",
    "    # }\n",
    "    # symmetry_type = symmetry_symbol.Capitalize( )[0];\n",
    "    # if ( symmetry_symbol.Length( ) == 1 ) {\n",
    "    #     symmetry_number = 0;\n",
    "    # }\n",
    "    # else {\n",
    "    #     if ( ! symmetry_symbol.Mid(1).ToLong(&symmetry_number) ) {\n",
    "    #         MyPrintWithDetails(\"Error: Invalid n after symmetry symbol\\n\");\n",
    "    #         DEBUG_ABORT;\n",
    "    #     }\n",
    "    # }\n",
    "\n",
    "    if ( symmetry_type == 'C' ):\n",
    "        # if ( symmetry_number == 0 ) {\n",
    "        #     MyPrintWithDetails(\"Error: Invalid n after symmetry symbol\\n\");\n",
    "        #     DEBUG_ABORT;\n",
    "        # }\n",
    "\n",
    "        phi_max     = 360.0 / symmetry_number\n",
    "        theta_max   = 180.0\n",
    "        # test_mirror = true;\n",
    "\n",
    "        return phi_max, theta_max\n",
    "    \n",
    "\n",
    "    if ( symmetry_type == 'D' ):\n",
    "        # if ( symmetry_number == 0 ) {\n",
    "        #     MyPrintWithDetails(\"Error: Invalid n after symmetry symbol\\n\");\n",
    "        #     DEBUG_ABORT;\n",
    "        # }\n",
    "\n",
    "        phi_max     = 360.0 / symmetry_number\n",
    "        theta_max   = 90.0\n",
    "        # test_mirror = false;\n",
    "\n",
    "        return phi_max, theta_max\n",
    "    \n",
    "\n",
    "    if ( symmetry_type == 'T' ):\n",
    "        phi_max     = 180.0\n",
    "        theta_max   = 54.7\n",
    "        #test_mirror = false;\n",
    "\n",
    "        return;\n",
    "    \n",
    "\n",
    "    if ( symmetry_type == 'O' ):\n",
    "        phi_max     = 90.0\n",
    "        theta_max   = 54.7\n",
    "        # test_mirror = false;\n",
    "\n",
    "        return phi_max, theta_max\n",
    "    \n",
    "\n",
    "    if ( symmetry_type == 'I' ):\n",
    "        phi_max     = 180.0\n",
    "        theta_max   = 31.7\n",
    "        # test_mirror = false;\n",
    "\n",
    "        return phi_max, theta_max\n",
    "    \n",
    "\n",
    "    # MyPrintWithDetails(\"Error: Invalid symmetry symbol\\n\");\n",
    "    # DEBUG_ABORT;\n"
   ]
  },
  {
   "cell_type": "code",
   "execution_count": 26,
   "metadata": {},
   "outputs": [],
   "source": [
    "def main(order, num):\n",
    "    data = []\n",
    "    num_points = num\n",
    "    # Create points for sphere\n",
    "    theta = np.linspace(0, 2 * np.pi, 100)\n",
    "    phi = np.linspace(0, np.pi, 50)\n",
    "    theta, phi = np.meshgrid(theta, phi)\n",
    "    r = 1\n",
    "    # Convert to Cartesian coordinates\n",
    "    x = r * np.sin(phi) * np.cos(theta)\n",
    "    y = r * np.sin(phi) * np.sin(theta)\n",
    "    z = r * np.cos(phi)\n",
    "    \n",
    "    sphere = go.Surface(x=x,y=y,z=z,colorscale='Gray',opacity=.2,showscale=False)\n",
    "    data.append(sphere)\n",
    "    for i in range(hp.order2npix(order)):\n",
    "        points = getBoundaries(order, i)\n",
    "        x = points[0] \n",
    "        y = points[1]\n",
    "        z = points[2]\n",
    "        scatter = go.Scatter3d(x=x,y=y,z=z,mode='markers',marker=dict(size=10,color=\"red\",colorscale='Viridis',opacity=0.8), name=\"Corners\")\n",
    "        \n",
    "        arc12, arc23, arc34, arc41 = getArcs(points, num_points)\n",
    "        arcs = np.concatenate((arc12, arc23, arc34, arc41), axis = 0)\n",
    "        scatters = go.Scatter3d(x=arcs[:,0],y=arcs[:,1],z=arcs[:,2],mode='markers',marker=dict(size=4,color=\"blue\",colorscale='Viridis',opacity=0.8), name=\"Borders\")\n",
    "        \n",
    "        phi_max, theta_max = SetSymmetryLimits('C', 4)\n",
    "        #print(theta_max, phi_max)\n",
    "        new_points, arc_lengths= getPoints(arc12, arc23, arc34, arc41, theta_max, phi_max)\n",
    "        if(np.shape(new_points)[0] == 0):\n",
    "            continue\n",
    "        x1 = new_points[:,0]\n",
    "        y1 = new_points[:,1]\n",
    "        z1 = new_points[:,2]\n",
    "        # Create scatter3d plot\n",
    "        scatter1 = go.Scatter3d(x=x1,y=y1,z=z1,mode='markers',marker=dict(size=2,colorscale='Viridis',opacity=1), name=\"Pixel \" + str(i))\n",
    "\n",
    "        \n",
    "        data.append(scatter)\n",
    "        data.append(scatters)\n",
    "        data.append(scatter1)\n",
    "        \n",
    "        \n",
    "    \n",
    "    fig = go.Figure(data=data)\n",
    "    fig.update_layout(\n",
    "        title=f'HEALPix Points on Sphere (order={order})',\n",
    "        scene=dict(\n",
    "            xaxis=dict(showbackground=False, visible=False),\n",
    "            yaxis=dict(showbackground=False, visible=False),\n",
    "            zaxis=dict(showbackground=False, visible=False),\n",
    "            aspectmode='data'\n",
    "        ),\n",
    "        width=800,\n",
    "        height=800\n",
    "    )\n",
    "    # Display the plot\n",
    "    fig.show()\n",
    "    #return arc_lengths, small_arcs\n",
    "\n",
    "# t,s  = main(0,0)"
   ]
  },
  {
   "cell_type": "code",
   "execution_count": 27,
   "metadata": {},
   "outputs": [
    {
     "data": {
      "application/vnd.plotly.v1+json": {
       "config": {
        "plotlyServerURL": "https://plot.ly"
       },
       "data": [
        {
         "colorscale": [
          [
           0,
           "rgb(0, 0, 0)"
          ],
          [
           0.09090909090909091,
           "rgb(16, 16, 16)"
          ],
          [
           0.18181818181818182,
           "rgb(38, 38, 38)"
          ],
          [
           0.2727272727272727,
           "rgb(59, 59, 59)"
          ],
          [
           0.36363636363636365,
           "rgb(81, 80, 80)"
          ],
          [
           0.45454545454545453,
           "rgb(102, 101, 101)"
          ],
          [
           0.5454545454545454,
           "rgb(124, 123, 122)"
          ],
          [
           0.6363636363636364,
           "rgb(146, 146, 145)"
          ],
          [
           0.7272727272727273,
           "rgb(171, 171, 170)"
          ],
          [
           0.8181818181818182,
           "rgb(197, 197, 195)"
          ],
          [
           0.9090909090909091,
           "rgb(224, 224, 223)"
          ],
          [
           1,
           "rgb(254, 254, 253)"
          ]
         ],
         "opacity": 0.2,
         "showscale": false,
         "type": "surface",
         "x": {
          "bdata": "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",
          "dtype": "f8",
          "shape": "50, 100"
         },
         "y": {
          "bdata": "AAAAAAAAAAAAAAAAAAAAAAAAAAAAAAAAAAAAAAAAAAAAAAAAAAAAAAAAAAAAAAAAAAAAAAAAAAAAAAAAAAAAAAAAAAAAAAAAAAAAAAAAAAAAAAAAAAAAAAAAAAAAAAAAAAAAAAAAAAAAAAAAAAAAAAAAAAAAAAAAAAAAAAAAAAAAAAAAAAAAAAAAAAAAAAAAAAAAAAAAAAAAAAAAAAAAAAAAAAAAAAAAAAAAAAAAAAAAAAAAAAAAAAAAAAAAAAAAAAAAAAAAAAAAAAAAAAAAAAAAAAAAAAAAAAAAAAAAAAAAAAAAAAAAAAAAAAAAAAAAAAAAAAAAAAAAAAAAAAAAAAAAAAAAAAAAAAAAAAAAAAAAAAAAAAAAAAAAAAAAAAAAAAAAAAAAAAAAAAAAAAAAAAAAAAAAAAAAAAAAAAAAAAAAAAAAAAAAAAAAAAAAAAAAAAAAAAAAAAAAAAAAAAAAAAAAAAAAAAAAAAAAAAAAAAAAAAAAAAAAAAAAAAAAAAAAAAAAAAAAAAAAAAAAAAAAAAAAAAAAAACAAAAAAAAAAIAAAAAAAAAAgAAAAAAAAACAAAAAAAAAAIAAAAAAAAAAgAAAAAAAAACAAAAAAAAAAIAAAAAAAAAAgAAAAAAAAACAAAAAAAAAAIAAAAAAAAAAgAAAAAAAAACAAAAAAAAAAIAAAAAAAAAAgAAAAAAAAACAAAAAAAAAAIAAAAAAAAAAgAAAAAAAAACAAAAAAAAAAIAAAAAAAAAAgAAAAAAAAACAAAAAAAAAAIAAAAAAAAAAgAAAAAAAAACAAAAAAAAAAIAAAAAAAAAAgAAAAAAAAACAAAAAAAAAAIAAAAAAAAAAgAAAAAAAAACAAAAAAAAAAIAAAAAAAAAAgAAAAAAAAACAAAAAAAAAAIAAAAAAAAAAgAAAAAAAAACAAAAAAAAAAIAAAAAAAAAAgAAAAAAAAACAAAAAAAAAAIAAAAAAAAAAgAAAAAAAAACAAAAAAAAAAIAAAAAAAAAAgAAAAAAAAACAAAAAAAAAAIAAAAAAAAAAgAAAAAAAAACAAAAAAAAAAIAAAAAAAAAAAKticSf6pHA/3lwVAGacgD//v5F1L9WIPx7AneUvepA/mzyd3ct4lD8r3hKCTWKYP23qH3OsMpw/MgztOfrlnz+9QRMrM7yhP3mzShYhc6M/kitkaQIWpT8OBPFZJ6OmP00JZoX2GKg/HjUcl+51qT/CuYXVp7iqP77p/ZTV36s/xb61jkfqrD9igVsa69atP+Q+OknMpK4/KjSt4RZTrz/S+eM5F+GvP8b3ingdJ7A/4v4ywwhNsD+1kW1mJmKwPwsi+51gZrA/hhJJDrNZsD9+q+/IKjywP9NkOT/mDbA/dc+CRSqerz9DQ5No8P+uP/Mr9gHCQa4/i3qqHGNkrT+9Mkbqt2isPzZOvNfDT6s/utTwgagaqj9E0y6LpMqoP2Xvs1ISYac/Wiukj2bfpT/m59XQLkekP9cvAuMPmqI//L3/HsTZoD9cw49DMxCeP5aUNuDgTZo/9IdjD3Fwlj+I6+W/33uSP36rHHGB6Iw/HCd4yHa7hD/1PK4mGvJ4P3ZQfZsfp2A/lFB9mx+nYL8DPa4mGvJ4vyMneMh2u4S/dasccYHojL+L6+W/33uSv/CHYw9xcJa/mZQ24OBNmr9Yw49DMxCev/29/x7E2aC/1S8C4w+aor/p59XQLkekv1grpI9m36W/Z++zUhJhp79D0y6LpMqov7vU8IGoGqq/NU6818NPq7/AMkbqt2isv4x6qhxjZK2/8yv2AcJBrr9CQ5No8P+uv3bPgkUqnq+/02Q5P+YNsL9+q+/IKjywv4YSSQ6zWbC/CyL7nWBmsL+1kW1mJmKwv+L+MsMITbC/xveKeB0nsL/S+eM5F+Gvvyo0reEWU6+/5j46Scykrr9hgVsa69atv8S+tY5H6qy/vun9lNXfq7/DuYXVp7iqvxw1HJfudam/TAlmhfYYqL8OBPFZJ6Omv5UrZGkCFqW/d7NKFiFzo7+8QRMrM7yhvzQM7Tn65Z+/c+ofc6wynL8l3hKCTWKYv5o8nd3LeJS/IcCd5S96kL/uv5F1L9WIv9ZcFQBmnIC/rGJxJ/qkcL/KCB05qRdyvAAAAAAAAAAAPCm29zicgD8H3ntTqZOQPxsY2bUfyJg/B12ZN4VxoD/S8oBQB26kP1zrYS96Vag/t4lfk9cjrD/qnwMXM9WvP2OGzB3fsrE/EsXZKuZosz++pmwr6wq1PzN3Mzg/l7Y/9/72xUkMuD9cR71Kimi5P0m5LcqZqro/6/qdRyzRuz+kF0ocEtu8P9stVzA5x70/NfpdFa6Uvj9QAFoBnUK/P+2l+qhS0L8/aZo6fJ4ewD+FnwzVdUTAP40WBl2IWcA/qlRaW8BdwD8vgcF2GVHAP6At9LmgM8A/erU5hnQFwD/egi7oiI2/P4Fsf0Si774/kUTu5dcxvj/rp1xw7VS9PwUnWp3GWbw/w+JlUWZBuz8PTQ+R7Qy6P3smCVeavbg/WtRhTMZUtz+L8TJk5dO1P5JlN1yEPLQ/hD3TI0eQsj9e2TIr59CwP3BNfzhjAK4/7fN+/gpAqj8oHBGao2SmP3VdjuEmcqI/cAWM7UzZnD9oy4Iqj7CUP4OkSzH75Ig/kcvBSl2ecD+uy8FKXZ5wv5GkSzH75Ii/b8uCKo+wlL9nBYztTNmcv3hdjuEmcqK/JBwRmqNkpr/w837+CkCqv2xNfzhjAK6/X9kyK+fQsL+CPdMjR5Cyv5RlN1yEPLS/ifEyZOXTtb9c1GFMxlS3v3omCVeavbi/EE0Pke0Mur/C4mVRZkG7vwgnWp3GWby/7KdccO1Uvb+RRO7l1zG+v4Bsf0Si776/34Iu6IiNv796tTmGdAXAv6At9LmgM8C/L4HBdhlRwL+qVFpbwF3Av40WBl2IWcC/hZ8M1XVEwL9pmjp8nh7Av+2l+qhS0L+/UABaAZ1Cv782+l0VrpS+v9otVzA5x72/oxdKHBLbvL/r+p1HLNG7v0q5LcqZqrq/Wke9Sopoub/2/vbFSQy4vzN3Mzg/l7a/waZsK+sKtb8Qxdkq5mizv2KGzB3fsrG/7J8DFzPVr7+8iV+T1yOsv1brYS96Vai/0fKAUAdupL8KXZk3hXGgvwkY2bUfyJi//917U6mTkL89Kbb3OJyAv8J5hhAlDoK8AAAAAAAAAAAVA+Cxe9SIPw++nX6vx5g/vUR698qFoj9z0lA+ppSoPwsHwusqiq4/LCEiOxowsj/oFOtjXwi1P+k7xjj2yrc/kdyjWwZ1uj+ER6u20AO9P7FF/FCydL8/rd06g5PiwD+7I9oPZvnBP+40zmOx/cI/SZ/zLWnuwz8UfydLlcrEPweFEMZSkcU/DBcTwdRBxj+gYX9JZdvGP2OpHxNmXcc/rIZlG1HHxz9l1o0zuRjIPz/6LHFKUcg/7GOvhMpwyD9hQHX1GHfIPxRNS0MvZMg/YVYe7SA4yD+hduJcG/PHP0zNwrhllcc/4e/JmWAfxz+zrk6ohZHGP6fSix5n7MU/iRnkMa8wxT920m1jH1/EP/D2eriPeMM/sl7r2+19wj+umC4pPHDBP9/08aGQUMA/losanydAvj9Chasi/7+7P9dEJLI7I7k/Seu6rY5stj/5rK4rxJ6zPxtnHxbAvLA//aOqYPaSqz+nFhYNAJClP5FliS2f7Z4/Er77mFybkj9bviBdr9d4P4e+IF2v13i/HL77mFybkr+cZYktn+2ev6AWFg0AkKW/AaSqYPaSq78YZx8WwLywv/usrivEnrO/Ruu6rY5str/ZRCSyOyO5vz+FqyL/v7u/mYsanydAvr/d9PGhkFDAv7CYLik8cMG/sV7r2+19wr/x9nq4j3jDv3XSbWMfX8S/ixnkMa8wxb+n0oseZ+zFv7OuTqiFkca/4O/JmWAfx79NzcK4ZZXHv6F24lwb88e/YVYe7SA4yL8TTUtDL2TIv2FAdfUYd8i/7GOvhMpwyL8/+ixxSlHIv2bWjTO5GMi/rIZlG1HHx79jqR8TZl3Hv6Fhf0ll28a/CxcTwdRBxr8GhRDGUpHFvxR/J0uVysS/SZ/zLWnuw7/tNM5jsf3Cv7oj2g9m+cG/rd06g5PiwL+2RfxQsnS/v4FHq7bQA72/j9yjWwZ1ur/rO8Y49sq3v+sU62NfCLW/JyEiOxowsr8KB8LrKoquv3jSUD6mlKi/sER698qFor8Cvp1+r8eYvxYD4LF71Ii/I2wONnf9irwAAAAAAAAAAH2w2dRPeZA/uFrrLtJwoD+F8zHoCZSoPyNvndT1TrA/J4xwERdDtD8WsEhXVSK4P+yVoNqy6Ls/XykBdUuSvz+T+u1TrI3BP/XUacAaQMM/HuC3LbHexD/47i0+xGfGP0GlPcG+2cc/qRsiVSMzyT9+4ALwjXLKP/YT9061lss/HE1uSWyezD90aKEHo4jNPwQ+yxpoVM4//GIIdukAzz+Za91GdY3PP3x6hKx6+c8/z5SiJkUi0D9LbZ5kKzfQPxaOEIVaO9A/yvbUN84u0D9ACztskxHQP6JpYIeQx88/r25h5TdLzz9pfD0gna7OP3aUY6Zh8s0/sDSFgEcXzT8jp5KJMB7MP6H+6YUdCMs/x72oGi3WyT+I/zCmmonIPxy3Evu8I8c/jyOo/gSmxT90vtEs/BHEP5+iWQJDacI/fYegT4+twD8IwJ3qVMG9P1GpthnfCLo/vTSZ/ZI1tj9C+V4RYkuyP/X2KtOqnKw/bYmkFhOFpD+hP/S8qLCYP1+Sc6dve4A/fZJzp297gL+vP/S8qLCYv3SJpBYThaS/7PYq06qcrL9F+V4RYkuyv7k0mf2SNba/VKm2Gd8Iur8EwJ3qVMG9v36HoE+PrcC/naJZAkNpwr92vtEs/BHEv40jqP4EpsW/HrcS+7wjx7+H/zCmmonIv8i9qBot1sm/oP7phR0Iy78mp5KJMB7Mv7E0hYBHF82/dpRjpmHyzb9ofD0gna7Ov7BuYeU3S8+/omlgh5DHz79ACztskxHQv8n21DfOLtC/Fo4QhVo70L9LbZ5kKzfQv8+UoiZFItC/fXqErHr5z7+Za91GdY3Pv/xiCHbpAM+/BT7LGmhUzr9zaKEHo4jNvxtNbklsnsy/9hP3TrWWy79/4ALwjXLKv6cbIlUjM8m/QKU9wb7Zx7/47i0+xGfGvyHgty2x3sS/89RpwBpAw7+S+u1TrI3Bv2EpAXVLkr+/8ZWg2rLou78QsEhXVSK4vyaMcBEXQ7S/Jm+d1PVOsL908zHoCZSov7Ba6y7ScKC/frDZ1E95kL81nB9xMuiRvAAAAAAAAAAAesRvYA13lD9p58ocgWykPxXZkeFtiK4/3MIVp3BCtD8ADvMRyCu5Pw9sGxkt+70/VfSzMdVVwT+mXaQ5NZzDPwOIM1FezsU/1nOm+wzqxz8RoQvoFO3JP/yGsS5j1cs/aktrdAChzT97lm/xEk7PPwFT3SxwbdA/fBh+0uci0T/Ujx1atcbRPwo7vukvWNI/RvPvisHW0j+nmmXF50HTPy7dciU0mdM/xl3nrUzc0z/q8dE07ArUP8JMzKriJNQ/cZuFTBUq1D8iAVm+fhrUP6KC0xEv9tM/DbAjtUu90z+GH4RMD3DTPwt/yHXJDtM/MI1Ldt6Z0j9skpLTxhHSP/nmENcOd9E/JJaL/VXK0D9CMLJSTgzQP9CHLHN3e84/nV19Rea+zD8c2U1hs+TKPz1PGZfH7sg/8A3+Sijfxj872WZf9bfEP4IRZQRne8I//W/9bcsrwD/4NIbnCJe7P8JmaDgKurY/0NO/LJ7FsT9FQMGRwH2pP4GADs77q54/F+vu87B5hD886+7zsHmEv5OADs77q56/TkDBkcB9qb/K078snsWxv8ZmaDgKura/8zSG5wiXu7//b/1tyyvAv4ARZQRne8K/PNlmX/W3xL/uDf5KKN/Gvz9PGZfH7si/GdlNYbPkyr+fXX1F5r7Mv8+HLHN3e86/QzCyUk4M0L8klov9VcrQv/vmENcOd9G/bJKS08YR0r8wjUt23pnSvwp/yHXJDtO/hx+ETA9w078NsCO1S73Tv6KC0xEv9tO/IQFZvn4a1L9xm4VMFSrUv8JMzKriJNS/6vHRNOwK1L/GXeetTNzTvy7dciU0mdO/p5plxedB079H8++KwdbSvwo7vukvWNK/1I8dWrXG0b98GH7S5yLRvwJT3SxwbdC/eZZv8RJOz79oS2t0AKHNv/yGsS5j1cu/FKEL6BTtyb/Uc6b7DOrHvwKIM1FezsW/qF2kOTWcw79Y9LMx1VXBvwhsGxkt+72//w3zEcgrub/fwhWncEK0vwDZkeFtiK6/X+fKHIFspL98xG9gDXeUv7NFKuTSPpa8AAAAAAAAAABcaX2nQ1+YP5cts96zUqg/E858pVkusj8C/ZCNmyC4PyeBjHr++b0/9ztPcT3awT9yzSWLFKXEP/y4WqujWsc/hcZi4h/4yT9wY48R13rMPymZcrIy4M4/4IPoQN2S0D/z8rCFi6TRP96X3gkKpNI/WoX9blGQ0z/aaFYlbmjUPzgKAGeBK9U/YPaCHcLY1T98nSKxfW/WP8039sAY79Y/4asTww9X1z9XWyeM96bXP5gQ7b193tc/5SwYHGn91z+ZkFPHmQPYPzNsHF4J8dc/HhxWA8vF1z9uR5BKC4LXPxqXEwoQJtc/j2PkEjiy1j/1jQXP+ibWP3pFYMbnhNU/HpzPCqbM1D/lbuiL8/7TP0IoL1OkHNM/CjCFqaEm0j/YV68m6R3RPyUn7auLA9A/Q/xclVixzT/1ChMx/jzLPzVoTOOPrMg/SJPNVbICxj+/vUpqJELDP4Yd3GW8bcA/AqCsCMoQuz9wExXtNCq1P+4sIDqdW64/JYgrdIVDoj+iKzQ1aGKIP84rNDVoYoi/MIgrdIVDor/5LCA6nVuuv2oTFe00KrW/BqCsCMoQu7+DHdxlvG3Av8K9SmokQsO/RZPNVbICxr83aEzjj6zIv/IKEzH+PMu/RvxclVixzb8kJ+2riwPQv9pXrybpHdG/CTCFqaEm0r9CKC9TpBzTv+Ru6Ivz/tO/IZzPCqbM1L97RWDG54TVv/WNBc/6Jta/jmPkEjiy1r8alxMKECbXv25HkEoLgte/HhxWA8vF178ybBxeCfHXv5mQU8eZA9i/5SwYHGn917+YEO29fd7Xv1dbJ4z3pte/4asTww9X17/NN/bAGO/Wv3ydIrF9b9a/X/aCHcLY1b83CgBngSvVv9poViVuaNS/W4X9blGQ07/dl94JCqTSv/LysIWLpNG/4IPoQN2S0L8tmXKyMuDOv21jjxHXesy/g8Zi4h/4yb/+uFqro1rHv3bNJYsUpcS/8ztPcT3awb8mgYx6/vm9vwb9kI2bILi/Bs58pVkusr+LLbPes1Kov15pfadDX5i/kPq4ngx+mrwAAAAAAAAAANhZbnvWLZw/rjteZFAfrD8tj8oqXAW1PxmLdupk5bs/KQ6XFFZUwT+aBKmhHKTEP0DupjSc3sc/eCaj1IAAyz+W5sfljwbOP6qqtr7VdtA/LAJOzGrZ0T+z/9WYmSnTP/o76ZgHZtQ/vaLKnW6N1T/v4KElnp7WP4DnX5V8mNc/f/EHWwh62D8c0jH3WELZP0fZs+yf8Nk/AEJ9lSmE2j9rwMXbXfzaP/pK09bAWNs/zIO0SvOY2z8jGGwKs7zbP+jjJzzbw9s/2oc9f2Su2z8vSsXzZHzbP6JqyyMQLts/qGwvzrbD2j+0G2iTxj3aPy0WgoTJnNk/WFzNlGXh2D91mMzuWwzYP7t2Fi2IHtc/t072d98Y1j/pd7WIb/zUP+HJkZNdytM/juN/GeWD0j/hx/CiVirRP3Yh1Mksfs8/VqGsozWHzD+zSRAv1nLJP0Ky+xc7RMY/n5EKFaz+wj/iAr8LEUu/Px8YUPKHeLg/K9qkO8WMsT9eiX+M1h2lP+Y/AbV4MYw/GUABtXgxjL9qiX+M1h2lvzHapDvFjLG/FxhQ8od4uL/nAr8LEUu/v5uRChWs/sK/RLL7FztExr+vSRAv1nLJv1ihrKM1h8y/cyHUySx+z7/jx/CiVirRv43jfxnlg9K/48mRk13K07/od7WIb/zUv7dO9nffGNa/unYWLYge1794mMzuWwzYv1lczZRl4di/LRaChMmc2b+zG2iTxj3av6lsL862w9q/omrLIxAu278vSsXzZHzbv9mHPX9krtu/6OMnPNvD278jGGwKs7zbv8yDtErzmNu/+0rT1sBY279rwMXbXfzavwBCfZUphNq/SNmz7J/w2b8b0jH3WELZv3/xB1sIeti/gOdflXyY17/w4KElnp7Wv7uiyp1ujdW/+TvpmAdm1L+z/9WYmSnTvy4CTsxq2dG/qaq2vtV20L+U5sfljwbOv3omo9SAAMu/Re6mNJzex7+VBKmhHKTEvygOlxRWVMG/H4t26mTlu78fj8oqXAW1v6A7XmRQH6y/2Vlue9YtnL9gdFvpZ6GevAAAAAAAAAAA4AcppsTenz+lMhqIV86vP9kK3rdBxrc/8k9S09WMvz9II/sTcpnDP7Uq3SZFWMc/GHPIwQf/yj99W45S9onOP6TBTvu0+tA/w3VaH+6e0j8h3pFo9S/UPxtha3MtrNU/Y4jNTw4S1z+WoBMVJ2DYP9QuVV4fldk/eTxorbiv2j98hTCzz67bP8Eb6Xtdkdw/evQyfnhW3T8n9tCLVf3dP89fGaNIhd4/Y6NEoMXt3j917eLNYDbfP9xw41PPXt8//AK7hOdm3z9GgVoIoU7fP5O2yOQUFt8/p+JWZH293j+4eorZNUXeP3oT+kC6rd0/eH5+wab33D8K2jsLtyPcP/6AKJbFMts/jEnZwMol2j8iOHvQ2/3YP8SQAtMpvNc/uua1ZABi1j8EUVlaxPDUPzghWlHyadM/ukd2Jx3P0T8+1XNb7CHQP3JeKbE0yMw/Ye8QXeUuyT+FimVvoHvFP2j9W182ssE/GLcN8Bytuz+TT32kRdmzP2Fnn+zw4ac/TSAJueDijz+GIAm54OKPv25nn+zw4ae/mk99pEXZs78Ptw3wHK27v2v9W182ssG/gYplb6B7xb9k7xBd5S7Jv25eKbE0yMy/P9VzW+wh0L+4R3YnHc/RvzohWlHyadO/AlFZWsTw1L+85rVkAGLWv8OQAtMpvNe/Izh70Nv92L+LSdnAyiXavwGBKJbFMtu/C9o7C7cj3L94fn7Bpvfcv3kT+kC6rd2/uXqK2TVF3r+n4lZkfb3ev5O2yOQUFt+/RYFaCKFO37/8AruE52bfv9xw41PPXt+/de3izWA2379ko0Sgxe3ev89fGaNIhd6/J/bQi1X93b979DJ+eFbdv8Ab6Xtdkdy/e4Uws8+u2795PGituK/av9UuVV4fldm/lKATFSdg2L9iiM1PDhLXvxtha3MtrNW/JN6RaPUv1L/BdVof7p7Sv6PBTvu0+tC/f1uOUvaJzr8dc8jBB//Kv68q3SZFWMe/RyP7E3KZw7/4T1LT1Yy/v8gK3rdBxre/lTIaiFfOr7/hBymmxN6fvzP34S5FUqG8AAAAAAAAAABIxUQQFrehP9IrjKH0rbE/sJ7+xiRuuj8RfT0ei4nBP62O1e3vycU/dXWr4d7zyT+LPTcwDQPOPy0y1tGl+dA/6u0ZdUXg0j/sO6Pib7PUP/iy64lDcdY/hFKS2fQX2D93CRcZ0KXZP3UyASo7Gds/KweiLrdw3D+FQL8U4qrdPxIPjwJ4xt4/0i+NpFTC3z8hf2gtuk7gP/bxVqJ6q+A/tiLFFAz34D9jdP6eIDHhPzDSMmJ8WeE/W+UtxPVv4T9IizmadXThP/ZW/0D3ZuE/739QoYhH4T8DUc8hShbhP3TeiIVu0+A/inGhtzp/4D/YmUmEBRrgP5o/in5uSN8/EifAsJI83j/ypoG8ixHdP7ooMOCNyNs/aDuDPexi2j9e/vJ7F+LYP7Das0ycR9c/I0XL0SGV1T8mD+PpZ8zTP2HknGJF79E/m7mDJkz/zz/m0ITDEf/LP55rImj74cc/z+Xvn0aswz/daVuulMS+PzcvP8PkELY/KUVZr+uMqj/Q6PzcXrmRP/Do/NxeuZG/OEVZr+uMqr8+Lz/D5BC2v9NpW66UxL6/0+Xvn0asw7+aayJo++HHv+rQhMMR/8u/l7mDJkz/z79j5JxiRe/RvyQP4+lnzNO/JUXL0SGV1b+t2rNMnEfXv2D+8nsX4ti/ZjuDPexi2r+7KDDgjcjbv/CmgbyLEd2/FSfAsJI83r+bP4p+bkjfv9iZSYQFGuC/iXGhtzp/4L903oiFbtPgvwNRzyFKFuG/739QoYhH4b/1Vv9A92bhv0iLOZp1dOG/W+UtxPVv4b8w0jJifFnhv2R0/p4gMeG/tiLFFAz34L/28VaieqvgvyJ/aC26TuC/0S+NpFTC378RD48CeMbev4VAvxTiqt2/LAeiLrdw3L9zMgEqOxnbv3YJFxnQpdm/hFKS2fQX2L/8suuJQ3HWv+o7o+Jvs9S/6e0ZdUXg0r8uMtbRpfnQv5E9NzANA86/b3Wr4d7zyb+sjtXt78nFvxR9PR6LicG/nZ7+xiRuur/JK4yh9K2xv0nFRBAWt6G/7k6KvZ1Bo7wAAAAAAAAAAJtmBxQnbKM/jad/YCRisz8JPJwhOvq8P2d4H4I4OsM/HRTuBILjxz/OskWIK3TMP6wfvy7Ac9A/S+gFCXWc0j/2/xGV+rHUP91OrNsqstY/i3o24/Wa2D+Va+rPY2raP0KxPeuWHtw/sF1RkM213T8PvXL7Yy7fPwOPZ/1qQ+A/sFBOP+De4D9ZyY2D8WjhP2+Ae3cQ4eE/cgNYSMFG4j9Tp/Iim5niP/fTt59I2eI/33a6GogF4z/x3F33Kx7jP6UzWs8aI+M/CTrrjE8U4z9nJA5w2fHiP0VLyf7bu+I/DNqN4I5y4j+6PNmkPRbiP7NvUXVHp+E/B3yssx4m4T++PsiDSJPgPzwL2IS43t8/gfWC0gV23j9zakvB7O3cP+P3C4ABSNs/fIwb+/aF2T9nb/kbnanXP2dUF+vetNU//X6ulcCp0z/tualZXYrRP789kbPKsc4/ylpyuDYvyj8kxvXrpJHFP0mr5ErX3cA/v4yWek0xuD8NrUZd+ButP5I12DyobpM/tTXYPKhuk78erUZd+Butv8eMlnpNMbi/RKvkStfdwL8oxvXrpJHFv8Vacrg2L8q/wj2Rs8qxzr/qualZXYrRv/9+rpXAqdO/ZVQX69601b9pb/kbnanXv3qMG/v2hdm/5fcLgAFI279yakvB7O3cv4L1gtIFdt6/OwvYhLje37/APsiDSJPgvwh8rLMeJuG/s29RdUen4b+6PNmkPRbivwzajeCOcuK/RUvJ/tu74r9nJA5w2fHivwg664xPFOO/pTNazxoj47/x3F33Kx7jv992uhqIBeO/+NO3n0jZ4r9Tp/Iim5niv3IDWEjBRuK/cIB7dxDh4b9YyY2D8Wjhv69QTj/g3uC/A49n/WpD4L8QvXL7Yy7fv61dUZDNtd2/QbE965Ye3L+Va+rPY2rav456NuP1mti/2k6s2yqy1r/1/xGV+rHUv0zoBQl1nNK/rx+/LsBz0L/HskWIK3TMvxwU7gSC48e/a3gfgjg6w7/1O5whOvq8v4Onf2AkYrO/nGYHFCdso7+3bUKLtBylvAAAAAAAAAAAqf62l8kMpT8BWzsn8AG1P/hcr9DTZ78/SXCr7KvWxD9zIrHY8uPJPz//FomJ1s4/q8OtLqvU0T+E7dU8sCvUP6ZrfXPqbdY/VzcExgWZ2D8EfRz9xaraP/XkpAQJodw/znORHsl53j9NYE98jxngP/asVNGh5eA/jsPRMUmg4T/a/aI1xUjiPxg3Xi9o3uI/7ZVa35dg4z9RSLESzs7jP09Kky2ZKOQ/O55loJxt5D8RPitHkZ3kP1Nr2rJFuOQ/VMVRXJ695D/gnrjAla3kP/RSLWc8iOQ/dL27z7hN5D+vZ61LR/7jP9xRXL85muM/LHHITfch4z8o50bu+5XiP/WJuOzX9uE/PnfLVC9F4T/LBeFIuYHgP3vMjIp+Wt8/ORcFoTiR3T+w6R4zeKnbP0kmzwk0pdk/FnrDUoCG1z8knc17jE/VPwFrN/KgAtM/ykRSyByi0D/mfl2H5mDMP1ZfA61SYMc/rTmiDaZHwj8BrVkYQzi6Px+imOBljK8/cUkneoAPlT+XSSd6gA+VvzGimOBljK+/Cq1ZGEM4ur+nOaINpkfCv1pfA61SYMe/4H5dh+ZgzL/MRFLIHKLQv/9qN/KgAtO/JZ3Ne4xP1b8TesNSgIbXv0smzwk0pdm/rekeM3ip2788FwWhOJHdv3rMjIp+Wt+/zAXhSLmB4L89d8tUL0Xhv/eJuOzX9uG/KedG7vuV4r8scchN9yHjv9xRXL85muO/sGetS0f+4790vbvPuE3kv/RSLWc8iOS/3564wJWt5L9UxVFcnr3kv1Nr2rJFuOS/ET4rR5Gd5L87nmWgnG3kv09Kky2ZKOS/UUixEs7O47/tlVrfl2Djvxg3Xi9o3uK/2f2iNcVI4r+Ow9ExSaDhv/asVNGh5eC/TGBPfI8Z4L/Mc5EeyXnev/XkpAQJody/CH0c/cWq2r9UNwTGBZnYv6VrfXPqbda/he3VPLAr1L+uw60uq9TRvzf/FomJ1s6/cSKx2PLjyb9NcKvsq9bEv+Jcr9DTZ7+/9lo7J/ABtb+q/raXyQylv90k2dGV4aa8AAAAAAAAAABCnvNSR5emP5egRI+ii7Y/tzIq9zHawD+BykF8M13GP7lrElgnycs/YGiqZzuM0D+4q5JW1CLTPzJytHOzpdU/UcF4D0IS2D87mtt6AGbaPzlQ0pqIntw/PhRUYZC53j/vFLwUdlrgP32EHXpIR+E/xv/NQUsi4j8QzPOonOriP8L7kzFun+M/YrRtdwVA5D//IB3wvMvkP/UBwJUEQuU/KfNre2Ki5T8AX91Kc+zlP2qP3arqH+Y//072jZM85j+Y+SFpUELmP8GcP1IbMeY/rsMrBgYJ5j+9pXfWOcrlP56Q0X73dOU/z3VK4pYJ5T9YZL2whojkPylStvRL8uM/ktJNioFH4z9FGId/14jiP0TQ1F4St+E/Iul/ZArT4D/7O4I/VbvfP6AV5gDgr90/+h6tpNCF2z/LjexNYj/ZP/6Aj17t3tY/r9xzDOVm1D+YhN/a1NnRP5Hb0PW7dM4/KKQHK2kWyT8dtA8EOp7DPxPk/K+jI7w/2qT9rNHtsD8z9gUUMZqWP1v2BRQxmpa/46T9rNHtsL8d5PyvoyO8vxe0DwQ6nsO/LKQHK2kWyb+M29D1u3TOv5qE39rU2dG/rNxzDOVm1L//gI9e7d7Wv8iN7E1iP9m//R6tpNCF27+dFeYA4K/dv/47gj9Vu9+/Iel/ZArT4L9F0NReErfhv0QYh3/XiOK/ldJNioFH478pUrb0S/Ljv1hkvbCGiOS/znVK4pYJ5b+fkNF+93Tlv72ld9Y5yuW/rsMrBgYJ5r/AnD9SGzHmv5j5IWlQQua//072jZM85r9qj92q6h/mvwFf3Upz7OW/KfNre2Ki5b/1AcCVBELlvwAhHfC8y+S/YrRtdwVA5L/B+5Mxbp/jvxDM86ic6uK/x//NQUsi4r98hB16SEfhv+4UvBR2WuC/PhRUYZC53r89UNKaiJ7cvzia23oAZtq/UMF4D0IS2L8zcrRzs6XVv7yrklbUItO/XGiqZzuM0L+4axJYJ8nLv4XKQXwzXca/qzIq9zHawL+MoESPoou2v0Oe81JHl6a/hlgOKGWOqLwAAAAAAAAAAGv/sEgBCqg/xOtycZ39tz9jq9Wqv+7BP7ffs140zMc/3VOgGCGRzT+BMTizyZvRP7elcCDcXNQ/NRVKBvEI1z/HZzs6R53ZP+1nyAs2F9w/QB4tAjB03j9wWf2+4ljgP4m6953TZuE/XLA5W9Ri4j8LbqIx4UvjP1Ipg+UJIeQ/zk5CvHLh5D8E2NteVYzlP55HVaYBIeY/r4pSUd6e5j9fkRCiaQXnP+vFIuQ5VOc/NYVp2f2K5z+0RtENfannP8wfhBGYr+c/56VRmUid5z+0xyuFoXLnP4btsczOL+c/NG/eURXV5j+rFwWa0mLmP97na2182eU/DnnhXaA55T/xJc4044PkPxhpVkkAueM/ZYo9v8jZ4j/SrE+vIufhP0Z3MToI4uA/H7ETDQ2X3z/nXR9XeUndPxqmMhK13do/Yiq+HD9W2D+iJWfhsrXVP3yiCqfF/tI/mG0YxkM00D+830yMG7LKP59Aa80q4MQ/FrrcWGrxvT+9T8tpoQOyP4Cv5NcaDZg/qq/k1xoNmL/HT8tpoQOyvyC63Fhq8b2/mEBrzSrgxL/B30yMG7LKv5VtGMZDNNC/fqIKp8X+0r+fJWfhsrXVv2Qqvhw/Vti/F6YyErXd2r/qXR9XeUndvxyxEw0Nl9+/R3cxOgji4L/RrE+vIufhv2WKPb/I2eK/F2lWSQC547/zJc4044Pkvw954V2gOeW/3udrbXzZ5b+qFwWa0mLmvzVv3lEV1ea/hu2xzM4v57+0xyuFoXLnv+elUZlInee/zB+EEZiv57+0RtENfannvzWFadn9iue/7MUi5DlU579fkRCiaQXnv6+KUlHenua/n0dVpgEh5r8D2NteVYzlv81OQrxy4eS/UimD5Qkh5L8MbqIx4Uvjv1qwOVvUYuK/iLr3ndNm4b9wWf2+4ljgv0QeLQIwdN6/6mfICzYX3L/FZzs6R53ZvzYVSgbxCNe/uqVwINxc1L98MTizyZvRv9xToBghkc2/u9+zXjTMx79Xq9Wqv+7Bv7jrcnGd/be/bP+wSAEKqL8hOb12XyGqvAAAAAAAAAAAxIfDe3FjqT+jypuZW1a5Px8cFBdw8MI/TLFugSwiyT+Pq3NvADrPP3L90PzRmNI/0PFrM3iB1T9bncpB81PYP2QUQGhaDds/Z5TmwN6q3T/T4VYS5xTgP9WlY/nKQ+E/UDrK2+Jg4j+McyzYCGvjPySFjZQqYeQ/9rggWUpC5T+5J9MVgA3mP+PZglH6weY/PrrsAf9e5z90xHJL7OPnPzvA9Cc5UOg/+osP9HWj6D8DXTHiTN3oPzlVDFOC/eg/nEEME/UD6T8RJ5B8nvDoP8pVxH6Sw+g/M/MVif986D/rKFVbLh3oP2VQt7qBpOc/lmgGDHYT5z+9yWbToGrmPy9FNxqwquU/QZGqu2nU5D9B79KYqujjP11J8rRl6OI/mHz5OqPU4T9QCDltf67gPyGutwBT7t4/U1y0xcRf3D/d5U3k9rPZPxCW2D2q7dY/nSV8A7sP1D9QVHHDHR3RP5tpRLq4Mcw/mCiiviUMxj+YNQJOsZ+/P+2lqud9BrM/XNhNlrdmmT+J2E2Wt2aZv/ilqud9BrO/ozUCTrGfv7+RKKK+JQzGv6BpRLq4Mcy/TFRxwx0d0b+gJXwDuw/UvwyW2D2q7da/3uVN5Paz2b9QXLTFxF/cvySutwBT7t6/Tgg5bX+u4L+ZfPk6o9Thv1xJ8rRl6OK/Qu/SmKro479Akaq7adTkvzJFNxqwquW/vslm06Bq5r+WaAYMdhPnv2RQt7qBpOe/7ChVWy4d6L8z8xWJ/3zov8pVxH6Sw+i/ECeQfJ7w6L+cQQwT9QPpvzlVDFOC/ei/A10x4kzd6L/7iw/0daPovzvA9Cc5UOi/dMRyS+zj578/uuwB/17nv+LZglH6wea/uCfTFYAN5r/2uCBZSkLlvyWFjZQqYeS/inMs2Ahr479POsrb4mDiv9WlY/nKQ+G/1uFWEucU4L9klObA3qrdv2MUQGhaDdu/XZ3KQfNT2L/U8WszeIHVv2390PzRmNK/jatzbwA6z79RsW6BLCLJvxEcFBdw8MK/lsqbmVtWub/Fh8N7cWOpv+CTY9PcmKu8AAAAAAAAAABi4iCJLKKqPwINAGBylLo/MIbTJzTewz+a0pwntF3KP8Zw4zQDYdA/p512FkqC0z9QOU2/dI/WP7yDEvFdhdk/m61nZvhg3D/UtT34UR/fP/t+nVPL3uA/Fp0Fw4kc4j8HNszAnEfjP9ZdJwLQXuQ/eI3ZuANh5T/Kwt67LU3mP+qcyZlaIuc/66K1k67f5z+jBsx/ZoToP21jcZLYD+k/1RdNDXWB6T+5zXXTxtjpP0RzKuJzFeo/NDObrT036j9Tx2JhAT7qPyuvbQS4Keo/YEgqgHb66T/vX/qKbbDpP8l0/HXpS+k/zm5g3lHN6D8d4phCKTXoPzP41nsMhOc/YKhbHLK65j8N6kSz6dnlP3zgmPaa4uQ/Qo1r1MTV4z8hQBVsfLTiP42niPDrf+E/jPnudFE54D8HJY5J+8PdP+kKs9Gk9to/zrjO9IIN2D+zMBfMlQvVP32dsP/289E/++odKa2TzT+htZRG7yDHPzOjkvZZlsA/i6vg1lb1sz/wQ1u9m6WaPyBEW72bpZq/lqvg1lb1s785o5L2WZbAv5q1lEbvIMe/AOsdKa2Tzb96nbD/9vPRv7UwF8yVC9W/y7jO9IIN2L/qCrPRpPbavwQljkn7w92/jvnudFE54L+Lp4jw63/hvyNAFWx8tOK/Qo1r1MTV47984Jj2muLkvwzqRLPp2eW/YqhbHLK65r8z+NZ7DITnvx3imEIpNei/zW5g3lHN6L/JdPx16Uvpv+9f+optsOm/YEgqgHb66b8qr20EuCnqv1PHYmEBPuq/NDObrT036r9EcyricxXqv7rNddPG2Om/1RdNDXWB6b9tY3GS2A/pv6MGzH9mhOi/6qK1k67f57/pnMmZWiLnv8rC3rstTea/eY3ZuANh5b/UXScC0F7kvwY2zMCcR+O/Fp0Fw4kc4r/9fp1Ty97gv9G1PfhRH9+/ma1nZvhg3L+9gxLxXYXZv1Q5Tb90j9a/op12FkqC07/FcOM0A2HQv5/SnCe0Xcq/IobTJzTew7/1DABgcpS6v2PiIIksoqq/CgsTPlLzrLwAAAAAAAAAAJqfJCbjxKs/wV3LJpO2uz8YuV++EbfEP39JlGR/fcs/se2QUcsT0T8zJpNmPFfUP5UlUMC1hdc/c8Tzyu+b2j9mvkrxu5bdP7idOfKDOeA/lvczY/CW4T+cIxEaO+LiP2zFGJYOGuQ/vrhkZyk95T8lNzl6X0rmP8JJWEybQOc/xqoRC98e6D/ENeiYReToP+Uwv3kDkOk/L/qbpGch6j8i4CM63JfqP/kHGh/n8uo/jSA+eioy6z8cIgoVZVXrP8Zh655yXOs/Za2x0ktH6z8e2Q1+BhbrPyYFGGvVyOo/nsb0Kwhg6j+nK8/ICtzpP7EnfFBlPek/YzM6TLuE6D8Msx0Xy7LnP2rp1xltyOY/+Lui65LG5T9hPTdZRq7kPz20z1KogOM/To5Pwu8+4j8ERsRKaOrgPzc1E+XhCN8/Gf/icvUc3D/Thck4DhTZP6oFCRBN8dU/yCDMd+230j8Z8kqAhNbOPxPTDDpkHcg/oOBpSWhLwT/q9Hf1MM+0P3ogLNd3yJs/rCAs13fIm7/29Hf1MM+0v6bgaUloS8G/DNMMOmQdyL8e8kqAhNbOv8QgzHftt9K/rAUJEE3x1b/Phck4DhTZvxv/4nL1HNy/NDUT5eEI378GRsRKaOrgv02OT8LvPuK/P7TPUqiA479gPTdZRq7kv/m7ouuSxuW/aenXGW3I5r8Osx0Xy7Lnv2QzOky7hOi/sSd8UGU96b+mK8/ICtzpv5/G9CsIYOq/JgUYa9XI6r8e2Q1+Bhbrv2StsdJLR+u/xmHrnnJc678cIgoVZVXrv40gPnoqMuu/+gcaH+fy6r8i4CM63Jfqvy/6m6RnIeq/5jC/eQOQ6b/DNeiYReTov8WqEQvfHui/wklYTJtA578mNzl6X0rmv7y4ZGcpPeW/a8UYlg4a5L+cIxEaO+Liv5j3M2PwluG/tp058oM54L9kvkrxu5bdv3XE88rvm9q/mSVQwLWF178uJpNmPFfUv7DtkFHLE9G/hEmUZH99y78JuV++EbfEv7NdyyaTtru/nJ8kJuPEq79EGfdAUy+uvAAAAAAAAAAAW7lGgWPKrD9h/BS6jLu8P/X9f7gkesU/p04CeV+AzD/h7ZV7nLTRP5NbVerIFtU/bvXoKThj2D+YoDDEg5bbP1H/DC1frd4/WKp5lE3S4D8Ew6SKlDziP5z7kwcPlOM/P9Gg+lrX5D9vZOwgKwXmP2fj51xIHOc/kecI95Ib6D9KL1/GAwLpPxP62T+tzuk/aGUla7yA6j+/YCO8eRfrP+wLINBJkus/iHb+Da7w6z/co7goRTLsP5BNrIPLVuw//ABNeBte7D8Fv/N8LUjsP8AcpCwYFew/WuK+LxDF6z98LboFaFjrP3cLF7CPz+o/cjTsPhQr6j/+63w/n2vpP3frcQ32keg/aIBoB/me5z/llKmnopPmP/oL94EGceU/0Zl5J1A45D9q6/PxweriP/duebezieE/T0T/Z5EW4D9fYWkssyXdP9KbS9o3ANo/BfN9KO+/1j8JZ7MGM2jTP0FBMCLr+M8/CT4KBnsAyT/kA+QoRe7BP1W1kBcnk7U/GvfI6hnOnD9N98jqGc6cv2G1kBcnk7W/6gPkKEXuwb8BPgoGewDJv0ZBMCLr+M+/BmezBjNo078I830o77/Wv86bS9o3ANq/YGFpLLMl3b9NRP9nkRbgv/huebezieG/aOvz8cHq4r/TmXknUDjkv/kL94EGceW/5pSpp6KT5r9ngGgH+Z7nv3nrcQ32kei//ut8P59r6b9yNOw+FCvqv3YLF7CPz+q/fS26BWhY679a4r4vEMXrv8AcpCwYFey/BL/zfC1I7L/8AE14G17sv5BNrIPLVuy/3KO4KEUy7L+Idv4NrvDrv+wLINBJkuu/v2AjvHkX679pZSVrvIDqvxL62T+tzum/SS9fxgMC6b+R5wj3khvov2jj51xIHOe/bWTsICsF5r8+0aD6Wtfkv5z7kwcPlOO/BsOkipQ84r9WqnmUTdLgv0//DC1frd6/mqAwxIOW279y9egpOGPYv41bVerIFtW/4O2Ve5y00b+tTgJ5X4DMv+b9f7gkesW/U/wUuoy7vL9duUaBY8qsv57Cum+TS6+8AAAAAAAAAADr8dCDmrGtP+hL75BMor0/TNRz4J8mxj9ZnWURRGXNPw6NrYbNQtI/fDFXISbA1T8mxUb3EifZPwLHwEMSdNw/dJon/Lyj3z++eu8oZVnhPyBfgooJz+I/MvRAekox5D//zQzMun7lP94OosgCtuY/a7Tmj+HV5z+Pgq5jLt3oP8SWntnZyuk/fFL18u6d6j8pNRYZlFXrP1tR1f0L8es/vyebXrZv7D95wJepENHsPya4WoS2FO0/moJFM2I67T/LQG3h7EHtP+sQoshOK+0/ipVyOZ/27D8GcSODFKTsP1R7s7sDNOw/0mcmaOCm6z9eRHAFPP3qP+SRfHLFN+o/kY7rO0hX6T/Fgj/Kq1zoP+BaUnPySOc/v3IJcDgd5j/9E1q3strkP4CqzL+tguM/zPzGKIwW4j9Yrv5MxZfgP5O6GX/HD94/wWpjagfR2j/Neta2onbXP7PCKj4OBNQ/G2e0yNd80D92DSLHRMnJPy6Z0EFFfsI/ePB0GGtAtj+WhgK+brWdP8uGAr5utZ2/hPB0GGtAtr81mdBBRX7Cv24NIsdEycm/Hme0yNd80L+vwio+DgTUv9B61raidte/vmpjagfR2r+Vuhl/xw/ev1eu/kzFl+C/zfzGKIwW4r9+qsy/rYLjv/8TWrey2uS/v3IJcDgd5r/hWlJz8kjnv8SCP8qrXOi/lI7rO0hX6b/lkXxyxTfqv15EcAU8/eq/0WcmaOCm679Ve7O7AzTsvwZxI4MUpOy/ipVyOZ/27L/qEKLITivtv8tAbeHsQe2/moJFM2I67b8muFqEthTtv3rAl6kQ0ey/vyebXrZv7L9bUdX9C/Hrvyo1FhmUVeu/e1L18u6d6r/Dlp7Z2crpv4+CrmMu3ei/bLTmj+HV57/cDqLIArbmv/7NDMy6fuW/MvRAekox5L8jX4KKCc/iv7x67yhlWeG/cpon/Lyj378Ex8BDEnTcvyvFRvcSJ9m/dzFXISbA1b8Nja2GzULSv16dZRFEZc2/PdRz4J8mxr/ZS++QTKK9v+zx0IOasa2/B1Gd4nMjsLwAAAAAAAAAAI+gQPOUea4/8ng07t9pvj9ES9LEzbvGPzZMiGQ8K84/VuZw3si90j/hdZbhoVLWPz7ecyB40Nk/UZocOLIz3T9KyOAZaTzgP4PAGZM8zuE/pX60UbVN4z87fTkLSLnkP+/aN/h9D+Y/9+2ZVvZO5z+Su0bVZ3boPwV9meehhOk/DERR/4146j8HIrWrMFHrPyLUxJyqDew/m8ZqiTmt7D/xJML3OC/tP5mEouYik+0/zWTCV5DY7T8XH+K5Of/tP9jXkTL3Bu4/3mJGx8Dv7T/uwpJlrrntP+HJfcr3ZO0/VEYNSfTx7D8V+UFwGmHsP50c4ZD/sus/WnmJI1fo6j8fsLIP8gHqP1FvVdS9AOk/fo0ak8Pl5z9EZg3/JrLmP0Uz6y8lZ+U/t1ZFWxMG5D/9h8d0XZDiP8BzDLeEB+E/XhUHLTza3j+brQJAoYXbP5JIUYmnFNg/6AvcKduK1D9tTxHZ4evQP7muy0Tudso/rZirGNH6wj+fM3OzRta2P9ng+PaCfZ4/D+H49oJ9nr+sM3OzRta2v7SYqxjR+sK/sK7LRO52yr9wTxHZ4evQv+QL3CnbitS/lUhRiacU2L+XrQJAoYXbv2AVBy082t6/v3MMt4QH4b//h8d0XZDiv7VWRVsTBuS/RzPrLyVn5b9DZg3/JrLmv3+NGpPD5ee/UG9V1L0A6b8isLIP8gHqv1t5iSNX6Oq/nRzhkP+y678U+UFwGmHsv1VGDUn08ey/4cl9yvdk7b/uwpJlrrntv91iRsfA7+2/2NeRMvcG7r8XH+K5Of/tv81kwleQ2O2/moSi5iKT7b/xJML3OC/tv5vGaok5rey/I9TEnKoN7L8GIrWrMFHrvwtEUf+NeOq/BX2Z56GE6b+Tu0bVZ3bov/XtmVb2Tue/7to3+H0P5r87fTkLSLnkv6h+tFG1TeO/gsAZkzzO4b9JyOAZaTzgv1OaHDiyM92/Qt5zIHjQ2b/cdZbhoVLWv1XmcN7IvdK/PEyIZDwrzr80S9LEzbvGv+N4NO7fab6/kKBA85R5rr/kugnvI5CwvAAAAAAAAAAACIEkcYAhrz/daODfdBG/P4ngaHcROcc/lNLLMHjRzj/PHLEjDSXTP8qr4BKizdY/6zESc7Ve2j944GoMmtTdP7/wKFbfleA/0DBk6Vgw4j91coqfErjjP8ecDKx4K+U/2OdnNgyJ5j8cKMvkZM/nPx/qi08y/eg/jHbsWz0R6j9TSM18aQrrPxBh/9e15+s/AR8JTz6o7D+UpkxqPEvtP6x5nSUI0O0/6FhynRg27j9Q5gCcBH3uP4WUsQWDpO4/uRZ8JGus7j9cot7RtJTuPy3ARH94Xe4/ggPVHO8G7j/foL/ecZHtP3pkSuF5/ew/GdL4q59L7D9cH1GUmnzrP/sb4ABAkeo/TNc+jYKK6T/8xPwPcWnoP1gscIM1L+c/OayM0hPd5T8bdfyKaHTkP0hq1HWn9uI/aIlVGFpl4T/5TI08PITfP49HEV9HHdw//mo5ZVeZ2D/pzM/7C/zUP8y5IfMeSdE/9/qSz8AIyz+Z2/eoZWPDP363m0McVLc/5DgaHIQlnz8cORochCWfv4y3m0McVLe/n9v3qGVjw7/v+pLPwAjLv8+5IfMeSdG/5czP+wv81L8BazllV5nYv4tHEV9HHdy/+0yNPDyE379miVUYWmXhv0pq1HWn9uK/GnX8imh05L87rIzSE93lv1cscIM1L+e//cT8D3Fp6L9L1z6Ngorpv/0b4ABAkeq/XR9RlJp8678Z0virn0vsv3lkSuF5/ey/4KC/3nGR7b+CA9Uc7wbuvy3ARH94Xe6/W6Le0bSU7r+5Fnwka6zuv4WUsQWDpO6/UOYAnAR97r/pWHKdGDbuv6x5nSUI0O2/lKZMajxL7b8CHwlPPqjsvw9h/9e15+u/U0jNfGkK67+MduxbPRHqvyDqi08y/ei/GijL5GTP57/X52c2DInmv8ecDKx4K+W/d3KKnxK447/OMGTpWDDiv77wKFbfleC/euBqDJrU3b/wMRJztV7av8Sr4BKizda/zhyxIw0l07+Z0ssweNHOv3ngaHcROce/zWjg33QRv78KgSRxgCGvv+ghYYdn67C8AAAAAAAAAAC1XGlYrKivP31T6xtbmL8/LhtRMuedxz8dxTyXSFfPP5Vgj7QteNM/Se3sUKUw1z8J/89NNdHaP+nwjnwgVt4/hFW2FuPd4D97A3T2Un/iP5hP6I+xDeQ/zDw0PWSH5T+5CYCn5ermP3cNUljHNug/d7VQM7Np6T/xPerWbILqP5yeduLSf+s/WHyDIOBg7D9ZohaUrCTtP6Rz0Wduyu0/pdL+vXpR7j9TB7VgRrnuPzEUVlFmAe8/oY3aNpAp7z9pQnWqmjHvPwq1QGJ9Ge8/vmfKOVHh7j9eLHMYUInuPwHivrXUEe4/tCfRO1p77T9AaXfIe8bsP9wlQ83z8+s/FERZT5sE6z8RkLwHafnpP9D++WRw0+g/6eA8b+CT5z+5sO+PAjzmPxR8Kz45zeQ/GfFTkf5I4z+GtVi74rDhP/TJLWyKBuA/PXBIQFqX3D9pIcS1JgTZP3dvmaEpV9U/syuVAS2U0T+0p0UBI37LP4tTEu+Ut8M/AzeWaWe5tz9RFYxxwayfP4oVjHHBrJ+/ETeWaWe5t7+SUxLvlLfDv6unRQEjfsu/tiuVAS2U0b9zb5mhKVfVv2whxLUmBNm/OXBIQFqX3L/1yS1sigbgv4S1WLvisOG/G/FTkf5I478TfCs+Oc3kv7uw748CPOa/6OA8b+CT57/R/vlkcNPovxCQvAdp+em/F0RZT5sE67/dJUPN8/Prv0Bpd8h7xuy/syfRO1p77b8C4r611BHuv14scxhQie6/vmfKOVHh7r8JtUBifRnvv2lCdaqaMe+/oY3aNpAp778xFFZRZgHvv1MHtWBGue6/pdL+vXpR7r+kc9Fnbsrtv1qiFpSsJO2/V3yDIOBg7L+bnnbi0n/rv/E96tZsguq/eLVQM7Np6b91DVJYxzbov7kJgKfl6ua/zDw0PWSH5b+bT+iPsQ3kv3kDdPZSf+K/g1W2FuPd4L/r8I58IFbevw7/z0010dq/Q+3sUKUw17+UYI+0LXjTvyPFPJdIV8+/HRtRMuedx79uU+sbW5i/v7dcaVisqK+/l8EYqt40sbwAAAAAAAAAAIlgljtFB7A/L7O8uQT+vz/zOI/i5OnHPwLUh9MgvM8/FsbDHtO20z9zTnlzQ3vXP1hxzz1/J9s/gU44R7233j+UmOGZKBThP/UguqXXuuI/Qlz7EDhO5D8QgnIMqszlPzJ5hFyjNOc/jBSQ77CE6D9rkG9ceLvpP9EEj0e51+o/ubQnrU7Y6z9c0UsPMLzsP3VWi4Zygu0/Z/MYtEkq7j/IZXWUCLPuP6gbyDEiHO8/zUUtNSpl7z9AkWNW1Y3vP09pZqn5le8/Z8OkyY597z8O6afirUTvP+hUIZaR6+4/m2F6v5Vy7j/bFyQVN9rtP9W2CKgSI+0/4XujQeVN7D8lj2WhilvrP9CvMJr8TOo/biDREFIj6T+fSYDcvd/nP5psmIqNg+Y/3nG/BigQ5T/UQesoDIfjP7wKvSrP6eE/DkLKBRs64D9b8QN5WfPcP61J5h6lVNk/zn6ZQdSb1T9wxwUQvczRP97oUV6Z1ss/pQftWwb3wz9+B+KWvQW4P4f+illWCaA/pP6KWVYJoL+LB+KWvQW4v6wH7VsG98O/1ehRXpnWy79zxwUQvczRv8p+mUHUm9W/sEnmHqVU2b9X8QN5WfPcvw9CygUbOuC/ugq9Ks/p4b/WQesoDIfjv9xxvwYoEOW/nGyYio2D5r+eSYDcvd/nv28g0RBSI+m/z68wmvxM6r8oj2Whilvrv+J7o0HlTey/1bYIqBIj7b/aFyQVN9rtv5xher+Vcu6/6FQhlpHr7r8O6afirUTvv2bDpMmOfe+/T2lmqfmV779AkWNW1Y3vv81FLTUqZe+/qRvIMSIc77/IZXWUCLPuv2fzGLRJKu6/dlaLhnKC7b9b0UsPMLzsv7i0J61O2Ou/0QSPR7nX6r9skG9ceLvpv4oUkO+whOi/MXmEXKM0578QgnIMqszlv0Vc+xA4TuS/8yC6pde64r+TmOGZKBThv4NOOEe9t96/XHHPPX8n279tTnlzQ3vXvxXGwx7TttO/CNSH0yC8z7/iOI/i5OnHvx+zvLkE/r+/imCWO0UHsL90HtsOPGyxvAAAAAAAAAAAlyQp0lcpsD/BurljAyHAP5cbqJe6HMg/1IYO0Jb/zz+vuJp7u+DTP2qR3Pstrdc/t6RbfThh2z83XTi9CfneP65CQ8h2OOE/wcjYWqji4j+/8flBYnnkPxw+ijoB++U/arniwvdl5z+IF5S0z7joPwZQFcYr8uk/ECbR8sgQ6z9ndh/IfxPsP8EO05VF+ew/0h0igS3B7T8+2s14aWruP4qyjQlL9O4/rA7jEURe7z+YRJxU56fvP964b+no0O8/oxc7ix7Z7z9r/ZXDf8DvPyoli/Mlh+8/rh1vOUwt7z//fe8zT7PuP3lqmaKsGe4/StU55AJh7T/8GJ1TEIrsP241VoOyles/afRXWeWE6j+ZZksLwljpP5Rjr/x9Eug/Sdzrf2mz5j9XwaF77jzlP3XcnPWOsOM/ESvohOMP4j8H6Z6smVzgP2LsWELkMN0/rfeG832K2T/cOdKfw8nVP97oBp6T8tE/WIOs18YRzD8nGTgydyHEP8317X3OOLg/YAXlVG0roD99BeVUbSugv9v17X3OOLi/Lhk4MnchxL9Pg6zXxhHMv+HoBp6T8tG/2DnSn8PJ1b+w94bzfYrZv17sWELkMN2/COmerJlc4L8PK+iE4w/iv3fcnPWOsOO/VcGhe+485b9L3Ot/abPmv5Njr/x9Eui/mmZLC8JY6b9o9FdZ5YTqv3E1VoOyleu//RidUxCK7L9K1TnkAmHtv3hqmaKsGe6/AH7vM0+z7r+uHW85TC3vvyoli/Mlh++/av2Vw3/A77+jFzuLHtnvv964b+no0O+/mEScVOen77+tDuMRRF7vv4qyjQlL9O6/PtrNeGlq7r/THSKBLcHtv8AO05VF+ey/ZnYfyH8T7L8QJtHyyBDrvwdQFcYr8um/hheUtM+46L9pueLC92Xnvxw+ijoB++W/wvH5QWJ55L+/yNhaqOLiv61CQ8h2OOG/OV04vQn53r+8pFt9OGHbv2SR3Pstrde/rriae7vg07/ahg7Qlv/Pv4YbqJe6HMi/ubq5YwMhwL+YJCnSVymwv3JU1HdFkbG8AAAAAAAAAACEDx8YajqwP04xM90MMsA/0hO51zI2yD/A97/KsRDQP5RDSLW69dM/WuiYZzDG1z/0wWVTJH7bPx9rhy3BGd8/TJHCcKdK4T8rwIAzm/biPxsni7oCj+Q/tHrnBzkS5j/3/gv2rn7nP094UtPs0ug/SSw+5ZMN6j9SvAXSXy3rPw4s7O4nMew//2sQcuAX7T8fLHiGm+DtP3FpOUGKiu4/m/7Fdv0U7z8IWX1vZn/vPwowynpXye8/iJc0YITy7z/z3/OtwvrvP7NFr+QJ4u8/KFZAgHOo7z+5Am7dOk7vPxV2u/y80+4/xr+JIng57j+9KO9UC4DtP4lcyrc1qOw/gWG6x9Wy6z+YesZ06KDqP2hcoh2Ic+k/0nqbbOsr6D80elsXZMvmP/HgyYJdU+U/++FzTFvF4z+6ZPy69yLiP2MqMBfibeA/egzk3rlP3T+835KOeKXZP9tj5GnH4NU/zwe93YgF0j/xqbUsbS/MP0HPlsy6NsQ/pP2RZmRSuD+6+2bOgTygP9f7Zs6BPKC/sv2RZmRSuL9Iz5bMujbEv+iptSxtL8y/0ge93YgF0r/XY+Rpx+DVv7/fko54pdm/dgzk3rlP3b9kKjAX4m3gv7hk/Lr3IuK//eFzTFvF47/v4MmCXVPlvzZ6Wxdky+a/0XqbbOsr6L9pXKIdiHPpv5d6xnTooOq/hGG6x9Wy67+KXMq3Najsv70o71QLgO2/xb+JIng57r8Wdrv8vNPuv7kCbt06Tu+/KFZAgHOo77+yRa/kCeLvv/Pf863C+u+/iJc0YITy778KMMp6V8nvvwlZfW9mf++/m/7Fdv0U779xaTlBioruvyAseIab4O2//msQcuAX7b8NLOzuJzHsv1K8BdJfLeu/Siw+5ZMN6r9NeFLT7NLov/b+C/aufue/tHrnBzkS5r8eJ4u6Ao/kvynAgDOb9uK/S5HCcKdK4b8ha4ctwRnfv/nBZVMkftu/VOiYZzDG17+TQ0i1uvXTv8P3v8qxENC/wRO51zI2yL9GMTPdDDLAv4UPHxhqOrC/np327tOjsbwAAAAAAAAAAIQPHxhqOrA/TjEz3QwywD/SE7nXMjbIP8D3v8qxENA/lENItbr10z9a6JhnMMbXP/TBZVMkfts/H2uHLcEZ3z9MkcJwp0rhPyvAgDOb9uI/GyeLugKP5D+0eucHORLmP/f+C/aufuc/T3hS0+zS6D9JLD7lkw3qP1K8BdJfLes/Dizs7icx7D//axBy4BftPx8seIab4O0/cWk5QYqK7j+b/sV2/RTvPwhZfW9mf+8/CjDKelfJ7z+IlzRghPLvP/Pf863C+u8/s0Wv5Ani7z8oVkCAc6jvP7kCbt06Tu8/FXa7/LzT7j/Gv4kieDnuP70o71QLgO0/iVzKtzWo7D+BYbrH1bLrP5h6xnTooOo/aFyiHYhz6T/Septs6yvoPzR6Wxdky+Y/8eDJgl1T5T/74XNMW8XjP7pk/Lr3IuI/YyowF+Jt4D96DOTeuU/dP7zfko54pdk/22Pkacfg1T/PB73diAXSP/GptSxtL8w/Qc+WzLo2xD+k/ZFmZFK4P7r7Zs6BPKA/1/tmzoE8oL+y/ZFmZFK4v0jPlsy6NsS/6Km1LG0vzL/SB73diAXSv9dj5GnH4NW/v9+Sjnil2b92DOTeuU/dv2QqMBfibeC/uGT8uvci4r/94XNMW8Xjv+/gyYJdU+W/NnpbF2TL5r/Repts6yvov2lcoh2Ic+m/l3rGdOig6r+EYbrH1bLrv4pcyrc1qOy/vSjvVAuA7b/Fv4kieDnuvxZ2u/y80+6/uQJu3TpO778oVkCAc6jvv7JFr+QJ4u+/89/zrcL677+IlzRghPLvvwowynpXye+/CVl9b2Z/77+b/sV2/RTvv3FpOUGKiu6/ICx4hpvg7b/+axBy4Bftvw0s7O4nMey/UrwF0l8t679KLD7lkw3qv014UtPs0ui/9v4L9q5+57+0eucHORLmvx4ni7oCj+S/KcCAM5v24r9LkcJwp0rhvyFrhy3BGd+/+cFlUyR+279U6JhnMMbXv5NDSLW69dO/w/e/yrEQ0L/BE7nXMjbIv0YxM90MMsC/hQ8fGGo6sL+enfbu06OxvAAAAAAAAAAAlyQp0lcpsD/BurljAyHAP5cbqJe6HMg/1IYO0Jb/zz+vuJp7u+DTP2qR3Pstrdc/t6RbfThh2z83XTi9CfneP65CQ8h2OOE/wcjYWqji4j+/8flBYnnkPxw+ijoB++U/arniwvdl5z+IF5S0z7joPwZQFcYr8uk/ECbR8sgQ6z9ndh/IfxPsP8EO05VF+ew/0h0igS3B7T8+2s14aWruP4qyjQlL9O4/rA7jEURe7z+YRJxU56fvP964b+no0O8/oxc7ix7Z7z9r/ZXDf8DvPyoli/Mlh+8/rh1vOUwt7z//fe8zT7PuP3lqmaKsGe4/StU55AJh7T/8GJ1TEIrsP241VoOyles/afRXWeWE6j+ZZksLwljpP5Rjr/x9Eug/Sdzrf2mz5j9XwaF77jzlP3XcnPWOsOM/ESvohOMP4j8H6Z6smVzgP2LsWELkMN0/rfeG832K2T/cOdKfw8nVP97oBp6T8tE/WIOs18YRzD8nGTgydyHEP8317X3OOLg/YAXlVG0roD99BeVUbSugv9v17X3OOLi/Lhk4MnchxL9Pg6zXxhHMv+HoBp6T8tG/2DnSn8PJ1b+w94bzfYrZv17sWELkMN2/COmerJlc4L8PK+iE4w/iv3fcnPWOsOO/VcGhe+485b9L3Ot/abPmv5Njr/x9Eui/mmZLC8JY6b9o9FdZ5YTqv3E1VoOyleu//RidUxCK7L9K1TnkAmHtv3hqmaKsGe6/AH7vM0+z7r+uHW85TC3vvyoli/Mlh++/av2Vw3/A77+jFzuLHtnvv964b+no0O+/mEScVOen77+tDuMRRF7vv4qyjQlL9O6/PtrNeGlq7r/THSKBLcHtv8AO05VF+ey/ZnYfyH8T7L8QJtHyyBDrvwdQFcYr8um/hheUtM+46L9pueLC92Xnvxw+ijoB++W/wvH5QWJ55L+/yNhaqOLiv61CQ8h2OOG/OV04vQn53r+8pFt9OGHbv2SR3Pstrde/rriae7vg07/ahg7Qlv/Pv4YbqJe6HMi/ubq5YwMhwL+YJCnSVymwv3JU1HdFkbG8AAAAAAAAAACKYJY7RQewPzCzvLkE/r8/9DiP4uTpxz8D1IfTILzPPxbGwx7TttM/dE55c0N71z9Ycc89fyfbP4JOOEe9t94/lJjhmSgU4T/2ILql17riP0Nc+xA4TuQ/EYJyDKrM5T8zeYRcozTnP40UkO+whOg/bJBvXHi76T/SBI9HudfqP7q0J61O2Os/XdFLDzC87D92VouGcoLtP2jzGLRJKu4/yWV1lAiz7j+pG8gxIhzvP85FLTUqZe8/QZFjVtWN7z9QaWap+ZXvP2jDpMmOfe8/D+mn4q1E7z/pVCGWkevuP5xher+Vcu4/3BckFTfa7T/WtgioEiPtP+J7o0HlTew/Jo9loYpb6z/RrzCa/EzqP28g0RBSI+k/oEmA3L3f5z+abJiKjYPmP99xvwYoEOU/1EHrKAyH4z+9Cr0qz+nhPw5CygUbOuA/XPEDeVnz3D+uSeYepVTZP85+mUHUm9U/cccFEL3M0T/e6FFemdbLP6YH7VsG98M/fgfilr0FuD+I/opZVgmgP6T+illWCaC/jAfilr0FuL+sB+1bBvfDv9boUV6Z1su/dMcFEL3M0b/KfplB1JvVv7FJ5h6lVNm/WPEDeVnz3L8PQsoFGzrgv7sKvSrP6eG/1kHrKAyH47/dcb8GKBDlv5xsmIqNg+a/n0mA3L3f579wINEQUiPpv9CvMJr8TOq/KY9loYpb67/je6NB5U3sv9a2CKgSI+2/2xckFTfa7b+dYXq/lXLuv+lUIZaR6+6/D+mn4q1E779nw6TJjn3vv1BpZqn5le+/QZFjVtWN77/ORS01KmXvv6obyDEiHO+/yWV1lAiz7r9o8xi0SSruv3dWi4Zygu2/XNFLDzC87L+5tCetTtjrv9IEj0e51+q/bZBvXHi76b+LFJDvsITovzJ5hFyjNOe/EYJyDKrM5b9GXPsQOE7kv/QguqXXuuK/k5jhmSgU4b+ETjhHvbfev11xzz1/J9u/bk55c0N7178VxsMe07bTvwnUh9MgvM+/4ziP4uTpx78gs7y5BP6/v4tgljtFB7C/dB7bDjxssbwAAAAAAAAAALVcaVisqK8/fVPrG1uYvz8uG1Ey553HPx3FPJdIV88/lWCPtC140z9J7exQpTDXPwn/z0010do/6fCOfCBW3j+EVbYW493gP3sDdPZSf+I/mE/oj7EN5D/MPDQ9ZIflP7kJgKfl6uY/dw1SWMc26D93tVAzs2npP/E96tZsguo/nJ524tJ/6z9YfIMg4GDsP1miFpSsJO0/pHPRZ27K7T+l0v69elHuP1MHtWBGue4/MRRWUWYB7z+hjdo2kCnvP2lCdaqaMe8/CrVAYn0Z7z++Z8o5UeHuP14scxhQie4/AeK+tdQR7j+0J9E7WnvtP0Bpd8h7xuw/3CVDzfPz6z8URFlPmwTrPxGQvAdp+ek/0P75ZHDT6D/p4Dxv4JPnP7mw748CPOY/FHwrPjnN5D8Z8VOR/kjjP4a1WLvisOE/9MktbIoG4D89cEhAWpfcP2khxLUmBNk/d2+ZoSlX1T+zK5UBLZTRP7SnRQEjfss/i1MS75S3wz8DN5ZpZ7m3P1EVjHHBrJ8/ihWMccGsn78RN5ZpZ7m3v5JTEu+Ut8O/q6dFASN+y7+2K5UBLZTRv3NvmaEpV9W/bCHEtSYE2b85cEhAWpfcv/XJLWyKBuC/hLVYu+Kw4b8b8VOR/kjjvxN8Kz45zeS/u7DvjwI85r/o4Dxv4JPnv9H++WRw0+i/EJC8B2n56b8XRFlPmwTrv90lQ83z8+u/QGl3yHvG7L+zJ9E7WnvtvwLivrXUEe6/XixzGFCJ7r++Z8o5UeHuvwm1QGJ9Ge+/aUJ1qpox77+hjdo2kCnvvzEUVlFmAe+/Uwe1YEa57r+l0v69elHuv6Rz0Wduyu2/WqIWlKwk7b9XfIMg4GDsv5ueduLSf+u/8T3q1myC6r94tVAzs2npv3UNUljHNui/uQmAp+Xq5r/MPDQ9ZIflv5tP6I+xDeS/eQN09lJ/4r+DVbYW493gv+vwjnwgVt6/Dv/PTTXR2r9D7exQpTDXv5Rgj7QteNO/I8U8l0hXz78dG1Ey553Hv25T6xtbmL+/t1xpWKyor7+XwRiq3jSxvAAAAAAAAAAACYEkcYAhrz/eaODfdBG/P4rgaHcROcc/ldLLMHjRzj/PHLEjDSXTP8qr4BKizdY/7DESc7Ve2j954GoMmtTdP7/wKFbfleA/0TBk6Vgw4j91coqfErjjP8ecDKx4K+U/2ednNgyJ5j8cKMvkZM/nPx/qi08y/eg/jXbsWz0R6j9USM18aQrrPxFh/9e15+s/Ah8JTz6o7D+VpkxqPEvtP615nSUI0O0/6VhynRg27j9R5gCcBH3uP4aUsQWDpO4/uhZ8JGus7j9dot7RtJTuPy7ARH94Xe4/gwPVHO8G7j/goL/ecZHtP3tkSuF5/ew/GtL4q59L7D9dH1GUmnzrP/sb4ABAkeo/Tdc+jYKK6T/9xPwPcWnoP1gscIM1L+c/OqyM0hPd5T8cdfyKaHTkP0lq1HWn9uI/aIlVGFpl4T/6TI08PITfP5BHEV9HHdw//mo5ZVeZ2D/qzM/7C/zUP825IfMeSdE/+PqSz8AIyz+Z2/eoZWPDP3+3m0McVLc/5TgaHIQlnz8dORochCWfv4y3m0McVLe/oNv3qGVjw7/w+pLPwAjLv9C5IfMeSdG/5szP+wv81L8BazllV5nYv4xHEV9HHdy//EyNPDyE379miVUYWmXhv0tq1HWn9uK/GnX8imh05L88rIzSE93lv1cscIM1L+e//sT8D3Fp6L9M1z6Ngorpv/4b4ABAkeq/Xh9RlJp8678a0virn0vsv3pkSuF5/ey/4aC/3nGR7b+DA9Uc7wbuvy7ARH94Xe6/XKLe0bSU7r+6Fnwka6zuv4aUsQWDpO6/UeYAnAR97r/qWHKdGDbuv615nSUI0O2/laZMajxL7b8DHwlPPqjsvxBh/9e15+u/U0jNfGkK67+NduxbPRHqvyDqi08y/ei/GijL5GTP57/Y52c2DInmv8ecDKx4K+W/eHKKnxK447/PMGTpWDDiv77wKFbfleC/e+BqDJrU3b/xMRJztV7av8Wr4BKizda/zhyxIw0l07+a0ssweNHOv3rgaHcROce/zmjg33QRv78LgSRxgCGvv+ghYYdn67C8AAAAAAAAAACQoEDzlHmuP/N4NO7fab4/REvSxM27xj83TIhkPCvOP1fmcN7IvdI/4nWW4aFS1j8/3nMgeNDZP1KaHDiyM90/S8jgGWk84D+EwBmTPM7hP6Z+tFG1TeM/PH05C0i55D/w2jf4fQ/mP/jtmVb2Tuc/k7tG1Wd26D8GfZnnoYTpPw1EUf+NeOo/CCK1qzBR6z8j1MScqg3sP5zGaok5rew/8iTC9zgv7T+ahKLmIpPtP85kwleQ2O0/GB/iuTn/7T/Z15Ey9wbuP99iRsfA7+0/78KSZa657T/iyX3K92TtP1VGDUn08ew/FflBcBph7D+eHOGQ/7LrP1t5iSNX6Oo/ILCyD/IB6j9Sb1XUvQDpP3+NGpPD5ec/RWYN/yay5j9GM+svJWflP7hWRVsTBuQ//YfHdF2Q4j/Bcwy3hAfhP18VBy082t4/nK0CQKGF2z+TSFGJpxTYP+kL3CnbitQ/bk8R2eHr0D+5rstE7nbKP66YqxjR+sI/oDNzs0bWtj/a4Pj2gn2ePxDh+PaCfZ6/rTNzs0bWtr+0mKsY0frCv7Guy0Tudsq/cU8R2eHr0L/lC9wp24rUv5VIUYmnFNi/mK0CQKGF279hFQctPNrev79zDLeEB+G//4fHdF2Q4r+2VkVbEwbkv0gz6y8lZ+W/RGYN/yay5r+AjRqTw+Xnv1FvVdS9AOm/I7CyD/IB6r9ceYkjV+jqv54c4ZD/suu/FflBcBph7L9VRg1J9PHsv+LJfcr3ZO2/78KSZa657b/eYkbHwO/tv9nXkTL3Bu6/GB/iuTn/7b/OZMJXkNjtv5qEouYik+2/8iTC9zgv7b+cxmqJOa3svyTUxJyqDey/ByK1qzBR678MRFH/jXjqvwZ9meehhOm/lLtG1Wd26L/27ZlW9k7nv+/aN/h9D+a/PH05C0i55L+pfrRRtU3jv4LAGZM8zuG/SsjgGWk84L9Tmhw4sjPdv0PecyB40Nm/3HWW4aFS1r9W5nDeyL3Svz1MiGQ8K86/NEvSxM27xr/keDTu32m+v5GgQPOUea6/5LoJ7yOQsLwAAAAAAAAAAOzx0IOasa0/6UvvkEyivT9N1HPgnybGP1qdZRFEZc0/D42ths1C0j99MVchJsDVPyfFRvcSJ9k/A8fAQxJ03D91mif8vKPfP7967yhlWeE/IV+CignP4j8z9EB6SjHkPwDODMy6fuU/3w6iyAK25j9stOaP4dXnP4+CrmMu3eg/xJae2dnK6T98UvXy7p3qPyo1FhmUVes/XFHV/Qvx6z/AJ5tetm/sP3rAl6kQ0ew/J7hahLYU7T+bgkUzYjrtP8xAbeHsQe0/7BCiyE4r7T+LlXI5n/bsPwdxI4MUpOw/VXuzuwM07D/TZyZo4KbrP19EcAU8/eo/5ZF8csU36j+Sjus7SFfpP8aCP8qrXOg/4VpSc/JI5z/AcglwOB3mP/4TWrey2uQ/garMv62C4z/M/MYojBbiP1mu/kzFl+A/lLoZf8cP3j/CamNqB9HaP8561raidtc/s8IqPg4E1D8cZ7TI13zQP3cNIsdEyck/L5nQQUV+wj948HQYa0C2P5eGAr5utZ0/zIYCvm61nb+F8HQYa0C2vzWZ0EFFfsK/bw0ix0TJyb8eZ7TI13zQv7DCKj4OBNS/0HrWtqJ217++amNqB9Hav5a6GX/HD96/V67+TMWX4L/O/MYojBbiv3+qzL+tguO/ABRat7La5L+/cglwOB3mv+JaUnPySOe/xYI/yqtc6L+Vjus7SFfpv+WRfHLFN+q/X0RwBTz96r/SZyZo4Kbrv1Z7s7sDNOy/B3EjgxSk7L+LlXI5n/bsv+sQoshOK+2/zEBt4exB7b+bgkUzYjrtvye4WoS2FO2/e8CXqRDR7L/AJ5tetm/sv1xR1f0L8eu/KzUWGZRV6798UvXy7p3qv8OWntnZyum/j4KuYy7d6L9ttOaP4dXnv90OosgCtua//80MzLp+5b8z9EB6SjHkvyRfgooJz+K/vXrvKGVZ4b9zmif8vKPfvwXHwEMSdNy/LMVG9xIn2b93MVchJsDVvw6NrYbNQtK/X51lEURlzb891HPgnybGv9pL75BMor2/7fHQg5qxrb8HUZ3icyOwvAAAAAAAAAAAXLlGgWPKrD9i/BS6jLu8P/b9f7gkesU/qE4CeV+AzD/i7ZV7nLTRP5NbVerIFtU/b/XoKThj2D+ZoDDEg5bbP1L/DC1frd4/Wap5lE3S4D8Ew6SKlDziP537kwcPlOM/QNGg+lrX5D9wZOwgKwXmP2jj51xIHOc/kucI95Ib6D9LL1/GAwLpPxT62T+tzuk/aWUla7yA6j/AYCO8eRfrP+0LINBJkus/iXb+Da7w6z/do7goRTLsP5FNrIPLVuw//QBNeBte7D8Gv/N8LUjsP8EcpCwYFew/W+K+LxDF6z99LboFaFjrP3gLF7CPz+o/czTsPhQr6j/+63w/n2vpP3jrcQ32keg/aYBoB/me5z/mlKmnopPmP/sL94EGceU/0pl5J1A45D9r6/PxweriP/duebezieE/T0T/Z5EW4D9gYWkssyXdP9KbS9o3ANo/BvN9KO+/1j8KZ7MGM2jTP0JBMCLr+M8/Cj4KBnsAyT/lA+QoRe7BP1W1kBcnk7U/G/fI6hnOnD9P98jqGc6cv2K1kBcnk7W/6wPkKEXuwb8CPgoGewDJv0dBMCLr+M+/B2ezBjNo078J830o77/Wv8+bS9o3ANq/YWFpLLMl3b9ORP9nkRbgv/luebezieG/aevz8cHq4r/TmXknUDjkv/oL94EGceW/5pSpp6KT5r9ogGgH+Z7nv3rrcQ32kei//+t8P59r6b9zNOw+FCvqv3cLF7CPz+q/fi26BWhY679b4r4vEMXrv8EcpCwYFey/Bb/zfC1I7L/9AE14G17sv5FNrIPLVuy/3aO4KEUy7L+Jdv4NrvDrv+0LINBJkuu/wGAjvHkX679pZSVrvIDqvxP62T+tzum/Si9fxgMC6b+S5wj3khvov2nj51xIHOe/bmTsICsF5r8/0aD6Wtfkv537kwcPlOO/B8OkipQ84r9XqnmUTdLgv1D/DC1frd6/m6AwxIOW279z9egpOGPYv45bVerIFtW/4e2Ve5y00b+uTgJ5X4DMv+f9f7gkesW/VPwUuoy7vL9euUaBY8qsv5/Cum+TS6+8AAAAAAAAAACbnyQm48SrP8JdyyaTtrs/GblfvhG3xD+ASZRkf33LP7HtkFHLE9E/NCaTZjxX1D+VJVDAtYXXP3TE88rvm9o/Z75K8buW3T+4nTnygzngP5b3M2PwluE/nSMRGjvi4j9sxRiWDhrkP764ZGcpPeU/Jjc5el9K5j/DSVhMm0DnP8eqEQvfHug/xTXomEXk6D/mML95A5DpPzD6m6RnIeo/I+AjOtyX6j/6Bxof5/LqP44gPnoqMus/HSIKFWVV6z/HYeueclzrP2atsdJLR+s/H9kNfgYW6z8nBRhr1cjqP5/G9CsIYOo/qCvPyArc6T+yJ3xQZT3pP2QzOky7hOg/DbMdF8uy5z9r6dcZbcjmP/m7ouuSxuU/Yj03WUau5D8+tM9SqIDjP0+OT8LvPuI/BUbESmjq4D84NRPl4QjfPxr/4nL1HNw/1IXJOA4U2T+rBQkQTfHVP8ggzHftt9I/GvJKgITWzj8U0ww6ZB3IP6DgaUloS8E/6/R39TDPtD97ICzXd8ibP60gLNd3yJu/9/R39TDPtL+m4GlJaEvBvwzTDDpkHci/H/JKgITWzr/FIMx37bfSv60FCRBN8dW/0IXJOA4U2b8c/+Jy9RzcvzU1E+XhCN+/B0bESmjq4L9Njk/C7z7iv0C0z1KogOO/YT03WUau5L/6u6Lrksblv2rp1xltyOa/D7MdF8uy579lMzpMu4Tov7InfFBlPem/pyvPyArc6b+gxvQrCGDqvycFGGvVyOq/H9kNfgYW679lrbHSS0frv8dh655yXOu/HSIKFWVV67+OID56KjLrv/sHGh/n8uq/I+AjOtyX6r8w+pukZyHqv+cwv3kDkOm/xDXomEXk6L/GqhEL3x7ov8NJWEybQOe/Jzc5el9K5r+9uGRnKT3lv2zFGJYOGuS/nSMRGjvi4r+Z9zNj8Jbhv7edOfKDOeC/Zb5K8buW3b92xPPK75vav5olUMC1hde/LyaTZjxX1L+x7ZBRyxPRv4VJlGR/fcu/CrlfvhG3xL+0Xcsmk7a7v52fJCbjxKu/RRn3QFMvrrwAAAAAAAAAAGTiIIksoqo/BA0AYHKUuj8yhtMnNN7DP5zSnCe0Xco/x3DjNANh0D+onXYWSoLTP1I5Tb90j9Y/voMS8V2F2T+drWdm+GDcP9a1PfhRH98//H6dU8ve4D8YnQXDiRziPwg2zMCcR+M/2F0nAtBe5D96jdm4A2HlP8zC3rstTeY/7JzJmVoi5z/torWTrt/nP6QGzH9mhOg/b2NxktgP6T/XF00NdYHpP7vNddPG2Ok/RnMq4nMV6j82M5utPTfqP1XHYmEBPuo/La9tBLgp6j9iSCqAdvrpP/Ff+optsOk/ynT8delL6T/QbmDeUc3oPx7imEIpNeg/NPjWewyE5z9iqFscsrrmPw7qRLPp2eU/feCY9pri5D9EjWvUxNXjPyNAFWx8tOI/jqeI8Ot/4T+N+e50UTngPwkljkn7w90/6wqz0aT22j/QuM70gg3YP7UwF8yVC9U/fp2w//bz0T/96h0prZPNP6O1lEbvIMc/NaOS9lmWwD+Mq+DWVvWzP/JDW72bpZo/IkRbvZulmr+Yq+DWVvWzvzqjkvZZlsC/nLWURu8gx78C6x0prZPNv3udsP/289G/tzAXzJUL1b/MuM70gg3Yv+wKs9Gk9tq/BiWOSfvD3b+P+e50UTngv4yniPDrf+G/JEAVbHy04r9DjWvUxNXjv37gmPaa4uS/DupEs+nZ5b9kqFscsrrmvzX41nsMhOe/HuKYQik16L/PbmDeUc3ov8t0/HXpS+m/8V/6im2w6b9iSCqAdvrpvyyvbQS4Keq/VcdiYQE+6r82M5utPTfqv0ZzKuJzFeq/u81108bY6b/XF00NdYHpv29jcZLYD+m/pQbMf2aE6L/sorWTrt/nv+ucyZlaIue/zMLeuy1N5r97jdm4A2Hlv9ZdJwLQXuS/CDbMwJxH478YnQXDiRziv/9+nVPL3uC/07U9+FEf37+crWdm+GDcv7+DEvFdhdm/VjlNv3SP1r+jnXYWSoLTv8Zw4zQDYdC/odKcJ7Rdyr8khtMnNN7Dv/cMAGBylLq/ZeIgiSyiqr8NCxM+UvOsvAAAAAAAAAAAxYfDe3FjqT+kypuZW1a5Px8cFBdw8MI/TrFugSwiyT+Qq3NvADrPP3P90PzRmNI/0fFrM3iB1T9cncpB81PYP2UUQGhaDds/aZTmwN6q3T/U4VYS5xTgP9alY/nKQ+E/UDrK2+Jg4j+McyzYCGvjPyWFjZQqYeQ/97ggWUpC5T+6J9MVgA3mP+TZglH6weY/P7rsAf9e5z91xHJL7OPnPzzA9Cc5UOg/+4sP9HWj6D8EXTHiTN3oPzpVDFOC/eg/nUEME/UD6T8SJ5B8nvDoP8tVxH6Sw+g/NPMVif986D/sKFVbLh3oP2ZQt7qBpOc/l2gGDHYT5z++yWbToGrmPzBFNxqwquU/QpGqu2nU5D9C79KYqujjP15J8rRl6OI/mHz5OqPU4T9RCDltf67gPyKutwBT7t4/VFy0xcRf3D/e5U3k9rPZPxGW2D2q7dY/niV8A7sP1D9QVHHDHR3RP5xpRLq4Mcw/mSiiviUMxj+ZNQJOsZ+/P+6lqud9BrM/XdhNlrdmmT+K2E2Wt2aZv/mlqud9BrO/pDUCTrGfv7+SKKK+JQzGv6FpRLq4Mcy/TVRxwx0d0b+hJXwDuw/Uvw2W2D2q7da/3+VN5Paz2b9RXLTFxF/cvyWutwBT7t6/Twg5bX+u4L+afPk6o9Thv11J8rRl6OK/Qu/SmKro479Bkaq7adTkvzNFNxqwquW/v8lm06Bq5r+XaAYMdhPnv2VQt7qBpOe/7ShVWy4d6L808xWJ/3zov8tVxH6Sw+i/ESeQfJ7w6L+dQQwT9QPpvzpVDFOC/ei/BF0x4kzd6L/8iw/0daPovzzA9Cc5UOi/dcRyS+zj579AuuwB/17nv+PZglH6wea/uSfTFYAN5r/3uCBZSkLlvyaFjZQqYeS/i3Ms2Ahr479POsrb4mDiv9alY/nKQ+G/1uFWEucU4L9llObA3qrdv2QUQGhaDdu/Xp3KQfNT2L/V8WszeIHVv2790PzRmNK/jqtzbwA6z79SsW6BLCLJvxIcFBdw8MK/l8qbmVtWub/Gh8N7cWOpv+GTY9PcmKu8AAAAAAAAAABt/7BIAQqoP8brcnGd/bc/ZavVqr/uwT+537NeNMzHP+BToBghkc0/gjE4s8mb0T+4pXAg3FzUPzcVSgbxCNc/yWc7Oked2T/wZ8gLNhfcP0IeLQIwdN4/cln9vuJY4D+Kuved02bhP12wOVvUYuI/DW6iMeFL4z9TKYPlCSHkP9BOQrxy4eQ/BtjbXlWM5T+gR1WmASHmP7GKUlHenuY/YZEQomkF5z/txSLkOVTnPzeFadn9iuc/tkbRDX2p5z/OH4QRmK/nP+mlUZlInec/tscrhaFy5z+I7bHMzi/nPzZv3lEV1eY/rRcFmtJi5j/g52ttfNnlPxB54V2gOeU/8yXONOOD5D8ZaVZJALnjP2aKPb/I2eI/1KxPryLn4T9HdzE6COLgPyKxEw0Nl98/6l0fV3lJ3T8cpjIStd3aP2Qqvhw/Vtg/pCVn4bK11T99ogqnxf7SP5ltGMZDNNA/v99MjBuyyj+hQGvNKuDEPxi63Fhq8b0/vk/LaaEDsj+Cr+TXGg2YP6yv5NcaDZi/yU/LaaEDsr8jutxYavG9v5pAa80q4MS/w99MjBuyyr+WbRjGQzTQv4CiCqfF/tK/oSVn4bK11b9mKr4cP1bYvxmmMhK13dq/7V0fV3lJ3b8fsRMNDZffv0l3MToI4uC/06xPryLn4b9nij2/yNnivxlpVkkAueO/9SXONOOD5L8ReeFdoDnlv+Dna2182eW/rBcFmtJi5r83b95RFdXmv4jtsczOL+e/tscrhaFy57/ppVGZSJ3nv84fhBGYr+e/tkbRDX2p5783hWnZ/Yrnv+7FIuQ5VOe/YZEQomkF57+xilJR3p7mv6FHVaYBIea/BdjbXlWM5b/PTkK8cuHkv1Mpg+UJIeS/DW6iMeFL479csDlb1GLiv4q6953TZuG/cln9vuJY4L9HHi0CMHTev+1nyAs2F9y/x2c7Oked2b84FUoG8QjXv7ylcCDcXNS/fjE4s8mb0b/eU6AYIZHNv73fs140zMe/WKvVqr/uwb+663Jxnf23v27/sEgBCqi/Izm9dl8hqrwAAAAAAAAAAEOe81JHl6Y/mKBEj6KLtj+3Mir3MdrAP4LKQXwzXcY/umsSWCfJyz9haKpnO4zQP7mrklbUItM/M3K0c7Ol1T9SwXgPQhLYPzya23oAZto/OlDSmoie3D9AFFRhkLneP/AUvBR2WuA/foQdekhH4T/H/81BSyLiPxHM86ic6uI/w/uTMW6f4z9jtG13BUDkPwAhHfC8y+Q/9gHAlQRC5T8q82t7YqLlPwFf3Upz7OU/a4/dquof5j8AT/aNkzzmP5n5IWlQQuY/wpw/Uhsx5j+vwysGBgnmP76ld9Y5yuU/n5DRfvd05T/QdUrilgnlP1lkvbCGiOQ/KVK29Evy4z+T0k2KgUfjP0YYh3/XiOI/RdDUXhK34T8i6X9kCtPgP/w7gj9Vu98/oRXmAOCv3T/8Hq2k0IXbP8yN7E1iP9k//4CPXu3e1j+w3HMM5WbUP5mE39rU2dE/k9vQ9bt0zj8ppAcraRbJPx60DwQ6nsM/FOT8r6MjvD/apP2s0e2wPzT2BRQxmpY/XPYFFDGalr/kpP2s0e2wvx7k/K+jI7y/GLQPBDqew78tpAcraRbJv43b0PW7dM6/m4Tf2tTZ0b+t3HMM5WbUvwCBj17t3ta/yY3sTWI/2b/+Hq2k0IXbv54V5gDgr92//zuCP1W7378i6X9kCtPgv0bQ1F4St+G/RRiHf9eI4r+V0k2KgUfjvypStvRL8uO/WWS9sIaI5L/PdUrilgnlv6CQ0X73dOW/vqV31jnK5b+vwysGBgnmv8GcP1IbMea/mfkhaVBC5r8AT/aNkzzmv2uP3arqH+a/Al/dSnPs5b8q82t7YqLlv/YBwJUEQuW/ASEd8LzL5L9jtG13BUDkv8L7kzFun+O/EczzqJzq4r/I/81BSyLiv3yEHXpIR+G/7xS8FHZa4L9AFFRhkLnevz9Q0pqInty/OZrbegBm2r9RwXgPQhLYvzRytHOzpdW/vKuSVtQi079daKpnO4zQv7lrElgnycu/hspBfDNdxr+rMir3MdrAv42gRI+ii7a/RJ7zUkeXpr+HWA4oZY6ovAAAAAAAAAAArP62l8kMpT8EWzsn8AG1P/1cr9DTZ78/THCr7KvWxD93IrHY8uPJP0P/FomJ1s4/rcOtLqvU0T+G7dU8sCvUP6lrfXPqbdY/WjcExgWZ2D8IfRz9xaraP/nkpAQJodw/0nORHsl53j9PYE98jxngP/isVNGh5eA/kcPRMUmg4T/c/aI1xUjiPxs3Xi9o3uI/8JVa35dg4z9TSLESzs7jP1JKky2ZKOQ/Pp5loJxt5D8UPitHkZ3kP1Zr2rJFuOQ/V8VRXJ695D/jnrjAla3kP/dSLWc8iOQ/d727z7hN5D+yZ61LR/7jP99RXL85muM/L3HITfch4z8r50bu+5XiP/iJuOzX9uE/QHfLVC9F4T/OBeFIuYHgP3/MjIp+Wt8/PhcFoTiR3T+06R4zeKnbP0wmzwk0pdk/GXrDUoCG1z8nnc17jE/VPwRrN/KgAtM/zURSyByi0D/qfl2H5mDMP1pfA61SYMc/sDmiDaZHwj8FrVkYQzi6PyOimOBljK8/dUkneoAPlT+aSSd6gA+VvzWimOBljK+/Dq1ZGEM4ur+qOaINpkfCv11fA61SYMe/5X5dh+ZgzL/ORFLIHKLQvwFrN/KgAtO/KJ3Ne4xP1b8WesNSgIbXv08mzwk0pdm/sekeM3ip279AFwWhOJHdv37MjIp+Wt+/zgXhSLmB4L9Ad8tUL0Xhv/qJuOzX9uG/LOdG7vuV4r8vcchN9yHjv99RXL85muO/s2etS0f+4793vbvPuE3kv/dSLWc8iOS/4p64wJWt5L9XxVFcnr3kv1Zr2rJFuOS/FD4rR5Gd5L8+nmWgnG3kv1JKky2ZKOS/U0ixEs7O47/wlVrfl2Djvxs3Xi9o3uK/3P2iNcVI4r+Rw9ExSaDhv/msVNGh5eC/TmBPfI8Z4L/Rc5EeyXnev/nkpAQJody/DH0c/cWq2r9YNwTGBZnYv6hrfXPqbda/iO3VPLAr1L+xw60uq9TRvzv/FomJ1s6/dSKx2PLjyb9QcKvsq9bEv+dcr9DTZ7+/+Vo7J/ABtb+u/raXyQylv+Ak2dGV4aa8AAAAAAAAAACdZgcUJ2yjP4+nf2AkYrM/DDycITr6vD9peB+CODrDPx8U7gSC48c/0bJFiCt0zD+tH78uwHPQP03oBQl1nNI/+P8Rlfqx1D/fTqzbKrLWP416NuP1mtg/mGvqz2Nq2j9FsT3rlh7cP7NdUZDNtd0/Er1y+2Mu3z8Fj2f9akPgP7FQTj/g3uA/W8mNg/Fo4T9xgHt3EOHhP3QDWEjBRuI/VafyIpuZ4j/507efSNniP+F2uhqIBeM/89xd9yse4z+nM1rPGiPjPws664xPFOM/aSQOcNnx4j9HS8n+27viPw7ajeCOcuI/vDzZpD0W4j+1b1F1R6fhPwl8rLMeJuE/wD7Ig0iT4D8/C9iEuN7fP4T1gtIFdt4/dmpLwezt3D/m9wuAAUjbP3+MG/v2hdk/aW/5G52p1z9pVBfr3rTVPwB/rpXAqdM/77mpWV2K0T/CPZGzyrHOP81acrg2L8o/J8b166SRxT9Lq+RK193AP8GMlnpNMbg/EK1GXfgbrT+UNdg8qG6TP7c12DyobpO/Ia1GXfgbrb/KjJZ6TTG4v0ar5ErX3cC/Ksb166SRxb/IWnK4Ni/Kv8Y9kbPKsc6/7LmpWV2K0b8Bf66VwKnTv2dUF+vetNW/bG/5G52p1798jBv79oXZv+j3C4ABSNu/dWpLwezt3L+G9YLSBXbevz4L2IS43t+/wj7Ig0iT4L8KfKyzHibhv7VvUXVHp+G/vDzZpD0W4r8O2o3gjnLiv0dLyf7bu+K/aSQOcNnx4r8KOuuMTxTjv6czWs8aI+O/89xd9yse47/hdroaiAXjv/rTt59I2eK/VafyIpuZ4r90A1hIwUbiv3KAe3cQ4eG/WsmNg/Fo4b+xUE4/4N7gvwWPZ/1qQ+C/E71y+2Mu37+wXVGQzbXdv0SxPeuWHty/mGvqz2Nq2r+Rejbj9ZrYv91OrNsqsta/9/8Rlfqx1L9O6AUJdZzSv7Afvy7Ac9C/yrJFiCt0zL8eFO4EguPHv214H4I4OsO/+DucITr6vL+Fp39gJGKzv55mBxQnbKO/uW1Ci7QcpbwAAAAAAAAAAEzFRBAWt6E/1iuMofStsT+2nv7GJG66PxV9PR6LicE/so7V7e/JxT97davh3vPJP5I9NzANA84/MTLW0aX50D/u7Rl1ReDSP/A7o+Jvs9Q//bLriUNx1j+KUpLZ9BfYP30JFxnQpdk/ezIBKjsZ2z8yB6Iut3DcP4xAvxTiqt0/GQ+PAnjG3j/ZL42kVMLfPyV/aC26TuA/+vFWonqr4D+6IsUUDPfgP2d0/p4gMeE/NNIyYnxZ4T9f5S3E9W/hP0yLOZp1dOE/+lb/QPdm4T/zf1ChiEfhPwZRzyFKFuE/eN6IhW7T4D+NcaG3On/gP9uZSYQFGuA/oT+Kfm5I3z8ZJ8CwkjzeP/imgbyLEd0/wCgw4I3I2z9uO4M97GLaP2T+8nsX4tg/tdqzTJxH1z8oRcvRIZXVPysP4+lnzNM/ZuScYkXv0T+iuYMmTP/PP+3QhMMR/8s/pGsiaPvhxz/U5e+fRqzDP+RpW66UxL4/PC8/w+QQtj8vRVmv64yqP9Xo/NxeuZE/9Oj83F65kb8+RVmv64yqv0MvP8PkELa/2mlbrpTEvr/X5e+fRqzDv6BrImj74ce/8NCEwxH/y7+euYMmTP/Pv2fknGJF79G/KQ/j6WfM078qRcvRIZXVv7Pas0ycR9e/Zv7yexfi2L9tO4M97GLav8EoMOCNyNu/96aBvIsR3b8cJ8Cwkjzev6I/in5uSN+/25lJhAUa4L+NcaG3On/gv3jeiIVu0+C/BlHPIUoW4b/zf1ChiEfhv/lW/0D3ZuG/TIs5mnV04b9f5S3E9W/hvzTSMmJ8WeG/aHT+niAx4b+6IsUUDPfgv/rxVqJ6q+C/JX9oLbpO4L/YL42kVMLfvxgPjwJ4xt6/jEC/FOKq3b8zB6Iut3Dcv3kyASo7Gdu/fAkXGdCl2b+KUpLZ9BfYvwGz64lDcda/7juj4m+z1L/t7Rl1ReDSvzIy1tGl+dC/mD03MA0Dzr91davh3vPJv7GO1e3vycW/GH09HouJwb+jnv7GJG66v80rjKH0rbG/TcVEEBa3ob/yToq9nUGjvAAAAAAAAAAA5QcppsTenz+qMhqIV86vP90K3rdBxrc/909S09WMvz9LI/sTcpnDP7kq3SZFWMc/HXPIwQf/yj+CW45S9onOP6fBTvu0+tA/xnVaH+6e0j8l3pFo9S/UPx9ha3MtrNU/Z4jNTw4S1z+aoBMVJ2DYP9guVV4fldk/fjxorbiv2j+AhTCzz67bP8Yb6Xtdkdw/f/QyfnhW3T8s9tCLVf3dP9RfGaNIhd4/aKNEoMXt3j967eLNYDbfP+Fw41PPXt8/AQO7hOdm3z9LgVoIoU7fP5i2yOQUFt8/rOJWZH293j+9eorZNUXeP38T+kC6rd0/fH5+wab33D8O2jsLtyPcPwOBKJbFMts/kEnZwMol2j8mOHvQ2/3YP8iQAtMpvNc/vua1ZABi1j8IUVlaxPDUPzshWlHyadM/vUd2Jx3P0T9A1XNb7CHQP3ZeKbE0yMw/Ze8QXeUuyT+JimVvoHvFP2v9W182ssE/HLcN8Bytuz+WT32kRdmzP2Vnn+zw4ac/UiAJueDijz+LIAm54OKPv3Jnn+zw4ae/nU99pEXZs78Ttw3wHK27v279W182ssG/hYplb6B7xb9o7xBd5S7Jv3JeKbE0yMy/QdVzW+wh0L+7R3YnHc/Rvz0hWlHyadO/BlFZWsTw1L/A5rVkAGLWv8eQAtMpvNe/Jzh70Nv92L+PSdnAyiXavwaBKJbFMtu/D9o7C7cj3L98fn7Bpvfcv34T+kC6rd2/vXqK2TVF3r+s4lZkfb3ev5i2yOQUFt+/SoFaCKFO378BA7uE52bfv+Fw41PPXt+/eu3izWA2379po0Sgxe3ev9RfGaNIhd6/LPbQi1X93b+A9DJ+eFbdv8Ub6Xtdkdy/f4Uws8+u279+PGituK/av9kuVV4fldm/mKATFSdg2L9miM1PDhLXvx9ha3MtrNW/KN6RaPUv1L/EdVof7p7Sv6bBTvu0+tC/g1uOUvaJzr8hc8jBB//Kv7Mq3SZFWMe/SiP7E3KZw7/9T1LT1Yy/v8wK3rdBxre/mjIaiFfOr7/nBymmxN6fvzX34S5FUqG8AAAAAAAAAADaWW571i2cP7A7XmRQH6w/L4/KKlwFtT8bi3bqZOW7PyoOlxRWVME/mwSpoRykxD9C7qY0nN7HP3omo9SAAMs/mObH5Y8Gzj+sqra+1XbQPy0CTsxq2dE/tf/VmJkp0z/8O+mYB2bUP7+iyp1ujdU/8eChJZ6e1j+C51+VfJjXP4HxB1sIetg/HtIx91hC2T9J2bPsn/DZPwJCfZUphNo/bcDF21382j/8StPWwFjbP86DtErzmNs/JRhsCrO82z/q4yc828PbP9yHPX9krts/MUrF82R82z+kassjEC7bP6psL862w9o/thtok8Y92j8vFoKEyZzZP1pczZRl4dg/d5jM7lsM2D+8dhYtiB7XP7hO9nffGNY/6ne1iG/81D/jyZGTXcrTP5Djfxnlg9I/48fwolYq0T94IdTJLH7PP1ihrKM1h8w/tUkQL9ZyyT9DsvsXO0TGP6CRChWs/sI/5AK/CxFLvz8gGFDyh3i4PyzapDvFjLE/YIl/jNYdpT/oPwG1eDGMPxtAAbV4MYy/bIl/jNYdpb8y2qQ7xYyxvxgYUPKHeLi/6QK/CxFLv7+dkQoVrP7Cv0ay+xc7RMa/sUkQL9Zyyb9aoayjNYfMv3Uh1Mksfs+/5MfwolYq0b+O438Z5YPSv+TJkZNdytO/6Xe1iG/81L+5TvZ33xjWv7t2Fi2IHte/epjM7lsM2L9aXM2UZeHYvy8WgoTJnNm/tRtok8Y92r+rbC/OtsPav6RqyyMQLtu/MUrF82R827/bhz1/ZK7bv+rjJzzbw9u/JRhsCrO827/Og7RK85jbv/1K09bAWNu/bcDF21382r8CQn2VKYTav0rZs+yf8Nm/HdIx91hC2b+A8QdbCHrYv4LnX5V8mNe/8uChJZ6e1r+9osqdbo3Vv/s76ZgHZtS/tf/VmJkp078vAk7MatnRv6qqtr7VdtC/lubH5Y8Gzr98JqPUgADLv0bupjSc3se/lgSpoRykxL8pDpcUVlTBvyGLdupk5bu/II/KKlwFtb+iO15kUB+sv9tZbnvWLZy/YnRb6WehnrwAAAAAAAAAAGNpfadDX5g/ni2z3rNSqD8YznylWS6yPwn9kI2bILg/MIGMev75vT/8O09xPdrBP3jNJYsUpcQ/A7laq6Naxz+MxmLiH/jJP3hjjxHXesw/MplysjLgzj/lg+hA3ZLQP/jysIWLpNE/5JfeCQqk0j9ghf1uUZDTP+BoViVuaNQ/PgoAZ4Er1T9m9oIdwtjVP4KdIrF9b9Y/1Df2wBjv1j/nqxPDD1fXP11bJ4z3ptc/nxDtvX3e1z/sLBgcaf3XP6CQU8eZA9g/OmwcXgnx1z8kHFYDy8XXP3VHkEoLgtc/IJcTChAm1z+VY+QSOLLWP/yNBc/6JtY/gUVgxueE1T8knM8KpszUP+tu6Ivz/tM/RygvU6Qc0z8PMIWpoSbSP91XrybpHdE/Kiftq4sD0D9M/FyVWLHNP/0KEzH+PMs/PGhM44+syD9Ok81VsgLGP8W9SmokQsM/ix3cZbxtwD8KoKwIyhC7P3YTFe00KrU/9ywgOp1brj8riCt0hUOiP6krNDVoYog/1Ss0NWhiiL81iCt0hUOivwEtIDqdW66/cBMV7TQqtb8OoKwIyhC7v4gd3GW8bcC/x71KaiRCw79Lk81VsgLGvz5oTOOPrMi/+goTMf48y79P/FyVWLHNvygn7auLA9C/31evJukd0b8PMIWpoSbSv0goL1OkHNO/6m7oi/P+078nnM8KpszUv4FFYMbnhNW//I0Fz/om1r+VY+QSOLLWvyGXEwoQJte/dUeQSguC178kHFYDy8XXvzlsHF4J8de/oJBTx5kD2L/sLBgcaf3Xv58Q7b193te/XlsnjPem17/nqxPDD1fXv9Q39sAY79a/g50isX1v1r9m9oIdwtjVvz0KAGeBK9W/4GhWJW5o1L9hhf1uUZDTv+KX3gkKpNK/9/KwhYuk0b/lg+hA3ZLQvzaZcrIy4M6/dWOPEdd6zL+LxmLiH/jJvwS5WqujWse/fM0lixSlxL/4O09xPdrBvy6BjHr++b2/Df2QjZsguL8MznylWS6yv5Its96zUqi/ZWl9p0NfmL+Y+rieDH6avAAAAAAAAAAAfsRvYA13lD9u58ocgWykPxvZkeFtiK4/4MIVp3BCtD8FDvMRyCu5PxVsGxkt+70/WPSzMdVVwT+qXaQ5NZzDPweIM1FezsU/23Om+wzqxz8WoQvoFO3JPwGHsS5j1cs/cEtrdAChzT+Blm/xEk7PPwVT3SxwbdA/fxh+0uci0T/Yjx1atcbRPw47vukvWNI/SvPvisHW0j+rmmXF50HTPzLdciU0mdM/yV3nrUzc0z/u8dE07ArUP8ZMzKriJNQ/dZuFTBUq1D8mAVm+fhrUP6aC0xEv9tM/EbAjtUu90z+KH4RMD3DTPw5/yHXJDtM/NI1Ldt6Z0j9vkpLTxhHSP/3mENcOd9E/KJaL/VXK0D9FMLJSTgzQP9aHLHN3e84/ol19Rea+zD8h2U1hs+TKP0JPGZfH7sg/9Q3+Sijfxj8/2WZf9bfEP4YRZQRne8I/AHD9bcsrwD/9NIbnCJe7P8dmaDgKurY/09O/LJ7FsT9KQMGRwH2pP4eADs77q54/G+vu87B5hD9A6+7zsHmEv5mADs77q56/U0DBkcB9qb/O078snsWxv8tmaDgKura/+DSG5wiXu78CcP1tyyvAv4QRZQRne8K/QdlmX/W3xL/zDf5KKN/Gv0RPGZfH7si/H9lNYbPkyr+lXX1F5r7Mv9WHLHN3e86/RjCyUk4M0L8nlov9VcrQv//mENcOd9G/cJKS08YR0r80jUt23pnSvw5/yHXJDtO/ih+ETA9w078RsCO1S73Tv6aC0xEv9tO/JQFZvn4a1L91m4VMFSrUv8ZMzKriJNS/7vHRNOwK1L/KXeetTNzTvzLdciU0mdO/q5plxedB079K8++KwdbSvw07vukvWNK/148dWrXG0b9/GH7S5yLRvwVT3SxwbdC/f5Zv8RJOz79uS2t0AKHNvwGHsS5j1cu/GaEL6BTtyb/Zc6b7DOrHvwaIM1FezsW/q12kOTWcw79b9LMx1VXBvw5sGxkt+72/BA7zEcgrub/jwhWncEK0vwbZkeFtiK6/Y+fKHIFspL+AxG9gDXeUv7hFKuTSPpa8AAAAAAAAAACFsNnUT3mQP8Ba6y7ScKA/kfMx6AmUqD8rb53U9U6wPzGMcBEXQ7Q/IrBIV1UiuD/6laDasui7P28pAXVLkr8/nPrtU6yNwT/+1GnAGkDDPyjgty2x3sQ/A+8tPsRnxj9NpT3BvtnHP7YbIlUjM8k/i+AC8I1yyj8DFPdOtZbLPypNbklsnsw/g2ihB6OIzT8TPssaaFTOPwtjCHbpAM8/qGvdRnWNzz+LeoSsevnPP9eUoiZFItA/U22eZCs30D8ejhCFWjvQP9L21DfOLtA/SAs7bJMR0D+yaWCHkMfPP75uYeU3S88/eHw9IJ2uzj+FlGOmYfLNP740hYBHF80/MaeSiTAezD+u/umFHQjLP9S9qBot1sk/lP8wppqJyD8ntxL7vCPHP5ojqP4EpsU/fb7RLPwRxD+oolkCQ2nCP4WHoE+PrcA/FsCd6lTBvT9eqbYZ3wi6P8g0mf2SNbY/S/leEWJLsj8D9yrTqpysP3eJpBYThaQ/rT/0vKiwmD9oknOnb3uAP4WSc6dve4C/uz/0vKiwmL9+iaQWE4Wkv/r2KtOqnKy/TvleEWJLsr/ENJn9kjW2v2GpthnfCLq/EsCd6lTBvb+Gh6BPj63Av6aiWQJDacK/f77RLPwRxL+YI6j+BKbFvym3Evu8I8e/k/8wppqJyL/VvagaLdbJv63+6YUdCMu/NKeSiTAezL+/NIWARxfNv4WUY6Zh8s2/d3w9IJ2uzr+/bmHlN0vPv7JpYIeQx8+/SAs7bJMR0L/R9tQ3zi7Qvx6OEIVaO9C/U22eZCs30L/XlKImRSLQv4x6hKx6+c+/qGvdRnWNz78LYwh26QDPvxQ+yxpoVM6/gmihB6OIzb8pTW5JbJ7MvwMU9061lsu/jOAC8I1yyr+0GyJVIzPJv0ylPcG+2ce/A+8tPsRnxr8r4Lctsd7Ev/zUacAaQMO/m/rtU6yNwb9xKQF1S5K/v/+VoNqy6Lu/HLBIV1UiuL8wjHARF0O0vy5vndT1TrC/gPMx6AmUqL+4Wusu0nCgv4aw2dRPeZC/PpwfcTLokbwAAAAAAAAAAB4D4LF71Ig/GL6dfq/HmD/DRHr3yoWiP3zSUD6mlKg/FwfC6yqKrj8yISI7GjCyP+8U62NfCLU/8jvGOPbKtz+b3KNbBnW6P45Hq7bQA70/vUX8ULJ0vz+z3TqDk+LAP8Ij2g9m+cE/9TTOY7H9wj9Qn/Mtae7DPxx/J0uVysQ/D4UQxlKRxT8UFxPB1EHGP6lhf0ll28Y/bKkfE2Zdxz+0hmUbUcfHP27WjTO5GMg/SPoscUpRyD/1Y6+EynDIP2pAdfUYd8g/HU1LQy9kyD9qVh7tIDjIP6p24lwb88c/Vc3CuGWVxz/p78mZYB/HP7uuTqiFkcY/r9KLHmfsxT+RGeQxrzDFP33SbWMfX8Q/9/Z6uI94wz+4Xuvb7X3CP7WYLik8cME/5fTxoZBQwD+hixqfJ0C+P0yFqyL/v7s/4EQksjsjuT9R67qtjmy2PwCtrivEnrM/IWcfFsC8sD8HpKpg9pKrP64WFg0AkKU/nGWJLZ/tnj8ZvvuYXJuSP2S+IF2v13g/kL4gXa/XeL8jvvuYXJuSv6dliS2f7Z6/qBYWDQCQpb8MpKpg9pKrvx5nHxbAvLC/Aq2uK8Ses79O67qtjmy2v+JEJLI7I7m/SYWrIv+/u7+kixqfJ0C+v+P08aGQUMC/tpguKTxwwb+4Xuvb7X3Cv/j2eriPeMO/fNJtYx9fxL+TGeQxrzDFv6/Six5n7MW/u65OqIWRxr/o78mZYB/Hv1XNwrhllce/qnbiXBvzx79qVh7tIDjIvxxNS0MvZMi/akB19Rh3yL/1Y6+EynDIv0j6LHFKUci/b9aNM7kYyL+0hmUbUcfHv2ypHxNmXce/qWF/SWXbxr8TFxPB1EHGvw6FEMZSkcW/HH8nS5XKxL9Rn/Mtae7Dv/Q0zmOx/cK/wSPaD2b5wb+z3TqDk+LAv8FF/FCydL+/i0erttADvb+Z3KNbBnW6v/M7xjj2yre/8xTrY18Itb8uISI7GjCyvxUHwusqiq6/gdJQPqaUqL+2RHr3yoWivwy+nX6vx5i/HwPgsXvUiL8tbA42d/2KvAAAAAAAAAAATym29zicgD8Z3ntTqZOQPzYY2bUfyJg/GV2ZN4VxoD/p8oBQB26kP3frYS96Vag/1olfk9cjrD8NoAMXM9WvP3eGzB3fsrE/KMXZKuZosz/Vpmwr6wq1P0x3Mzg/l7Y/Ef/2xUkMuD94R71Kimi5P2e5LcqZqro/CvudRyzRuz/EF0ocEtu8P/wtVzA5x70/V/pdFa6Uvj9zAFoBnUK/PxCm+qhS0L8/epo6fJ4ewD+XnwzVdUTAP58WBl2IWcA/vFRaW8BdwD9BgcF2GVHAP7It9LmgM8A/i7U5hnQFwD8Bgy7oiI2/P6Nsf0Si774/s0Tu5dcxvj8LqFxw7VS9PyQnWp3GWbw/4eJlUWZBuz8rTQ+R7Qy6P5YmCVeavbg/c9RhTMZUtz+j8TJk5dO1P6hlN1yEPLQ/mD3TI0eQsj9x2TIr59CwP5FNfzhjAK4/CvR+/gpAqj9AHBGao2SmP4ldjuEmcqI/kAWM7UzZnD9/y4Iqj7CUP56kSzH75Ig/o8vBSl2ecD/Ay8FKXZ5wv62kSzH75Ii/hsuCKo+wlL+HBYztTNmcv4xdjuEmcqK/PBwRmqNkpr8N9H7+CkCqv41NfzhjAK6/ctkyK+fQsL+WPdMjR5Cyv6plN1yEPLS/ofEyZOXTtb911GFMxlS3v5UmCVeavbi/LE0Pke0Mur/g4mVRZkG7vycnWp3GWby/DKhccO1Uvb+zRO7l1zG+v6Jsf0Si776/AoMu6IiNv7+LtTmGdAXAv7It9LmgM8C/QYHBdhlRwL+8VFpbwF3Av58WBl2IWcC/l58M1XVEwL97mjp8nh7AvxCm+qhS0L+/cwBaAZ1Cv79Y+l0VrpS+v/stVzA5x72/wxdKHBLbvL8K+51HLNG7v2i5LcqZqrq/dke9Sopoub8Q//bFSQy4v0x3Mzg/l7a/2KZsK+sKtb8mxdkq5mizv3aGzB3fsrG/D6ADFzPVr7/biV+T1yOsv3HrYS96Vai/6PKAUAdupL8cXZk3hXGgvyQY2bUfyJi/Ed57U6mTkL9QKbb3OJyAv9Z5hhAlDoK8AAAAAAAAAADDYnEn+qRwP/ZcFQBmnIA/IsCRdS/ViD81wJ3lL3qQP7c8nd3LeJQ/Td4Sgk1imD+V6h9zrDKcP18M7Tn65Z8/1kETKzO8oT+Us0oWIXOjP7ArZGkCFqU/LgTxWSejpj9vCWaF9hioP0I1HJfudak/57mF1ae4qj/l6f2U1d+rP+6+tY5H6qw/jIFbGuvWrT8PPzpJzKSuP1Y0reEWU68///njORfhrz/c94p4HSewP/n+MsMITbA/zJFtZiZisD8iIvudYGawP50SSQ6zWbA/lavvyCo8sD/qZDk/5g2wP6HPgkUqnq8/b0OTaPD/rj8dLPYBwkGuP7R6qhxjZK0/5TJG6rdorD9cTrzXw0+rP9/U8IGoGqo/Z9Mui6TKqD+F77NSEmGnP3krpI9m36U/A+jV0C5HpD/xLwLjD5qiPxS+/x7E2aA/hsOPQzMQnj+7lDbg4E2aPxSIYw9xcJY/ouvlv997kj+mqxxxgeiMPzkneMh2u4Q/GD2uJhryeD+NUH2bH6dgP6tQfZsfp2C/Jj2uJhryeL9AJ3jIdruEv52rHHGB6Iy/pevlv997kr8QiGMPcXCWv76UNuDgTZq/gsOPQzMQnr8Vvv8exNmgv+8vAuMPmqK/BejV0C5HpL93K6SPZt+lv4fvs1ISYae/ZtMui6TKqL/g1PCBqBqqv1tOvNfDT6u/6DJG6rdorL+1eqocY2Stvx0s9gHCQa6/bkOTaPD/rr+iz4JFKp6vv+pkOT/mDbC/lavvyCo8sL+dEkkOs1mwvyIi+51gZrC/zJFtZiZisL/5/jLDCE2wv933ingdJ7C///njORfhr79WNK3hFlOvvxA/OknMpK6/i4FbGuvWrb/tvrWOR+qsv+Xp/ZTV36u/6LmF1ae4qr9ANRyX7nWpv24JZoX2GKi/LgTxWSejpr+zK2RpAhalv5KzShYhc6O/1UETKzO8ob9hDO05+uWfv5rqH3OsMpy/R94Sgk1imL+2PJ3dy3iUvzjAneUvepC/EMCRdS/ViL/tXBUAZpyAv8RicSf6pHC/5AgdOakXcrwAAAAAAAAAAMDJ8JHw6GE82hVJcbXfcTzg6EDchbh6PD1epnXluoE8W35FMkEHhjwJNw3e5zyKPN/USJuCV448KTDNNmspkTwuDixLZBWTPDn21mex7ZQ8/A4TsWuwljxz6TGIwluYPLExgmr97Zk8fydmt31lmzxaybtbwMCcPFwd3mBf/p08YkqkXRMdnzx0EfFj2g2gPAgdh5KefKA8brxpDGTaoDyipTsoyiahPMfeECWCYaE8sA6de0+KoTxkYJgcCKGhPIOoGpyUpaE8KhvASfCXoTw+r341KXihPIkzJyFgRqE8+gahXsgCoTy4QgObp62gPE7ewZZVR6A8/K5xlnegnzykOOX7qZGePMWVM4RZY508JXcx0b0WnDw5S/a+La2aPNXebgIeKJk85qcrqR+Jlzz3wvZ73tGVPOfL20UfBJQ83iBoAb4hkjybsgTuqyyQPElOxh7bTYw8KF0dMjEliDyiw4qQo+ODPLMcRbkqG388SUqgtv1OdjxjzDJho9dqPFbQYsw/61E8dtBizD/rUbxyzDJho9dqvFBKoLb9Tna8qRxFuSobf7ymw4qQo+ODvCRdHTIxJYi8TE7GHttNjLyZsgTuqyyQvN8gaAG+IZK85MvbRR8ElLz5wvZ73tGVvOSnK6kfiZe8195uAh4ombw4S/a+La2avCZ3MdG9Fpy8w5UzhFljnbyoOOX7qZGevP2ucZZ3oJ+8Tt7BllVHoLy4QgObp62gvPsGoV7IAqG8iTMnIWBGobw+r341KXihvCobwEnwl6G8g6ganJSlobxkYJgcCKGhvLAOnXtPiqG8yN4QJYJhobyipTsoyiahvG68aQxk2qC8CR2Hkp58oLx0EfFj2g2gvGFKpF0THZ+8XB3eYF/+nbxcybtbwMCcvHwnZrd9ZZu8sDGCav3tmbxz6TGIwluYvP8OE7FrsJa8N/bWZ7HtlLwtDixLZBWTvCowzTZrKZG85NRIm4JXjrwCNw3e5zyKvFp+RTJBB4a8QV6mdeW6gbzN6EDchbh6vNEVSXG133G8wsnwkfDoYbxIXYqFzndjuQ==",
          "dtype": "f8",
          "shape": "50, 100"
         },
         "z": {
          "bdata": "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",
          "dtype": "f8",
          "shape": "50, 100"
         }
        },
        {
         "marker": {
          "color": "red",
          "colorscale": [
           [
            0,
            "#440154"
           ],
           [
            0.1111111111111111,
            "#482878"
           ],
           [
            0.2222222222222222,
            "#3e4989"
           ],
           [
            0.3333333333333333,
            "#31688e"
           ],
           [
            0.4444444444444444,
            "#26828e"
           ],
           [
            0.5555555555555556,
            "#1f9e89"
           ],
           [
            0.6666666666666666,
            "#35b779"
           ],
           [
            0.7777777777777778,
            "#6ece58"
           ],
           [
            0.8888888888888888,
            "#b5de2b"
           ],
           [
            1,
            "#fde725"
           ]
          ],
          "opacity": 0.8,
          "size": 10
         },
         "mode": "markers",
         "name": "Corners",
         "type": "scatter3d",
         "x": [
          0,
          0.7453559924999299,
          0.7071067811865476,
          4.5639891522016886e-17
         ],
         "y": [
          0,
          0,
          0.7071067811865475,
          0.7453559924999299
         ],
         "z": [
          1,
          0.6666666666666666,
          0,
          0.6666666666666666
         ]
        },
        {
         "marker": {
          "color": "blue",
          "colorscale": [
           [
            0,
            "#440154"
           ],
           [
            0.1111111111111111,
            "#482878"
           ],
           [
            0.2222222222222222,
            "#3e4989"
           ],
           [
            0.3333333333333333,
            "#31688e"
           ],
           [
            0.4444444444444444,
            "#26828e"
           ],
           [
            0.5555555555555556,
            "#1f9e89"
           ],
           [
            0.6666666666666666,
            "#35b779"
           ],
           [
            0.7777777777777778,
            "#6ece58"
           ],
           [
            0.8888888888888888,
            "#b5de2b"
           ],
           [
            1,
            "#fde725"
           ]
          ],
          "opacity": 0.8,
          "size": 4
         },
         "mode": "markers",
         "name": "Borders",
         "type": "scatter3d",
         "x": {
          "bdata": "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",
          "dtype": "f8"
         },
         "y": {
          "bdata": "AAAAAAAAAAAAAAAAAAAAAAAAAAAAAAAAAAAAAAAAAAAAAAAAAAAAAAAAAAAAAAAAAAAAAAAAAAAAAAAAAAAAAAAAAAAAAAAAAAAAAAAAAAAAAAAAAAAAAAAAAAAAAAAAAAAAAAAAAAAAAAAAAAAAAAAAAAAAAAAAAAAAAAAAAAAAAAAAAAAAAAAAAAAAAAAAAAAAAAAAAAAAAAAAAAAAAAAAAAAAAAAAAAAAAAAAAAAAAAAAAAAAAAAAAAAAAAAAAAAAAAAAAAAAAAAAAAAAAAAAAAAAAAAAAAAAAAAAAAAAAAAAAAAAAAAAAAAAAAAAAAAAAAAAAAAAAAAAAAAAAAAAAAAAAAAAAAAAAAAAAAAAAAAAAAAAAAAAAAAAAAAAAAAAAAAAAAAAAAAAAAAAAAAAAAAAAAAAAAAAAAAAAAAAAAAAAAAAAAAAAAAAAAAAAAAAAAAAAAAAAAAAAAAAAAAAAAAAAAAAAAAAAAAAAAAAAAAAAAAAAAAAAAAAAAAAAAAAAAAAAAAAAAAAAAAAAAAAAAAAAAAAdroewW/WjT9ef7r2+R2eP5BSt7M9y6Y/3qOaDkyprj+ZPHe981OzP+OutqHPYrc/ecTOpWiAuz8bJJGb1Ku/P8YzrAII8sE/F7tLFf8TxD8rDo27NDvGP7xaURUCZ8g/dImqrrSWyj9cvuwtj8nMP2+ZLC7K/s4/1nDcosqa0D9o6oIbjLbRPzgurSQ60tI/eD+z4mLt0z9iMGXIkgfVP9xNRXFVINY/dA3DhDY31z8gYKOewkvYP5d/gTiIXdk/kY8xkBhs2j858s6GCHfbPw+/Y3Txfdw/0Gdc7HGA3T8ohl9vLn7eP4rCoQfSdt8/dpKxZgc14D9wr/Moz6vgP11U8/egH+E/Wb2QgGGQ4T/69rN8+f3hPwHp/7NVaOI/8LVu8GbP4j9pRsvnITPjP2rWKRt/k+M/MOSirXrw4z8h+6gzFErkP1sTW3xOoOQ/VqczVi/z5D91j2lQv0LlPzm7RHoJj+U/H6+PIRvY5T+J9TCRAx7mP9gL19DTYOY/zDt/Zp6g5j/MO39mnqDmP+VXxkqi3uY/C+oIzPsb5z8WUuBGiVjnP7zKxKUnlOc/3XhMf7LO5z8+ZTw7BAjoP5v+pj72P+g/pCk0H2F26D+jkondHKvoP+VTnyYB3ug/0dOdm+UO6T+RFq8foj3pP+8V+SoPauk/AM/BIQaU6T8orYquYbvpP94Uwh3+3+k/UHOBubkB6j9+v64jdSDqP572w6wTPOo//qx3pXtU6j8MroiplmnqP+icBOJRe+o/1JyGPZ6J6j/bgR6dcJTqP55h0fTBm+o/3VLvXo+f6j+C48wh2p/qP3P0xaennOo/XKvHaQGW6j8gY/TM9IvqPxmBQ/SSfuo/ysdEh/Bt6j90pWhvJVrqP+9FW41MQ+o/p8sdaIMp6j9SvJfX6QzqP/TVWqyh7ek/S0NGVs7L6T/3JJ2LlKfpP3+iAfIZgek/4XKbyoRY6T8NXIGi+y3pP4bRSgilAek/VLp7R6fT6D/CWEoqKKToP57iD8JMc+g/5MWINjlB6D80veKbEA7oPzVGdc/02ec/NUZ1z/TZ5z9EhXRbm4XnP5hoxLCxLuc/PJ+S0jPV5j9+p7koH3nmP+s/Q5hyGuY/+13smi655T9WVVVVVVXlPwfEhavq7uQ/CydqU/SF5D8W4/DkeRrkP+U9bueErOM/6GHy2yA84z9+KkJEW8niP9suK6ZDVOI/R0n1iuvc4T/9mr96ZmPhP1OjpPPJ5+A/KzGQXC1q4D+u6YTnU9XfP5fUGXK10t4/GZ3Pp7jM3T9hxiHrmcPcP/3a626Yt9s/aE587PWo2j+1iKpT9pfZPzCk0HXfhNg/1kKgrPhv1z/Utdt9ilnWP438CD3eQdU//5M6rD0p1D+viwqd8g/TP4nt3pJG9tE/BX+DZ4Lc0D8hVCnm24XPP8QXRXCfU80/Cui0Kdkiyz+JqNLzDvTIPzM6V0/Cx8Y/z0Q/5G+exD+Jid8Xj3jCPx0clLGRVsA/IMdxHMdxvD/qaMDE1D+4PzOXDhYLGLQ/VhBjsTf2rz/L3Y13V9OnP3FdRxxJkZ8/ZFybJM9cjz8AAAAAAAAAAA==",
          "dtype": "f8"
         },
         "z": {
          "bdata": "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",
          "dtype": "f8"
         }
        },
        {
         "marker": {
          "colorscale": [
           [
            0,
            "#440154"
           ],
           [
            0.1111111111111111,
            "#482878"
           ],
           [
            0.2222222222222222,
            "#3e4989"
           ],
           [
            0.3333333333333333,
            "#31688e"
           ],
           [
            0.4444444444444444,
            "#26828e"
           ],
           [
            0.5555555555555556,
            "#1f9e89"
           ],
           [
            0.6666666666666666,
            "#35b779"
           ],
           [
            0.7777777777777778,
            "#6ece58"
           ],
           [
            0.8888888888888888,
            "#b5de2b"
           ],
           [
            1,
            "#fde725"
           ]
          ],
          "opacity": 1,
          "size": 2
         },
         "mode": "markers",
         "name": "Pixel 0",
         "type": "scatter3d",
         "x": {
          "bdata": "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",
          "dtype": "f8"
         },
         "y": {
          "bdata": "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",
          "dtype": "f8"
         },
         "z": {
          "bdata": "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",
          "dtype": "f8"
         }
        },
        {
         "marker": {
          "color": "red",
          "colorscale": [
           [
            0,
            "#440154"
           ],
           [
            0.1111111111111111,
            "#482878"
           ],
           [
            0.2222222222222222,
            "#3e4989"
           ],
           [
            0.3333333333333333,
            "#31688e"
           ],
           [
            0.4444444444444444,
            "#26828e"
           ],
           [
            0.5555555555555556,
            "#1f9e89"
           ],
           [
            0.6666666666666666,
            "#35b779"
           ],
           [
            0.7777777777777778,
            "#6ece58"
           ],
           [
            0.8888888888888888,
            "#b5de2b"
           ],
           [
            1,
            "#fde725"
           ]
          ],
          "opacity": 0.8,
          "size": 10
         },
         "mode": "markers",
         "name": "Corners",
         "type": "scatter3d",
         "x": [
          0,
          4.5639891522016886e-17,
          -0.7071067811865475,
          -0.7453559924999299
         ],
         "y": [
          0,
          0.7453559924999299,
          0.7071067811865476,
          9.127978304403377e-17
         ],
         "z": [
          1,
          0.6666666666666666,
          0,
          0.6666666666666666
         ]
        },
        {
         "marker": {
          "color": "blue",
          "colorscale": [
           [
            0,
            "#440154"
           ],
           [
            0.1111111111111111,
            "#482878"
           ],
           [
            0.2222222222222222,
            "#3e4989"
           ],
           [
            0.3333333333333333,
            "#31688e"
           ],
           [
            0.4444444444444444,
            "#26828e"
           ],
           [
            0.5555555555555556,
            "#1f9e89"
           ],
           [
            0.6666666666666666,
            "#35b779"
           ],
           [
            0.7777777777777778,
            "#6ece58"
           ],
           [
            0.8888888888888888,
            "#b5de2b"
           ],
           [
            1,
            "#fde725"
           ]
          ],
          "opacity": 0.8,
          "size": 4
         },
         "mode": "markers",
         "name": "Borders",
         "type": "scatter3d",
         "x": {
          "bdata": "AAAAAAAAAADNSEbuJEwxPIMPMzEWaUE8fc9+fPZHSjzKs4v+wKBRPGDhtDM1KlY8d2CJNaK/WjwLwAfpQ2BfPNh+AvajBWI8FNNA7+ZfZDzmSIDlc75mPFYLa1fNIGk8+q9+kW+GazxaSsYS0e5tPBNf2ICxLHA8L3FG2MhicTxatXeYYplyPC0egPow0HM8s82zvuQGdTwisiiJLT12PIKb30K6cnc8g/2VfjmneDwfmyrgWdp5PFB2bYXKC3s8kzMnbzs7fDwQKx7pXWh9POrp3+/kkn48MQQdk4W6fzytU7mpe2+APPKDSD36/4A8KH9jNp2OgTzMm4z5RBuCPP6ylr7TpYI8BnM7rS0ugzxoohz1OLSDPNh2DuHdN4Q8Zvic5Qa5hDymp9GqoDeFPJvPUBGas4U8eq32MuQshjwzlStfcqOGPIUyMxM6F4c8CdDF7jKIhzwVEUulVvaHPLbEE+ygYYg81HT0ZQ/KiDyEMaSMoS+JPMn+QphYkok8NG1pZTfyiTz+fR9aQk+KPP59H1pCT4o8XLoewW/Wjb9Qf7r2+R2ev4lSt7M9y6a/2KOaDkyprr+WPHe981Ozv+CutqHPYre/d8TOpWiAu78YJJGb1Ku/v8QzrAII8sG/FrtLFf8TxL8qDo27NDvGv7paURUCZ8i/comqrrSWyr9bvuwtj8nMv2+ZLC7K/s6/1XDcosqa0L9n6oIbjLbRvzYurSQ60tK/dz+z4mLt079iMGXIkgfVv9xNRXFVINa/dA3DhDY3178gYKOewkvYv5d/gTiIXdm/kI8xkBhs2r858s6GCHfbvw6/Y3Txfdy/0Gdc7HGA3b8ohl9vLn7ev4rCoQfSdt+/d5KxZgc14L9wr/Moz6vgv11U8/egH+G/Wb2QgGGQ4b/69rN8+f3hvwLp/7NVaOK/8LVu8GbP4r9qRsvnITPjv2rWKRt/k+O/MOSirXrw478h+6gzFErkv1wTW3xOoOS/VqczVi/z5L91j2lQv0Llvzm7RHoJj+W/H6+PIRvY5b+J9TCRAx7mv9cL19DTYOa/zDt/Zp6g5r/MO39mnqDmv+VXxkqi3ua/C+oIzPsb578WUuBGiVjnv7zKxKUnlOe/3XhMf7LO578+ZTw7BAjov5v+pj72P+i/pCk0H2F26L+jkondHKvov+VTnyYB3ui/0dOdm+UO6b+RFq8foj3pv+8V+SoPaum/AM/BIQaU6b8orYquYbvpv94Uwh3+3+m/UHOBubkB6r9+v64jdSDqv532w6wTPOq//ax3pXtU6r8Lroiplmnqv+icBOJRe+q/05yGPZ6J6r/bgR6dcJTqv55h0fTBm+q/3VLvXo+f6r+C48wh2p/qv3L0xaennOq/XKvHaQGW6r8gY/TM9IvqvxmBQ/SSfuq/ysdEh/Bt6r90pWhvJVrqv+9FW41MQ+q/p8sdaIMp6r9TvJfX6Qzqv/TVWqyh7em/S0NGVs7L6b/3JJ2LlKfpv3+iAfIZgem/4XKbyoRY6b8NXIGi+y3pv4bRSgilAem/VLp7R6fT6L/CWEoqKKTov5/iD8JMc+i/5MWINjlB6L80veKbEA7ovzVGdc/02ee/NUZ1z/TZ579EhXRbm4Xnv5hoxLCxLue/PJ+S0jPV5r9+p7koH3nmv+s/Q5hyGua/+13smi655b9WVVVVVVXlvwfEhavq7uS/CydqU/SF5L8W4/DkeRrkv+U9bueErOO/6GHy2yA8479+KkJEW8niv9suK6ZDVOK/R0n1iuvc4b/9mr96ZmPhv1OjpPPJ5+C/KzGQXC1q4L+u6YTnU9Xfv5fUGXK10t6/GZ3Pp7jM3b9hxiHrmcPcv/3a626Yt9u/aE587PWo2r+1iKpT9pfZvzCk0HXfhNi/1kKgrPhv17/Utdt9ilnWv438CD3eQdW//5M6rD0p1L+viwqd8g/Tv4nt3pJG9tG/BX+DZ4Lc0L8hVCnm24XPv8QXRXCfU82/Cui0Kdkiy7+JqNLzDvTIvzM6V0/Cx8a/z0Q/5G+exL+Jid8Xj3jCvx0clLGRVsC/IMdxHMdxvL/qaMDE1D+4vzOXDhYLGLS/VhBjsTf2r7/L3Y13V9Onv3FdRxxJkZ+/ZFybJM9cj78AAAAAAAAAAA==",
          "dtype": "f8"
         },
         "y": {
          "bdata": "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",
          "dtype": "f8"
         },
         "z": {
          "bdata": "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",
          "dtype": "f8"
         }
        },
        {
         "marker": {
          "colorscale": [
           [
            0,
            "#440154"
           ],
           [
            0.1111111111111111,
            "#482878"
           ],
           [
            0.2222222222222222,
            "#3e4989"
           ],
           [
            0.3333333333333333,
            "#31688e"
           ],
           [
            0.4444444444444444,
            "#26828e"
           ],
           [
            0.5555555555555556,
            "#1f9e89"
           ],
           [
            0.6666666666666666,
            "#35b779"
           ],
           [
            0.7777777777777778,
            "#6ece58"
           ],
           [
            0.8888888888888888,
            "#b5de2b"
           ],
           [
            1,
            "#fde725"
           ]
          ],
          "opacity": 1,
          "size": 2
         },
         "mode": "markers",
         "name": "Pixel 1",
         "type": "scatter3d",
         "x": {
          "bdata": "AAAAAAAAAAA=",
          "dtype": "f8"
         },
         "y": {
          "bdata": "AAAAAAAAAAA=",
          "dtype": "f8"
         },
         "z": {
          "bdata": "AAAAAAAA8D8=",
          "dtype": "f8"
         }
        },
        {
         "marker": {
          "color": "red",
          "colorscale": [
           [
            0,
            "#440154"
           ],
           [
            0.1111111111111111,
            "#482878"
           ],
           [
            0.2222222222222222,
            "#3e4989"
           ],
           [
            0.3333333333333333,
            "#31688e"
           ],
           [
            0.4444444444444444,
            "#26828e"
           ],
           [
            0.5555555555555556,
            "#1f9e89"
           ],
           [
            0.6666666666666666,
            "#35b779"
           ],
           [
            0.7777777777777778,
            "#6ece58"
           ],
           [
            0.8888888888888888,
            "#b5de2b"
           ],
           [
            1,
            "#fde725"
           ]
          ],
          "opacity": 0.8,
          "size": 10
         },
         "mode": "markers",
         "name": "Corners",
         "type": "scatter3d",
         "x": [
          0,
          -0.7453559924999299,
          -0.7071067811865477,
          -1.3691967456605065e-16
         ],
         "y": [
          0,
          9.127978304403377e-17,
          -0.7071067811865475,
          -0.7453559924999299
         ],
         "z": [
          1,
          0.6666666666666666,
          0,
          0.6666666666666666
         ]
        },
        {
         "marker": {
          "color": "blue",
          "colorscale": [
           [
            0,
            "#440154"
           ],
           [
            0.1111111111111111,
            "#482878"
           ],
           [
            0.2222222222222222,
            "#3e4989"
           ],
           [
            0.3333333333333333,
            "#31688e"
           ],
           [
            0.4444444444444444,
            "#26828e"
           ],
           [
            0.5555555555555556,
            "#1f9e89"
           ],
           [
            0.6666666666666666,
            "#35b779"
           ],
           [
            0.7777777777777778,
            "#6ece58"
           ],
           [
            0.8888888888888888,
            "#b5de2b"
           ],
           [
            1,
            "#fde725"
           ]
          ],
          "opacity": 0.8,
          "size": 4
         },
         "mode": "markers",
         "name": "Borders",
         "type": "scatter3d",
         "x": {
          "bdata": "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",
          "dtype": "f8"
         },
         "y": {
          "bdata": "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",
          "dtype": "f8"
         },
         "z": {
          "bdata": "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",
          "dtype": "f8"
         }
        },
        {
         "marker": {
          "colorscale": [
           [
            0,
            "#440154"
           ],
           [
            0.1111111111111111,
            "#482878"
           ],
           [
            0.2222222222222222,
            "#3e4989"
           ],
           [
            0.3333333333333333,
            "#31688e"
           ],
           [
            0.4444444444444444,
            "#26828e"
           ],
           [
            0.5555555555555556,
            "#1f9e89"
           ],
           [
            0.6666666666666666,
            "#35b779"
           ],
           [
            0.7777777777777778,
            "#6ece58"
           ],
           [
            0.8888888888888888,
            "#b5de2b"
           ],
           [
            1,
            "#fde725"
           ]
          ],
          "opacity": 1,
          "size": 2
         },
         "mode": "markers",
         "name": "Pixel 2",
         "type": "scatter3d",
         "x": {
          "bdata": "AAAAAAAAAAA=",
          "dtype": "f8"
         },
         "y": {
          "bdata": "AAAAAAAAAAA=",
          "dtype": "f8"
         },
         "z": {
          "bdata": "AAAAAAAA8D8=",
          "dtype": "f8"
         }
        },
        {
         "marker": {
          "color": "red",
          "colorscale": [
           [
            0,
            "#440154"
           ],
           [
            0.1111111111111111,
            "#482878"
           ],
           [
            0.2222222222222222,
            "#3e4989"
           ],
           [
            0.3333333333333333,
            "#31688e"
           ],
           [
            0.4444444444444444,
            "#26828e"
           ],
           [
            0.5555555555555556,
            "#1f9e89"
           ],
           [
            0.6666666666666666,
            "#35b779"
           ],
           [
            0.7777777777777778,
            "#6ece58"
           ],
           [
            0.8888888888888888,
            "#b5de2b"
           ],
           [
            1,
            "#fde725"
           ]
          ],
          "opacity": 0.8,
          "size": 10
         },
         "mode": "markers",
         "name": "Corners",
         "type": "scatter3d",
         "x": [
          0,
          -1.3691967456605065e-16,
          0.7071067811865474,
          0.7453559924999299
         ],
         "y": [
          0,
          -0.7453559924999299,
          -0.7071067811865477,
          0
         ],
         "z": [
          1,
          0.6666666666666666,
          0,
          0.6666666666666666
         ]
        },
        {
         "marker": {
          "color": "blue",
          "colorscale": [
           [
            0,
            "#440154"
           ],
           [
            0.1111111111111111,
            "#482878"
           ],
           [
            0.2222222222222222,
            "#3e4989"
           ],
           [
            0.3333333333333333,
            "#31688e"
           ],
           [
            0.4444444444444444,
            "#26828e"
           ],
           [
            0.5555555555555556,
            "#1f9e89"
           ],
           [
            0.6666666666666666,
            "#35b779"
           ],
           [
            0.7777777777777778,
            "#6ece58"
           ],
           [
            0.8888888888888888,
            "#b5de2b"
           ],
           [
            1,
            "#fde725"
           ]
          ],
          "opacity": 0.8,
          "size": 4
         },
         "mode": "markers",
         "name": "Borders",
         "type": "scatter3d",
         "x": {
          "bdata": "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",
          "dtype": "f8"
         },
         "y": {
          "bdata": "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",
          "dtype": "f8"
         },
         "z": {
          "bdata": "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",
          "dtype": "f8"
         }
        },
        {
         "marker": {
          "colorscale": [
           [
            0,
            "#440154"
           ],
           [
            0.1111111111111111,
            "#482878"
           ],
           [
            0.2222222222222222,
            "#3e4989"
           ],
           [
            0.3333333333333333,
            "#31688e"
           ],
           [
            0.4444444444444444,
            "#26828e"
           ],
           [
            0.5555555555555556,
            "#1f9e89"
           ],
           [
            0.6666666666666666,
            "#35b779"
           ],
           [
            0.7777777777777778,
            "#6ece58"
           ],
           [
            0.8888888888888888,
            "#b5de2b"
           ],
           [
            1,
            "#fde725"
           ]
          ],
          "opacity": 1,
          "size": 2
         },
         "mode": "markers",
         "name": "Pixel 3",
         "type": "scatter3d",
         "x": {
          "bdata": "AAAAAAAAAABZXJskz1yPP2ZdRxxJkZ8/zt2Nd1fTpz9XEGOxN/avPzOXDhYLGLQ/6GjAxNQ/uD8cx3Ecx3G8Px0clLGRVsA/iYnfF494wj/PRD/kb57EPzI6V0/Cx8Y/h6jS8w70yD8M6LQp2SLLP8QXRXCfU80/IVQp5tuFzz8Df4NngtzQP4jt3pJG9tE/rosKnfIP0z//kzqsPSnUP438CD3eQdU/07XbfYpZ1j/VQqCs+G/XPzCk0HXfhNg/tYiqU/aX2T9oTnzs9ajaP//a626Yt9s/YcYh65nD3D8Znc+nuMzdP5fUGXK10t4/rumE51PV3z8rMZBcLWrgP1KjpPPJ5+A//Jq/emZj4T9HSfWK69zhP9suK6ZDVOI/fipCRFvJ4j/oYfLbIDzjP+U9bueErOM/FuPw5Hka5D8LJ2pT9IXkPwfEhavq7uQ/VVVVVVVV5T/7XeyaLrnlP+s/Q5hyGuY/fqe5KB955j88n5LSM9XmP5hoxLCxLuc/RIV0W5uF5z81RnXP9NnnPw==",
          "dtype": "f8"
         },
         "y": {
          "bdata": "AAAAAAAAAAAAAAAAAAAAAAAAAAAAAAAAAAAAAAAAAAAAAAAAAAAAAAAAAAAAAAAAAAAAAAAAAAAAAAAAAAAAAAAAAAAAAAAAAAAAAAAAAAAAAAAAAAAAAAAAAAAAAAAAAAAAAAAAAAAAAAAAAAAAAAAAAAAAAAAAAAAAAAAAAAAAAAAAAAAAAAAAAAAAAAAAAAAAAAAAAAAAAAAAAAAAAAAAAAAAAAAAAAAAAAAAAAAAAAAAAAAAAAAAAAAAAAAAAAAAAAAAAAAAAAAAAAAAAAAAAAAAAAAAAAAAAAAAAAAAAAAAAAAAAAAAAAAAAAAAAAAAAAAAAAAAAAAAAAAAAAAAAAAAAAAAAAAAAAAAAAAAAAAAAAAAAAAAAAAAAAAAAAAAAAAAAAAAAAAAAAAAAAAAAAAAAAAAAAAAAAAAAAAAAAAAAAAAAAAAAAAAAAAAAAAAAAAAAAAAAAAAAAAAAAAAAAAAAAAAAAAAAAAAAAAAAAAAAAAAAAAAAAAAAAAAAAAAAAAAAAAAAAAAAAAAAA==",
          "dtype": "f8"
         },
         "z": {
          "bdata": "AAAAAAAA8D9B+loVCv/vPwHLM0Eb/O8/Vek2JCD37z/8J7TJBfDvP41l/MS55u8/i4DbTyrb7z/xsvFpRs3vP3Fcpvj9vO8/hJBl50Gq7z/WudFHBJXvP/eWi3E4fe8/SQUtIdNi7z+AxA6WykXvPyrZbq4WJu8/h7CMAbED7z/C0lH3lN7uPz/qId2/tu4/mj9z9zCM7j/0ftmP6V7uP1GVN//sLu4/Mojas0D87T+AFk4z7MbtP9RkzBf5ju0/7ow7CXNU7T81ML6xZxftP7as7q3m1+w/7M3ueAGW7D++R4dUy1HsP62Coi1ZC+w/DM58fcHC6z+CkPAnHHjrP4Y7T1eCK+s/YGM/Vg7d6j+LSR1o24zqP49YXaAFO+o/fpNvuann6T9Y8Z/r5JLpP+A6asTUPOk/Bouw/pbl6D/vVzpcSY3oP6dE14AJNOg/NkZ1z/TZ5z/zP21JKH/nPyR8PHDAI+c/k6TUKdnH5j82Z5+njWvmP5cHR1D4DuY/2PZJrDKy5T9VVVVVVVXlPw==",
          "dtype": "f8"
         }
        },
        {
         "marker": {
          "color": "red",
          "colorscale": [
           [
            0,
            "#440154"
           ],
           [
            0.1111111111111111,
            "#482878"
           ],
           [
            0.2222222222222222,
            "#3e4989"
           ],
           [
            0.3333333333333333,
            "#31688e"
           ],
           [
            0.4444444444444444,
            "#26828e"
           ],
           [
            0.5555555555555556,
            "#1f9e89"
           ],
           [
            0.6666666666666666,
            "#35b779"
           ],
           [
            0.7777777777777778,
            "#6ece58"
           ],
           [
            0.8888888888888888,
            "#b5de2b"
           ],
           [
            1,
            "#fde725"
           ]
          ],
          "opacity": 0.8,
          "size": 10
         },
         "mode": "markers",
         "name": "Corners",
         "type": "scatter3d",
         "x": [
          0.7453559924999299,
          0.7071067811865474,
          0.7453559924999299,
          0.7071067811865476
         ],
         "y": [
          0,
          -0.7071067811865477,
          0,
          0.7071067811865475
         ],
         "z": [
          0.6666666666666666,
          0,
          -0.6666666666666666,
          0
         ]
        },
        {
         "marker": {
          "color": "blue",
          "colorscale": [
           [
            0,
            "#440154"
           ],
           [
            0.1111111111111111,
            "#482878"
           ],
           [
            0.2222222222222222,
            "#3e4989"
           ],
           [
            0.3333333333333333,
            "#31688e"
           ],
           [
            0.4444444444444444,
            "#26828e"
           ],
           [
            0.5555555555555556,
            "#1f9e89"
           ],
           [
            0.6666666666666666,
            "#35b779"
           ],
           [
            0.7777777777777778,
            "#6ece58"
           ],
           [
            0.8888888888888888,
            "#b5de2b"
           ],
           [
            1,
            "#fde725"
           ]
          ],
          "opacity": 0.8,
          "size": 4
         },
         "mode": "markers",
         "name": "Borders",
         "type": "scatter3d",
         "x": {
          "bdata": "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",
          "dtype": "f8"
         },
         "y": {
          "bdata": "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",
          "dtype": "f8"
         },
         "z": {
          "bdata": "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",
          "dtype": "f8"
         }
        },
        {
         "marker": {
          "colorscale": [
           [
            0,
            "#440154"
           ],
           [
            0.1111111111111111,
            "#482878"
           ],
           [
            0.2222222222222222,
            "#3e4989"
           ],
           [
            0.3333333333333333,
            "#31688e"
           ],
           [
            0.4444444444444444,
            "#26828e"
           ],
           [
            0.5555555555555556,
            "#1f9e89"
           ],
           [
            0.6666666666666666,
            "#35b779"
           ],
           [
            0.7777777777777778,
            "#6ece58"
           ],
           [
            0.8888888888888888,
            "#b5de2b"
           ],
           [
            1,
            "#fde725"
           ]
          ],
          "opacity": 1,
          "size": 2
         },
         "mode": "markers",
         "name": "Pixel 4",
         "type": "scatter3d",
         "x": {
          "bdata": "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",
          "dtype": "f8"
         },
         "y": {
          "bdata": "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",
          "dtype": "f8"
         },
         "z": {
          "bdata": "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",
          "dtype": "f8"
         }
        },
        {
         "marker": {
          "color": "red",
          "colorscale": [
           [
            0,
            "#440154"
           ],
           [
            0.1111111111111111,
            "#482878"
           ],
           [
            0.2222222222222222,
            "#3e4989"
           ],
           [
            0.3333333333333333,
            "#31688e"
           ],
           [
            0.4444444444444444,
            "#26828e"
           ],
           [
            0.5555555555555556,
            "#1f9e89"
           ],
           [
            0.6666666666666666,
            "#35b779"
           ],
           [
            0.7777777777777778,
            "#6ece58"
           ],
           [
            0.8888888888888888,
            "#b5de2b"
           ],
           [
            1,
            "#fde725"
           ]
          ],
          "opacity": 0.8,
          "size": 10
         },
         "mode": "markers",
         "name": "Corners",
         "type": "scatter3d",
         "x": [
          4.5639891522016886e-17,
          0.7071067811865476,
          4.5639891522016886e-17,
          -0.7071067811865475
         ],
         "y": [
          0.7453559924999299,
          0.7071067811865475,
          0.7453559924999299,
          0.7071067811865476
         ],
         "z": [
          0.6666666666666666,
          0,
          -0.6666666666666666,
          0
         ]
        },
        {
         "marker": {
          "color": "blue",
          "colorscale": [
           [
            0,
            "#440154"
           ],
           [
            0.1111111111111111,
            "#482878"
           ],
           [
            0.2222222222222222,
            "#3e4989"
           ],
           [
            0.3333333333333333,
            "#31688e"
           ],
           [
            0.4444444444444444,
            "#26828e"
           ],
           [
            0.5555555555555556,
            "#1f9e89"
           ],
           [
            0.6666666666666666,
            "#35b779"
           ],
           [
            0.7777777777777778,
            "#6ece58"
           ],
           [
            0.8888888888888888,
            "#b5de2b"
           ],
           [
            1,
            "#fde725"
           ]
          ],
          "opacity": 0.8,
          "size": 4
         },
         "mode": "markers",
         "name": "Borders",
         "type": "scatter3d",
         "x": {
          "bdata": "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",
          "dtype": "f8"
         },
         "y": {
          "bdata": "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",
          "dtype": "f8"
         },
         "z": {
          "bdata": "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",
          "dtype": "f8"
         }
        },
        {
         "marker": {
          "colorscale": [
           [
            0,
            "#440154"
           ],
           [
            0.1111111111111111,
            "#482878"
           ],
           [
            0.2222222222222222,
            "#3e4989"
           ],
           [
            0.3333333333333333,
            "#31688e"
           ],
           [
            0.4444444444444444,
            "#26828e"
           ],
           [
            0.5555555555555556,
            "#1f9e89"
           ],
           [
            0.6666666666666666,
            "#35b779"
           ],
           [
            0.7777777777777778,
            "#6ece58"
           ],
           [
            0.8888888888888888,
            "#b5de2b"
           ],
           [
            1,
            "#fde725"
           ]
          ],
          "opacity": 1,
          "size": 2
         },
         "mode": "markers",
         "name": "Pixel 5",
         "type": "scatter3d",
         "x": {
          "bdata": "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",
          "dtype": "f8"
         },
         "y": {
          "bdata": "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",
          "dtype": "f8"
         },
         "z": {
          "bdata": "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",
          "dtype": "f8"
         }
        },
        {
         "marker": {
          "color": "red",
          "colorscale": [
           [
            0,
            "#440154"
           ],
           [
            0.1111111111111111,
            "#482878"
           ],
           [
            0.2222222222222222,
            "#3e4989"
           ],
           [
            0.3333333333333333,
            "#31688e"
           ],
           [
            0.4444444444444444,
            "#26828e"
           ],
           [
            0.5555555555555556,
            "#1f9e89"
           ],
           [
            0.6666666666666666,
            "#35b779"
           ],
           [
            0.7777777777777778,
            "#6ece58"
           ],
           [
            0.8888888888888888,
            "#b5de2b"
           ],
           [
            1,
            "#fde725"
           ]
          ],
          "opacity": 0.8,
          "size": 10
         },
         "mode": "markers",
         "name": "Corners",
         "type": "scatter3d",
         "x": [
          0.7071067811865476,
          0.7453559924999299,
          0,
          4.5639891522016886e-17
         ],
         "y": [
          0.7071067811865475,
          0,
          0,
          0.7453559924999299
         ],
         "z": [
          0,
          -0.6666666666666666,
          -1,
          -0.6666666666666666
         ]
        },
        {
         "marker": {
          "color": "blue",
          "colorscale": [
           [
            0,
            "#440154"
           ],
           [
            0.1111111111111111,
            "#482878"
           ],
           [
            0.2222222222222222,
            "#3e4989"
           ],
           [
            0.3333333333333333,
            "#31688e"
           ],
           [
            0.4444444444444444,
            "#26828e"
           ],
           [
            0.5555555555555556,
            "#1f9e89"
           ],
           [
            0.6666666666666666,
            "#35b779"
           ],
           [
            0.7777777777777778,
            "#6ece58"
           ],
           [
            0.8888888888888888,
            "#b5de2b"
           ],
           [
            1,
            "#fde725"
           ]
          ],
          "opacity": 0.8,
          "size": 4
         },
         "mode": "markers",
         "name": "Borders",
         "type": "scatter3d",
         "x": {
          "bdata": "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",
          "dtype": "f8"
         },
         "y": {
          "bdata": "zDt/Zp6g5j/YC9fQ02DmP4n1MJEDHuY/H6+PIRvY5T85u0R6CY/lP3WPaVC/QuU/VqczVi/z5D9cE1t8TqDkPyH7qDMUSuQ/MOSirXrw4z9q1ikbf5PjP2lGy+chM+M/8LVu8GbP4j8B6f+zVWjiP/r2s3z5/eE/Wb2QgGGQ4T9eVPP3oB/hP3Gv8yjPq+A/dpKxZgc14D+KwqEH0nbfPyiGX28uft4/0Gdc7HGA3T8Pv2N08X3cPzjyzoYId9s/kY8xkBhs2j+Xf4E4iF3ZPx9go57CS9g/dQ3DhDY31z/dTUVxVSDWP2IwZciSB9U/eD+z4mLt0z82Lq0kOtLSP2nqghuMttE/13Dcosqa0D9vmSwuyv7OP1y+7C2Pycw/comqrrSWyj+9WlEVAmfIPywOjbs0O8Y/F7tLFf8TxD/EM6wCCPLBPxokkZvUq78/fsTOpWiAuz/krrahz2K3P5k8d73zU7M/3aOaDkyprj+MUrezPcumP2h/uvb5HZ4/gLoewW/WjT8AAAAAAAAAAAAAAAAAAAAAAAAAAAAAAAAAAAAAAAAAAAAAAAAAAAAAAAAAAAAAAAAAAAAAAAAAAAAAAAAAAAAAAAAAAAAAAAAAAAAAAAAAAAAAAAAAAAAAAAAAAAAAAAAAAAAAAAAAAAAAAAAAAAAAAAAAAAAAAAAAAAAAAAAAAAAAAAAAAAAAAAAAAAAAAAAAAAAAAAAAAAAAAAAAAAAAAAAAAAAAAAAAAAAAAAAAAAAAAAAAAAAAAAAAAAAAAAAAAAAAAAAAAAAAAAAAAAAAAAAAAAAAAAAAAAAAAAAAAAAAAAAAAAAAAAAAAAAAAAAAAAAAAAAAAAAAAAAAAAAAAAAAAAAAAAAAAAAAAAAAAAAAAAAAAAAAAAAAAAAAAAAAAAAAAAAAAAAAAAAAAAAAAAAAAAAAAAAAAAAAAAAAAAAAAAAAAAAAAAAAAAAAAAAAAAAAAAAAAAAAAAAAAAAAAAAAAAAAAAAAAAAAAAAAAAAAAAAAAAAAAAAAAAAAAAAAAAAAAAAAAAAAAAAAAAAAAAAAAAAAAAAAAAAAAAAAAFlcmyTPXI8/Zl1HHEmRnz/O3Y13V9OnP1cQY7E39q8/M5cOFgsYtD/oaMDE1D+4PxzHcRzHcbw/HRyUsZFWwD+Jid8Xj3jCP89EP+RvnsQ/MjpXT8LHxj+HqNLzDvTIPwzotCnZIss/xBdFcJ9TzT8hVCnm24XPPwN/g2eC3NA/iO3ekkb20T+uiwqd8g/TP/+TOqw9KdQ/jfwIPd5B1T/Ttdt9ilnWP9VCoKz4b9c/MKTQdd+E2D+1iKpT9pfZP2hOfOz1qNo//9rrbpi32z9hxiHrmcPcPxmdz6e4zN0/l9QZcrXS3j+u6YTnU9XfPysxkFwtauA/UqOk88nn4D/8mr96ZmPhP0dJ9Yrr3OE/2y4rpkNU4j9+KkJEW8niP+hh8tsgPOM/5T1u54Ss4z8W4/DkeRrkPwsnalP0heQ/B8SFq+ru5D9VVVVVVVXlP/td7JouueU/6z9DmHIa5j9+p7koH3nmPzyfktIz1eY/mGjEsLEu5z9EhXRbm4XnPzVGdc/02ec/NUZ1z/TZ5z80veKbEA7oP+TFiDY5Qeg/nuIPwkxz6D/CWEoqKKToP1S6e0en0+g/htFKCKUB6T8OXIGi+y3pP+Fym8qEWOk/f6IB8hmB6T/3JJ2LlKfpP0tDRlbOy+k/9NVarKHt6T9TvJfX6QzqP6fLHWiDKeo/70VbjUxD6j91pWhvJVrqP8rHRIfwbeo/GYFD9JJ+6j8gY/TM9IvqP1yrx2kBluo/c/TFp6ec6j+C48wh2p/qP95S716Pn+o/nmHR9MGb6j/bgR6dcJTqP9Ochj2eieo/6JwE4lF76j8LroiplmnqP/6sd6V7VOo/nvbDrBM86j9+v64jdSDqP1Bzgbm5Aeo/3hTCHf7f6T8orYquYbvpPwDPwSEGlOk/8BX5Kg9q6T+SFq8foj3pP9HTnZvlDuk/5VOfJgHe6D+jkondHKvoP6QpNB9hdug/m/6mPvY/6D8+ZTw7BAjoP914TH+yzuc/vMrEpSeU5z8WUuBGiVjnPwvqCMz7G+c/5VfGSqLe5j/MO39mnqDmPw==",
          "dtype": "f8"
         },
         "z": {
          "bdata": "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",
          "dtype": "f8"
         }
        },
        {
         "marker": {
          "colorscale": [
           [
            0,
            "#440154"
           ],
           [
            0.1111111111111111,
            "#482878"
           ],
           [
            0.2222222222222222,
            "#3e4989"
           ],
           [
            0.3333333333333333,
            "#31688e"
           ],
           [
            0.4444444444444444,
            "#26828e"
           ],
           [
            0.5555555555555556,
            "#1f9e89"
           ],
           [
            0.6666666666666666,
            "#35b779"
           ],
           [
            0.7777777777777778,
            "#6ece58"
           ],
           [
            0.8888888888888888,
            "#b5de2b"
           ],
           [
            1,
            "#fde725"
           ]
          ],
          "opacity": 1,
          "size": 2
         },
         "mode": "markers",
         "name": "Pixel 8",
         "type": "scatter3d",
         "x": {
          "bdata": "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",
          "dtype": "f8"
         },
         "y": {
          "bdata": "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",
          "dtype": "f8"
         },
         "z": {
          "bdata": "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",
          "dtype": "f8"
         }
        },
        {
         "marker": {
          "color": "red",
          "colorscale": [
           [
            0,
            "#440154"
           ],
           [
            0.1111111111111111,
            "#482878"
           ],
           [
            0.2222222222222222,
            "#3e4989"
           ],
           [
            0.3333333333333333,
            "#31688e"
           ],
           [
            0.4444444444444444,
            "#26828e"
           ],
           [
            0.5555555555555556,
            "#1f9e89"
           ],
           [
            0.6666666666666666,
            "#35b779"
           ],
           [
            0.7777777777777778,
            "#6ece58"
           ],
           [
            0.8888888888888888,
            "#b5de2b"
           ],
           [
            1,
            "#fde725"
           ]
          ],
          "opacity": 0.8,
          "size": 10
         },
         "mode": "markers",
         "name": "Corners",
         "type": "scatter3d",
         "x": [
          0.7071067811865474,
          -1.3691967456605065e-16,
          0,
          0.7453559924999299
         ],
         "y": [
          -0.7071067811865477,
          -0.7453559924999299,
          0,
          0
         ],
         "z": [
          0,
          -0.6666666666666666,
          -1,
          -0.6666666666666666
         ]
        },
        {
         "marker": {
          "color": "blue",
          "colorscale": [
           [
            0,
            "#440154"
           ],
           [
            0.1111111111111111,
            "#482878"
           ],
           [
            0.2222222222222222,
            "#3e4989"
           ],
           [
            0.3333333333333333,
            "#31688e"
           ],
           [
            0.4444444444444444,
            "#26828e"
           ],
           [
            0.5555555555555556,
            "#1f9e89"
           ],
           [
            0.6666666666666666,
            "#35b779"
           ],
           [
            0.7777777777777778,
            "#6ece58"
           ],
           [
            0.8888888888888888,
            "#b5de2b"
           ],
           [
            1,
            "#fde725"
           ]
          ],
          "opacity": 0.8,
          "size": 4
         },
         "mode": "markers",
         "name": "Borders",
         "type": "scatter3d",
         "x": {
          "bdata": "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",
          "dtype": "f8"
         },
         "y": {
          "bdata": "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",
          "dtype": "f8"
         },
         "z": {
          "bdata": "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",
          "dtype": "f8"
         }
        },
        {
         "marker": {
          "colorscale": [
           [
            0,
            "#440154"
           ],
           [
            0.1111111111111111,
            "#482878"
           ],
           [
            0.2222222222222222,
            "#3e4989"
           ],
           [
            0.3333333333333333,
            "#31688e"
           ],
           [
            0.4444444444444444,
            "#26828e"
           ],
           [
            0.5555555555555556,
            "#1f9e89"
           ],
           [
            0.6666666666666666,
            "#35b779"
           ],
           [
            0.7777777777777778,
            "#6ece58"
           ],
           [
            0.8888888888888888,
            "#b5de2b"
           ],
           [
            1,
            "#fde725"
           ]
          ],
          "opacity": 1,
          "size": 2
         },
         "mode": "markers",
         "name": "Pixel 11",
         "type": "scatter3d",
         "x": {
          "bdata": "NUZ1z/TZ5z9EhXRbm4XnP5hoxLCxLuc/PZ+S0jPV5j9+p7koH3nmP+s/Q5hyGuY/+13smi655T9VVVVVVVXlPwfEhavq7uQ/CydqU/SF5D8W4/DkeRrkP+U9bueErOM/6GHy2yA84z9+KkJEW8niP9suK6ZDVOI/R0n1iuvc4T/8mr96ZmPhP1KjpPPJ5+A/KzGQXC1q4D+u6YTnU9XfP5fUGXK10t4/GZ3Pp7jM3T9ixiHrmcPcP//a626Yt9s/aE587PWo2j+1iKpT9pfZPzCk0HXfhNg/1kKgrPhv1z/Ttdt9ilnWP438CD3eQdU/AJQ6rD0p1D+uiwqd8g/TP4jt3pJG9tE/A3+DZ4Lc0D8hVCnm24XPP8UXRXCfU80/DOi0Kdkiyz+HqNLzDvTIPzI6V0/Cx8Y/z0Q/5G+exD+Jid8Xj3jCPx0clLGRVsA/HMdxHMdxvD/paMDE1D+4PzOXDhYLGLQ/VxBjsTf2rz/O3Y13V9OnP2ZdRxxJkZ8/WlybJM9cjz8=",
          "dtype": "f8"
         },
         "y": {
          "bdata": "AAAAAAAAAAAAAAAAAAAAAAAAAAAAAAAAAAAAAAAAAAAAAAAAAAAAAAAAAAAAAAAAAAAAAAAAAAAAAAAAAAAAAAAAAAAAAAAAAAAAAAAAAAAAAAAAAAAAAAAAAAAAAAAAAAAAAAAAAAAAAAAAAAAAAAAAAAAAAAAAAAAAAAAAAAAAAAAAAAAAAAAAAAAAAAAAAAAAAAAAAAAAAAAAAAAAAAAAAAAAAAAAAAAAAAAAAAAAAAAAAAAAAAAAAAAAAAAAAAAAAAAAAAAAAAAAAAAAAAAAAAAAAAAAAAAAAAAAAAAAAAAAAAAAAAAAAAAAAAAAAAAAAAAAAAAAAAAAAAAAAAAAAAAAAAAAAAAAAAAAAAAAAAAAAAAAAAAAAAAAAAAAAAAAAAAAAAAAAAAAAAAAAAAAAAAAAAAAAAAAAAAAAAAAAAAAAAAAAAAAAAAAAAAAAAAAAAAAAAAAAAAAAAAAAAAAAAAAAAAAAAAAAAAAAAAAAAAAAAAAAAAAAAAAAAAAAAAAAAAAAAA=",
          "dtype": "f8"
         },
         "z": {
          "bdata": "VVVVVVVV5b/Y9kmsMrLlv5cHR1D4Dua/N2efp41r5r+TpNQp2cfmvyR8PHDAI+e/8z9tSSh/5782RnXP9Nnnv6dE14AJNOi/71c6XEmN6L8Gi7D+luXov+A6asTUPOm/WPGf6+SS6b9+k2+5qefpv49YXaAFO+q/i0kdaNuM6r9gYz9WDt3qv4Y7T1eCK+u/gpDwJxx4678Mznx9wcLrv62Coi1ZC+y/vkeHVMtR7L/tze54AZbsv7as7q3m1+y/NTC+sWcX7b/ujDsJc1Ttv9RkzBf5ju2/gRZOM+zG7b8yiNqzQPztv1GVN//sLu6/9X7Zj+le7r+aP3P3MIzuvz/qId2/tu6/wtJR95Te7r+HsIwBsQPvvyvZbq4WJu+/gMQOlspF779JBS0h02Lvv/eWi3E4fe+/1rnRRwSV77+EkGXnQarvv3Fcpvj9vO+/8bLxaUbN77+MgNtPKtvvv41l/MS55u+//Ce0yQXw779V6TYkIPfvvwHLM0Eb/O+/QvpaFQr/778=",
          "dtype": "f8"
         }
        }
       ],
       "layout": {
        "height": 800,
        "scene": {
         "aspectmode": "data",
         "xaxis": {
          "showbackground": false,
          "visible": false
         },
         "yaxis": {
          "showbackground": false,
          "visible": false
         },
         "zaxis": {
          "showbackground": false,
          "visible": false
         }
        },
        "template": {
         "data": {
          "bar": [
           {
            "error_x": {
             "color": "#2a3f5f"
            },
            "error_y": {
             "color": "#2a3f5f"
            },
            "marker": {
             "line": {
              "color": "#E5ECF6",
              "width": 0.5
             },
             "pattern": {
              "fillmode": "overlay",
              "size": 10,
              "solidity": 0.2
             }
            },
            "type": "bar"
           }
          ],
          "barpolar": [
           {
            "marker": {
             "line": {
              "color": "#E5ECF6",
              "width": 0.5
             },
             "pattern": {
              "fillmode": "overlay",
              "size": 10,
              "solidity": 0.2
             }
            },
            "type": "barpolar"
           }
          ],
          "carpet": [
           {
            "aaxis": {
             "endlinecolor": "#2a3f5f",
             "gridcolor": "white",
             "linecolor": "white",
             "minorgridcolor": "white",
             "startlinecolor": "#2a3f5f"
            },
            "baxis": {
             "endlinecolor": "#2a3f5f",
             "gridcolor": "white",
             "linecolor": "white",
             "minorgridcolor": "white",
             "startlinecolor": "#2a3f5f"
            },
            "type": "carpet"
           }
          ],
          "choropleth": [
           {
            "colorbar": {
             "outlinewidth": 0,
             "ticks": ""
            },
            "type": "choropleth"
           }
          ],
          "contour": [
           {
            "colorbar": {
             "outlinewidth": 0,
             "ticks": ""
            },
            "colorscale": [
             [
              0,
              "#0d0887"
             ],
             [
              0.1111111111111111,
              "#46039f"
             ],
             [
              0.2222222222222222,
              "#7201a8"
             ],
             [
              0.3333333333333333,
              "#9c179e"
             ],
             [
              0.4444444444444444,
              "#bd3786"
             ],
             [
              0.5555555555555556,
              "#d8576b"
             ],
             [
              0.6666666666666666,
              "#ed7953"
             ],
             [
              0.7777777777777778,
              "#fb9f3a"
             ],
             [
              0.8888888888888888,
              "#fdca26"
             ],
             [
              1,
              "#f0f921"
             ]
            ],
            "type": "contour"
           }
          ],
          "contourcarpet": [
           {
            "colorbar": {
             "outlinewidth": 0,
             "ticks": ""
            },
            "type": "contourcarpet"
           }
          ],
          "heatmap": [
           {
            "colorbar": {
             "outlinewidth": 0,
             "ticks": ""
            },
            "colorscale": [
             [
              0,
              "#0d0887"
             ],
             [
              0.1111111111111111,
              "#46039f"
             ],
             [
              0.2222222222222222,
              "#7201a8"
             ],
             [
              0.3333333333333333,
              "#9c179e"
             ],
             [
              0.4444444444444444,
              "#bd3786"
             ],
             [
              0.5555555555555556,
              "#d8576b"
             ],
             [
              0.6666666666666666,
              "#ed7953"
             ],
             [
              0.7777777777777778,
              "#fb9f3a"
             ],
             [
              0.8888888888888888,
              "#fdca26"
             ],
             [
              1,
              "#f0f921"
             ]
            ],
            "type": "heatmap"
           }
          ],
          "histogram": [
           {
            "marker": {
             "pattern": {
              "fillmode": "overlay",
              "size": 10,
              "solidity": 0.2
             }
            },
            "type": "histogram"
           }
          ],
          "histogram2d": [
           {
            "colorbar": {
             "outlinewidth": 0,
             "ticks": ""
            },
            "colorscale": [
             [
              0,
              "#0d0887"
             ],
             [
              0.1111111111111111,
              "#46039f"
             ],
             [
              0.2222222222222222,
              "#7201a8"
             ],
             [
              0.3333333333333333,
              "#9c179e"
             ],
             [
              0.4444444444444444,
              "#bd3786"
             ],
             [
              0.5555555555555556,
              "#d8576b"
             ],
             [
              0.6666666666666666,
              "#ed7953"
             ],
             [
              0.7777777777777778,
              "#fb9f3a"
             ],
             [
              0.8888888888888888,
              "#fdca26"
             ],
             [
              1,
              "#f0f921"
             ]
            ],
            "type": "histogram2d"
           }
          ],
          "histogram2dcontour": [
           {
            "colorbar": {
             "outlinewidth": 0,
             "ticks": ""
            },
            "colorscale": [
             [
              0,
              "#0d0887"
             ],
             [
              0.1111111111111111,
              "#46039f"
             ],
             [
              0.2222222222222222,
              "#7201a8"
             ],
             [
              0.3333333333333333,
              "#9c179e"
             ],
             [
              0.4444444444444444,
              "#bd3786"
             ],
             [
              0.5555555555555556,
              "#d8576b"
             ],
             [
              0.6666666666666666,
              "#ed7953"
             ],
             [
              0.7777777777777778,
              "#fb9f3a"
             ],
             [
              0.8888888888888888,
              "#fdca26"
             ],
             [
              1,
              "#f0f921"
             ]
            ],
            "type": "histogram2dcontour"
           }
          ],
          "mesh3d": [
           {
            "colorbar": {
             "outlinewidth": 0,
             "ticks": ""
            },
            "type": "mesh3d"
           }
          ],
          "parcoords": [
           {
            "line": {
             "colorbar": {
              "outlinewidth": 0,
              "ticks": ""
             }
            },
            "type": "parcoords"
           }
          ],
          "pie": [
           {
            "automargin": true,
            "type": "pie"
           }
          ],
          "scatter": [
           {
            "fillpattern": {
             "fillmode": "overlay",
             "size": 10,
             "solidity": 0.2
            },
            "type": "scatter"
           }
          ],
          "scatter3d": [
           {
            "line": {
             "colorbar": {
              "outlinewidth": 0,
              "ticks": ""
             }
            },
            "marker": {
             "colorbar": {
              "outlinewidth": 0,
              "ticks": ""
             }
            },
            "type": "scatter3d"
           }
          ],
          "scattercarpet": [
           {
            "marker": {
             "colorbar": {
              "outlinewidth": 0,
              "ticks": ""
             }
            },
            "type": "scattercarpet"
           }
          ],
          "scattergeo": [
           {
            "marker": {
             "colorbar": {
              "outlinewidth": 0,
              "ticks": ""
             }
            },
            "type": "scattergeo"
           }
          ],
          "scattergl": [
           {
            "marker": {
             "colorbar": {
              "outlinewidth": 0,
              "ticks": ""
             }
            },
            "type": "scattergl"
           }
          ],
          "scattermap": [
           {
            "marker": {
             "colorbar": {
              "outlinewidth": 0,
              "ticks": ""
             }
            },
            "type": "scattermap"
           }
          ],
          "scattermapbox": [
           {
            "marker": {
             "colorbar": {
              "outlinewidth": 0,
              "ticks": ""
             }
            },
            "type": "scattermapbox"
           }
          ],
          "scatterpolar": [
           {
            "marker": {
             "colorbar": {
              "outlinewidth": 0,
              "ticks": ""
             }
            },
            "type": "scatterpolar"
           }
          ],
          "scatterpolargl": [
           {
            "marker": {
             "colorbar": {
              "outlinewidth": 0,
              "ticks": ""
             }
            },
            "type": "scatterpolargl"
           }
          ],
          "scatterternary": [
           {
            "marker": {
             "colorbar": {
              "outlinewidth": 0,
              "ticks": ""
             }
            },
            "type": "scatterternary"
           }
          ],
          "surface": [
           {
            "colorbar": {
             "outlinewidth": 0,
             "ticks": ""
            },
            "colorscale": [
             [
              0,
              "#0d0887"
             ],
             [
              0.1111111111111111,
              "#46039f"
             ],
             [
              0.2222222222222222,
              "#7201a8"
             ],
             [
              0.3333333333333333,
              "#9c179e"
             ],
             [
              0.4444444444444444,
              "#bd3786"
             ],
             [
              0.5555555555555556,
              "#d8576b"
             ],
             [
              0.6666666666666666,
              "#ed7953"
             ],
             [
              0.7777777777777778,
              "#fb9f3a"
             ],
             [
              0.8888888888888888,
              "#fdca26"
             ],
             [
              1,
              "#f0f921"
             ]
            ],
            "type": "surface"
           }
          ],
          "table": [
           {
            "cells": {
             "fill": {
              "color": "#EBF0F8"
             },
             "line": {
              "color": "white"
             }
            },
            "header": {
             "fill": {
              "color": "#C8D4E3"
             },
             "line": {
              "color": "white"
             }
            },
            "type": "table"
           }
          ]
         },
         "layout": {
          "annotationdefaults": {
           "arrowcolor": "#2a3f5f",
           "arrowhead": 0,
           "arrowwidth": 1
          },
          "autotypenumbers": "strict",
          "coloraxis": {
           "colorbar": {
            "outlinewidth": 0,
            "ticks": ""
           }
          },
          "colorscale": {
           "diverging": [
            [
             0,
             "#8e0152"
            ],
            [
             0.1,
             "#c51b7d"
            ],
            [
             0.2,
             "#de77ae"
            ],
            [
             0.3,
             "#f1b6da"
            ],
            [
             0.4,
             "#fde0ef"
            ],
            [
             0.5,
             "#f7f7f7"
            ],
            [
             0.6,
             "#e6f5d0"
            ],
            [
             0.7,
             "#b8e186"
            ],
            [
             0.8,
             "#7fbc41"
            ],
            [
             0.9,
             "#4d9221"
            ],
            [
             1,
             "#276419"
            ]
           ],
           "sequential": [
            [
             0,
             "#0d0887"
            ],
            [
             0.1111111111111111,
             "#46039f"
            ],
            [
             0.2222222222222222,
             "#7201a8"
            ],
            [
             0.3333333333333333,
             "#9c179e"
            ],
            [
             0.4444444444444444,
             "#bd3786"
            ],
            [
             0.5555555555555556,
             "#d8576b"
            ],
            [
             0.6666666666666666,
             "#ed7953"
            ],
            [
             0.7777777777777778,
             "#fb9f3a"
            ],
            [
             0.8888888888888888,
             "#fdca26"
            ],
            [
             1,
             "#f0f921"
            ]
           ],
           "sequentialminus": [
            [
             0,
             "#0d0887"
            ],
            [
             0.1111111111111111,
             "#46039f"
            ],
            [
             0.2222222222222222,
             "#7201a8"
            ],
            [
             0.3333333333333333,
             "#9c179e"
            ],
            [
             0.4444444444444444,
             "#bd3786"
            ],
            [
             0.5555555555555556,
             "#d8576b"
            ],
            [
             0.6666666666666666,
             "#ed7953"
            ],
            [
             0.7777777777777778,
             "#fb9f3a"
            ],
            [
             0.8888888888888888,
             "#fdca26"
            ],
            [
             1,
             "#f0f921"
            ]
           ]
          },
          "colorway": [
           "#636efa",
           "#EF553B",
           "#00cc96",
           "#ab63fa",
           "#FFA15A",
           "#19d3f3",
           "#FF6692",
           "#B6E880",
           "#FF97FF",
           "#FECB52"
          ],
          "font": {
           "color": "#2a3f5f"
          },
          "geo": {
           "bgcolor": "white",
           "lakecolor": "white",
           "landcolor": "#E5ECF6",
           "showlakes": true,
           "showland": true,
           "subunitcolor": "white"
          },
          "hoverlabel": {
           "align": "left"
          },
          "hovermode": "closest",
          "mapbox": {
           "style": "light"
          },
          "paper_bgcolor": "white",
          "plot_bgcolor": "#E5ECF6",
          "polar": {
           "angularaxis": {
            "gridcolor": "white",
            "linecolor": "white",
            "ticks": ""
           },
           "bgcolor": "#E5ECF6",
           "radialaxis": {
            "gridcolor": "white",
            "linecolor": "white",
            "ticks": ""
           }
          },
          "scene": {
           "xaxis": {
            "backgroundcolor": "#E5ECF6",
            "gridcolor": "white",
            "gridwidth": 2,
            "linecolor": "white",
            "showbackground": true,
            "ticks": "",
            "zerolinecolor": "white"
           },
           "yaxis": {
            "backgroundcolor": "#E5ECF6",
            "gridcolor": "white",
            "gridwidth": 2,
            "linecolor": "white",
            "showbackground": true,
            "ticks": "",
            "zerolinecolor": "white"
           },
           "zaxis": {
            "backgroundcolor": "#E5ECF6",
            "gridcolor": "white",
            "gridwidth": 2,
            "linecolor": "white",
            "showbackground": true,
            "ticks": "",
            "zerolinecolor": "white"
           }
          },
          "shapedefaults": {
           "line": {
            "color": "#2a3f5f"
           }
          },
          "ternary": {
           "aaxis": {
            "gridcolor": "white",
            "linecolor": "white",
            "ticks": ""
           },
           "baxis": {
            "gridcolor": "white",
            "linecolor": "white",
            "ticks": ""
           },
           "bgcolor": "#E5ECF6",
           "caxis": {
            "gridcolor": "white",
            "linecolor": "white",
            "ticks": ""
           }
          },
          "title": {
           "x": 0.05
          },
          "xaxis": {
           "automargin": true,
           "gridcolor": "white",
           "linecolor": "white",
           "ticks": "",
           "title": {
            "standoff": 15
           },
           "zerolinecolor": "white",
           "zerolinewidth": 2
          },
          "yaxis": {
           "automargin": true,
           "gridcolor": "white",
           "linecolor": "white",
           "ticks": "",
           "title": {
            "standoff": 15
           },
           "zerolinecolor": "white",
           "zerolinewidth": 2
          }
         }
        },
        "title": {
         "text": "HEALPix Points on Sphere (order=0)"
        },
        "width": 800
       }
      }
     },
     "metadata": {},
     "output_type": "display_data"
    }
   ],
   "source": [
    "main(0,50)"
   ]
  },
  {
   "cell_type": "code",
   "execution_count": 4,
   "metadata": {},
   "outputs": [],
   "source": [
    "def getBoundaries(order, i):\n",
    "    x_coor = []\n",
    "    y_coor = []\n",
    "    z_coor = []\n",
    "    # for i in range(hp.order2npix(order)):\n",
    "    test = hp.boundaries(hp.order2nside(order), i, step=1)\n",
    "    x_coor.extend(test[0])\n",
    "    y_coor.extend(test[1])\n",
    "    z_coor.extend(test[2])\n",
    "    \n",
    "    return x_coor, y_coor, z_coor"
   ]
  },
  {
   "cell_type": "code",
   "execution_count": 5,
   "metadata": {},
   "outputs": [],
   "source": [
    "def getArcs(points, num_points):\n",
    "    \n",
    "    p1, p2, p3, p4= np.transpose(points)\n",
    "    arc12 = great_circle_arc(p1, p2, num_points)\n",
    "    arc23 = great_circle_arc(p2, p3, num_points)\n",
    "    arc34 = great_circle_arc(p3, p4, num_points)\n",
    "    arc41 = great_circle_arc(p4, p1, num_points)\n",
    "    \n",
    "    return arc12, arc23, arc34, arc41\n",
    "    "
   ]
  },
  {
   "cell_type": "code",
   "execution_count": 6,
   "metadata": {},
   "outputs": [],
   "source": [
    "def getPoints(arc12, arc23, arc34, arc41,theta_max, phi_max, num_points = 50):\n",
    "    new_points = []\n",
    "    all_arc_lengths = []\n",
    "    thetas = []\n",
    "    phis = []\n",
    "    \n",
    "    #This function returns arcs both from top to bottom as well as side to side\n",
    "    for i in range(num_points):\n",
    "        arc = great_circle_arc(arc12[i], arc34[num_points - 1 - i], num_points)\n",
    "        for j in range(num_points):\n",
    "            theta, phi = spherical(arc[j])\n",
    "            thetas.append(theta)\n",
    "            phis.append(phi)\n",
    "            if(theta < theta_max and phi<phi_max):\n",
    "                new_points.append(arc[j])\n",
    "                \n",
    "    # print(\"theta:\")\n",
    "    # print(np.max((thetas)) *180/np.pi)\n",
    "    # print(\"phi\")\n",
    "    # print(np.max((phis)) *180/np.pi)\n",
    "        # arc_lengths=[]\n",
    "        # for j in range(num_points-1):\n",
    "        #     arc_lengths.append(angle_finder(arc[j], arc[j+1]))\n",
    "        # all_arc_lengths.append(arc_lengths)\n",
    "    # for i in range(num_points):\n",
    "    #     arc = great_circle_arc(arc23[i], arc41[num_points -1 - i], num_points)\n",
    "    #     new_points.extend(arc)\n",
    "    #     arc_lengths=[]\n",
    "    #     for j in range(num_points-1):\n",
    "    #         arc_lengths.append(angle_finder(arc[j], arc[j+1]))\n",
    "    #     all_arc_lengths.append(arc_lengths)\n",
    "\n",
    "\n",
    "    \n",
    "\n",
    "                \n",
    "                    \n",
    "    return np.array(new_points), np.array(all_arc_lengths)"
   ]
  },
  {
   "cell_type": "code",
   "execution_count": 7,
   "metadata": {},
   "outputs": [],
   "source": [
    "def great_circle_arc(p1, p2, num_points=50):\n",
    "    \"\"\"Generates points along a great circle arc between two points.\"\"\"\n",
    "    p1_norm = p1 / np.linalg.norm(p1)\n",
    "    p2_norm = p2 / np.linalg.norm(p2)\n",
    "    points = []\n",
    "    for i in range(num_points):\n",
    "        t = i / (num_points - 1)\n",
    "        # Linear interpolation and normalization\n",
    "        pt = (1 - t) * p1_norm + t * p2_norm\n",
    "        pt_norm = pt / np.linalg.norm(pt)\n",
    "        points.append(pt_norm)\n",
    "    return np.array(points)"
   ]
  },
  {
   "cell_type": "code",
   "execution_count": 8,
   "metadata": {},
   "outputs": [],
   "source": [
    "def diff_in_angle(p1, p2):\n",
    "   new_p1 = spherical(p1)\n",
    "   new_p2 = spherical(p2)\n",
    "   theta= abs(math.degrees(new_p1[0]) - math.degrees(new_p2[0]))\n",
    "   phi = abs(math.degrees(new_p1[1]) - math.degrees(new_p2[1]))\n",
    "   return theta, phi"
   ]
  },
  {
   "cell_type": "code",
   "execution_count": 9,
   "metadata": {},
   "outputs": [],
   "source": [
    "def spherical(point):\n",
    "    return math.degrees(np.arccos(point[2])),  math.degrees(math.atan2(point[1], point[0])) % 360"
   ]
  },
  {
   "cell_type": "code",
   "execution_count": 23,
   "metadata": {},
   "outputs": [
    {
     "name": "stdout",
     "output_type": "stream",
     "text": [
      "Theta: 90.00°, Phi: 0.00°\n",
      "Theta: 90.00°, Phi: 90.00°\n",
      "Theta: 0.00°, Phi: 0.00°\n",
      "Theta: 90.00°, Phi: 225.00°\n",
      "Theta: 0.00°, Phi: 45.00°\n",
      "Theta: 90.00°, Phi: 270.00°\n",
      "Theta: 90.00°, Phi: 180.00°\n",
      "Theta: 180.00°, Phi: 0.00°\n"
     ]
    }
   ],
   "source": [
    "test_cases = [\n",
    "    (1, 0, 0),  # Along +x axis\n",
    "    (0, 1, 0),  # Along +y axis\n",
    "    (0, 0, 1),  # Along +z axis\n",
    "    (-1, -1, 0),  # In third quadrant of xy-plane\n",
    "    (1, 1, 1),  # General case\n",
    "    (0, -1, 0),  # Along -y axis\n",
    "    (-1, 0, 0),  # Along -x axis\n",
    "    (0, 0, -1),  # Along -z axis\n",
    "]\n",
    "\n",
    "for i in range(8):\n",
    "    theta, phi = spherical(test_cases[i])\n",
    "    print(f\"Theta: {theta:.2f}°, Phi: {phi:.2f}°\")"
   ]
  },
  {
   "cell_type": "code",
   "execution_count": 12,
   "metadata": {},
   "outputs": [],
   "source": [
    "import math\n",
    "\n",
    "def spherical_angle_diff(point1, point2):\n",
    "    \"\"\"\n",
    "    Calculates the difference in theta and phi angles between two points on a sphere given their Cartesian coordinates.\n",
    "\n",
    "    Args:\n",
    "        point1: A tuple of length 3 representing the Cartesian coordinates of the first point.\n",
    "        point2: A tuple of length 3 representing the Cartesian coordinates of the second point.\n",
    "\n",
    "    Returns:\n",
    "        A tuple containing the difference in theta and phi angles.\n",
    "    \"\"\"\n",
    "    \n",
    "    def to_spherical(point):\n",
    "        x, y, z = point\n",
    "        r = math.sqrt(x**2 + y**2 + z**2)\n",
    "        theta = math.atan2(y, x)\n",
    "        phi = math.acos(z / r)\n",
    "        return theta, phi\n",
    "\n",
    "    theta1, phi1 = to_spherical(point1)\n",
    "    theta2, phi2 = to_spherical(point2)\n",
    "\n",
    "    return (theta2 - theta1) *180/np.pi, (phi2 - phi1)*180/np.pi"
   ]
  },
  {
   "cell_type": "code",
   "execution_count": 13,
   "metadata": {},
   "outputs": [],
   "source": [
    "def angle_finder(point1, point2):\n",
    "\n",
    "    point1 = np.array(point1)\n",
    "    point2 = np.array(point2)\n",
    "\n",
    "    # Calculate the dot product of the two vectors\n",
    "    dot_product = np.dot(point1, point2)\n",
    "\n",
    "     # Ensure the value is within the valid range for arccos (-1 to 1)\n",
    "    cos_theta = np.clip(dot_product, -1, 1)\n",
    "    \n",
    "    # Calculate the angle in radians using arccos\n",
    "    angle = math.degrees(math.acos(cos_theta))\n",
    "\n",
    "    return angle"
   ]
  },
  {
   "cell_type": "code",
   "execution_count": 14,
   "metadata": {},
   "outputs": [],
   "source": [
    "    \n",
    "    def to_spherical(point):\n",
    "        x, y, z = point\n",
    "        r = math.sqrt(x**2 + y**2 + z**2)\n",
    "        theta = math.atan2(y, x)\n",
    "        phi = math.acos(z / r)\n",
    "        return theta, phi\n"
   ]
  },
  {
   "cell_type": "code",
   "execution_count": null,
   "metadata": {},
   "outputs": [],
   "source": []
  }
 ],
 "metadata": {
  "kernelspec": {
   "display_name": "Cryo-EM_project",
   "language": "python",
   "name": "python3"
  },
  "language_info": {
   "codemirror_mode": {
    "name": "ipython",
    "version": 3
   },
   "file_extension": ".py",
   "mimetype": "text/x-python",
   "name": "python",
   "nbconvert_exporter": "python",
   "pygments_lexer": "ipython3",
   "version": "3.11.0"
  }
 },
 "nbformat": 4,
 "nbformat_minor": 2
}
