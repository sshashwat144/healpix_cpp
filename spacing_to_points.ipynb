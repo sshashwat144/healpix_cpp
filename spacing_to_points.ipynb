{
 "cells": [
  {
   "cell_type": "code",
   "execution_count": 2,
   "metadata": {},
   "outputs": [],
   "source": [
    "import numpy as np\n",
    "import matplotlib.pyplot as plt\n",
    "from mpl_toolkits.mplot3d import Axes3D\n",
    "from mpl_toolkits.mplot3d.art3d import Poly3DCollection\n",
    "import matplotlib.colors as mcolors\n",
    "import healpy as hp\n",
    "import math\n",
    "from shapely.geometry import Point, Polygon\n",
    "import plotly.graph_objects as go"
   ]
  },
  {
   "cell_type": "code",
   "execution_count": 3,
   "metadata": {},
   "outputs": [],
   "source": [
    "# void EulerSearch::SetSymmetryLimits( ) {\n",
    "#     // Frealign limits, original code written by Richard Henderson\n",
    "#     //    DATA  ASYMTEST/' CDTOI0123456789'/\n",
    "#     //    DATA  THETASTORE/90.0,  90.0,  54.7,  54.7,  31.7/\n",
    "#     //    DATA  PHISTORE/360.0,  360.0, 180.0,  90.0, 180.0/\n",
    "#     //    DATA  JSTORE/2,1,1,1,1/\n",
    "\n",
    "#     wxChar symmetry_type;\n",
    "#     long   symmetry_number;\n",
    "\n",
    "#     if ( symmetry_symbol.Length( ) < 1 ) {\n",
    "#         MyPrintWithDetails(\"Error: Must specify symmetry symbol\\n\");\n",
    "#         DEBUG_ABORT;\n",
    "#     }\n",
    "#     symmetry_type = symmetry_symbol.Capitalize( )[0];\n",
    "#     if ( symmetry_symbol.Length( ) == 1 ) {\n",
    "#         symmetry_number = 0;\n",
    "#     }\n",
    "#     else {\n",
    "#         if ( ! symmetry_symbol.Mid(1).ToLong(&symmetry_number) ) {\n",
    "#             MyPrintWithDetails(\"Error: Invalid n after symmetry symbol\\n\");\n",
    "#             DEBUG_ABORT;\n",
    "#         }\n",
    "#     }\n",
    "\n",
    "#     if ( symmetry_type == 'C' ) {\n",
    "#         if ( symmetry_number == 0 ) {\n",
    "#             MyPrintWithDetails(\"Error: Invalid n after symmetry symbol\\n\");\n",
    "#             DEBUG_ABORT;\n",
    "#         }\n",
    "\n",
    "#         phi_max     = 360.0 / symmetry_number;\n",
    "#         theta_max   = 90.0;\n",
    "#         test_mirror = true;\n",
    "\n",
    "#         return;\n",
    "#     }\n",
    "\n",
    "#     if ( symmetry_type == 'D' ) {\n",
    "#         if ( symmetry_number == 0 ) {\n",
    "#             MyPrintWithDetails(\"Error: Invalid n after symmetry symbol\\n\");\n",
    "#             DEBUG_ABORT;\n",
    "#         }\n",
    "\n",
    "#         phi_max     = 360.0 / symmetry_number;\n",
    "#         theta_max   = 90.0;\n",
    "#         test_mirror = false;\n",
    "\n",
    "#         return;\n",
    "#     }\n",
    "\n",
    "#     if ( symmetry_type == 'T' ) {\n",
    "#         phi_max     = 180.0;\n",
    "#         theta_max   = 54.7;\n",
    "#         test_mirror = false;\n",
    "\n",
    "#         return;\n",
    "#     }\n",
    "\n",
    "#     if ( symmetry_type == 'O' ) {\n",
    "#         phi_max     = 90.0;\n",
    "#         theta_max   = 54.7;\n",
    "#         test_mirror = false;\n",
    "\n",
    "#         return;\n",
    "#     }\n",
    "\n",
    "#     if ( symmetry_type == 'I' ) {\n",
    "#         phi_max     = 180.0;\n",
    "#         theta_max   = 31.7;\n",
    "#         test_mirror = false;\n",
    "\n",
    "#         return;\n",
    "#     }\n",
    "\n",
    "#     MyPrintWithDetails(\"Error: Invalid symmetry symbol\\n\");\n",
    "#     DEBUG_ABORT;\n",
    "# }"
   ]
  },
  {
   "cell_type": "code",
   "execution_count": 4,
   "metadata": {},
   "outputs": [],
   "source": [
    "def SetSymmetryLimits(symmetry_symbol, symmetry_number): \n",
    "    # // Frealign limits, original code written by Richard Henderson\n",
    "    # //    DATA  ASYMTEST/' CDTOI0123456789'/\n",
    "    # //    DATA  THETASTORE/90.0,  90.0,  54.7,  54.7,  31.7/\n",
    "    # //    DATA  PHISTORE/360.0,  360.0, 180.0,  90.0, 180.0/\n",
    "    # //    DATA  JSTORE/2,1,1,1,1/\n",
    "\n",
    "    # wxChar symmetry_type;\n",
    "    # long   symmetry_number;\n",
    "    \n",
    "    #Algorithm:\n",
    "    #Check if all four points of pixel are out of the theta phi range, if so skip pixel\n",
    "    #Mark pixels with 1-3 points of pixel out of range\n",
    "    #Filter points in these pixels\n",
    "    \n",
    "    symmetry_type = symmetry_symbol\n",
    "    # if ( symmetry_symbol.Length( ) < 1 ) {\n",
    "    #     MyPrintWithDetails(\"Error: Must specify symmetry symbol\\n\");\n",
    "    #     DEBUG_ABORT;\n",
    "    # }\n",
    "    # symmetry_type = symmetry_symbol.Capitalize( )[0];\n",
    "    # if ( symmetry_symbol.Length( ) == 1 ) {\n",
    "    #     symmetry_number = 0;\n",
    "    # }\n",
    "    # else {\n",
    "    #     if ( ! symmetry_symbol.Mid(1).ToLong(&symmetry_number) ) {\n",
    "    #         MyPrintWithDetails(\"Error: Invalid n after symmetry symbol\\n\");\n",
    "    #         DEBUG_ABORT;\n",
    "    #     }\n",
    "    # }\n",
    "\n",
    "    if ( symmetry_type == 'C' ):\n",
    "        # if ( symmetry_number == 0 ) {\n",
    "        #     MyPrintWithDetails(\"Error: Invalid n after symmetry symbol\\n\");\n",
    "        #     DEBUG_ABORT;\n",
    "        # }\n",
    "\n",
    "        phi_max     = 360.0 / symmetry_number\n",
    "        theta_max   = 180.0\n",
    "        # test_mirror = true;\n",
    "\n",
    "        return phi_max, theta_max\n",
    "    \n",
    "\n",
    "    if ( symmetry_type == 'D' ):\n",
    "        # if ( symmetry_number == 0 ) {\n",
    "        #     MyPrintWithDetails(\"Error: Invalid n after symmetry symbol\\n\");\n",
    "        #     DEBUG_ABORT;\n",
    "        # }\n",
    "\n",
    "        phi_max     = 360.0 / symmetry_number\n",
    "        theta_max   = 90.0\n",
    "        # test_mirror = false;\n",
    "\n",
    "        return phi_max, theta_max\n",
    "    \n",
    "\n",
    "    if ( symmetry_type == 'T' ):\n",
    "        phi_max     = 180.0\n",
    "        theta_max   = 54.7\n",
    "        #test_mirror = false;\n",
    "\n",
    "        return;\n",
    "    \n",
    "\n",
    "    if ( symmetry_type == 'O' ):\n",
    "        phi_max     = 90.0\n",
    "        theta_max   = 54.7\n",
    "        # test_mirror = false;\n",
    "\n",
    "        return phi_max, theta_max\n",
    "    \n",
    "\n",
    "    if ( symmetry_type == 'I' ):\n",
    "        phi_max     = 180.0\n",
    "        theta_max   = 31.7\n",
    "        # test_mirror = false;\n",
    "\n",
    "        return phi_max, theta_max\n",
    "    \n",
    "\n",
    "    # MyPrintWithDetails(\"Error: Invalid symmetry symbol\\n\");\n",
    "    # DEBUG_ABORT;\n"
   ]
  },
  {
   "cell_type": "code",
   "execution_count": 25,
   "metadata": {},
   "outputs": [],
   "source": [
    "def main(order, spacing):\n",
    "    \n",
    "    data = []\n",
    "    #num_points = num\n",
    "    # Create points for sphere\n",
    "    theta = np.linspace(0, 2 * np.pi, 100)\n",
    "    phi = np.linspace(0, np.pi, 50)\n",
    "    theta, phi = np.meshgrid(theta, phi)\n",
    "    r = 1\n",
    "    # Convert to Cartesian coordinates\n",
    "    x = r * np.sin(phi) * np.cos(theta)\n",
    "    y = r * np.sin(phi) * np.sin(theta)\n",
    "    z = r * np.cos(phi)\n",
    "    \n",
    "    sphere = go.Surface(x=x,y=y,z=z,colorscale='Gray',opacity=.2,showscale=False)\n",
    "    data.append(sphere)\n",
    "    for i in range(hp.order2npix(order)):\n",
    "        points = getBoundaries(order, i)\n",
    "        x = points[0] \n",
    "        y = points[1]\n",
    "        z = points[2]\n",
    "        scatter = go.Scatter3d(x=x,y=y,z=z,mode='markers',marker=dict(size=10,color=\"red\",colorscale='Viridis',opacity=0.8), name=\"Corners\")\n",
    "        if(i >= 4 and i<=7):\n",
    "            num_points = int (57.9*(spacing)**-0.95)\n",
    "        else:\n",
    "            num_points = int (64.8*(spacing)**-0.951)\n",
    "        arc12, arc23, arc34, arc41 = getArcs(points, num_points)\n",
    "        arcs = np.concatenate((arc12, arc23, arc34, arc41), axis = 0)\n",
    "        scatters = go.Scatter3d(x=arcs[:,0],y=arcs[:,1],z=arcs[:,2],mode='markers',marker=dict(size=4,color=\"blue\",colorscale='Viridis',opacity=0.8), name=\"Borders\")\n",
    "        \n",
    "        phi_max, theta_max = SetSymmetryLimits('C', 4)\n",
    "        #print(theta_max, phi_max)\n",
    "        new_points, arc_lengths= getPoints(arc12, arc23, arc34, arc41, theta_max, phi_max, num_points)\n",
    "        if(np.shape(new_points)[0] == 0):\n",
    "            continue\n",
    "        x1 = new_points[:,0]\n",
    "        y1 = new_points[:,1]\n",
    "        z1 = new_points[:,2]\n",
    "        # Create scatter3d plot\n",
    "        scatter1 = go.Scatter3d(x=x1,y=y1,z=z1,mode='markers',marker=dict(size=2,colorscale='Viridis',opacity=1), name=\"Pixel \" + str(i))\n",
    "\n",
    "        \n",
    "        data.append(scatter)\n",
    "        data.append(scatters)\n",
    "        data.append(scatter1)\n",
    "        \n",
    "        \n",
    "    \n",
    "    fig = go.Figure(data=data)\n",
    "    fig.update_layout(\n",
    "        title=f'HEALPix Points on Sphere (order={order})',\n",
    "        scene=dict(\n",
    "            xaxis=dict(showbackground=False, visible=False),\n",
    "            yaxis=dict(showbackground=False, visible=False),\n",
    "            zaxis=dict(showbackground=False, visible=False),\n",
    "            aspectmode='data'\n",
    "        ),\n",
    "        width=800,\n",
    "        height=800\n",
    "    )\n",
    "    # Display the plot\n",
    "    fig.show()\n",
    "    #return arc_lengths, small_arcs\n",
    "\n",
    "# t,s  = main(0,0)"
   ]
  },
  {
   "cell_type": "code",
   "execution_count": 27,
   "metadata": {},
   "outputs": [
    {
     "data": {
      "application/vnd.plotly.v1+json": {
       "config": {
        "plotlyServerURL": "https://plot.ly"
       },
       "data": [
        {
         "colorscale": [
          [
           0,
           "rgb(0, 0, 0)"
          ],
          [
           0.09090909090909091,
           "rgb(16, 16, 16)"
          ],
          [
           0.18181818181818182,
           "rgb(38, 38, 38)"
          ],
          [
           0.2727272727272727,
           "rgb(59, 59, 59)"
          ],
          [
           0.36363636363636365,
           "rgb(81, 80, 80)"
          ],
          [
           0.45454545454545453,
           "rgb(102, 101, 101)"
          ],
          [
           0.5454545454545454,
           "rgb(124, 123, 122)"
          ],
          [
           0.6363636363636364,
           "rgb(146, 146, 145)"
          ],
          [
           0.7272727272727273,
           "rgb(171, 171, 170)"
          ],
          [
           0.8181818181818182,
           "rgb(197, 197, 195)"
          ],
          [
           0.9090909090909091,
           "rgb(224, 224, 223)"
          ],
          [
           1,
           "rgb(254, 254, 253)"
          ]
         ],
         "opacity": 0.2,
         "showscale": false,
         "type": "surface",
         "x": {
          "bdata": "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",
          "dtype": "f8",
          "shape": "50, 100"
         },
         "y": {
          "bdata": "AAAAAAAAAAAAAAAAAAAAAAAAAAAAAAAAAAAAAAAAAAAAAAAAAAAAAAAAAAAAAAAAAAAAAAAAAAAAAAAAAAAAAAAAAAAAAAAAAAAAAAAAAAAAAAAAAAAAAAAAAAAAAAAAAAAAAAAAAAAAAAAAAAAAAAAAAAAAAAAAAAAAAAAAAAAAAAAAAAAAAAAAAAAAAAAAAAAAAAAAAAAAAAAAAAAAAAAAAAAAAAAAAAAAAAAAAAAAAAAAAAAAAAAAAAAAAAAAAAAAAAAAAAAAAAAAAAAAAAAAAAAAAAAAAAAAAAAAAAAAAAAAAAAAAAAAAAAAAAAAAAAAAAAAAAAAAAAAAAAAAAAAAAAAAAAAAAAAAAAAAAAAAAAAAAAAAAAAAAAAAAAAAAAAAAAAAAAAAAAAAAAAAAAAAAAAAAAAAAAAAAAAAAAAAAAAAAAAAAAAAAAAAAAAAAAAAAAAAAAAAAAAAAAAAAAAAAAAAAAAAAAAAAAAAAAAAAAAAAAAAAAAAAAAAAAAAAAAAAAAAAAAAAAAAAAAAAAAAAAAAACAAAAAAAAAAIAAAAAAAAAAgAAAAAAAAACAAAAAAAAAAIAAAAAAAAAAgAAAAAAAAACAAAAAAAAAAIAAAAAAAAAAgAAAAAAAAACAAAAAAAAAAIAAAAAAAAAAgAAAAAAAAACAAAAAAAAAAIAAAAAAAAAAgAAAAAAAAACAAAAAAAAAAIAAAAAAAAAAgAAAAAAAAACAAAAAAAAAAIAAAAAAAAAAgAAAAAAAAACAAAAAAAAAAIAAAAAAAAAAgAAAAAAAAACAAAAAAAAAAIAAAAAAAAAAgAAAAAAAAACAAAAAAAAAAIAAAAAAAAAAgAAAAAAAAACAAAAAAAAAAIAAAAAAAAAAgAAAAAAAAACAAAAAAAAAAIAAAAAAAAAAgAAAAAAAAACAAAAAAAAAAIAAAAAAAAAAgAAAAAAAAACAAAAAAAAAAIAAAAAAAAAAgAAAAAAAAACAAAAAAAAAAIAAAAAAAAAAgAAAAAAAAACAAAAAAAAAAIAAAAAAAAAAgAAAAAAAAACAAAAAAAAAAIAAAAAAAAAAAKticSf6pHA/3lwVAGacgD//v5F1L9WIPx7AneUvepA/mzyd3ct4lD8r3hKCTWKYP23qH3OsMpw/MgztOfrlnz+9QRMrM7yhP3mzShYhc6M/kitkaQIWpT8OBPFZJ6OmP00JZoX2GKg/HjUcl+51qT/CuYXVp7iqP77p/ZTV36s/xb61jkfqrD9igVsa69atP+Q+OknMpK4/KjSt4RZTrz/S+eM5F+GvP8b3ingdJ7A/4v4ywwhNsD+1kW1mJmKwPwsi+51gZrA/hhJJDrNZsD9+q+/IKjywP9NkOT/mDbA/dc+CRSqerz9DQ5No8P+uP/Mr9gHCQa4/i3qqHGNkrT+9Mkbqt2isPzZOvNfDT6s/utTwgagaqj9E0y6LpMqoP2Xvs1ISYac/Wiukj2bfpT/m59XQLkekP9cvAuMPmqI//L3/HsTZoD9cw49DMxCeP5aUNuDgTZo/9IdjD3Fwlj+I6+W/33uSP36rHHGB6Iw/HCd4yHa7hD/1PK4mGvJ4P3ZQfZsfp2A/lFB9mx+nYL8DPa4mGvJ4vyMneMh2u4S/dasccYHojL+L6+W/33uSv/CHYw9xcJa/mZQ24OBNmr9Yw49DMxCev/29/x7E2aC/1S8C4w+aor/p59XQLkekv1grpI9m36W/Z++zUhJhp79D0y6LpMqov7vU8IGoGqq/NU6818NPq7/AMkbqt2isv4x6qhxjZK2/8yv2AcJBrr9CQ5No8P+uv3bPgkUqnq+/02Q5P+YNsL9+q+/IKjywv4YSSQ6zWbC/CyL7nWBmsL+1kW1mJmKwv+L+MsMITbC/xveKeB0nsL/S+eM5F+Gvvyo0reEWU6+/5j46Scykrr9hgVsa69atv8S+tY5H6qy/vun9lNXfq7/DuYXVp7iqvxw1HJfudam/TAlmhfYYqL8OBPFZJ6Omv5UrZGkCFqW/d7NKFiFzo7+8QRMrM7yhvzQM7Tn65Z+/c+ofc6wynL8l3hKCTWKYv5o8nd3LeJS/IcCd5S96kL/uv5F1L9WIv9ZcFQBmnIC/rGJxJ/qkcL/KCB05qRdyvAAAAAAAAAAAPCm29zicgD8H3ntTqZOQPxsY2bUfyJg/B12ZN4VxoD/S8oBQB26kP1zrYS96Vag/t4lfk9cjrD/qnwMXM9WvP2OGzB3fsrE/EsXZKuZosz++pmwr6wq1PzN3Mzg/l7Y/9/72xUkMuD9cR71Kimi5P0m5LcqZqro/6/qdRyzRuz+kF0ocEtu8P9stVzA5x70/NfpdFa6Uvj9QAFoBnUK/P+2l+qhS0L8/aZo6fJ4ewD+FnwzVdUTAP40WBl2IWcA/qlRaW8BdwD8vgcF2GVHAP6At9LmgM8A/erU5hnQFwD/egi7oiI2/P4Fsf0Si774/kUTu5dcxvj/rp1xw7VS9PwUnWp3GWbw/w+JlUWZBuz8PTQ+R7Qy6P3smCVeavbg/WtRhTMZUtz+L8TJk5dO1P5JlN1yEPLQ/hD3TI0eQsj9e2TIr59CwP3BNfzhjAK4/7fN+/gpAqj8oHBGao2SmP3VdjuEmcqI/cAWM7UzZnD9oy4Iqj7CUP4OkSzH75Ig/kcvBSl2ecD+uy8FKXZ5wv5GkSzH75Ii/b8uCKo+wlL9nBYztTNmcv3hdjuEmcqK/JBwRmqNkpr/w837+CkCqv2xNfzhjAK6/X9kyK+fQsL+CPdMjR5Cyv5RlN1yEPLS/ifEyZOXTtb9c1GFMxlS3v3omCVeavbi/EE0Pke0Mur/C4mVRZkG7vwgnWp3GWby/7KdccO1Uvb+RRO7l1zG+v4Bsf0Si776/34Iu6IiNv796tTmGdAXAv6At9LmgM8C/L4HBdhlRwL+qVFpbwF3Av40WBl2IWcC/hZ8M1XVEwL9pmjp8nh7Av+2l+qhS0L+/UABaAZ1Cv782+l0VrpS+v9otVzA5x72/oxdKHBLbvL/r+p1HLNG7v0q5LcqZqrq/Wke9Sopoub/2/vbFSQy4vzN3Mzg/l7a/waZsK+sKtb8Qxdkq5mizv2KGzB3fsrG/7J8DFzPVr7+8iV+T1yOsv1brYS96Vai/0fKAUAdupL8KXZk3hXGgvwkY2bUfyJi//917U6mTkL89Kbb3OJyAv8J5hhAlDoK8AAAAAAAAAAAVA+Cxe9SIPw++nX6vx5g/vUR698qFoj9z0lA+ppSoPwsHwusqiq4/LCEiOxowsj/oFOtjXwi1P+k7xjj2yrc/kdyjWwZ1uj+ER6u20AO9P7FF/FCydL8/rd06g5PiwD+7I9oPZvnBP+40zmOx/cI/SZ/zLWnuwz8UfydLlcrEPweFEMZSkcU/DBcTwdRBxj+gYX9JZdvGP2OpHxNmXcc/rIZlG1HHxz9l1o0zuRjIPz/6LHFKUcg/7GOvhMpwyD9hQHX1GHfIPxRNS0MvZMg/YVYe7SA4yD+hduJcG/PHP0zNwrhllcc/4e/JmWAfxz+zrk6ohZHGP6fSix5n7MU/iRnkMa8wxT920m1jH1/EP/D2eriPeMM/sl7r2+19wj+umC4pPHDBP9/08aGQUMA/losanydAvj9Chasi/7+7P9dEJLI7I7k/Seu6rY5stj/5rK4rxJ6zPxtnHxbAvLA//aOqYPaSqz+nFhYNAJClP5FliS2f7Z4/Er77mFybkj9bviBdr9d4P4e+IF2v13i/HL77mFybkr+cZYktn+2ev6AWFg0AkKW/AaSqYPaSq78YZx8WwLywv/usrivEnrO/Ruu6rY5str/ZRCSyOyO5vz+FqyL/v7u/mYsanydAvr/d9PGhkFDAv7CYLik8cMG/sV7r2+19wr/x9nq4j3jDv3XSbWMfX8S/ixnkMa8wxb+n0oseZ+zFv7OuTqiFkca/4O/JmWAfx79NzcK4ZZXHv6F24lwb88e/YVYe7SA4yL8TTUtDL2TIv2FAdfUYd8i/7GOvhMpwyL8/+ixxSlHIv2bWjTO5GMi/rIZlG1HHx79jqR8TZl3Hv6Fhf0ll28a/CxcTwdRBxr8GhRDGUpHFvxR/J0uVysS/SZ/zLWnuw7/tNM5jsf3Cv7oj2g9m+cG/rd06g5PiwL+2RfxQsnS/v4FHq7bQA72/j9yjWwZ1ur/rO8Y49sq3v+sU62NfCLW/JyEiOxowsr8KB8LrKoquv3jSUD6mlKi/sER698qFor8Cvp1+r8eYvxYD4LF71Ii/I2wONnf9irwAAAAAAAAAAH2w2dRPeZA/uFrrLtJwoD+F8zHoCZSoPyNvndT1TrA/J4xwERdDtD8WsEhXVSK4P+yVoNqy6Ls/XykBdUuSvz+T+u1TrI3BP/XUacAaQMM/HuC3LbHexD/47i0+xGfGP0GlPcG+2cc/qRsiVSMzyT9+4ALwjXLKP/YT9061lss/HE1uSWyezD90aKEHo4jNPwQ+yxpoVM4//GIIdukAzz+Za91GdY3PP3x6hKx6+c8/z5SiJkUi0D9LbZ5kKzfQPxaOEIVaO9A/yvbUN84u0D9ACztskxHQP6JpYIeQx88/r25h5TdLzz9pfD0gna7OP3aUY6Zh8s0/sDSFgEcXzT8jp5KJMB7MP6H+6YUdCMs/x72oGi3WyT+I/zCmmonIPxy3Evu8I8c/jyOo/gSmxT90vtEs/BHEP5+iWQJDacI/fYegT4+twD8IwJ3qVMG9P1GpthnfCLo/vTSZ/ZI1tj9C+V4RYkuyP/X2KtOqnKw/bYmkFhOFpD+hP/S8qLCYP1+Sc6dve4A/fZJzp297gL+vP/S8qLCYv3SJpBYThaS/7PYq06qcrL9F+V4RYkuyv7k0mf2SNba/VKm2Gd8Iur8EwJ3qVMG9v36HoE+PrcC/naJZAkNpwr92vtEs/BHEv40jqP4EpsW/HrcS+7wjx7+H/zCmmonIv8i9qBot1sm/oP7phR0Iy78mp5KJMB7Mv7E0hYBHF82/dpRjpmHyzb9ofD0gna7Ov7BuYeU3S8+/omlgh5DHz79ACztskxHQv8n21DfOLtC/Fo4QhVo70L9LbZ5kKzfQv8+UoiZFItC/fXqErHr5z7+Za91GdY3Pv/xiCHbpAM+/BT7LGmhUzr9zaKEHo4jNvxtNbklsnsy/9hP3TrWWy79/4ALwjXLKv6cbIlUjM8m/QKU9wb7Zx7/47i0+xGfGvyHgty2x3sS/89RpwBpAw7+S+u1TrI3Bv2EpAXVLkr+/8ZWg2rLou78QsEhXVSK4vyaMcBEXQ7S/Jm+d1PVOsL908zHoCZSov7Ba6y7ScKC/frDZ1E95kL81nB9xMuiRvAAAAAAAAAAAesRvYA13lD9p58ocgWykPxXZkeFtiK4/3MIVp3BCtD8ADvMRyCu5Pw9sGxkt+70/VfSzMdVVwT+mXaQ5NZzDPwOIM1FezsU/1nOm+wzqxz8RoQvoFO3JP/yGsS5j1cs/aktrdAChzT97lm/xEk7PPwFT3SxwbdA/fBh+0uci0T/Ujx1atcbRPwo7vukvWNI/RvPvisHW0j+nmmXF50HTPy7dciU0mdM/xl3nrUzc0z/q8dE07ArUP8JMzKriJNQ/cZuFTBUq1D8iAVm+fhrUP6KC0xEv9tM/DbAjtUu90z+GH4RMD3DTPwt/yHXJDtM/MI1Ldt6Z0j9skpLTxhHSP/nmENcOd9E/JJaL/VXK0D9CMLJSTgzQP9CHLHN3e84/nV19Rea+zD8c2U1hs+TKPz1PGZfH7sg/8A3+Sijfxj872WZf9bfEP4IRZQRne8I//W/9bcsrwD/4NIbnCJe7P8JmaDgKurY/0NO/LJ7FsT9FQMGRwH2pP4GADs77q54/F+vu87B5hD886+7zsHmEv5OADs77q56/TkDBkcB9qb/K078snsWxv8ZmaDgKura/8zSG5wiXu7//b/1tyyvAv4ARZQRne8K/PNlmX/W3xL/uDf5KKN/Gvz9PGZfH7si/GdlNYbPkyr+fXX1F5r7Mv8+HLHN3e86/QzCyUk4M0L8klov9VcrQv/vmENcOd9G/bJKS08YR0r8wjUt23pnSvwp/yHXJDtO/hx+ETA9w078NsCO1S73Tv6KC0xEv9tO/IQFZvn4a1L9xm4VMFSrUv8JMzKriJNS/6vHRNOwK1L/GXeetTNzTvy7dciU0mdO/p5plxedB079H8++KwdbSvwo7vukvWNK/1I8dWrXG0b98GH7S5yLRvwJT3SxwbdC/eZZv8RJOz79oS2t0AKHNv/yGsS5j1cu/FKEL6BTtyb/Uc6b7DOrHvwKIM1FezsW/qF2kOTWcw79Y9LMx1VXBvwhsGxkt+72//w3zEcgrub/fwhWncEK0vwDZkeFtiK6/X+fKHIFspL98xG9gDXeUv7NFKuTSPpa8AAAAAAAAAABcaX2nQ1+YP5cts96zUqg/E858pVkusj8C/ZCNmyC4PyeBjHr++b0/9ztPcT3awT9yzSWLFKXEP/y4WqujWsc/hcZi4h/4yT9wY48R13rMPymZcrIy4M4/4IPoQN2S0D/z8rCFi6TRP96X3gkKpNI/WoX9blGQ0z/aaFYlbmjUPzgKAGeBK9U/YPaCHcLY1T98nSKxfW/WP8039sAY79Y/4asTww9X1z9XWyeM96bXP5gQ7b193tc/5SwYHGn91z+ZkFPHmQPYPzNsHF4J8dc/HhxWA8vF1z9uR5BKC4LXPxqXEwoQJtc/j2PkEjiy1j/1jQXP+ibWP3pFYMbnhNU/HpzPCqbM1D/lbuiL8/7TP0IoL1OkHNM/CjCFqaEm0j/YV68m6R3RPyUn7auLA9A/Q/xclVixzT/1ChMx/jzLPzVoTOOPrMg/SJPNVbICxj+/vUpqJELDP4Yd3GW8bcA/AqCsCMoQuz9wExXtNCq1P+4sIDqdW64/JYgrdIVDoj+iKzQ1aGKIP84rNDVoYoi/MIgrdIVDor/5LCA6nVuuv2oTFe00KrW/BqCsCMoQu7+DHdxlvG3Av8K9SmokQsO/RZPNVbICxr83aEzjj6zIv/IKEzH+PMu/RvxclVixzb8kJ+2riwPQv9pXrybpHdG/CTCFqaEm0r9CKC9TpBzTv+Ru6Ivz/tO/IZzPCqbM1L97RWDG54TVv/WNBc/6Jta/jmPkEjiy1r8alxMKECbXv25HkEoLgte/HhxWA8vF178ybBxeCfHXv5mQU8eZA9i/5SwYHGn917+YEO29fd7Xv1dbJ4z3pte/4asTww9X17/NN/bAGO/Wv3ydIrF9b9a/X/aCHcLY1b83CgBngSvVv9poViVuaNS/W4X9blGQ07/dl94JCqTSv/LysIWLpNG/4IPoQN2S0L8tmXKyMuDOv21jjxHXesy/g8Zi4h/4yb/+uFqro1rHv3bNJYsUpcS/8ztPcT3awb8mgYx6/vm9vwb9kI2bILi/Bs58pVkusr+LLbPes1Kov15pfadDX5i/kPq4ngx+mrwAAAAAAAAAANhZbnvWLZw/rjteZFAfrD8tj8oqXAW1PxmLdupk5bs/KQ6XFFZUwT+aBKmhHKTEP0DupjSc3sc/eCaj1IAAyz+W5sfljwbOP6qqtr7VdtA/LAJOzGrZ0T+z/9WYmSnTP/o76ZgHZtQ/vaLKnW6N1T/v4KElnp7WP4DnX5V8mNc/f/EHWwh62D8c0jH3WELZP0fZs+yf8Nk/AEJ9lSmE2j9rwMXbXfzaP/pK09bAWNs/zIO0SvOY2z8jGGwKs7zbP+jjJzzbw9s/2oc9f2Su2z8vSsXzZHzbP6JqyyMQLts/qGwvzrbD2j+0G2iTxj3aPy0WgoTJnNk/WFzNlGXh2D91mMzuWwzYP7t2Fi2IHtc/t072d98Y1j/pd7WIb/zUP+HJkZNdytM/juN/GeWD0j/hx/CiVirRP3Yh1Mksfs8/VqGsozWHzD+zSRAv1nLJP0Ky+xc7RMY/n5EKFaz+wj/iAr8LEUu/Px8YUPKHeLg/K9qkO8WMsT9eiX+M1h2lP+Y/AbV4MYw/GUABtXgxjL9qiX+M1h2lvzHapDvFjLG/FxhQ8od4uL/nAr8LEUu/v5uRChWs/sK/RLL7FztExr+vSRAv1nLJv1ihrKM1h8y/cyHUySx+z7/jx/CiVirRv43jfxnlg9K/48mRk13K07/od7WIb/zUv7dO9nffGNa/unYWLYge1794mMzuWwzYv1lczZRl4di/LRaChMmc2b+zG2iTxj3av6lsL862w9q/omrLIxAu278vSsXzZHzbv9mHPX9krtu/6OMnPNvD278jGGwKs7zbv8yDtErzmNu/+0rT1sBY279rwMXbXfzavwBCfZUphNq/SNmz7J/w2b8b0jH3WELZv3/xB1sIeti/gOdflXyY17/w4KElnp7Wv7uiyp1ujdW/+TvpmAdm1L+z/9WYmSnTvy4CTsxq2dG/qaq2vtV20L+U5sfljwbOv3omo9SAAMu/Re6mNJzex7+VBKmhHKTEvygOlxRWVMG/H4t26mTlu78fj8oqXAW1v6A7XmRQH6y/2Vlue9YtnL9gdFvpZ6GevAAAAAAAAAAA4AcppsTenz+lMhqIV86vP9kK3rdBxrc/8k9S09WMvz9II/sTcpnDP7Uq3SZFWMc/GHPIwQf/yj99W45S9onOP6TBTvu0+tA/w3VaH+6e0j8h3pFo9S/UPxtha3MtrNU/Y4jNTw4S1z+WoBMVJ2DYP9QuVV4fldk/eTxorbiv2j98hTCzz67bP8Eb6Xtdkdw/evQyfnhW3T8n9tCLVf3dP89fGaNIhd4/Y6NEoMXt3j917eLNYDbfP9xw41PPXt8//AK7hOdm3z9GgVoIoU7fP5O2yOQUFt8/p+JWZH293j+4eorZNUXeP3oT+kC6rd0/eH5+wab33D8K2jsLtyPcP/6AKJbFMts/jEnZwMol2j8iOHvQ2/3YP8SQAtMpvNc/uua1ZABi1j8EUVlaxPDUPzghWlHyadM/ukd2Jx3P0T8+1XNb7CHQP3JeKbE0yMw/Ye8QXeUuyT+FimVvoHvFP2j9W182ssE/GLcN8Bytuz+TT32kRdmzP2Fnn+zw4ac/TSAJueDijz+GIAm54OKPv25nn+zw4ae/mk99pEXZs78Ptw3wHK27v2v9W182ssG/gYplb6B7xb9k7xBd5S7Jv25eKbE0yMy/P9VzW+wh0L+4R3YnHc/RvzohWlHyadO/AlFZWsTw1L+85rVkAGLWv8OQAtMpvNe/Izh70Nv92L+LSdnAyiXavwGBKJbFMtu/C9o7C7cj3L94fn7Bpvfcv3kT+kC6rd2/uXqK2TVF3r+n4lZkfb3ev5O2yOQUFt+/RYFaCKFO37/8AruE52bfv9xw41PPXt+/de3izWA2379ko0Sgxe3ev89fGaNIhd6/J/bQi1X93b979DJ+eFbdv8Ab6Xtdkdy/e4Uws8+u2795PGituK/av9UuVV4fldm/lKATFSdg2L9iiM1PDhLXvxtha3MtrNW/JN6RaPUv1L/BdVof7p7Sv6PBTvu0+tC/f1uOUvaJzr8dc8jBB//Kv68q3SZFWMe/RyP7E3KZw7/4T1LT1Yy/v8gK3rdBxre/lTIaiFfOr7/hBymmxN6fvzP34S5FUqG8AAAAAAAAAABIxUQQFrehP9IrjKH0rbE/sJ7+xiRuuj8RfT0ei4nBP62O1e3vycU/dXWr4d7zyT+LPTcwDQPOPy0y1tGl+dA/6u0ZdUXg0j/sO6Pib7PUP/iy64lDcdY/hFKS2fQX2D93CRcZ0KXZP3UyASo7Gds/KweiLrdw3D+FQL8U4qrdPxIPjwJ4xt4/0i+NpFTC3z8hf2gtuk7gP/bxVqJ6q+A/tiLFFAz34D9jdP6eIDHhPzDSMmJ8WeE/W+UtxPVv4T9IizmadXThP/ZW/0D3ZuE/739QoYhH4T8DUc8hShbhP3TeiIVu0+A/inGhtzp/4D/YmUmEBRrgP5o/in5uSN8/EifAsJI83j/ypoG8ixHdP7ooMOCNyNs/aDuDPexi2j9e/vJ7F+LYP7Das0ycR9c/I0XL0SGV1T8mD+PpZ8zTP2HknGJF79E/m7mDJkz/zz/m0ITDEf/LP55rImj74cc/z+Xvn0aswz/daVuulMS+PzcvP8PkELY/KUVZr+uMqj/Q6PzcXrmRP/Do/NxeuZG/OEVZr+uMqr8+Lz/D5BC2v9NpW66UxL6/0+Xvn0asw7+aayJo++HHv+rQhMMR/8u/l7mDJkz/z79j5JxiRe/RvyQP4+lnzNO/JUXL0SGV1b+t2rNMnEfXv2D+8nsX4ti/ZjuDPexi2r+7KDDgjcjbv/CmgbyLEd2/FSfAsJI83r+bP4p+bkjfv9iZSYQFGuC/iXGhtzp/4L903oiFbtPgvwNRzyFKFuG/739QoYhH4b/1Vv9A92bhv0iLOZp1dOG/W+UtxPVv4b8w0jJifFnhv2R0/p4gMeG/tiLFFAz34L/28VaieqvgvyJ/aC26TuC/0S+NpFTC378RD48CeMbev4VAvxTiqt2/LAeiLrdw3L9zMgEqOxnbv3YJFxnQpdm/hFKS2fQX2L/8suuJQ3HWv+o7o+Jvs9S/6e0ZdUXg0r8uMtbRpfnQv5E9NzANA86/b3Wr4d7zyb+sjtXt78nFvxR9PR6LicG/nZ7+xiRuur/JK4yh9K2xv0nFRBAWt6G/7k6KvZ1Bo7wAAAAAAAAAAJtmBxQnbKM/jad/YCRisz8JPJwhOvq8P2d4H4I4OsM/HRTuBILjxz/OskWIK3TMP6wfvy7Ac9A/S+gFCXWc0j/2/xGV+rHUP91OrNsqstY/i3o24/Wa2D+Va+rPY2raP0KxPeuWHtw/sF1RkM213T8PvXL7Yy7fPwOPZ/1qQ+A/sFBOP+De4D9ZyY2D8WjhP2+Ae3cQ4eE/cgNYSMFG4j9Tp/Iim5niP/fTt59I2eI/33a6GogF4z/x3F33Kx7jP6UzWs8aI+M/CTrrjE8U4z9nJA5w2fHiP0VLyf7bu+I/DNqN4I5y4j+6PNmkPRbiP7NvUXVHp+E/B3yssx4m4T++PsiDSJPgPzwL2IS43t8/gfWC0gV23j9zakvB7O3cP+P3C4ABSNs/fIwb+/aF2T9nb/kbnanXP2dUF+vetNU//X6ulcCp0z/tualZXYrRP789kbPKsc4/ylpyuDYvyj8kxvXrpJHFP0mr5ErX3cA/v4yWek0xuD8NrUZd+ButP5I12DyobpM/tTXYPKhuk78erUZd+Butv8eMlnpNMbi/RKvkStfdwL8oxvXrpJHFv8Vacrg2L8q/wj2Rs8qxzr/qualZXYrRv/9+rpXAqdO/ZVQX69601b9pb/kbnanXv3qMG/v2hdm/5fcLgAFI279yakvB7O3cv4L1gtIFdt6/OwvYhLje37/APsiDSJPgvwh8rLMeJuG/s29RdUen4b+6PNmkPRbivwzajeCOcuK/RUvJ/tu74r9nJA5w2fHivwg664xPFOO/pTNazxoj47/x3F33Kx7jv992uhqIBeO/+NO3n0jZ4r9Tp/Iim5niv3IDWEjBRuK/cIB7dxDh4b9YyY2D8Wjhv69QTj/g3uC/A49n/WpD4L8QvXL7Yy7fv61dUZDNtd2/QbE965Ye3L+Va+rPY2rav456NuP1mti/2k6s2yqy1r/1/xGV+rHUv0zoBQl1nNK/rx+/LsBz0L/HskWIK3TMvxwU7gSC48e/a3gfgjg6w7/1O5whOvq8v4Onf2AkYrO/nGYHFCdso7+3bUKLtBylvAAAAAAAAAAAqf62l8kMpT8BWzsn8AG1P/hcr9DTZ78/SXCr7KvWxD9zIrHY8uPJPz//FomJ1s4/q8OtLqvU0T+E7dU8sCvUP6ZrfXPqbdY/VzcExgWZ2D8EfRz9xaraP/XkpAQJodw/znORHsl53j9NYE98jxngP/asVNGh5eA/jsPRMUmg4T/a/aI1xUjiPxg3Xi9o3uI/7ZVa35dg4z9RSLESzs7jP09Kky2ZKOQ/O55loJxt5D8RPitHkZ3kP1Nr2rJFuOQ/VMVRXJ695D/gnrjAla3kP/RSLWc8iOQ/dL27z7hN5D+vZ61LR/7jP9xRXL85muM/LHHITfch4z8o50bu+5XiP/WJuOzX9uE/PnfLVC9F4T/LBeFIuYHgP3vMjIp+Wt8/ORcFoTiR3T+w6R4zeKnbP0kmzwk0pdk/FnrDUoCG1z8knc17jE/VPwFrN/KgAtM/ykRSyByi0D/mfl2H5mDMP1ZfA61SYMc/rTmiDaZHwj8BrVkYQzi6Px+imOBljK8/cUkneoAPlT+XSSd6gA+VvzGimOBljK+/Cq1ZGEM4ur+nOaINpkfCv1pfA61SYMe/4H5dh+ZgzL/MRFLIHKLQv/9qN/KgAtO/JZ3Ne4xP1b8TesNSgIbXv0smzwk0pdm/rekeM3ip2788FwWhOJHdv3rMjIp+Wt+/zAXhSLmB4L89d8tUL0Xhv/eJuOzX9uG/KedG7vuV4r8scchN9yHjv9xRXL85muO/sGetS0f+4790vbvPuE3kv/RSLWc8iOS/3564wJWt5L9UxVFcnr3kv1Nr2rJFuOS/ET4rR5Gd5L87nmWgnG3kv09Kky2ZKOS/UUixEs7O47/tlVrfl2Djvxg3Xi9o3uK/2f2iNcVI4r+Ow9ExSaDhv/asVNGh5eC/TGBPfI8Z4L/Mc5EeyXnev/XkpAQJody/CH0c/cWq2r9UNwTGBZnYv6VrfXPqbda/he3VPLAr1L+uw60uq9TRvzf/FomJ1s6/cSKx2PLjyb9NcKvsq9bEv+Jcr9DTZ7+/9lo7J/ABtb+q/raXyQylv90k2dGV4aa8AAAAAAAAAABCnvNSR5emP5egRI+ii7Y/tzIq9zHawD+BykF8M13GP7lrElgnycs/YGiqZzuM0D+4q5JW1CLTPzJytHOzpdU/UcF4D0IS2D87mtt6AGbaPzlQ0pqIntw/PhRUYZC53j/vFLwUdlrgP32EHXpIR+E/xv/NQUsi4j8QzPOonOriP8L7kzFun+M/YrRtdwVA5D//IB3wvMvkP/UBwJUEQuU/KfNre2Ki5T8AX91Kc+zlP2qP3arqH+Y//072jZM85j+Y+SFpUELmP8GcP1IbMeY/rsMrBgYJ5j+9pXfWOcrlP56Q0X73dOU/z3VK4pYJ5T9YZL2whojkPylStvRL8uM/ktJNioFH4z9FGId/14jiP0TQ1F4St+E/Iul/ZArT4D/7O4I/VbvfP6AV5gDgr90/+h6tpNCF2z/LjexNYj/ZP/6Aj17t3tY/r9xzDOVm1D+YhN/a1NnRP5Hb0PW7dM4/KKQHK2kWyT8dtA8EOp7DPxPk/K+jI7w/2qT9rNHtsD8z9gUUMZqWP1v2BRQxmpa/46T9rNHtsL8d5PyvoyO8vxe0DwQ6nsO/LKQHK2kWyb+M29D1u3TOv5qE39rU2dG/rNxzDOVm1L//gI9e7d7Wv8iN7E1iP9m//R6tpNCF27+dFeYA4K/dv/47gj9Vu9+/Iel/ZArT4L9F0NReErfhv0QYh3/XiOK/ldJNioFH478pUrb0S/Ljv1hkvbCGiOS/znVK4pYJ5b+fkNF+93Tlv72ld9Y5yuW/rsMrBgYJ5r/AnD9SGzHmv5j5IWlQQua//072jZM85r9qj92q6h/mvwFf3Upz7OW/KfNre2Ki5b/1AcCVBELlvwAhHfC8y+S/YrRtdwVA5L/B+5Mxbp/jvxDM86ic6uK/x//NQUsi4r98hB16SEfhv+4UvBR2WuC/PhRUYZC53r89UNKaiJ7cvzia23oAZtq/UMF4D0IS2L8zcrRzs6XVv7yrklbUItO/XGiqZzuM0L+4axJYJ8nLv4XKQXwzXca/qzIq9zHawL+MoESPoou2v0Oe81JHl6a/hlgOKGWOqLwAAAAAAAAAAGv/sEgBCqg/xOtycZ39tz9jq9Wqv+7BP7ffs140zMc/3VOgGCGRzT+BMTizyZvRP7elcCDcXNQ/NRVKBvEI1z/HZzs6R53ZP+1nyAs2F9w/QB4tAjB03j9wWf2+4ljgP4m6953TZuE/XLA5W9Ri4j8LbqIx4UvjP1Ipg+UJIeQ/zk5CvHLh5D8E2NteVYzlP55HVaYBIeY/r4pSUd6e5j9fkRCiaQXnP+vFIuQ5VOc/NYVp2f2K5z+0RtENfannP8wfhBGYr+c/56VRmUid5z+0xyuFoXLnP4btsczOL+c/NG/eURXV5j+rFwWa0mLmP97na2182eU/DnnhXaA55T/xJc4044PkPxhpVkkAueM/ZYo9v8jZ4j/SrE+vIufhP0Z3MToI4uA/H7ETDQ2X3z/nXR9XeUndPxqmMhK13do/Yiq+HD9W2D+iJWfhsrXVP3yiCqfF/tI/mG0YxkM00D+830yMG7LKP59Aa80q4MQ/FrrcWGrxvT+9T8tpoQOyP4Cv5NcaDZg/qq/k1xoNmL/HT8tpoQOyvyC63Fhq8b2/mEBrzSrgxL/B30yMG7LKv5VtGMZDNNC/fqIKp8X+0r+fJWfhsrXVv2Qqvhw/Vti/F6YyErXd2r/qXR9XeUndvxyxEw0Nl9+/R3cxOgji4L/RrE+vIufhv2WKPb/I2eK/F2lWSQC547/zJc4044Pkvw954V2gOeW/3udrbXzZ5b+qFwWa0mLmvzVv3lEV1ea/hu2xzM4v57+0xyuFoXLnv+elUZlInee/zB+EEZiv57+0RtENfannvzWFadn9iue/7MUi5DlU579fkRCiaQXnv6+KUlHenua/n0dVpgEh5r8D2NteVYzlv81OQrxy4eS/UimD5Qkh5L8MbqIx4Uvjv1qwOVvUYuK/iLr3ndNm4b9wWf2+4ljgv0QeLQIwdN6/6mfICzYX3L/FZzs6R53ZvzYVSgbxCNe/uqVwINxc1L98MTizyZvRv9xToBghkc2/u9+zXjTMx79Xq9Wqv+7Bv7jrcnGd/be/bP+wSAEKqL8hOb12XyGqvAAAAAAAAAAAxIfDe3FjqT+jypuZW1a5Px8cFBdw8MI/TLFugSwiyT+Pq3NvADrPP3L90PzRmNI/0PFrM3iB1T9bncpB81PYP2QUQGhaDds/Z5TmwN6q3T/T4VYS5xTgP9WlY/nKQ+E/UDrK2+Jg4j+McyzYCGvjPySFjZQqYeQ/9rggWUpC5T+5J9MVgA3mP+PZglH6weY/PrrsAf9e5z90xHJL7OPnPzvA9Cc5UOg/+osP9HWj6D8DXTHiTN3oPzlVDFOC/eg/nEEME/UD6T8RJ5B8nvDoP8pVxH6Sw+g/M/MVif986D/rKFVbLh3oP2VQt7qBpOc/lmgGDHYT5z+9yWbToGrmPy9FNxqwquU/QZGqu2nU5D9B79KYqujjP11J8rRl6OI/mHz5OqPU4T9QCDltf67gPyGutwBT7t4/U1y0xcRf3D/d5U3k9rPZPxCW2D2q7dY/nSV8A7sP1D9QVHHDHR3RP5tpRLq4Mcw/mCiiviUMxj+YNQJOsZ+/P+2lqud9BrM/XNhNlrdmmT+J2E2Wt2aZv/ilqud9BrO/ozUCTrGfv7+RKKK+JQzGv6BpRLq4Mcy/TFRxwx0d0b+gJXwDuw/UvwyW2D2q7da/3uVN5Paz2b9QXLTFxF/cvySutwBT7t6/Tgg5bX+u4L+ZfPk6o9Thv1xJ8rRl6OK/Qu/SmKro479Akaq7adTkvzJFNxqwquW/vslm06Bq5r+WaAYMdhPnv2RQt7qBpOe/7ChVWy4d6L8z8xWJ/3zov8pVxH6Sw+i/ECeQfJ7w6L+cQQwT9QPpvzlVDFOC/ei/A10x4kzd6L/7iw/0daPovzvA9Cc5UOi/dMRyS+zj578/uuwB/17nv+LZglH6wea/uCfTFYAN5r/2uCBZSkLlvyWFjZQqYeS/inMs2Ahr479POsrb4mDiv9WlY/nKQ+G/1uFWEucU4L9klObA3qrdv2MUQGhaDdu/XZ3KQfNT2L/U8WszeIHVv2390PzRmNK/jatzbwA6z79RsW6BLCLJvxEcFBdw8MK/lsqbmVtWub/Fh8N7cWOpv+CTY9PcmKu8AAAAAAAAAABi4iCJLKKqPwINAGBylLo/MIbTJzTewz+a0pwntF3KP8Zw4zQDYdA/p512FkqC0z9QOU2/dI/WP7yDEvFdhdk/m61nZvhg3D/UtT34UR/fP/t+nVPL3uA/Fp0Fw4kc4j8HNszAnEfjP9ZdJwLQXuQ/eI3ZuANh5T/Kwt67LU3mP+qcyZlaIuc/66K1k67f5z+jBsx/ZoToP21jcZLYD+k/1RdNDXWB6T+5zXXTxtjpP0RzKuJzFeo/NDObrT036j9Tx2JhAT7qPyuvbQS4Keo/YEgqgHb66T/vX/qKbbDpP8l0/HXpS+k/zm5g3lHN6D8d4phCKTXoPzP41nsMhOc/YKhbHLK65j8N6kSz6dnlP3zgmPaa4uQ/Qo1r1MTV4z8hQBVsfLTiP42niPDrf+E/jPnudFE54D8HJY5J+8PdP+kKs9Gk9to/zrjO9IIN2D+zMBfMlQvVP32dsP/289E/++odKa2TzT+htZRG7yDHPzOjkvZZlsA/i6vg1lb1sz/wQ1u9m6WaPyBEW72bpZq/lqvg1lb1s785o5L2WZbAv5q1lEbvIMe/AOsdKa2Tzb96nbD/9vPRv7UwF8yVC9W/y7jO9IIN2L/qCrPRpPbavwQljkn7w92/jvnudFE54L+Lp4jw63/hvyNAFWx8tOK/Qo1r1MTV47984Jj2muLkvwzqRLPp2eW/YqhbHLK65r8z+NZ7DITnvx3imEIpNei/zW5g3lHN6L/JdPx16Uvpv+9f+optsOm/YEgqgHb66b8qr20EuCnqv1PHYmEBPuq/NDObrT036r9EcyricxXqv7rNddPG2Om/1RdNDXWB6b9tY3GS2A/pv6MGzH9mhOi/6qK1k67f57/pnMmZWiLnv8rC3rstTea/eY3ZuANh5b/UXScC0F7kvwY2zMCcR+O/Fp0Fw4kc4r/9fp1Ty97gv9G1PfhRH9+/ma1nZvhg3L+9gxLxXYXZv1Q5Tb90j9a/op12FkqC07/FcOM0A2HQv5/SnCe0Xcq/IobTJzTew7/1DABgcpS6v2PiIIksoqq/CgsTPlLzrLwAAAAAAAAAAJqfJCbjxKs/wV3LJpO2uz8YuV++EbfEP39JlGR/fcs/se2QUcsT0T8zJpNmPFfUP5UlUMC1hdc/c8Tzyu+b2j9mvkrxu5bdP7idOfKDOeA/lvczY/CW4T+cIxEaO+LiP2zFGJYOGuQ/vrhkZyk95T8lNzl6X0rmP8JJWEybQOc/xqoRC98e6D/ENeiYReToP+Uwv3kDkOk/L/qbpGch6j8i4CM63JfqP/kHGh/n8uo/jSA+eioy6z8cIgoVZVXrP8Zh655yXOs/Za2x0ktH6z8e2Q1+BhbrPyYFGGvVyOo/nsb0Kwhg6j+nK8/ICtzpP7EnfFBlPek/YzM6TLuE6D8Msx0Xy7LnP2rp1xltyOY/+Lui65LG5T9hPTdZRq7kPz20z1KogOM/To5Pwu8+4j8ERsRKaOrgPzc1E+XhCN8/Gf/icvUc3D/Thck4DhTZP6oFCRBN8dU/yCDMd+230j8Z8kqAhNbOPxPTDDpkHcg/oOBpSWhLwT/q9Hf1MM+0P3ogLNd3yJs/rCAs13fIm7/29Hf1MM+0v6bgaUloS8G/DNMMOmQdyL8e8kqAhNbOv8QgzHftt9K/rAUJEE3x1b/Phck4DhTZvxv/4nL1HNy/NDUT5eEI378GRsRKaOrgv02OT8LvPuK/P7TPUqiA479gPTdZRq7kv/m7ouuSxuW/aenXGW3I5r8Osx0Xy7Lnv2QzOky7hOi/sSd8UGU96b+mK8/ICtzpv5/G9CsIYOq/JgUYa9XI6r8e2Q1+Bhbrv2StsdJLR+u/xmHrnnJc678cIgoVZVXrv40gPnoqMuu/+gcaH+fy6r8i4CM63Jfqvy/6m6RnIeq/5jC/eQOQ6b/DNeiYReTov8WqEQvfHui/wklYTJtA578mNzl6X0rmv7y4ZGcpPeW/a8UYlg4a5L+cIxEaO+Liv5j3M2PwluG/tp058oM54L9kvkrxu5bdv3XE88rvm9q/mSVQwLWF178uJpNmPFfUv7DtkFHLE9G/hEmUZH99y78JuV++EbfEv7NdyyaTtru/nJ8kJuPEq79EGfdAUy+uvAAAAAAAAAAAW7lGgWPKrD9h/BS6jLu8P/X9f7gkesU/p04CeV+AzD/h7ZV7nLTRP5NbVerIFtU/bvXoKThj2D+YoDDEg5bbP1H/DC1frd4/WKp5lE3S4D8Ew6SKlDziP5z7kwcPlOM/P9Gg+lrX5D9vZOwgKwXmP2fj51xIHOc/kecI95Ib6D9KL1/GAwLpPxP62T+tzuk/aGUla7yA6j+/YCO8eRfrP+wLINBJkus/iHb+Da7w6z/co7goRTLsP5BNrIPLVuw//ABNeBte7D8Fv/N8LUjsP8AcpCwYFew/WuK+LxDF6z98LboFaFjrP3cLF7CPz+o/cjTsPhQr6j/+63w/n2vpP3frcQ32keg/aIBoB/me5z/llKmnopPmP/oL94EGceU/0Zl5J1A45D9q6/PxweriP/duebezieE/T0T/Z5EW4D9fYWkssyXdP9KbS9o3ANo/BfN9KO+/1j8JZ7MGM2jTP0FBMCLr+M8/CT4KBnsAyT/kA+QoRe7BP1W1kBcnk7U/GvfI6hnOnD9N98jqGc6cv2G1kBcnk7W/6gPkKEXuwb8BPgoGewDJv0ZBMCLr+M+/BmezBjNo078I830o77/Wv86bS9o3ANq/YGFpLLMl3b9NRP9nkRbgv/huebezieG/aOvz8cHq4r/TmXknUDjkv/kL94EGceW/5pSpp6KT5r9ngGgH+Z7nv3nrcQ32kei//ut8P59r6b9yNOw+FCvqv3YLF7CPz+q/fS26BWhY679a4r4vEMXrv8AcpCwYFey/BL/zfC1I7L/8AE14G17sv5BNrIPLVuy/3KO4KEUy7L+Idv4NrvDrv+wLINBJkuu/v2AjvHkX679pZSVrvIDqvxL62T+tzum/SS9fxgMC6b+R5wj3khvov2jj51xIHOe/bWTsICsF5r8+0aD6Wtfkv5z7kwcPlOO/BsOkipQ84r9WqnmUTdLgv0//DC1frd6/mqAwxIOW279y9egpOGPYv41bVerIFtW/4O2Ve5y00b+tTgJ5X4DMv+b9f7gkesW/U/wUuoy7vL9duUaBY8qsv57Cum+TS6+8AAAAAAAAAADr8dCDmrGtP+hL75BMor0/TNRz4J8mxj9ZnWURRGXNPw6NrYbNQtI/fDFXISbA1T8mxUb3EifZPwLHwEMSdNw/dJon/Lyj3z++eu8oZVnhPyBfgooJz+I/MvRAekox5D//zQzMun7lP94OosgCtuY/a7Tmj+HV5z+Pgq5jLt3oP8SWntnZyuk/fFL18u6d6j8pNRYZlFXrP1tR1f0L8es/vyebXrZv7D95wJepENHsPya4WoS2FO0/moJFM2I67T/LQG3h7EHtP+sQoshOK+0/ipVyOZ/27D8GcSODFKTsP1R7s7sDNOw/0mcmaOCm6z9eRHAFPP3qP+SRfHLFN+o/kY7rO0hX6T/Fgj/Kq1zoP+BaUnPySOc/v3IJcDgd5j/9E1q3strkP4CqzL+tguM/zPzGKIwW4j9Yrv5MxZfgP5O6GX/HD94/wWpjagfR2j/Neta2onbXP7PCKj4OBNQ/G2e0yNd80D92DSLHRMnJPy6Z0EFFfsI/ePB0GGtAtj+WhgK+brWdP8uGAr5utZ2/hPB0GGtAtr81mdBBRX7Cv24NIsdEycm/Hme0yNd80L+vwio+DgTUv9B61raidte/vmpjagfR2r+Vuhl/xw/ev1eu/kzFl+C/zfzGKIwW4r9+qsy/rYLjv/8TWrey2uS/v3IJcDgd5r/hWlJz8kjnv8SCP8qrXOi/lI7rO0hX6b/lkXxyxTfqv15EcAU8/eq/0WcmaOCm679Ve7O7AzTsvwZxI4MUpOy/ipVyOZ/27L/qEKLITivtv8tAbeHsQe2/moJFM2I67b8muFqEthTtv3rAl6kQ0ey/vyebXrZv7L9bUdX9C/Hrvyo1FhmUVeu/e1L18u6d6r/Dlp7Z2crpv4+CrmMu3ei/bLTmj+HV57/cDqLIArbmv/7NDMy6fuW/MvRAekox5L8jX4KKCc/iv7x67yhlWeG/cpon/Lyj378Ex8BDEnTcvyvFRvcSJ9m/dzFXISbA1b8Nja2GzULSv16dZRFEZc2/PdRz4J8mxr/ZS++QTKK9v+zx0IOasa2/B1Gd4nMjsLwAAAAAAAAAAI+gQPOUea4/8ng07t9pvj9ES9LEzbvGPzZMiGQ8K84/VuZw3si90j/hdZbhoVLWPz7ecyB40Nk/UZocOLIz3T9KyOAZaTzgP4PAGZM8zuE/pX60UbVN4z87fTkLSLnkP+/aN/h9D+Y/9+2ZVvZO5z+Su0bVZ3boPwV9meehhOk/DERR/4146j8HIrWrMFHrPyLUxJyqDew/m8ZqiTmt7D/xJML3OC/tP5mEouYik+0/zWTCV5DY7T8XH+K5Of/tP9jXkTL3Bu4/3mJGx8Dv7T/uwpJlrrntP+HJfcr3ZO0/VEYNSfTx7D8V+UFwGmHsP50c4ZD/sus/WnmJI1fo6j8fsLIP8gHqP1FvVdS9AOk/fo0ak8Pl5z9EZg3/JrLmP0Uz6y8lZ+U/t1ZFWxMG5D/9h8d0XZDiP8BzDLeEB+E/XhUHLTza3j+brQJAoYXbP5JIUYmnFNg/6AvcKduK1D9tTxHZ4evQP7muy0Tudso/rZirGNH6wj+fM3OzRta2P9ng+PaCfZ4/D+H49oJ9nr+sM3OzRta2v7SYqxjR+sK/sK7LRO52yr9wTxHZ4evQv+QL3CnbitS/lUhRiacU2L+XrQJAoYXbv2AVBy082t6/v3MMt4QH4b//h8d0XZDiv7VWRVsTBuS/RzPrLyVn5b9DZg3/JrLmv3+NGpPD5ee/UG9V1L0A6b8isLIP8gHqv1t5iSNX6Oq/nRzhkP+y678U+UFwGmHsv1VGDUn08ey/4cl9yvdk7b/uwpJlrrntv91iRsfA7+2/2NeRMvcG7r8XH+K5Of/tv81kwleQ2O2/moSi5iKT7b/xJML3OC/tv5vGaok5rey/I9TEnKoN7L8GIrWrMFHrvwtEUf+NeOq/BX2Z56GE6b+Tu0bVZ3bov/XtmVb2Tue/7to3+H0P5r87fTkLSLnkv6h+tFG1TeO/gsAZkzzO4b9JyOAZaTzgv1OaHDiyM92/Qt5zIHjQ2b/cdZbhoVLWv1XmcN7IvdK/PEyIZDwrzr80S9LEzbvGv+N4NO7fab6/kKBA85R5rr/kugnvI5CwvAAAAAAAAAAACIEkcYAhrz/daODfdBG/P4ngaHcROcc/lNLLMHjRzj/PHLEjDSXTP8qr4BKizdY/6zESc7Ve2j944GoMmtTdP7/wKFbfleA/0DBk6Vgw4j91coqfErjjP8ecDKx4K+U/2OdnNgyJ5j8cKMvkZM/nPx/qi08y/eg/jHbsWz0R6j9TSM18aQrrPxBh/9e15+s/AR8JTz6o7D+UpkxqPEvtP6x5nSUI0O0/6FhynRg27j9Q5gCcBH3uP4WUsQWDpO4/uRZ8JGus7j9cot7RtJTuPy3ARH94Xe4/ggPVHO8G7j/foL/ecZHtP3pkSuF5/ew/GdL4q59L7D9cH1GUmnzrP/sb4ABAkeo/TNc+jYKK6T/8xPwPcWnoP1gscIM1L+c/OayM0hPd5T8bdfyKaHTkP0hq1HWn9uI/aIlVGFpl4T/5TI08PITfP49HEV9HHdw//mo5ZVeZ2D/pzM/7C/zUP8y5IfMeSdE/9/qSz8AIyz+Z2/eoZWPDP363m0McVLc/5DgaHIQlnz8cORochCWfv4y3m0McVLe/n9v3qGVjw7/v+pLPwAjLv8+5IfMeSdG/5czP+wv81L8BazllV5nYv4tHEV9HHdy/+0yNPDyE379miVUYWmXhv0pq1HWn9uK/GnX8imh05L87rIzSE93lv1cscIM1L+e//cT8D3Fp6L9L1z6Ngorpv/0b4ABAkeq/XR9RlJp8678Z0virn0vsv3lkSuF5/ey/4KC/3nGR7b+CA9Uc7wbuvy3ARH94Xe6/W6Le0bSU7r+5Fnwka6zuv4WUsQWDpO6/UOYAnAR97r/pWHKdGDbuv6x5nSUI0O2/lKZMajxL7b8CHwlPPqjsvw9h/9e15+u/U0jNfGkK67+MduxbPRHqvyDqi08y/ei/GijL5GTP57/X52c2DInmv8ecDKx4K+W/d3KKnxK447/OMGTpWDDiv77wKFbfleC/euBqDJrU3b/wMRJztV7av8Sr4BKizda/zhyxIw0l07+Z0ssweNHOv3ngaHcROce/zWjg33QRv78KgSRxgCGvv+ghYYdn67C8AAAAAAAAAAC1XGlYrKivP31T6xtbmL8/LhtRMuedxz8dxTyXSFfPP5Vgj7QteNM/Se3sUKUw1z8J/89NNdHaP+nwjnwgVt4/hFW2FuPd4D97A3T2Un/iP5hP6I+xDeQ/zDw0PWSH5T+5CYCn5ermP3cNUljHNug/d7VQM7Np6T/xPerWbILqP5yeduLSf+s/WHyDIOBg7D9ZohaUrCTtP6Rz0Wduyu0/pdL+vXpR7j9TB7VgRrnuPzEUVlFmAe8/oY3aNpAp7z9pQnWqmjHvPwq1QGJ9Ge8/vmfKOVHh7j9eLHMYUInuPwHivrXUEe4/tCfRO1p77T9AaXfIe8bsP9wlQ83z8+s/FERZT5sE6z8RkLwHafnpP9D++WRw0+g/6eA8b+CT5z+5sO+PAjzmPxR8Kz45zeQ/GfFTkf5I4z+GtVi74rDhP/TJLWyKBuA/PXBIQFqX3D9pIcS1JgTZP3dvmaEpV9U/syuVAS2U0T+0p0UBI37LP4tTEu+Ut8M/AzeWaWe5tz9RFYxxwayfP4oVjHHBrJ+/ETeWaWe5t7+SUxLvlLfDv6unRQEjfsu/tiuVAS2U0b9zb5mhKVfVv2whxLUmBNm/OXBIQFqX3L/1yS1sigbgv4S1WLvisOG/G/FTkf5I478TfCs+Oc3kv7uw748CPOa/6OA8b+CT57/R/vlkcNPovxCQvAdp+em/F0RZT5sE67/dJUPN8/Prv0Bpd8h7xuy/syfRO1p77b8C4r611BHuv14scxhQie6/vmfKOVHh7r8JtUBifRnvv2lCdaqaMe+/oY3aNpAp778xFFZRZgHvv1MHtWBGue6/pdL+vXpR7r+kc9Fnbsrtv1qiFpSsJO2/V3yDIOBg7L+bnnbi0n/rv/E96tZsguq/eLVQM7Np6b91DVJYxzbov7kJgKfl6ua/zDw0PWSH5b+bT+iPsQ3kv3kDdPZSf+K/g1W2FuPd4L/r8I58IFbevw7/z0010dq/Q+3sUKUw17+UYI+0LXjTvyPFPJdIV8+/HRtRMuedx79uU+sbW5i/v7dcaVisqK+/l8EYqt40sbwAAAAAAAAAAIlgljtFB7A/L7O8uQT+vz/zOI/i5OnHPwLUh9MgvM8/FsbDHtO20z9zTnlzQ3vXP1hxzz1/J9s/gU44R7233j+UmOGZKBThP/UguqXXuuI/Qlz7EDhO5D8QgnIMqszlPzJ5hFyjNOc/jBSQ77CE6D9rkG9ceLvpP9EEj0e51+o/ubQnrU7Y6z9c0UsPMLzsP3VWi4Zygu0/Z/MYtEkq7j/IZXWUCLPuP6gbyDEiHO8/zUUtNSpl7z9AkWNW1Y3vP09pZqn5le8/Z8OkyY597z8O6afirUTvP+hUIZaR6+4/m2F6v5Vy7j/bFyQVN9rtP9W2CKgSI+0/4XujQeVN7D8lj2WhilvrP9CvMJr8TOo/biDREFIj6T+fSYDcvd/nP5psmIqNg+Y/3nG/BigQ5T/UQesoDIfjP7wKvSrP6eE/DkLKBRs64D9b8QN5WfPcP61J5h6lVNk/zn6ZQdSb1T9wxwUQvczRP97oUV6Z1ss/pQftWwb3wz9+B+KWvQW4P4f+illWCaA/pP6KWVYJoL+LB+KWvQW4v6wH7VsG98O/1ehRXpnWy79zxwUQvczRv8p+mUHUm9W/sEnmHqVU2b9X8QN5WfPcvw9CygUbOuC/ugq9Ks/p4b/WQesoDIfjv9xxvwYoEOW/nGyYio2D5r+eSYDcvd/nv28g0RBSI+m/z68wmvxM6r8oj2Whilvrv+J7o0HlTey/1bYIqBIj7b/aFyQVN9rtv5xher+Vcu6/6FQhlpHr7r8O6afirUTvv2bDpMmOfe+/T2lmqfmV779AkWNW1Y3vv81FLTUqZe+/qRvIMSIc77/IZXWUCLPuv2fzGLRJKu6/dlaLhnKC7b9b0UsPMLzsv7i0J61O2Ou/0QSPR7nX6r9skG9ceLvpv4oUkO+whOi/MXmEXKM0578QgnIMqszlv0Vc+xA4TuS/8yC6pde64r+TmOGZKBThv4NOOEe9t96/XHHPPX8n279tTnlzQ3vXvxXGwx7TttO/CNSH0yC8z7/iOI/i5OnHvx+zvLkE/r+/imCWO0UHsL90HtsOPGyxvAAAAAAAAAAAlyQp0lcpsD/BurljAyHAP5cbqJe6HMg/1IYO0Jb/zz+vuJp7u+DTP2qR3Pstrdc/t6RbfThh2z83XTi9CfneP65CQ8h2OOE/wcjYWqji4j+/8flBYnnkPxw+ijoB++U/arniwvdl5z+IF5S0z7joPwZQFcYr8uk/ECbR8sgQ6z9ndh/IfxPsP8EO05VF+ew/0h0igS3B7T8+2s14aWruP4qyjQlL9O4/rA7jEURe7z+YRJxU56fvP964b+no0O8/oxc7ix7Z7z9r/ZXDf8DvPyoli/Mlh+8/rh1vOUwt7z//fe8zT7PuP3lqmaKsGe4/StU55AJh7T/8GJ1TEIrsP241VoOyles/afRXWeWE6j+ZZksLwljpP5Rjr/x9Eug/Sdzrf2mz5j9XwaF77jzlP3XcnPWOsOM/ESvohOMP4j8H6Z6smVzgP2LsWELkMN0/rfeG832K2T/cOdKfw8nVP97oBp6T8tE/WIOs18YRzD8nGTgydyHEP8317X3OOLg/YAXlVG0roD99BeVUbSugv9v17X3OOLi/Lhk4MnchxL9Pg6zXxhHMv+HoBp6T8tG/2DnSn8PJ1b+w94bzfYrZv17sWELkMN2/COmerJlc4L8PK+iE4w/iv3fcnPWOsOO/VcGhe+485b9L3Ot/abPmv5Njr/x9Eui/mmZLC8JY6b9o9FdZ5YTqv3E1VoOyleu//RidUxCK7L9K1TnkAmHtv3hqmaKsGe6/AH7vM0+z7r+uHW85TC3vvyoli/Mlh++/av2Vw3/A77+jFzuLHtnvv964b+no0O+/mEScVOen77+tDuMRRF7vv4qyjQlL9O6/PtrNeGlq7r/THSKBLcHtv8AO05VF+ey/ZnYfyH8T7L8QJtHyyBDrvwdQFcYr8um/hheUtM+46L9pueLC92Xnvxw+ijoB++W/wvH5QWJ55L+/yNhaqOLiv61CQ8h2OOG/OV04vQn53r+8pFt9OGHbv2SR3Pstrde/rriae7vg07/ahg7Qlv/Pv4YbqJe6HMi/ubq5YwMhwL+YJCnSVymwv3JU1HdFkbG8AAAAAAAAAACEDx8YajqwP04xM90MMsA/0hO51zI2yD/A97/KsRDQP5RDSLW69dM/WuiYZzDG1z/0wWVTJH7bPx9rhy3BGd8/TJHCcKdK4T8rwIAzm/biPxsni7oCj+Q/tHrnBzkS5j/3/gv2rn7nP094UtPs0ug/SSw+5ZMN6j9SvAXSXy3rPw4s7O4nMew//2sQcuAX7T8fLHiGm+DtP3FpOUGKiu4/m/7Fdv0U7z8IWX1vZn/vPwowynpXye8/iJc0YITy7z/z3/OtwvrvP7NFr+QJ4u8/KFZAgHOo7z+5Am7dOk7vPxV2u/y80+4/xr+JIng57j+9KO9UC4DtP4lcyrc1qOw/gWG6x9Wy6z+YesZ06KDqP2hcoh2Ic+k/0nqbbOsr6D80elsXZMvmP/HgyYJdU+U/++FzTFvF4z+6ZPy69yLiP2MqMBfibeA/egzk3rlP3T+835KOeKXZP9tj5GnH4NU/zwe93YgF0j/xqbUsbS/MP0HPlsy6NsQ/pP2RZmRSuD+6+2bOgTygP9f7Zs6BPKC/sv2RZmRSuL9Iz5bMujbEv+iptSxtL8y/0ge93YgF0r/XY+Rpx+DVv7/fko54pdm/dgzk3rlP3b9kKjAX4m3gv7hk/Lr3IuK//eFzTFvF47/v4MmCXVPlvzZ6Wxdky+a/0XqbbOsr6L9pXKIdiHPpv5d6xnTooOq/hGG6x9Wy67+KXMq3Najsv70o71QLgO2/xb+JIng57r8Wdrv8vNPuv7kCbt06Tu+/KFZAgHOo77+yRa/kCeLvv/Pf863C+u+/iJc0YITy778KMMp6V8nvvwlZfW9mf++/m/7Fdv0U779xaTlBioruvyAseIab4O2//msQcuAX7b8NLOzuJzHsv1K8BdJfLeu/Siw+5ZMN6r9NeFLT7NLov/b+C/aufue/tHrnBzkS5r8eJ4u6Ao/kvynAgDOb9uK/S5HCcKdK4b8ha4ctwRnfv/nBZVMkftu/VOiYZzDG17+TQ0i1uvXTv8P3v8qxENC/wRO51zI2yL9GMTPdDDLAv4UPHxhqOrC/np327tOjsbwAAAAAAAAAAIQPHxhqOrA/TjEz3QwywD/SE7nXMjbIP8D3v8qxENA/lENItbr10z9a6JhnMMbXP/TBZVMkfts/H2uHLcEZ3z9MkcJwp0rhPyvAgDOb9uI/GyeLugKP5D+0eucHORLmP/f+C/aufuc/T3hS0+zS6D9JLD7lkw3qP1K8BdJfLes/Dizs7icx7D//axBy4BftPx8seIab4O0/cWk5QYqK7j+b/sV2/RTvPwhZfW9mf+8/CjDKelfJ7z+IlzRghPLvP/Pf863C+u8/s0Wv5Ani7z8oVkCAc6jvP7kCbt06Tu8/FXa7/LzT7j/Gv4kieDnuP70o71QLgO0/iVzKtzWo7D+BYbrH1bLrP5h6xnTooOo/aFyiHYhz6T/Septs6yvoPzR6Wxdky+Y/8eDJgl1T5T/74XNMW8XjP7pk/Lr3IuI/YyowF+Jt4D96DOTeuU/dP7zfko54pdk/22Pkacfg1T/PB73diAXSP/GptSxtL8w/Qc+WzLo2xD+k/ZFmZFK4P7r7Zs6BPKA/1/tmzoE8oL+y/ZFmZFK4v0jPlsy6NsS/6Km1LG0vzL/SB73diAXSv9dj5GnH4NW/v9+Sjnil2b92DOTeuU/dv2QqMBfibeC/uGT8uvci4r/94XNMW8Xjv+/gyYJdU+W/NnpbF2TL5r/Repts6yvov2lcoh2Ic+m/l3rGdOig6r+EYbrH1bLrv4pcyrc1qOy/vSjvVAuA7b/Fv4kieDnuvxZ2u/y80+6/uQJu3TpO778oVkCAc6jvv7JFr+QJ4u+/89/zrcL677+IlzRghPLvvwowynpXye+/CVl9b2Z/77+b/sV2/RTvv3FpOUGKiu6/ICx4hpvg7b/+axBy4Bftvw0s7O4nMey/UrwF0l8t679KLD7lkw3qv014UtPs0ui/9v4L9q5+57+0eucHORLmvx4ni7oCj+S/KcCAM5v24r9LkcJwp0rhvyFrhy3BGd+/+cFlUyR+279U6JhnMMbXv5NDSLW69dO/w/e/yrEQ0L/BE7nXMjbIv0YxM90MMsC/hQ8fGGo6sL+enfbu06OxvAAAAAAAAAAAlyQp0lcpsD/BurljAyHAP5cbqJe6HMg/1IYO0Jb/zz+vuJp7u+DTP2qR3Pstrdc/t6RbfThh2z83XTi9CfneP65CQ8h2OOE/wcjYWqji4j+/8flBYnnkPxw+ijoB++U/arniwvdl5z+IF5S0z7joPwZQFcYr8uk/ECbR8sgQ6z9ndh/IfxPsP8EO05VF+ew/0h0igS3B7T8+2s14aWruP4qyjQlL9O4/rA7jEURe7z+YRJxU56fvP964b+no0O8/oxc7ix7Z7z9r/ZXDf8DvPyoli/Mlh+8/rh1vOUwt7z//fe8zT7PuP3lqmaKsGe4/StU55AJh7T/8GJ1TEIrsP241VoOyles/afRXWeWE6j+ZZksLwljpP5Rjr/x9Eug/Sdzrf2mz5j9XwaF77jzlP3XcnPWOsOM/ESvohOMP4j8H6Z6smVzgP2LsWELkMN0/rfeG832K2T/cOdKfw8nVP97oBp6T8tE/WIOs18YRzD8nGTgydyHEP8317X3OOLg/YAXlVG0roD99BeVUbSugv9v17X3OOLi/Lhk4MnchxL9Pg6zXxhHMv+HoBp6T8tG/2DnSn8PJ1b+w94bzfYrZv17sWELkMN2/COmerJlc4L8PK+iE4w/iv3fcnPWOsOO/VcGhe+485b9L3Ot/abPmv5Njr/x9Eui/mmZLC8JY6b9o9FdZ5YTqv3E1VoOyleu//RidUxCK7L9K1TnkAmHtv3hqmaKsGe6/AH7vM0+z7r+uHW85TC3vvyoli/Mlh++/av2Vw3/A77+jFzuLHtnvv964b+no0O+/mEScVOen77+tDuMRRF7vv4qyjQlL9O6/PtrNeGlq7r/THSKBLcHtv8AO05VF+ey/ZnYfyH8T7L8QJtHyyBDrvwdQFcYr8um/hheUtM+46L9pueLC92Xnvxw+ijoB++W/wvH5QWJ55L+/yNhaqOLiv61CQ8h2OOG/OV04vQn53r+8pFt9OGHbv2SR3Pstrde/rriae7vg07/ahg7Qlv/Pv4YbqJe6HMi/ubq5YwMhwL+YJCnSVymwv3JU1HdFkbG8AAAAAAAAAACKYJY7RQewPzCzvLkE/r8/9DiP4uTpxz8D1IfTILzPPxbGwx7TttM/dE55c0N71z9Ycc89fyfbP4JOOEe9t94/lJjhmSgU4T/2ILql17riP0Nc+xA4TuQ/EYJyDKrM5T8zeYRcozTnP40UkO+whOg/bJBvXHi76T/SBI9HudfqP7q0J61O2Os/XdFLDzC87D92VouGcoLtP2jzGLRJKu4/yWV1lAiz7j+pG8gxIhzvP85FLTUqZe8/QZFjVtWN7z9QaWap+ZXvP2jDpMmOfe8/D+mn4q1E7z/pVCGWkevuP5xher+Vcu4/3BckFTfa7T/WtgioEiPtP+J7o0HlTew/Jo9loYpb6z/RrzCa/EzqP28g0RBSI+k/oEmA3L3f5z+abJiKjYPmP99xvwYoEOU/1EHrKAyH4z+9Cr0qz+nhPw5CygUbOuA/XPEDeVnz3D+uSeYepVTZP85+mUHUm9U/cccFEL3M0T/e6FFemdbLP6YH7VsG98M/fgfilr0FuD+I/opZVgmgP6T+illWCaC/jAfilr0FuL+sB+1bBvfDv9boUV6Z1su/dMcFEL3M0b/KfplB1JvVv7FJ5h6lVNm/WPEDeVnz3L8PQsoFGzrgv7sKvSrP6eG/1kHrKAyH47/dcb8GKBDlv5xsmIqNg+a/n0mA3L3f579wINEQUiPpv9CvMJr8TOq/KY9loYpb67/je6NB5U3sv9a2CKgSI+2/2xckFTfa7b+dYXq/lXLuv+lUIZaR6+6/D+mn4q1E779nw6TJjn3vv1BpZqn5le+/QZFjVtWN77/ORS01KmXvv6obyDEiHO+/yWV1lAiz7r9o8xi0SSruv3dWi4Zygu2/XNFLDzC87L+5tCetTtjrv9IEj0e51+q/bZBvXHi76b+LFJDvsITovzJ5hFyjNOe/EYJyDKrM5b9GXPsQOE7kv/QguqXXuuK/k5jhmSgU4b+ETjhHvbfev11xzz1/J9u/bk55c0N7178VxsMe07bTvwnUh9MgvM+/4ziP4uTpx78gs7y5BP6/v4tgljtFB7C/dB7bDjxssbwAAAAAAAAAALVcaVisqK8/fVPrG1uYvz8uG1Ey553HPx3FPJdIV88/lWCPtC140z9J7exQpTDXPwn/z0010do/6fCOfCBW3j+EVbYW493gP3sDdPZSf+I/mE/oj7EN5D/MPDQ9ZIflP7kJgKfl6uY/dw1SWMc26D93tVAzs2npP/E96tZsguo/nJ524tJ/6z9YfIMg4GDsP1miFpSsJO0/pHPRZ27K7T+l0v69elHuP1MHtWBGue4/MRRWUWYB7z+hjdo2kCnvP2lCdaqaMe8/CrVAYn0Z7z++Z8o5UeHuP14scxhQie4/AeK+tdQR7j+0J9E7WnvtP0Bpd8h7xuw/3CVDzfPz6z8URFlPmwTrPxGQvAdp+ek/0P75ZHDT6D/p4Dxv4JPnP7mw748CPOY/FHwrPjnN5D8Z8VOR/kjjP4a1WLvisOE/9MktbIoG4D89cEhAWpfcP2khxLUmBNk/d2+ZoSlX1T+zK5UBLZTRP7SnRQEjfss/i1MS75S3wz8DN5ZpZ7m3P1EVjHHBrJ8/ihWMccGsn78RN5ZpZ7m3v5JTEu+Ut8O/q6dFASN+y7+2K5UBLZTRv3NvmaEpV9W/bCHEtSYE2b85cEhAWpfcv/XJLWyKBuC/hLVYu+Kw4b8b8VOR/kjjvxN8Kz45zeS/u7DvjwI85r/o4Dxv4JPnv9H++WRw0+i/EJC8B2n56b8XRFlPmwTrv90lQ83z8+u/QGl3yHvG7L+zJ9E7WnvtvwLivrXUEe6/XixzGFCJ7r++Z8o5UeHuvwm1QGJ9Ge+/aUJ1qpox77+hjdo2kCnvvzEUVlFmAe+/Uwe1YEa57r+l0v69elHuv6Rz0Wduyu2/WqIWlKwk7b9XfIMg4GDsv5ueduLSf+u/8T3q1myC6r94tVAzs2npv3UNUljHNui/uQmAp+Xq5r/MPDQ9ZIflv5tP6I+xDeS/eQN09lJ/4r+DVbYW493gv+vwjnwgVt6/Dv/PTTXR2r9D7exQpTDXv5Rgj7QteNO/I8U8l0hXz78dG1Ey553Hv25T6xtbmL+/t1xpWKyor7+XwRiq3jSxvAAAAAAAAAAACYEkcYAhrz/eaODfdBG/P4rgaHcROcc/ldLLMHjRzj/PHLEjDSXTP8qr4BKizdY/7DESc7Ve2j954GoMmtTdP7/wKFbfleA/0TBk6Vgw4j91coqfErjjP8ecDKx4K+U/2ednNgyJ5j8cKMvkZM/nPx/qi08y/eg/jXbsWz0R6j9USM18aQrrPxFh/9e15+s/Ah8JTz6o7D+VpkxqPEvtP615nSUI0O0/6VhynRg27j9R5gCcBH3uP4aUsQWDpO4/uhZ8JGus7j9dot7RtJTuPy7ARH94Xe4/gwPVHO8G7j/goL/ecZHtP3tkSuF5/ew/GtL4q59L7D9dH1GUmnzrP/sb4ABAkeo/Tdc+jYKK6T/9xPwPcWnoP1gscIM1L+c/OqyM0hPd5T8cdfyKaHTkP0lq1HWn9uI/aIlVGFpl4T/6TI08PITfP5BHEV9HHdw//mo5ZVeZ2D/qzM/7C/zUP825IfMeSdE/+PqSz8AIyz+Z2/eoZWPDP3+3m0McVLc/5TgaHIQlnz8dORochCWfv4y3m0McVLe/oNv3qGVjw7/w+pLPwAjLv9C5IfMeSdG/5szP+wv81L8BazllV5nYv4xHEV9HHdy//EyNPDyE379miVUYWmXhv0tq1HWn9uK/GnX8imh05L88rIzSE93lv1cscIM1L+e//sT8D3Fp6L9M1z6Ngorpv/4b4ABAkeq/Xh9RlJp8678a0virn0vsv3pkSuF5/ey/4aC/3nGR7b+DA9Uc7wbuvy7ARH94Xe6/XKLe0bSU7r+6Fnwka6zuv4aUsQWDpO6/UeYAnAR97r/qWHKdGDbuv615nSUI0O2/laZMajxL7b8DHwlPPqjsvxBh/9e15+u/U0jNfGkK67+NduxbPRHqvyDqi08y/ei/GijL5GTP57/Y52c2DInmv8ecDKx4K+W/eHKKnxK447/PMGTpWDDiv77wKFbfleC/e+BqDJrU3b/xMRJztV7av8Wr4BKizda/zhyxIw0l07+a0ssweNHOv3rgaHcROce/zmjg33QRv78LgSRxgCGvv+ghYYdn67C8AAAAAAAAAACQoEDzlHmuP/N4NO7fab4/REvSxM27xj83TIhkPCvOP1fmcN7IvdI/4nWW4aFS1j8/3nMgeNDZP1KaHDiyM90/S8jgGWk84D+EwBmTPM7hP6Z+tFG1TeM/PH05C0i55D/w2jf4fQ/mP/jtmVb2Tuc/k7tG1Wd26D8GfZnnoYTpPw1EUf+NeOo/CCK1qzBR6z8j1MScqg3sP5zGaok5rew/8iTC9zgv7T+ahKLmIpPtP85kwleQ2O0/GB/iuTn/7T/Z15Ey9wbuP99iRsfA7+0/78KSZa657T/iyX3K92TtP1VGDUn08ew/FflBcBph7D+eHOGQ/7LrP1t5iSNX6Oo/ILCyD/IB6j9Sb1XUvQDpP3+NGpPD5ec/RWYN/yay5j9GM+svJWflP7hWRVsTBuQ//YfHdF2Q4j/Bcwy3hAfhP18VBy082t4/nK0CQKGF2z+TSFGJpxTYP+kL3CnbitQ/bk8R2eHr0D+5rstE7nbKP66YqxjR+sI/oDNzs0bWtj/a4Pj2gn2ePxDh+PaCfZ6/rTNzs0bWtr+0mKsY0frCv7Guy0Tudsq/cU8R2eHr0L/lC9wp24rUv5VIUYmnFNi/mK0CQKGF279hFQctPNrev79zDLeEB+G//4fHdF2Q4r+2VkVbEwbkv0gz6y8lZ+W/RGYN/yay5r+AjRqTw+Xnv1FvVdS9AOm/I7CyD/IB6r9ceYkjV+jqv54c4ZD/suu/FflBcBph7L9VRg1J9PHsv+LJfcr3ZO2/78KSZa657b/eYkbHwO/tv9nXkTL3Bu6/GB/iuTn/7b/OZMJXkNjtv5qEouYik+2/8iTC9zgv7b+cxmqJOa3svyTUxJyqDey/ByK1qzBR678MRFH/jXjqvwZ9meehhOm/lLtG1Wd26L/27ZlW9k7nv+/aN/h9D+a/PH05C0i55L+pfrRRtU3jv4LAGZM8zuG/SsjgGWk84L9Tmhw4sjPdv0PecyB40Nm/3HWW4aFS1r9W5nDeyL3Svz1MiGQ8K86/NEvSxM27xr/keDTu32m+v5GgQPOUea6/5LoJ7yOQsLwAAAAAAAAAAOzx0IOasa0/6UvvkEyivT9N1HPgnybGP1qdZRFEZc0/D42ths1C0j99MVchJsDVPyfFRvcSJ9k/A8fAQxJ03D91mif8vKPfP7967yhlWeE/IV+CignP4j8z9EB6SjHkPwDODMy6fuU/3w6iyAK25j9stOaP4dXnP4+CrmMu3eg/xJae2dnK6T98UvXy7p3qPyo1FhmUVes/XFHV/Qvx6z/AJ5tetm/sP3rAl6kQ0ew/J7hahLYU7T+bgkUzYjrtP8xAbeHsQe0/7BCiyE4r7T+LlXI5n/bsPwdxI4MUpOw/VXuzuwM07D/TZyZo4KbrP19EcAU8/eo/5ZF8csU36j+Sjus7SFfpP8aCP8qrXOg/4VpSc/JI5z/AcglwOB3mP/4TWrey2uQ/garMv62C4z/M/MYojBbiP1mu/kzFl+A/lLoZf8cP3j/CamNqB9HaP8561raidtc/s8IqPg4E1D8cZ7TI13zQP3cNIsdEyck/L5nQQUV+wj948HQYa0C2P5eGAr5utZ0/zIYCvm61nb+F8HQYa0C2vzWZ0EFFfsK/bw0ix0TJyb8eZ7TI13zQv7DCKj4OBNS/0HrWtqJ217++amNqB9Hav5a6GX/HD96/V67+TMWX4L/O/MYojBbiv3+qzL+tguO/ABRat7La5L+/cglwOB3mv+JaUnPySOe/xYI/yqtc6L+Vjus7SFfpv+WRfHLFN+q/X0RwBTz96r/SZyZo4Kbrv1Z7s7sDNOy/B3EjgxSk7L+LlXI5n/bsv+sQoshOK+2/zEBt4exB7b+bgkUzYjrtvye4WoS2FO2/e8CXqRDR7L/AJ5tetm/sv1xR1f0L8eu/KzUWGZRV6798UvXy7p3qv8OWntnZyum/j4KuYy7d6L9ttOaP4dXnv90OosgCtua//80MzLp+5b8z9EB6SjHkvyRfgooJz+K/vXrvKGVZ4b9zmif8vKPfvwXHwEMSdNy/LMVG9xIn2b93MVchJsDVvw6NrYbNQtK/X51lEURlzb891HPgnybGv9pL75BMor2/7fHQg5qxrb8HUZ3icyOwvAAAAAAAAAAAXLlGgWPKrD9i/BS6jLu8P/b9f7gkesU/qE4CeV+AzD/i7ZV7nLTRP5NbVerIFtU/b/XoKThj2D+ZoDDEg5bbP1L/DC1frd4/Wap5lE3S4D8Ew6SKlDziP537kwcPlOM/QNGg+lrX5D9wZOwgKwXmP2jj51xIHOc/kucI95Ib6D9LL1/GAwLpPxT62T+tzuk/aWUla7yA6j/AYCO8eRfrP+0LINBJkus/iXb+Da7w6z/do7goRTLsP5FNrIPLVuw//QBNeBte7D8Gv/N8LUjsP8EcpCwYFew/W+K+LxDF6z99LboFaFjrP3gLF7CPz+o/czTsPhQr6j/+63w/n2vpP3jrcQ32keg/aYBoB/me5z/mlKmnopPmP/sL94EGceU/0pl5J1A45D9r6/PxweriP/duebezieE/T0T/Z5EW4D9gYWkssyXdP9KbS9o3ANo/BvN9KO+/1j8KZ7MGM2jTP0JBMCLr+M8/Cj4KBnsAyT/lA+QoRe7BP1W1kBcnk7U/G/fI6hnOnD9P98jqGc6cv2K1kBcnk7W/6wPkKEXuwb8CPgoGewDJv0dBMCLr+M+/B2ezBjNo078J830o77/Wv8+bS9o3ANq/YWFpLLMl3b9ORP9nkRbgv/luebezieG/aevz8cHq4r/TmXknUDjkv/oL94EGceW/5pSpp6KT5r9ogGgH+Z7nv3rrcQ32kei//+t8P59r6b9zNOw+FCvqv3cLF7CPz+q/fi26BWhY679b4r4vEMXrv8EcpCwYFey/Bb/zfC1I7L/9AE14G17sv5FNrIPLVuy/3aO4KEUy7L+Jdv4NrvDrv+0LINBJkuu/wGAjvHkX679pZSVrvIDqvxP62T+tzum/Si9fxgMC6b+S5wj3khvov2nj51xIHOe/bmTsICsF5r8/0aD6Wtfkv537kwcPlOO/B8OkipQ84r9XqnmUTdLgv1D/DC1frd6/m6AwxIOW279z9egpOGPYv45bVerIFtW/4e2Ve5y00b+uTgJ5X4DMv+f9f7gkesW/VPwUuoy7vL9euUaBY8qsv5/Cum+TS6+8AAAAAAAAAACbnyQm48SrP8JdyyaTtrs/GblfvhG3xD+ASZRkf33LP7HtkFHLE9E/NCaTZjxX1D+VJVDAtYXXP3TE88rvm9o/Z75K8buW3T+4nTnygzngP5b3M2PwluE/nSMRGjvi4j9sxRiWDhrkP764ZGcpPeU/Jjc5el9K5j/DSVhMm0DnP8eqEQvfHug/xTXomEXk6D/mML95A5DpPzD6m6RnIeo/I+AjOtyX6j/6Bxof5/LqP44gPnoqMus/HSIKFWVV6z/HYeueclzrP2atsdJLR+s/H9kNfgYW6z8nBRhr1cjqP5/G9CsIYOo/qCvPyArc6T+yJ3xQZT3pP2QzOky7hOg/DbMdF8uy5z9r6dcZbcjmP/m7ouuSxuU/Yj03WUau5D8+tM9SqIDjP0+OT8LvPuI/BUbESmjq4D84NRPl4QjfPxr/4nL1HNw/1IXJOA4U2T+rBQkQTfHVP8ggzHftt9I/GvJKgITWzj8U0ww6ZB3IP6DgaUloS8E/6/R39TDPtD97ICzXd8ibP60gLNd3yJu/9/R39TDPtL+m4GlJaEvBvwzTDDpkHci/H/JKgITWzr/FIMx37bfSv60FCRBN8dW/0IXJOA4U2b8c/+Jy9RzcvzU1E+XhCN+/B0bESmjq4L9Njk/C7z7iv0C0z1KogOO/YT03WUau5L/6u6Lrksblv2rp1xltyOa/D7MdF8uy579lMzpMu4Tov7InfFBlPem/pyvPyArc6b+gxvQrCGDqvycFGGvVyOq/H9kNfgYW679lrbHSS0frv8dh655yXOu/HSIKFWVV67+OID56KjLrv/sHGh/n8uq/I+AjOtyX6r8w+pukZyHqv+cwv3kDkOm/xDXomEXk6L/GqhEL3x7ov8NJWEybQOe/Jzc5el9K5r+9uGRnKT3lv2zFGJYOGuS/nSMRGjvi4r+Z9zNj8Jbhv7edOfKDOeC/Zb5K8buW3b92xPPK75vav5olUMC1hde/LyaTZjxX1L+x7ZBRyxPRv4VJlGR/fcu/CrlfvhG3xL+0Xcsmk7a7v52fJCbjxKu/RRn3QFMvrrwAAAAAAAAAAGTiIIksoqo/BA0AYHKUuj8yhtMnNN7DP5zSnCe0Xco/x3DjNANh0D+onXYWSoLTP1I5Tb90j9Y/voMS8V2F2T+drWdm+GDcP9a1PfhRH98//H6dU8ve4D8YnQXDiRziPwg2zMCcR+M/2F0nAtBe5D96jdm4A2HlP8zC3rstTeY/7JzJmVoi5z/torWTrt/nP6QGzH9mhOg/b2NxktgP6T/XF00NdYHpP7vNddPG2Ok/RnMq4nMV6j82M5utPTfqP1XHYmEBPuo/La9tBLgp6j9iSCqAdvrpP/Ff+optsOk/ynT8delL6T/QbmDeUc3oPx7imEIpNeg/NPjWewyE5z9iqFscsrrmPw7qRLPp2eU/feCY9pri5D9EjWvUxNXjPyNAFWx8tOI/jqeI8Ot/4T+N+e50UTngPwkljkn7w90/6wqz0aT22j/QuM70gg3YP7UwF8yVC9U/fp2w//bz0T/96h0prZPNP6O1lEbvIMc/NaOS9lmWwD+Mq+DWVvWzP/JDW72bpZo/IkRbvZulmr+Yq+DWVvWzvzqjkvZZlsC/nLWURu8gx78C6x0prZPNv3udsP/289G/tzAXzJUL1b/MuM70gg3Yv+wKs9Gk9tq/BiWOSfvD3b+P+e50UTngv4yniPDrf+G/JEAVbHy04r9DjWvUxNXjv37gmPaa4uS/DupEs+nZ5b9kqFscsrrmvzX41nsMhOe/HuKYQik16L/PbmDeUc3ov8t0/HXpS+m/8V/6im2w6b9iSCqAdvrpvyyvbQS4Keq/VcdiYQE+6r82M5utPTfqv0ZzKuJzFeq/u81108bY6b/XF00NdYHpv29jcZLYD+m/pQbMf2aE6L/sorWTrt/nv+ucyZlaIue/zMLeuy1N5r97jdm4A2Hlv9ZdJwLQXuS/CDbMwJxH478YnQXDiRziv/9+nVPL3uC/07U9+FEf37+crWdm+GDcv7+DEvFdhdm/VjlNv3SP1r+jnXYWSoLTv8Zw4zQDYdC/odKcJ7Rdyr8khtMnNN7Dv/cMAGBylLq/ZeIgiSyiqr8NCxM+UvOsvAAAAAAAAAAAxYfDe3FjqT+kypuZW1a5Px8cFBdw8MI/TrFugSwiyT+Qq3NvADrPP3P90PzRmNI/0fFrM3iB1T9cncpB81PYP2UUQGhaDds/aZTmwN6q3T/U4VYS5xTgP9alY/nKQ+E/UDrK2+Jg4j+McyzYCGvjPyWFjZQqYeQ/97ggWUpC5T+6J9MVgA3mP+TZglH6weY/P7rsAf9e5z91xHJL7OPnPzzA9Cc5UOg/+4sP9HWj6D8EXTHiTN3oPzpVDFOC/eg/nUEME/UD6T8SJ5B8nvDoP8tVxH6Sw+g/NPMVif986D/sKFVbLh3oP2ZQt7qBpOc/l2gGDHYT5z++yWbToGrmPzBFNxqwquU/QpGqu2nU5D9C79KYqujjP15J8rRl6OI/mHz5OqPU4T9RCDltf67gPyKutwBT7t4/VFy0xcRf3D/e5U3k9rPZPxGW2D2q7dY/niV8A7sP1D9QVHHDHR3RP5xpRLq4Mcw/mSiiviUMxj+ZNQJOsZ+/P+6lqud9BrM/XdhNlrdmmT+K2E2Wt2aZv/mlqud9BrO/pDUCTrGfv7+SKKK+JQzGv6FpRLq4Mcy/TVRxwx0d0b+hJXwDuw/Uvw2W2D2q7da/3+VN5Paz2b9RXLTFxF/cvyWutwBT7t6/Twg5bX+u4L+afPk6o9Thv11J8rRl6OK/Qu/SmKro479Bkaq7adTkvzNFNxqwquW/v8lm06Bq5r+XaAYMdhPnv2VQt7qBpOe/7ShVWy4d6L808xWJ/3zov8tVxH6Sw+i/ESeQfJ7w6L+dQQwT9QPpvzpVDFOC/ei/BF0x4kzd6L/8iw/0daPovzzA9Cc5UOi/dcRyS+zj579AuuwB/17nv+PZglH6wea/uSfTFYAN5r/3uCBZSkLlvyaFjZQqYeS/i3Ms2Ahr479POsrb4mDiv9alY/nKQ+G/1uFWEucU4L9llObA3qrdv2QUQGhaDdu/Xp3KQfNT2L/V8WszeIHVv2790PzRmNK/jqtzbwA6z79SsW6BLCLJvxIcFBdw8MK/l8qbmVtWub/Gh8N7cWOpv+GTY9PcmKu8AAAAAAAAAABt/7BIAQqoP8brcnGd/bc/ZavVqr/uwT+537NeNMzHP+BToBghkc0/gjE4s8mb0T+4pXAg3FzUPzcVSgbxCNc/yWc7Oked2T/wZ8gLNhfcP0IeLQIwdN4/cln9vuJY4D+Kuved02bhP12wOVvUYuI/DW6iMeFL4z9TKYPlCSHkP9BOQrxy4eQ/BtjbXlWM5T+gR1WmASHmP7GKUlHenuY/YZEQomkF5z/txSLkOVTnPzeFadn9iuc/tkbRDX2p5z/OH4QRmK/nP+mlUZlInec/tscrhaFy5z+I7bHMzi/nPzZv3lEV1eY/rRcFmtJi5j/g52ttfNnlPxB54V2gOeU/8yXONOOD5D8ZaVZJALnjP2aKPb/I2eI/1KxPryLn4T9HdzE6COLgPyKxEw0Nl98/6l0fV3lJ3T8cpjIStd3aP2Qqvhw/Vtg/pCVn4bK11T99ogqnxf7SP5ltGMZDNNA/v99MjBuyyj+hQGvNKuDEPxi63Fhq8b0/vk/LaaEDsj+Cr+TXGg2YP6yv5NcaDZi/yU/LaaEDsr8jutxYavG9v5pAa80q4MS/w99MjBuyyr+WbRjGQzTQv4CiCqfF/tK/oSVn4bK11b9mKr4cP1bYvxmmMhK13dq/7V0fV3lJ3b8fsRMNDZffv0l3MToI4uC/06xPryLn4b9nij2/yNnivxlpVkkAueO/9SXONOOD5L8ReeFdoDnlv+Dna2182eW/rBcFmtJi5r83b95RFdXmv4jtsczOL+e/tscrhaFy57/ppVGZSJ3nv84fhBGYr+e/tkbRDX2p5783hWnZ/Yrnv+7FIuQ5VOe/YZEQomkF57+xilJR3p7mv6FHVaYBIea/BdjbXlWM5b/PTkK8cuHkv1Mpg+UJIeS/DW6iMeFL479csDlb1GLiv4q6953TZuG/cln9vuJY4L9HHi0CMHTev+1nyAs2F9y/x2c7Oked2b84FUoG8QjXv7ylcCDcXNS/fjE4s8mb0b/eU6AYIZHNv73fs140zMe/WKvVqr/uwb+663Jxnf23v27/sEgBCqi/Izm9dl8hqrwAAAAAAAAAAEOe81JHl6Y/mKBEj6KLtj+3Mir3MdrAP4LKQXwzXcY/umsSWCfJyz9haKpnO4zQP7mrklbUItM/M3K0c7Ol1T9SwXgPQhLYPzya23oAZto/OlDSmoie3D9AFFRhkLneP/AUvBR2WuA/foQdekhH4T/H/81BSyLiPxHM86ic6uI/w/uTMW6f4z9jtG13BUDkPwAhHfC8y+Q/9gHAlQRC5T8q82t7YqLlPwFf3Upz7OU/a4/dquof5j8AT/aNkzzmP5n5IWlQQuY/wpw/Uhsx5j+vwysGBgnmP76ld9Y5yuU/n5DRfvd05T/QdUrilgnlP1lkvbCGiOQ/KVK29Evy4z+T0k2KgUfjP0YYh3/XiOI/RdDUXhK34T8i6X9kCtPgP/w7gj9Vu98/oRXmAOCv3T/8Hq2k0IXbP8yN7E1iP9k//4CPXu3e1j+w3HMM5WbUP5mE39rU2dE/k9vQ9bt0zj8ppAcraRbJPx60DwQ6nsM/FOT8r6MjvD/apP2s0e2wPzT2BRQxmpY/XPYFFDGalr/kpP2s0e2wvx7k/K+jI7y/GLQPBDqew78tpAcraRbJv43b0PW7dM6/m4Tf2tTZ0b+t3HMM5WbUvwCBj17t3ta/yY3sTWI/2b/+Hq2k0IXbv54V5gDgr92//zuCP1W7378i6X9kCtPgv0bQ1F4St+G/RRiHf9eI4r+V0k2KgUfjvypStvRL8uO/WWS9sIaI5L/PdUrilgnlv6CQ0X73dOW/vqV31jnK5b+vwysGBgnmv8GcP1IbMea/mfkhaVBC5r8AT/aNkzzmv2uP3arqH+a/Al/dSnPs5b8q82t7YqLlv/YBwJUEQuW/ASEd8LzL5L9jtG13BUDkv8L7kzFun+O/EczzqJzq4r/I/81BSyLiv3yEHXpIR+G/7xS8FHZa4L9AFFRhkLnevz9Q0pqInty/OZrbegBm2r9RwXgPQhLYvzRytHOzpdW/vKuSVtQi079daKpnO4zQv7lrElgnycu/hspBfDNdxr+rMir3MdrAv42gRI+ii7a/RJ7zUkeXpr+HWA4oZY6ovAAAAAAAAAAArP62l8kMpT8EWzsn8AG1P/1cr9DTZ78/THCr7KvWxD93IrHY8uPJP0P/FomJ1s4/rcOtLqvU0T+G7dU8sCvUP6lrfXPqbdY/WjcExgWZ2D8IfRz9xaraP/nkpAQJodw/0nORHsl53j9PYE98jxngP/isVNGh5eA/kcPRMUmg4T/c/aI1xUjiPxs3Xi9o3uI/8JVa35dg4z9TSLESzs7jP1JKky2ZKOQ/Pp5loJxt5D8UPitHkZ3kP1Zr2rJFuOQ/V8VRXJ695D/jnrjAla3kP/dSLWc8iOQ/d727z7hN5D+yZ61LR/7jP99RXL85muM/L3HITfch4z8r50bu+5XiP/iJuOzX9uE/QHfLVC9F4T/OBeFIuYHgP3/MjIp+Wt8/PhcFoTiR3T+06R4zeKnbP0wmzwk0pdk/GXrDUoCG1z8nnc17jE/VPwRrN/KgAtM/zURSyByi0D/qfl2H5mDMP1pfA61SYMc/sDmiDaZHwj8FrVkYQzi6PyOimOBljK8/dUkneoAPlT+aSSd6gA+VvzWimOBljK+/Dq1ZGEM4ur+qOaINpkfCv11fA61SYMe/5X5dh+ZgzL/ORFLIHKLQvwFrN/KgAtO/KJ3Ne4xP1b8WesNSgIbXv08mzwk0pdm/sekeM3ip279AFwWhOJHdv37MjIp+Wt+/zgXhSLmB4L9Ad8tUL0Xhv/qJuOzX9uG/LOdG7vuV4r8vcchN9yHjv99RXL85muO/s2etS0f+4793vbvPuE3kv/dSLWc8iOS/4p64wJWt5L9XxVFcnr3kv1Zr2rJFuOS/FD4rR5Gd5L8+nmWgnG3kv1JKky2ZKOS/U0ixEs7O47/wlVrfl2Djvxs3Xi9o3uK/3P2iNcVI4r+Rw9ExSaDhv/msVNGh5eC/TmBPfI8Z4L/Rc5EeyXnev/nkpAQJody/DH0c/cWq2r9YNwTGBZnYv6hrfXPqbda/iO3VPLAr1L+xw60uq9TRvzv/FomJ1s6/dSKx2PLjyb9QcKvsq9bEv+dcr9DTZ7+/+Vo7J/ABtb+u/raXyQylv+Ak2dGV4aa8AAAAAAAAAACdZgcUJ2yjP4+nf2AkYrM/DDycITr6vD9peB+CODrDPx8U7gSC48c/0bJFiCt0zD+tH78uwHPQP03oBQl1nNI/+P8Rlfqx1D/fTqzbKrLWP416NuP1mtg/mGvqz2Nq2j9FsT3rlh7cP7NdUZDNtd0/Er1y+2Mu3z8Fj2f9akPgP7FQTj/g3uA/W8mNg/Fo4T9xgHt3EOHhP3QDWEjBRuI/VafyIpuZ4j/507efSNniP+F2uhqIBeM/89xd9yse4z+nM1rPGiPjPws664xPFOM/aSQOcNnx4j9HS8n+27viPw7ajeCOcuI/vDzZpD0W4j+1b1F1R6fhPwl8rLMeJuE/wD7Ig0iT4D8/C9iEuN7fP4T1gtIFdt4/dmpLwezt3D/m9wuAAUjbP3+MG/v2hdk/aW/5G52p1z9pVBfr3rTVPwB/rpXAqdM/77mpWV2K0T/CPZGzyrHOP81acrg2L8o/J8b166SRxT9Lq+RK193AP8GMlnpNMbg/EK1GXfgbrT+UNdg8qG6TP7c12DyobpO/Ia1GXfgbrb/KjJZ6TTG4v0ar5ErX3cC/Ksb166SRxb/IWnK4Ni/Kv8Y9kbPKsc6/7LmpWV2K0b8Bf66VwKnTv2dUF+vetNW/bG/5G52p1798jBv79oXZv+j3C4ABSNu/dWpLwezt3L+G9YLSBXbevz4L2IS43t+/wj7Ig0iT4L8KfKyzHibhv7VvUXVHp+G/vDzZpD0W4r8O2o3gjnLiv0dLyf7bu+K/aSQOcNnx4r8KOuuMTxTjv6czWs8aI+O/89xd9yse47/hdroaiAXjv/rTt59I2eK/VafyIpuZ4r90A1hIwUbiv3KAe3cQ4eG/WsmNg/Fo4b+xUE4/4N7gvwWPZ/1qQ+C/E71y+2Mu37+wXVGQzbXdv0SxPeuWHty/mGvqz2Nq2r+Rejbj9ZrYv91OrNsqsta/9/8Rlfqx1L9O6AUJdZzSv7Afvy7Ac9C/yrJFiCt0zL8eFO4EguPHv214H4I4OsO/+DucITr6vL+Fp39gJGKzv55mBxQnbKO/uW1Ci7QcpbwAAAAAAAAAAEzFRBAWt6E/1iuMofStsT+2nv7GJG66PxV9PR6LicE/so7V7e/JxT97davh3vPJP5I9NzANA84/MTLW0aX50D/u7Rl1ReDSP/A7o+Jvs9Q//bLriUNx1j+KUpLZ9BfYP30JFxnQpdk/ezIBKjsZ2z8yB6Iut3DcP4xAvxTiqt0/GQ+PAnjG3j/ZL42kVMLfPyV/aC26TuA/+vFWonqr4D+6IsUUDPfgP2d0/p4gMeE/NNIyYnxZ4T9f5S3E9W/hP0yLOZp1dOE/+lb/QPdm4T/zf1ChiEfhPwZRzyFKFuE/eN6IhW7T4D+NcaG3On/gP9uZSYQFGuA/oT+Kfm5I3z8ZJ8CwkjzeP/imgbyLEd0/wCgw4I3I2z9uO4M97GLaP2T+8nsX4tg/tdqzTJxH1z8oRcvRIZXVPysP4+lnzNM/ZuScYkXv0T+iuYMmTP/PP+3QhMMR/8s/pGsiaPvhxz/U5e+fRqzDP+RpW66UxL4/PC8/w+QQtj8vRVmv64yqP9Xo/NxeuZE/9Oj83F65kb8+RVmv64yqv0MvP8PkELa/2mlbrpTEvr/X5e+fRqzDv6BrImj74ce/8NCEwxH/y7+euYMmTP/Pv2fknGJF79G/KQ/j6WfM078qRcvRIZXVv7Pas0ycR9e/Zv7yexfi2L9tO4M97GLav8EoMOCNyNu/96aBvIsR3b8cJ8Cwkjzev6I/in5uSN+/25lJhAUa4L+NcaG3On/gv3jeiIVu0+C/BlHPIUoW4b/zf1ChiEfhv/lW/0D3ZuG/TIs5mnV04b9f5S3E9W/hvzTSMmJ8WeG/aHT+niAx4b+6IsUUDPfgv/rxVqJ6q+C/JX9oLbpO4L/YL42kVMLfvxgPjwJ4xt6/jEC/FOKq3b8zB6Iut3Dcv3kyASo7Gdu/fAkXGdCl2b+KUpLZ9BfYvwGz64lDcda/7juj4m+z1L/t7Rl1ReDSvzIy1tGl+dC/mD03MA0Dzr91davh3vPJv7GO1e3vycW/GH09HouJwb+jnv7GJG66v80rjKH0rbG/TcVEEBa3ob/yToq9nUGjvAAAAAAAAAAA5QcppsTenz+qMhqIV86vP90K3rdBxrc/909S09WMvz9LI/sTcpnDP7kq3SZFWMc/HXPIwQf/yj+CW45S9onOP6fBTvu0+tA/xnVaH+6e0j8l3pFo9S/UPx9ha3MtrNU/Z4jNTw4S1z+aoBMVJ2DYP9guVV4fldk/fjxorbiv2j+AhTCzz67bP8Yb6Xtdkdw/f/QyfnhW3T8s9tCLVf3dP9RfGaNIhd4/aKNEoMXt3j967eLNYDbfP+Fw41PPXt8/AQO7hOdm3z9LgVoIoU7fP5i2yOQUFt8/rOJWZH293j+9eorZNUXeP38T+kC6rd0/fH5+wab33D8O2jsLtyPcPwOBKJbFMts/kEnZwMol2j8mOHvQ2/3YP8iQAtMpvNc/vua1ZABi1j8IUVlaxPDUPzshWlHyadM/vUd2Jx3P0T9A1XNb7CHQP3ZeKbE0yMw/Ze8QXeUuyT+JimVvoHvFP2v9W182ssE/HLcN8Bytuz+WT32kRdmzP2Vnn+zw4ac/UiAJueDijz+LIAm54OKPv3Jnn+zw4ae/nU99pEXZs78Ttw3wHK27v279W182ssG/hYplb6B7xb9o7xBd5S7Jv3JeKbE0yMy/QdVzW+wh0L+7R3YnHc/Rvz0hWlHyadO/BlFZWsTw1L/A5rVkAGLWv8eQAtMpvNe/Jzh70Nv92L+PSdnAyiXavwaBKJbFMtu/D9o7C7cj3L98fn7Bpvfcv34T+kC6rd2/vXqK2TVF3r+s4lZkfb3ev5i2yOQUFt+/SoFaCKFO378BA7uE52bfv+Fw41PPXt+/eu3izWA2379po0Sgxe3ev9RfGaNIhd6/LPbQi1X93b+A9DJ+eFbdv8Ub6Xtdkdy/f4Uws8+u279+PGituK/av9kuVV4fldm/mKATFSdg2L9miM1PDhLXvx9ha3MtrNW/KN6RaPUv1L/EdVof7p7Sv6bBTvu0+tC/g1uOUvaJzr8hc8jBB//Kv7Mq3SZFWMe/SiP7E3KZw7/9T1LT1Yy/v8wK3rdBxre/mjIaiFfOr7/nBymmxN6fvzX34S5FUqG8AAAAAAAAAADaWW571i2cP7A7XmRQH6w/L4/KKlwFtT8bi3bqZOW7PyoOlxRWVME/mwSpoRykxD9C7qY0nN7HP3omo9SAAMs/mObH5Y8Gzj+sqra+1XbQPy0CTsxq2dE/tf/VmJkp0z/8O+mYB2bUP7+iyp1ujdU/8eChJZ6e1j+C51+VfJjXP4HxB1sIetg/HtIx91hC2T9J2bPsn/DZPwJCfZUphNo/bcDF21382j/8StPWwFjbP86DtErzmNs/JRhsCrO82z/q4yc828PbP9yHPX9krts/MUrF82R82z+kassjEC7bP6psL862w9o/thtok8Y92j8vFoKEyZzZP1pczZRl4dg/d5jM7lsM2D+8dhYtiB7XP7hO9nffGNY/6ne1iG/81D/jyZGTXcrTP5Djfxnlg9I/48fwolYq0T94IdTJLH7PP1ihrKM1h8w/tUkQL9ZyyT9DsvsXO0TGP6CRChWs/sI/5AK/CxFLvz8gGFDyh3i4PyzapDvFjLE/YIl/jNYdpT/oPwG1eDGMPxtAAbV4MYy/bIl/jNYdpb8y2qQ7xYyxvxgYUPKHeLi/6QK/CxFLv7+dkQoVrP7Cv0ay+xc7RMa/sUkQL9Zyyb9aoayjNYfMv3Uh1Mksfs+/5MfwolYq0b+O438Z5YPSv+TJkZNdytO/6Xe1iG/81L+5TvZ33xjWv7t2Fi2IHte/epjM7lsM2L9aXM2UZeHYvy8WgoTJnNm/tRtok8Y92r+rbC/OtsPav6RqyyMQLtu/MUrF82R827/bhz1/ZK7bv+rjJzzbw9u/JRhsCrO827/Og7RK85jbv/1K09bAWNu/bcDF21382r8CQn2VKYTav0rZs+yf8Nm/HdIx91hC2b+A8QdbCHrYv4LnX5V8mNe/8uChJZ6e1r+9osqdbo3Vv/s76ZgHZtS/tf/VmJkp078vAk7MatnRv6qqtr7VdtC/lubH5Y8Gzr98JqPUgADLv0bupjSc3se/lgSpoRykxL8pDpcUVlTBvyGLdupk5bu/II/KKlwFtb+iO15kUB+sv9tZbnvWLZy/YnRb6WehnrwAAAAAAAAAAGNpfadDX5g/ni2z3rNSqD8YznylWS6yPwn9kI2bILg/MIGMev75vT/8O09xPdrBP3jNJYsUpcQ/A7laq6Naxz+MxmLiH/jJP3hjjxHXesw/MplysjLgzj/lg+hA3ZLQP/jysIWLpNE/5JfeCQqk0j9ghf1uUZDTP+BoViVuaNQ/PgoAZ4Er1T9m9oIdwtjVP4KdIrF9b9Y/1Df2wBjv1j/nqxPDD1fXP11bJ4z3ptc/nxDtvX3e1z/sLBgcaf3XP6CQU8eZA9g/OmwcXgnx1z8kHFYDy8XXP3VHkEoLgtc/IJcTChAm1z+VY+QSOLLWP/yNBc/6JtY/gUVgxueE1T8knM8KpszUP+tu6Ivz/tM/RygvU6Qc0z8PMIWpoSbSP91XrybpHdE/Kiftq4sD0D9M/FyVWLHNP/0KEzH+PMs/PGhM44+syD9Ok81VsgLGP8W9SmokQsM/ix3cZbxtwD8KoKwIyhC7P3YTFe00KrU/9ywgOp1brj8riCt0hUOiP6krNDVoYog/1Ss0NWhiiL81iCt0hUOivwEtIDqdW66/cBMV7TQqtb8OoKwIyhC7v4gd3GW8bcC/x71KaiRCw79Lk81VsgLGvz5oTOOPrMi/+goTMf48y79P/FyVWLHNvygn7auLA9C/31evJukd0b8PMIWpoSbSv0goL1OkHNO/6m7oi/P+078nnM8KpszUv4FFYMbnhNW//I0Fz/om1r+VY+QSOLLWvyGXEwoQJte/dUeQSguC178kHFYDy8XXvzlsHF4J8de/oJBTx5kD2L/sLBgcaf3Xv58Q7b193te/XlsnjPem17/nqxPDD1fXv9Q39sAY79a/g50isX1v1r9m9oIdwtjVvz0KAGeBK9W/4GhWJW5o1L9hhf1uUZDTv+KX3gkKpNK/9/KwhYuk0b/lg+hA3ZLQvzaZcrIy4M6/dWOPEdd6zL+LxmLiH/jJvwS5WqujWse/fM0lixSlxL/4O09xPdrBvy6BjHr++b2/Df2QjZsguL8MznylWS6yv5Its96zUqi/ZWl9p0NfmL+Y+rieDH6avAAAAAAAAAAAfsRvYA13lD9u58ocgWykPxvZkeFtiK4/4MIVp3BCtD8FDvMRyCu5PxVsGxkt+70/WPSzMdVVwT+qXaQ5NZzDPweIM1FezsU/23Om+wzqxz8WoQvoFO3JPwGHsS5j1cs/cEtrdAChzT+Blm/xEk7PPwVT3SxwbdA/fxh+0uci0T/Yjx1atcbRPw47vukvWNI/SvPvisHW0j+rmmXF50HTPzLdciU0mdM/yV3nrUzc0z/u8dE07ArUP8ZMzKriJNQ/dZuFTBUq1D8mAVm+fhrUP6aC0xEv9tM/EbAjtUu90z+KH4RMD3DTPw5/yHXJDtM/NI1Ldt6Z0j9vkpLTxhHSP/3mENcOd9E/KJaL/VXK0D9FMLJSTgzQP9aHLHN3e84/ol19Rea+zD8h2U1hs+TKP0JPGZfH7sg/9Q3+Sijfxj8/2WZf9bfEP4YRZQRne8I/AHD9bcsrwD/9NIbnCJe7P8dmaDgKurY/09O/LJ7FsT9KQMGRwH2pP4eADs77q54/G+vu87B5hD9A6+7zsHmEv5mADs77q56/U0DBkcB9qb/O078snsWxv8tmaDgKura/+DSG5wiXu78CcP1tyyvAv4QRZQRne8K/QdlmX/W3xL/zDf5KKN/Gv0RPGZfH7si/H9lNYbPkyr+lXX1F5r7Mv9WHLHN3e86/RjCyUk4M0L8nlov9VcrQv//mENcOd9G/cJKS08YR0r80jUt23pnSvw5/yHXJDtO/ih+ETA9w078RsCO1S73Tv6aC0xEv9tO/JQFZvn4a1L91m4VMFSrUv8ZMzKriJNS/7vHRNOwK1L/KXeetTNzTvzLdciU0mdO/q5plxedB079K8++KwdbSvw07vukvWNK/148dWrXG0b9/GH7S5yLRvwVT3SxwbdC/f5Zv8RJOz79uS2t0AKHNvwGHsS5j1cu/GaEL6BTtyb/Zc6b7DOrHvwaIM1FezsW/q12kOTWcw79b9LMx1VXBvw5sGxkt+72/BA7zEcgrub/jwhWncEK0vwbZkeFtiK6/Y+fKHIFspL+AxG9gDXeUv7hFKuTSPpa8AAAAAAAAAACFsNnUT3mQP8Ba6y7ScKA/kfMx6AmUqD8rb53U9U6wPzGMcBEXQ7Q/IrBIV1UiuD/6laDasui7P28pAXVLkr8/nPrtU6yNwT/+1GnAGkDDPyjgty2x3sQ/A+8tPsRnxj9NpT3BvtnHP7YbIlUjM8k/i+AC8I1yyj8DFPdOtZbLPypNbklsnsw/g2ihB6OIzT8TPssaaFTOPwtjCHbpAM8/qGvdRnWNzz+LeoSsevnPP9eUoiZFItA/U22eZCs30D8ejhCFWjvQP9L21DfOLtA/SAs7bJMR0D+yaWCHkMfPP75uYeU3S88/eHw9IJ2uzj+FlGOmYfLNP740hYBHF80/MaeSiTAezD+u/umFHQjLP9S9qBot1sk/lP8wppqJyD8ntxL7vCPHP5ojqP4EpsU/fb7RLPwRxD+oolkCQ2nCP4WHoE+PrcA/FsCd6lTBvT9eqbYZ3wi6P8g0mf2SNbY/S/leEWJLsj8D9yrTqpysP3eJpBYThaQ/rT/0vKiwmD9oknOnb3uAP4WSc6dve4C/uz/0vKiwmL9+iaQWE4Wkv/r2KtOqnKy/TvleEWJLsr/ENJn9kjW2v2GpthnfCLq/EsCd6lTBvb+Gh6BPj63Av6aiWQJDacK/f77RLPwRxL+YI6j+BKbFvym3Evu8I8e/k/8wppqJyL/VvagaLdbJv63+6YUdCMu/NKeSiTAezL+/NIWARxfNv4WUY6Zh8s2/d3w9IJ2uzr+/bmHlN0vPv7JpYIeQx8+/SAs7bJMR0L/R9tQ3zi7Qvx6OEIVaO9C/U22eZCs30L/XlKImRSLQv4x6hKx6+c+/qGvdRnWNz78LYwh26QDPvxQ+yxpoVM6/gmihB6OIzb8pTW5JbJ7MvwMU9061lsu/jOAC8I1yyr+0GyJVIzPJv0ylPcG+2ce/A+8tPsRnxr8r4Lctsd7Ev/zUacAaQMO/m/rtU6yNwb9xKQF1S5K/v/+VoNqy6Lu/HLBIV1UiuL8wjHARF0O0vy5vndT1TrC/gPMx6AmUqL+4Wusu0nCgv4aw2dRPeZC/PpwfcTLokbwAAAAAAAAAAB4D4LF71Ig/GL6dfq/HmD/DRHr3yoWiP3zSUD6mlKg/FwfC6yqKrj8yISI7GjCyP+8U62NfCLU/8jvGOPbKtz+b3KNbBnW6P45Hq7bQA70/vUX8ULJ0vz+z3TqDk+LAP8Ij2g9m+cE/9TTOY7H9wj9Qn/Mtae7DPxx/J0uVysQ/D4UQxlKRxT8UFxPB1EHGP6lhf0ll28Y/bKkfE2Zdxz+0hmUbUcfHP27WjTO5GMg/SPoscUpRyD/1Y6+EynDIP2pAdfUYd8g/HU1LQy9kyD9qVh7tIDjIP6p24lwb88c/Vc3CuGWVxz/p78mZYB/HP7uuTqiFkcY/r9KLHmfsxT+RGeQxrzDFP33SbWMfX8Q/9/Z6uI94wz+4Xuvb7X3CP7WYLik8cME/5fTxoZBQwD+hixqfJ0C+P0yFqyL/v7s/4EQksjsjuT9R67qtjmy2PwCtrivEnrM/IWcfFsC8sD8HpKpg9pKrP64WFg0AkKU/nGWJLZ/tnj8ZvvuYXJuSP2S+IF2v13g/kL4gXa/XeL8jvvuYXJuSv6dliS2f7Z6/qBYWDQCQpb8MpKpg9pKrvx5nHxbAvLC/Aq2uK8Ses79O67qtjmy2v+JEJLI7I7m/SYWrIv+/u7+kixqfJ0C+v+P08aGQUMC/tpguKTxwwb+4Xuvb7X3Cv/j2eriPeMO/fNJtYx9fxL+TGeQxrzDFv6/Six5n7MW/u65OqIWRxr/o78mZYB/Hv1XNwrhllce/qnbiXBvzx79qVh7tIDjIvxxNS0MvZMi/akB19Rh3yL/1Y6+EynDIv0j6LHFKUci/b9aNM7kYyL+0hmUbUcfHv2ypHxNmXce/qWF/SWXbxr8TFxPB1EHGvw6FEMZSkcW/HH8nS5XKxL9Rn/Mtae7Dv/Q0zmOx/cK/wSPaD2b5wb+z3TqDk+LAv8FF/FCydL+/i0erttADvb+Z3KNbBnW6v/M7xjj2yre/8xTrY18Itb8uISI7GjCyvxUHwusqiq6/gdJQPqaUqL+2RHr3yoWivwy+nX6vx5i/HwPgsXvUiL8tbA42d/2KvAAAAAAAAAAATym29zicgD8Z3ntTqZOQPzYY2bUfyJg/GV2ZN4VxoD/p8oBQB26kP3frYS96Vag/1olfk9cjrD8NoAMXM9WvP3eGzB3fsrE/KMXZKuZosz/Vpmwr6wq1P0x3Mzg/l7Y/Ef/2xUkMuD94R71Kimi5P2e5LcqZqro/CvudRyzRuz/EF0ocEtu8P/wtVzA5x70/V/pdFa6Uvj9zAFoBnUK/PxCm+qhS0L8/epo6fJ4ewD+XnwzVdUTAP58WBl2IWcA/vFRaW8BdwD9BgcF2GVHAP7It9LmgM8A/i7U5hnQFwD8Bgy7oiI2/P6Nsf0Si774/s0Tu5dcxvj8LqFxw7VS9PyQnWp3GWbw/4eJlUWZBuz8rTQ+R7Qy6P5YmCVeavbg/c9RhTMZUtz+j8TJk5dO1P6hlN1yEPLQ/mD3TI0eQsj9x2TIr59CwP5FNfzhjAK4/CvR+/gpAqj9AHBGao2SmP4ldjuEmcqI/kAWM7UzZnD9/y4Iqj7CUP56kSzH75Ig/o8vBSl2ecD/Ay8FKXZ5wv62kSzH75Ii/hsuCKo+wlL+HBYztTNmcv4xdjuEmcqK/PBwRmqNkpr8N9H7+CkCqv41NfzhjAK6/ctkyK+fQsL+WPdMjR5Cyv6plN1yEPLS/ofEyZOXTtb911GFMxlS3v5UmCVeavbi/LE0Pke0Mur/g4mVRZkG7vycnWp3GWby/DKhccO1Uvb+zRO7l1zG+v6Jsf0Si776/AoMu6IiNv7+LtTmGdAXAv7It9LmgM8C/QYHBdhlRwL+8VFpbwF3Av58WBl2IWcC/l58M1XVEwL97mjp8nh7AvxCm+qhS0L+/cwBaAZ1Cv79Y+l0VrpS+v/stVzA5x72/wxdKHBLbvL8K+51HLNG7v2i5LcqZqrq/dke9Sopoub8Q//bFSQy4v0x3Mzg/l7a/2KZsK+sKtb8mxdkq5mizv3aGzB3fsrG/D6ADFzPVr7/biV+T1yOsv3HrYS96Vai/6PKAUAdupL8cXZk3hXGgvyQY2bUfyJi/Ed57U6mTkL9QKbb3OJyAv9Z5hhAlDoK8AAAAAAAAAADDYnEn+qRwP/ZcFQBmnIA/IsCRdS/ViD81wJ3lL3qQP7c8nd3LeJQ/Td4Sgk1imD+V6h9zrDKcP18M7Tn65Z8/1kETKzO8oT+Us0oWIXOjP7ArZGkCFqU/LgTxWSejpj9vCWaF9hioP0I1HJfudak/57mF1ae4qj/l6f2U1d+rP+6+tY5H6qw/jIFbGuvWrT8PPzpJzKSuP1Y0reEWU68///njORfhrz/c94p4HSewP/n+MsMITbA/zJFtZiZisD8iIvudYGawP50SSQ6zWbA/lavvyCo8sD/qZDk/5g2wP6HPgkUqnq8/b0OTaPD/rj8dLPYBwkGuP7R6qhxjZK0/5TJG6rdorD9cTrzXw0+rP9/U8IGoGqo/Z9Mui6TKqD+F77NSEmGnP3krpI9m36U/A+jV0C5HpD/xLwLjD5qiPxS+/x7E2aA/hsOPQzMQnj+7lDbg4E2aPxSIYw9xcJY/ouvlv997kj+mqxxxgeiMPzkneMh2u4Q/GD2uJhryeD+NUH2bH6dgP6tQfZsfp2C/Jj2uJhryeL9AJ3jIdruEv52rHHGB6Iy/pevlv997kr8QiGMPcXCWv76UNuDgTZq/gsOPQzMQnr8Vvv8exNmgv+8vAuMPmqK/BejV0C5HpL93K6SPZt+lv4fvs1ISYae/ZtMui6TKqL/g1PCBqBqqv1tOvNfDT6u/6DJG6rdorL+1eqocY2Stvx0s9gHCQa6/bkOTaPD/rr+iz4JFKp6vv+pkOT/mDbC/lavvyCo8sL+dEkkOs1mwvyIi+51gZrC/zJFtZiZisL/5/jLDCE2wv933ingdJ7C///njORfhr79WNK3hFlOvvxA/OknMpK6/i4FbGuvWrb/tvrWOR+qsv+Xp/ZTV36u/6LmF1ae4qr9ANRyX7nWpv24JZoX2GKi/LgTxWSejpr+zK2RpAhalv5KzShYhc6O/1UETKzO8ob9hDO05+uWfv5rqH3OsMpy/R94Sgk1imL+2PJ3dy3iUvzjAneUvepC/EMCRdS/ViL/tXBUAZpyAv8RicSf6pHC/5AgdOakXcrwAAAAAAAAAAMDJ8JHw6GE82hVJcbXfcTzg6EDchbh6PD1epnXluoE8W35FMkEHhjwJNw3e5zyKPN/USJuCV448KTDNNmspkTwuDixLZBWTPDn21mex7ZQ8/A4TsWuwljxz6TGIwluYPLExgmr97Zk8fydmt31lmzxaybtbwMCcPFwd3mBf/p08YkqkXRMdnzx0EfFj2g2gPAgdh5KefKA8brxpDGTaoDyipTsoyiahPMfeECWCYaE8sA6de0+KoTxkYJgcCKGhPIOoGpyUpaE8KhvASfCXoTw+r341KXihPIkzJyFgRqE8+gahXsgCoTy4QgObp62gPE7ewZZVR6A8/K5xlnegnzykOOX7qZGePMWVM4RZY508JXcx0b0WnDw5S/a+La2aPNXebgIeKJk85qcrqR+Jlzz3wvZ73tGVPOfL20UfBJQ83iBoAb4hkjybsgTuqyyQPElOxh7bTYw8KF0dMjEliDyiw4qQo+ODPLMcRbkqG388SUqgtv1OdjxjzDJho9dqPFbQYsw/61E8dtBizD/rUbxyzDJho9dqvFBKoLb9Tna8qRxFuSobf7ymw4qQo+ODvCRdHTIxJYi8TE7GHttNjLyZsgTuqyyQvN8gaAG+IZK85MvbRR8ElLz5wvZ73tGVvOSnK6kfiZe8195uAh4ombw4S/a+La2avCZ3MdG9Fpy8w5UzhFljnbyoOOX7qZGevP2ucZZ3oJ+8Tt7BllVHoLy4QgObp62gvPsGoV7IAqG8iTMnIWBGobw+r341KXihvCobwEnwl6G8g6ganJSlobxkYJgcCKGhvLAOnXtPiqG8yN4QJYJhobyipTsoyiahvG68aQxk2qC8CR2Hkp58oLx0EfFj2g2gvGFKpF0THZ+8XB3eYF/+nbxcybtbwMCcvHwnZrd9ZZu8sDGCav3tmbxz6TGIwluYvP8OE7FrsJa8N/bWZ7HtlLwtDixLZBWTvCowzTZrKZG85NRIm4JXjrwCNw3e5zyKvFp+RTJBB4a8QV6mdeW6gbzN6EDchbh6vNEVSXG133G8wsnwkfDoYbxIXYqFzndjuQ==",
          "dtype": "f8",
          "shape": "50, 100"
         },
         "z": {
          "bdata": "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",
          "dtype": "f8",
          "shape": "50, 100"
         }
        },
        {
         "marker": {
          "color": "red",
          "colorscale": [
           [
            0,
            "#440154"
           ],
           [
            0.1111111111111111,
            "#482878"
           ],
           [
            0.2222222222222222,
            "#3e4989"
           ],
           [
            0.3333333333333333,
            "#31688e"
           ],
           [
            0.4444444444444444,
            "#26828e"
           ],
           [
            0.5555555555555556,
            "#1f9e89"
           ],
           [
            0.6666666666666666,
            "#35b779"
           ],
           [
            0.7777777777777778,
            "#6ece58"
           ],
           [
            0.8888888888888888,
            "#b5de2b"
           ],
           [
            1,
            "#fde725"
           ]
          ],
          "opacity": 0.8,
          "size": 10
         },
         "mode": "markers",
         "name": "Corners",
         "type": "scatter3d",
         "x": [
          0,
          0.7453559924999299,
          0.7071067811865476,
          4.5639891522016886e-17
         ],
         "y": [
          0,
          0,
          0.7071067811865475,
          0.7453559924999299
         ],
         "z": [
          1,
          0.6666666666666666,
          0,
          0.6666666666666666
         ]
        },
        {
         "marker": {
          "color": "blue",
          "colorscale": [
           [
            0,
            "#440154"
           ],
           [
            0.1111111111111111,
            "#482878"
           ],
           [
            0.2222222222222222,
            "#3e4989"
           ],
           [
            0.3333333333333333,
            "#31688e"
           ],
           [
            0.4444444444444444,
            "#26828e"
           ],
           [
            0.5555555555555556,
            "#1f9e89"
           ],
           [
            0.6666666666666666,
            "#35b779"
           ],
           [
            0.7777777777777778,
            "#6ece58"
           ],
           [
            0.8888888888888888,
            "#b5de2b"
           ],
           [
            1,
            "#fde725"
           ]
          ],
          "opacity": 0.8,
          "size": 4
         },
         "mode": "markers",
         "name": "Borders",
         "type": "scatter3d",
         "x": {
          "bdata": "AAAAAAAAAAAWvQu3abmdP4z8C+N3E64/joXVMWnOtj/m8elkAbi+P0xVKBnAYMM/5kqoFqJyxz98dOUjjY7LP2JP/jInsc8/basDPnDr0T8+AsBMAP7TP8p1QM1aDtY/IaY5RpIa2D8/LAxwvSDaPyeXmPz/Htw/WYnjF5MT3j8vnZlHzfzfP5HMWKyU7OA/pgyvDKbT4T+es1tYBLPiP2s+jL0xiuM/KvMDtMlY5D9O1mD1gB7lP1L1wc8k2+U/av1I6pmO5j+6KwGX2jjnPzVGdc/02ec/NUZ1z/TZ5z95tWaNXzvoPxfn62v/mOg/bgPwdOfx6D8eevbRHkXpP/J7HnWlkek/PSZA63nW6T+1gzY6oBLqP2rcrpApReo/AHckbjxt6j9hrDvOHIrqP3OxSM8zm+o/lkEBRRag6j9cq1exiZjqP1MpJzeHhOo/AcqfQjxk6j+mTWHVCDjqP8NcC5l7AOo/FeQwC0y+6T/4M4A6U3LpP0ziPaKDHek/ph+DteDA6D99Goqgdl3oPzvgZa9S9Oc/+1yjq3yG5z8sxmBi8RTnP807f2aeoOY/zTt/Zp6g5j8SqZY54SXmP6rXU9IuoOU/kAmYVxkP5T8kXplQS3LkP84nja6NyeM/VPfwu80U4z8+3suPIlTiP3jNbZbRh+E/H6h4vVGw4D9nE9KymZzfP/72PeI9xd0/ed5tf6bc2z917ezWPeXZP/xQp0iz4dc/EaRgHenU1T8hTMMP4MHTP0DurNehq9E/LabfJ1gqzz+HR32ruQLLP/5bVK7D5cY/AqxVLFbYwj+ucVPShL29P+lXL55++bU/5HQaw5PVrD+3uTs1clmcP/59H1pCT4o8/n0fWkJPijyh1nmNjZ2JPIsNfeDA4Yg8X1Pn6MwbiDzQEYfqt0uHPNHNww+gcYY8MQ8LRL2NhTxH4dKPYqCEPBRE0df+qYM87i6D5RyrgjyPDjCmYqSBPNbO/ZaPloA8GGClv/QEfzx08qJVG9J8PIKbRKSIlno8pHOnEEpUeDwxErxPew12PKMix7Y8xHM8TK5ko6l6cTwy4AC5nmVuPDsS2oRJ3Wk8iSVlJwZgZTyBO2LwP/FgPAywYLsjKFk8r7OolYCWUDyNvEN51WRAPAAAAAAAAAAA",
          "dtype": "f8"
         },
         "y": {
          "bdata": "AAAAAAAAAAAAAAAAAAAAAAAAAAAAAAAAAAAAAAAAAAAAAAAAAAAAAAAAAAAAAAAAAAAAAAAAAAAAAAAAAAAAAAAAAAAAAAAAAAAAAAAAAAAAAAAAAAAAAAAAAAAAAAAAAAAAAAAAAAAAAAAAAAAAAAAAAAAAAAAAAAAAAAAAAAAAAAAAAAAAAAAAAAAAAAAAAAAAAAAAAAAAAAAAAAAAAAAAAAAAAAAAAAAAAAAAAAAAAAAAAAAAAAAAAAAAAAAAAAAAAAAAAAAAAAAAAAAAAAAAAAAAAAAAAAAAAAAAAACvuTs1clmcP+J0GsOT1aw/5Fcvnn75tT+qcVPShL29P/+rVSxW2MI//ltUrsPlxj+BR32ruQLLPyum3ydYKs8/Pu6s16Gr0T8fTMMP4MHTPxCkYB3p1NU/+1CnSLPh1z9z7ezWPeXZP3jebX+m3Ns//fY94j3F3T9lE9KymZzfPx+oeL1RsOA/d81tltGH4T893suPIlTiP1P38LvNFOM/zSeNro3J4z8kXplQS3LkP44JmFcZD+U/qddT0i6g5T8QqZY54SXmP8w7f2aeoOY/zDt/Zp6g5j8sxmBi8RTnP/pco6t8huc/OuBlr1L05z99Goqgdl3oP6Ufg7XgwOg/TOI9ooMd6T/3M4A6U3LpPxTkMAtMvuk/w1wLmXsA6j+mTWHVCDjqPwHKn0I8ZOo/UiknN4eE6j9cq1exiZjqP5ZBAUUWoOo/c7FIzzOb6j9hrDvOHIrqPwB3JG48beo/atyukClF6j+2gzY6oBLqPz0mQOt51uk/8nsedaWR6T8eevbRHkXpP24D8HTn8eg/F+fra/+Y6D95tWaNXzvoPzVGdc/02ec/NUZ1z/TZ5z+6KwGX2jjnP2r9SOqZjuY/UvXBzyTb5T9O1mD1gB7lPyrzA7TJWOQ/aT6MvTGK4z+fs1tYBLPiP6YMrwym0+E/kcxYrJTs4D8vnZlHzfzfP1mJ4xeTE94/J5eY/P8e3D8/LAxwvSDaPyGmOUaSGtg/y3VAzVoO1j89AsBMAP7TP22rAz5w69E/Yk/+Miexzz9+dOUjjY7LP+RKqBaicsc/S1UoGcBgwz/m8elkAbi+P4+F1TFpzrY/h/wL43cTrj8QvQu3abmdPwAAAAAAAAAA",
          "dtype": "f8"
         },
         "z": {
          "bdata": "AAAAAAAA8D9pGBhIjPzvP0dEPJna8e8/G5jzY23f7z9AYBn4zsTvPz41N26Uoe8/b2T4oWB17z/bEyAh5z/vP9+Tk+7uAO8/q9/y9lS47j8jbWUUDmbuP+CFCIIoCu4//GXlpMyk7T++3EgYPTbtP6+JO/XVvuw/H87hVws/7D9y1LYwZ7frP7Fs2nmGKOs/4scQ8RWT6j9C9+B8zvfpPwQYCGZxV+k/ixsrjsSy6D+0qZbJjgroP4tvf3yUX+c/W4FMlZSy5j83ccf1RQTmP1VVVVVVVeU/VVVVVVVV5T9Xf0AqneHkP3m01jOQY+Q/FE8/4cba4z+IjBKd8EbjP/z5nX7Zp+I/GtFJ4m/94T/wdQ6NyUfhP3120fInh+A/BWX7Z/Z33z/ZBjPdxs3dP4VAQyhgEdw/R31mLrpE2j/ZBbbfG2rYPxrZV0wNhNY/Lw3tg0aV1D9H5D9KnKDSP4pEstzrqNA/3mB0IQ5izT+LNEv4Q3fJP+r6vkKGlsU/Ur0onW3EwT+XhkkqGAq8P7O2eWXEt7Q/m/DI72ovqz/RRnHFYrqaPwAAAAAAAAAAAAAAAAAAAADXRnHFYrqaP6HwyO9qL6s/srZ5ZcS3tD+XhkkqGAq8P1K9KJ1txME/7fq+QoaWxT+INEv4Q3fJP95gdCEOYs0/ikSy3Ouo0D9H5D9KnKDSPy8N7YNGldQ/GtlXTA2E1j/aBbbfG2rYP0d9Zi66RNo/hUBDKGAR3D/aBjPdxs3dPwVl+2f2d98/fXbR8ieH4D/wdQ6NyUfhPxrRSeJv/eE//fmdftmn4j+IjBKd8EbjPxRPP+HG2uM/erTWM5Bj5D9Xf0AqneHkP1VVVVVVVeU/VVVVVVVV5T83ccf1RQTmP1uBTJWUsuY/i29/fJRf5z+0qZbJjgroP4sbK47Esug/BBgIZnFX6T9C9+B8zvfpP+LHEPEVk+o/sWzaeYYo6z9z1LYwZ7frPx/O4VcLP+w/r4k79dW+7D++3EgYPTbtP/xl5aTMpO0/4IUIgigK7j8jbWUUDmbuP6vf8vZUuO4/35OT7u4A7z/bEyAh5z/vP29k+KFgde8/PjU3bpSh7z9AYBn4zsTvPxuY82Nt3+8/R0Q8mdrx7z9pGBhIjPzvPwAAAAAAAPA/",
          "dtype": "f8"
         }
        },
        {
         "marker": {
          "colorscale": [
           [
            0,
            "#440154"
           ],
           [
            0.1111111111111111,
            "#482878"
           ],
           [
            0.2222222222222222,
            "#3e4989"
           ],
           [
            0.3333333333333333,
            "#31688e"
           ],
           [
            0.4444444444444444,
            "#26828e"
           ],
           [
            0.5555555555555556,
            "#1f9e89"
           ],
           [
            0.6666666666666666,
            "#35b779"
           ],
           [
            0.7777777777777778,
            "#6ece58"
           ],
           [
            0.8888888888888888,
            "#b5de2b"
           ],
           [
            1,
            "#fde725"
           ]
          ],
          "opacity": 1,
          "size": 2
         },
         "mode": "markers",
         "name": "Pixel 0",
         "type": "scatter3d",
         "x": {
          "bdata": "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",
          "dtype": "f8"
         },
         "y": {
          "bdata": "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",
          "dtype": "f8"
         },
         "z": {
          "bdata": "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",
          "dtype": "f8"
         }
        },
        {
         "marker": {
          "color": "red",
          "colorscale": [
           [
            0,
            "#440154"
           ],
           [
            0.1111111111111111,
            "#482878"
           ],
           [
            0.2222222222222222,
            "#3e4989"
           ],
           [
            0.3333333333333333,
            "#31688e"
           ],
           [
            0.4444444444444444,
            "#26828e"
           ],
           [
            0.5555555555555556,
            "#1f9e89"
           ],
           [
            0.6666666666666666,
            "#35b779"
           ],
           [
            0.7777777777777778,
            "#6ece58"
           ],
           [
            0.8888888888888888,
            "#b5de2b"
           ],
           [
            1,
            "#fde725"
           ]
          ],
          "opacity": 0.8,
          "size": 10
         },
         "mode": "markers",
         "name": "Corners",
         "type": "scatter3d",
         "x": [
          0,
          4.5639891522016886e-17,
          -0.7071067811865475,
          -0.7453559924999299
         ],
         "y": [
          0,
          0.7453559924999299,
          0.7071067811865476,
          9.127978304403377e-17
         ],
         "z": [
          1,
          0.6666666666666666,
          0,
          0.6666666666666666
         ]
        },
        {
         "marker": {
          "color": "blue",
          "colorscale": [
           [
            0,
            "#440154"
           ],
           [
            0.1111111111111111,
            "#482878"
           ],
           [
            0.2222222222222222,
            "#3e4989"
           ],
           [
            0.3333333333333333,
            "#31688e"
           ],
           [
            0.4444444444444444,
            "#26828e"
           ],
           [
            0.5555555555555556,
            "#1f9e89"
           ],
           [
            0.6666666666666666,
            "#35b779"
           ],
           [
            0.7777777777777778,
            "#6ece58"
           ],
           [
            0.8888888888888888,
            "#b5de2b"
           ],
           [
            1,
            "#fde725"
           ]
          ],
          "opacity": 0.8,
          "size": 4
         },
         "mode": "markers",
         "name": "Borders",
         "type": "scatter3d",
         "x": {
          "bdata": "AAAAAAAAAACQvEN51WRAPLKzqJWAllA8CrBguyMoWTyBO2LwP/FgPIolZScGYGU8PRLahEndaTww4AC5nmVuPEyuZKOpenE8oyLHtjzEczwyErxPew12PKNzpxBKVHg8gptEpIiWejx08qJVG9J8PBhgpb/0BH881s79lo+WgDyPDjCmYqSBPO4ug+Ucq4I8FETR1/6pgzxG4dKPYqCEPDMPC0S9jYU80c3DD6BxhjzQEYfqt0uHPF9T5+jMG4g8iw194MDhiDyh1nmNjZ2JPP59H1pCT4o8/n0fWkJPijyiuTs1clmcv9x0GsOT1ay/4Vcvnn75tb+mcVPShL29v/+rVSxW2MK//ltUrsPlxr+AR32ruQLLvyqm3ydYKs+/Pu6s16Gr0b8fTMMP4MHTvxCkYB3p1NW/+1CnSLPh179z7ezWPeXZv3jebX+m3Nu//fY94j3F3b9mE9KymZzfvx+oeL1RsOC/d81tltGH4b893suPIlTiv1P38LvNFOO/zSeNro3J478kXplQS3Lkv44JmFcZD+W/qddT0i6g5b8QqZY54SXmv8w7f2aeoOa/zDt/Zp6g5r8rxmBi8RTnv/pco6t8hue/OeBlr1L05799Goqgdl3ov6Ufg7XgwOi/TOI9ooMd6b/3M4A6U3LpvxTkMAtMvum/w1wLmXsA6r+mTWHVCDjqvwHKn0I8ZOq/UiknN4eE6r9cq1exiZjqv5ZBAUUWoOq/c7FIzzOb6r9hrDvOHIrqvwB3JG48beq/atyukClF6r+2gzY6oBLqvz0mQOt51um/8nsedaWR6b8eevbRHkXpv24D8HTn8ei/F+fra/+Y6L95tWaNXzvovzVGdc/02ee/NUZ1z/TZ57+6KwGX2jjnv2r9SOqZjua/UvXBzyTb5b9O1mD1gB7lvyrzA7TJWOS/aT6MvTGK47+fs1tYBLPiv6YMrwym0+G/kcxYrJTs4L8vnZlHzfzfv1mJ4xeTE96/J5eY/P8e3L8/LAxwvSDavyGmOUaSGti/y3VAzVoO1r89AsBMAP7Tv22rAz5w69G/Yk/+Miexz79+dOUjjY7Lv+RKqBaicse/S1UoGcBgw7/m8elkAbi+v4+F1TFpzra/h/wL43cTrr8QvQu3abmdvwAAAAAAAAAA",
          "dtype": "f8"
         },
         "y": {
          "bdata": "AAAAAAAAAAAWvQu3abmdP4z8C+N3E64/joXVMWnOtj/m8elkAbi+P0xVKBnAYMM/5kqoFqJyxz98dOUjjY7LP2JP/jInsc8/basDPnDr0T8+AsBMAP7TP8p1QM1aDtY/IaY5RpIa2D8/LAxwvSDaPyeXmPz/Htw/WYnjF5MT3j8vnZlHzfzfP5HMWKyU7OA/pgyvDKbT4T+es1tYBLPiP2s+jL0xiuM/KvMDtMlY5D9O1mD1gB7lP1L1wc8k2+U/av1I6pmO5j+6KwGX2jjnPzVGdc/02ec/NUZ1z/TZ5z95tWaNXzvoPxfn62v/mOg/bgPwdOfx6D8eevbRHkXpP/J7HnWlkek/PiZA63nW6T+1gzY6oBLqP2rcrpApReo/AHckbjxt6j9irDvOHIrqP3OxSM8zm+o/l0EBRRag6j9cq1exiZjqP1MpJzeHhOo/AcqfQjxk6j+mTWHVCDjqP8NcC5l7AOo/FeQwC0y+6T/4M4A6U3LpP0ziPaKDHek/ph+DteDA6D99Goqgdl3oPzvgZa9S9Oc/+1yjq3yG5z8sxmBi8RTnP807f2aeoOY/zTt/Zp6g5j8RqZY54SXmP6rXU9IuoOU/kAmYVxkP5T8kXplQS3LkP84nja6NyeM/VPfwu80U4z8+3suPIlTiP3nNbZbRh+E/IKh4vVGw4D9nE9KymZzfP//2PeI9xd0/et5tf6bc2z927ezWPeXZP/1Qp0iz4dc/EqRgHenU1T8hTMMP4MHTP0HurNehq9E/LqbfJ1gqzz+IR32ruQLLPwBcVK7D5cY/BKxVLFbYwj+xcVPShL29P+xXL55++bU/6nQaw5PVrD/DuTs1clmcP/59H1pCT5o8/n0fWkJPmjyh1nmNjZ2ZPIsNfeDA4Zg8X1Pn6MwbmDzQEYfqt0uXPNHNww+gcZY8MQ8LRL2NlTxH4dKPYqCUPBRE0df+qZM87i6D5RyrkjyPDjCmYqSRPNbO/ZaPlpA8GGClv/QEjzx08qJVG9KMPIKbRKSIloo8pHOnEEpUiDwxErxPew2GPKMix7Y8xIM8TK5ko6l6gTwy4AC5nmV+PDsS2oRJ3Xk8iSVlJwZgdTyBO2LwP/FwPAywYLsjKGk8r7OolYCWYDyNvEN51WRQPAAAAAAAAAAA",
          "dtype": "f8"
         },
         "z": {
          "bdata": "AAAAAAAA8D9pGBhIjPzvP0dEPJna8e8/G5jzY23f7z9AYBn4zsTvPz41N26Uoe8/b2T4oWB17z/bEyAh5z/vP9+Tk+7uAO8/q9/y9lS47j8jbWUUDmbuP+CFCIIoCu4//GXlpMyk7T++3EgYPTbtP6+JO/XVvuw/H87hVws/7D9y1LYwZ7frP7Fs2nmGKOs/4scQ8RWT6j9C9+B8zvfpPwQYCGZxV+k/ixsrjsSy6D+0qZbJjgroP4tvf3yUX+c/W4FMlZSy5j83ccf1RQTmP1VVVVVVVeU/VVVVVVVV5T9Xf0AqneHkP3m01jOQY+Q/FE8/4cba4z+IjBKd8EbjP/35nX7Zp+I/GtFJ4m/94T/wdQ6NyUfhP3120fInh+A/BWX7Z/Z33z/aBjPdxs3dP4VAQyhgEdw/SH1mLrpE2j/ZBbbfG2rYPxrZV0wNhNY/Lw3tg0aV1D9H5D9KnKDSP4pEstzrqNA/3mB0IQ5izT+LNEv4Q3fJP+r6vkKGlsU/Ur0onW3EwT+XhkkqGAq8P7O2eWXEt7Q/m/DI72ovqz/RRnHFYrqaPwAAAAAAAAAAAAAAAAAAAADWRnHFYrqaP6HwyO9qL6s/srZ5ZcS3tD+XhkkqGAq8P1K9KJ1txME/7fq+QoaWxT+INEv4Q3fJP95gdCEOYs0/ikSy3Ouo0D9H5D9KnKDSPy8N7YNGldQ/GtlXTA2E1j/aBbbfG2rYP0d9Zi66RNo/hUBDKGAR3D/aBjPdxs3dPwVl+2f2d98/fXbR8ieH4D/wdQ6NyUfhPxrRSeJv/eE//fmdftmn4j+IjBKd8EbjPxRPP+HG2uM/erTWM5Bj5D9Xf0AqneHkP1VVVVVVVeU/VVVVVVVV5T83ccf1RQTmP1uBTJWUsuY/i29/fJRf5z+0qZbJjgroP4sbK47Esug/BBgIZnFX6T9C9+B8zvfpP+LHEPEVk+o/sWzaeYYo6z9z1LYwZ7frPx/O4VcLP+w/r4k79dW+7D++3EgYPTbtP/xl5aTMpO0/4IUIgigK7j8jbWUUDmbuP6vf8vZUuO4/35OT7u4A7z/bEyAh5z/vP29k+KFgde8/PjU3bpSh7z9AYBn4zsTvPxuY82Nt3+8/R0Q8mdrx7z9pGBhIjPzvPwAAAAAAAPA/",
          "dtype": "f8"
         }
        },
        {
         "marker": {
          "colorscale": [
           [
            0,
            "#440154"
           ],
           [
            0.1111111111111111,
            "#482878"
           ],
           [
            0.2222222222222222,
            "#3e4989"
           ],
           [
            0.3333333333333333,
            "#31688e"
           ],
           [
            0.4444444444444444,
            "#26828e"
           ],
           [
            0.5555555555555556,
            "#1f9e89"
           ],
           [
            0.6666666666666666,
            "#35b779"
           ],
           [
            0.7777777777777778,
            "#6ece58"
           ],
           [
            0.8888888888888888,
            "#b5de2b"
           ],
           [
            1,
            "#fde725"
           ]
          ],
          "opacity": 1,
          "size": 2
         },
         "mode": "markers",
         "name": "Pixel 1",
         "type": "scatter3d",
         "x": {
          "bdata": "AAAAAAAAAAA=",
          "dtype": "f8"
         },
         "y": {
          "bdata": "AAAAAAAAAAA=",
          "dtype": "f8"
         },
         "z": {
          "bdata": "AAAAAAAA8D8=",
          "dtype": "f8"
         }
        },
        {
         "marker": {
          "color": "red",
          "colorscale": [
           [
            0,
            "#440154"
           ],
           [
            0.1111111111111111,
            "#482878"
           ],
           [
            0.2222222222222222,
            "#3e4989"
           ],
           [
            0.3333333333333333,
            "#31688e"
           ],
           [
            0.4444444444444444,
            "#26828e"
           ],
           [
            0.5555555555555556,
            "#1f9e89"
           ],
           [
            0.6666666666666666,
            "#35b779"
           ],
           [
            0.7777777777777778,
            "#6ece58"
           ],
           [
            0.8888888888888888,
            "#b5de2b"
           ],
           [
            1,
            "#fde725"
           ]
          ],
          "opacity": 0.8,
          "size": 10
         },
         "mode": "markers",
         "name": "Corners",
         "type": "scatter3d",
         "x": [
          0,
          -0.7453559924999299,
          -0.7071067811865477,
          -1.3691967456605065e-16
         ],
         "y": [
          0,
          9.127978304403377e-17,
          -0.7071067811865475,
          -0.7453559924999299
         ],
         "z": [
          1,
          0.6666666666666666,
          0,
          0.6666666666666666
         ]
        },
        {
         "marker": {
          "color": "blue",
          "colorscale": [
           [
            0,
            "#440154"
           ],
           [
            0.1111111111111111,
            "#482878"
           ],
           [
            0.2222222222222222,
            "#3e4989"
           ],
           [
            0.3333333333333333,
            "#31688e"
           ],
           [
            0.4444444444444444,
            "#26828e"
           ],
           [
            0.5555555555555556,
            "#1f9e89"
           ],
           [
            0.6666666666666666,
            "#35b779"
           ],
           [
            0.7777777777777778,
            "#6ece58"
           ],
           [
            0.8888888888888888,
            "#b5de2b"
           ],
           [
            1,
            "#fde725"
           ]
          ],
          "opacity": 0.8,
          "size": 4
         },
         "mode": "markers",
         "name": "Borders",
         "type": "scatter3d",
         "x": {
          "bdata": "AAAAAAAAAAAWvQu3abmdv4z8C+N3E66/joXVMWnOtr/m8elkAbi+v0xVKBnAYMO/5kqoFqJyx798dOUjjY7Lv2JP/jInsc+/basDPnDr0b8+AsBMAP7Tv8p1QM1aDta/IaY5RpIa2L8/LAxwvSDavyeXmPz/Hty/WYnjF5MT3r8vnZlHzfzfv5HMWKyU7OC/pgyvDKbT4b+es1tYBLPiv2s+jL0xiuO/KvMDtMlY5L9O1mD1gB7lv1L1wc8k2+W/av1I6pmO5r+6KwGX2jjnvzVGdc/02ee/NUZ1z/TZ5795tWaNXzvovxfn62v/mOi/bgPwdOfx6L8eevbRHkXpv/J7HnWlkem/PSZA63nW6b+2gzY6oBLqv2rcrpApReq/AHckbjxt6r9irDvOHIrqv3SxSM8zm+q/lkEBRRag6r9dq1exiZjqv1MpJzeHhOq/AsqfQjxk6r+mTWHVCDjqv8NcC5l7AOq/FeQwC0y+6b/4M4A6U3Lpv07iPaKDHem/ph+DteDA6L99Goqgdl3ovzvgZa9S9Oe/+1yjq3yG578txmBi8RTnv847f2aeoOa/zjt/Zp6g5r8SqZY54SXmv6rXU9IuoOW/kQmYVxkP5b8lXplQS3Lkv84nja6NyeO/Vffwu80U478/3suPIlTiv3rNbZbRh+G/Iah4vVGw4L9oE9KymZzfvwD3PeI9xd2/fN5tf6bc27937ezWPeXZv/1Qp0iz4de/EqRgHenU1b8jTMMP4MHTv0LurNehq9G/MabfJ1gqz7+MR32ruQLLvwJcVK7D5ca/BqxVLFbYwr+0cVPShL29v/BXL55++bW/8XQaw5PVrL/SuTs1clmcv36el8Nxu6O8fp6Xw3G7o7z5YBsqKjajvCnKXahQqaK8h36trtkUorxbTeXvyXihvFza0gs41aC8ZUsI800qoLzpUbzXk/CevB3muUP+fp28ZcZEWKsAnLzWFUj5k3aavEG2fGLX4Zi8EQi8j7dDl7zWNTqAlJ2VvKF0M3vm8JO8upZ9jDc/krylDc17HIqQvPOzKhJbpo28cQUXdf43irwmqMAKN8yGvKuNoyP3ZYO8J9yLnQQIgLxAWZPo32l5vAiEiMwa3nK8hg194MDhaLzSmuU1QJdYvAAAAAAAAAAA",
          "dtype": "f8"
         },
         "y": {
          "bdata": "AAAAAAAAAACQvEN51WRQPLKzqJWAlmA8CrBguyMoaTyBO2LwP/FwPIolZScGYHU8PRLahEndeTww4AC5nmV+PEyuZKOpeoE8oyLHtjzEgzwyErxPew2GPKNzpxBKVIg8gptEpIiWijx08qJVG9KMPBhgpb/0BI881s79lo+WkDyPDjCmYqSRPO4ug+Ucq5I8FETR1/6pkzxG4dKPYqCUPDMPC0S9jZU80c3DD6BxljzQEYfqt0uXPF9T5+jMG5g8iw194MDhmDyh1nmNjZ2ZPP59H1pCT5o8/n0fWkJPmjyWuTs1clmcv9Z0GsOT1ay/3Vcvnn75tb+jcVPShL29v/yrVSxW2MK/+1tUrsPlxr9/R32ruQLLvyim3ydYKs+/Pe6s16Gr0b8eTMMP4MHTvw6kYB3p1NW/+VCnSLPh179y7ezWPeXZv3febX+m3Nu//PY94j3F3b9lE9KymZzfvx6oeL1RsOC/ds1tltGH4b893suPIlTiv1L38LvNFOO/zSeNro3J478kXplQS3Lkv44JmFcZD+W/qddT0i6g5b8QqZY54SXmv8w7f2aeoOa/zDt/Zp6g5r8rxmBi8RTnv/pco6t8hue/OeBlr1L05799Goqgdl3ov6Ufg7XgwOi/TOI9ooMd6b/3M4A6U3LpvxTkMAtMvum/w1wLmXsA6r+mTWHVCDjqvwHKn0I8ZOq/UiknN4eE6r9cq1exiZjqv5ZBAUUWoOq/crFIzzOb6r9hrDvOHIrqvwB3JG48beq/atyukClF6r+2gzY6oBLqvz0mQOt51um/8nsedaWR6b8eevbRHkXpv24D8HTn8ei/F+fra/+Y6L95tWaNXzvovzVGdc/02ee/NUZ1z/TZ57+6KwGX2jjnv2r9SOqZjua/UvXBzyTb5b9O1mD1gB7lvyrzA7TJWOS/aT6MvTGK47+fs1tYBLPiv6YMrwym0+G/kcxYrJTs4L8vnZlHzfzfv1mJ4xeTE96/J5eY/P8e3L8/LAxwvSDavyGmOUaSGti/y3VAzVoO1r89AsBMAP7Tv22rAz5w69G/Yk/+Miexz79+dOUjjY7Lv+RKqBaicse/S1UoGcBgw7/m8elkAbi+v4+F1TFpzra/h/wL43cTrr8QvQu3abmdvwAAAAAAAAAA",
          "dtype": "f8"
         },
         "z": {
          "bdata": "AAAAAAAA8D9pGBhIjPzvP0dEPJna8e8/G5jzY23f7z9AYBn4zsTvPz41N26Uoe8/b2T4oWB17z/bEyAh5z/vP9+Tk+7uAO8/q9/y9lS47j8jbWUUDmbuP+CFCIIoCu4//GXlpMyk7T++3EgYPTbtP6+JO/XVvuw/H87hVws/7D9y1LYwZ7frP7Fs2nmGKOs/4scQ8RWT6j9C9+B8zvfpPwQYCGZxV+k/ixsrjsSy6D+0qZbJjgroP4tvf3yUX+c/W4FMlZSy5j83ccf1RQTmP1VVVVVVVeU/VVVVVVVV5T9Xf0AqneHkP3m01jOQY+Q/FE8/4cba4z+IjBKd8EbjP/z5nX7Zp+I/GtFJ4m/94T/wdQ6NyUfhP3x20fInh+A/BWX7Z/Z33z/ZBjPdxs3dP4VAQyhgEdw/R31mLrpE2j/ZBbbfG2rYPxrZV0wNhNY/Lw3tg0aV1D9H5D9KnKDSP4pEstzrqNA/3WB0IQ5izT+LNEv4Q3fJP+r6vkKGlsU/Ur0onW3EwT+XhkkqGAq8P7K2eWXEt7Q/m/DI72ovqz/RRnHFYrqaPwAAAAAAAAAAAAAAAAAAAADWRnHFYrqaP6HwyO9qL6s/srZ5ZcS3tD+XhkkqGAq8P1K9KJ1txME/7fq+QoaWxT+INEv4Q3fJP95gdCEOYs0/ikSy3Ouo0D9H5D9KnKDSPy8N7YNGldQ/GtlXTA2E1j/aBbbfG2rYP0d9Zi66RNo/hEBDKGAR3D/aBjPdxs3dPwVl+2f2d98/fXbR8ieH4D/wdQ6NyUfhPxrRSeJv/eE//fmdftmn4j+IjBKd8EbjPxRPP+HG2uM/erTWM5Bj5D9Xf0AqneHkP1VVVVVVVeU/VVVVVVVV5T83ccf1RQTmP1uBTJWUsuY/i29/fJRf5z+0qZbJjgroP4sbK47Esug/BBgIZnFX6T9C9+B8zvfpP+LHEPEVk+o/sWzaeYYo6z9z1LYwZ7frPx/O4VcLP+w/r4k79dW+7D++3EgYPTbtP/xl5aTMpO0/4IUIgigK7j8jbWUUDmbuP6vf8vZUuO4/35OT7u4A7z/bEyAh5z/vP29k+KFgde8/PjU3bpSh7z9AYBn4zsTvPxuY82Nt3+8/R0Q8mdrx7z9pGBhIjPzvPwAAAAAAAPA/",
          "dtype": "f8"
         }
        },
        {
         "marker": {
          "colorscale": [
           [
            0,
            "#440154"
           ],
           [
            0.1111111111111111,
            "#482878"
           ],
           [
            0.2222222222222222,
            "#3e4989"
           ],
           [
            0.3333333333333333,
            "#31688e"
           ],
           [
            0.4444444444444444,
            "#26828e"
           ],
           [
            0.5555555555555556,
            "#1f9e89"
           ],
           [
            0.6666666666666666,
            "#35b779"
           ],
           [
            0.7777777777777778,
            "#6ece58"
           ],
           [
            0.8888888888888888,
            "#b5de2b"
           ],
           [
            1,
            "#fde725"
           ]
          ],
          "opacity": 1,
          "size": 2
         },
         "mode": "markers",
         "name": "Pixel 2",
         "type": "scatter3d",
         "x": {
          "bdata": "AAAAAAAAAAA=",
          "dtype": "f8"
         },
         "y": {
          "bdata": "AAAAAAAAAAA=",
          "dtype": "f8"
         },
         "z": {
          "bdata": "AAAAAAAA8D8=",
          "dtype": "f8"
         }
        },
        {
         "marker": {
          "color": "red",
          "colorscale": [
           [
            0,
            "#440154"
           ],
           [
            0.1111111111111111,
            "#482878"
           ],
           [
            0.2222222222222222,
            "#3e4989"
           ],
           [
            0.3333333333333333,
            "#31688e"
           ],
           [
            0.4444444444444444,
            "#26828e"
           ],
           [
            0.5555555555555556,
            "#1f9e89"
           ],
           [
            0.6666666666666666,
            "#35b779"
           ],
           [
            0.7777777777777778,
            "#6ece58"
           ],
           [
            0.8888888888888888,
            "#b5de2b"
           ],
           [
            1,
            "#fde725"
           ]
          ],
          "opacity": 0.8,
          "size": 10
         },
         "mode": "markers",
         "name": "Corners",
         "type": "scatter3d",
         "x": [
          0,
          -1.3691967456605065e-16,
          0.7071067811865474,
          0.7453559924999299
         ],
         "y": [
          0,
          -0.7453559924999299,
          -0.7071067811865477,
          0
         ],
         "z": [
          1,
          0.6666666666666666,
          0,
          0.6666666666666666
         ]
        },
        {
         "marker": {
          "color": "blue",
          "colorscale": [
           [
            0,
            "#440154"
           ],
           [
            0.1111111111111111,
            "#482878"
           ],
           [
            0.2222222222222222,
            "#3e4989"
           ],
           [
            0.3333333333333333,
            "#31688e"
           ],
           [
            0.4444444444444444,
            "#26828e"
           ],
           [
            0.5555555555555556,
            "#1f9e89"
           ],
           [
            0.6666666666666666,
            "#35b779"
           ],
           [
            0.7777777777777778,
            "#6ece58"
           ],
           [
            0.8888888888888888,
            "#b5de2b"
           ],
           [
            1,
            "#fde725"
           ]
          ],
          "opacity": 0.8,
          "size": 4
         },
         "mode": "markers",
         "name": "Borders",
         "type": "scatter3d",
         "x": {
          "bdata": "AAAAAAAAAADXmuU1QJdYvIsNfeDA4Wi8CISIzBrecrxAWZPo32l5vCfci50ECIC8ro2jI/dlg7wjqMAKN8yGvHEFF3X+N4q887MqElumjbylDc17HIqQvLmWfYw3P5K8oXQze+bwk7zWNTqAlJ2VvBEIvI+3Q5e8QbZ8YtfhmLzWFUj5k3aavGXGRFirAJy8Hea5Q/5+nbzoUbzXk/CevGZLCPNNKqC8XNrSCzjVoLxbTeXvyXihvId+ra7ZFKK8KcpdqFCporz5YBsqKjajvH6el8Nxu6O8fp6Xw3G7o7yGuTs1clmcP810GsOT1aw/2lcvnn75tT+fcVPShL29P/qrVSxW2MI/+VtUrsPlxj97R32ruQLLPyWm3ydYKs8/Pe6s16Gr0T8cTMMP4MHTPw2kYB3p1NU/+VCnSLPh1z9x7ezWPeXZP3bebX+m3Ns/+/Y94j3F3T9jE9KymZzfPx6oeL1RsOA/ds1tltGH4T893suPIlTiP1L38LvNFOM/zCeNro3J4z8jXplQS3LkP40JmFcZD+U/qNdT0i6g5T8PqZY54SXmP8s7f2aeoOY/yzt/Zp6g5j8qxmBi8RTnP/lco6t8huc/OeBlr1L05z98Goqgdl3oP6Ufg7XgwOg/TOI9ooMd6T/3M4A6U3LpPxTkMAtMvuk/w1wLmXsA6j+lTWHVCDjqP//Jn0I8ZOo/UiknN4eE6j9cq1exiZjqP5ZBAUUWoOo/c7FIzzOb6j9hrDvOHIrqPwB3JG48beo/atyukClF6j+2gzY6oBLqPz0mQOt51uk/8nsedaWR6T8devbRHkXpP24D8HTn8eg/F+fra/+Y6D95tWaNXzvoPzVGdc/02ec/NUZ1z/TZ5z+6KwGX2jjnP2r9SOqZjuY/UvXBzyTb5T9O1mD1gB7lPyrzA7TJWOQ/aT6MvTGK4z+fs1tYBLPiP6YMrwym0+E/kcxYrJTs4D8vnZlHzfzfP1mJ4xeTE94/J5eY/P8e3D8/LAxwvSDaPyGmOUaSGtg/y3VAzVoO1j89AsBMAP7TP22rAz5w69E/Yk/+Miexzz9+dOUjjY7LP+RKqBaicsc/S1UoGcBgwz/m8elkAbi+P4+F1TFpzrY/h/wL43cTrj8QvQu3abmdPwAAAAAAAAAA",
          "dtype": "f8"
         },
         "y": {
          "bdata": "AAAAAAAAAAAWvQu3abmdv4z8C+N3E66/joXVMWnOtr/m8elkAbi+v0xVKBnAYMO/5kqoFqJyx798dOUjjY7Lv2JP/jInsc+/basDPnDr0b8+AsBMAP7Tv8p1QM1aDta/IaY5RpIa2L8/LAxwvSDavyeXmPz/Hty/WYnjF5MT3r8vnZlHzfzfv5HMWKyU7OC/pgyvDKbT4b+es1tYBLPiv2s+jL0xiuO/KvMDtMlY5L9O1mD1gB7lv1L1wc8k2+W/av1I6pmO5r+6KwGX2jjnvzVGdc/02ee/NUZ1z/TZ5795tWaNXzvovxfn62v/mOi/bwPwdOfx6L8eevbRHkXpv/J7HnWlkem/PiZA63nW6b+2gzY6oBLqv2vcrpApReq/AXckbjxt6r9irDvOHIrqv3SxSM8zm+q/l0EBRRag6r9dq1exiZjqv1MpJzeHhOq/AsqfQjxk6r+mTWHVCDjqv8RcC5l7AOq/FuQwC0y+6b/5M4A6U3Lpv07iPaKDHem/px+DteDA6L9+Goqgdl3ovzzgZa9S9Oe/+1yjq3yG578uxmBi8RTnv847f2aeoOa/zjt/Zp6g5r8SqZY54SXmv6rXU9IuoOW/kQmYVxkP5b8lXplQS3Lkv88nja6NyeO/Vffwu80U478/3suPIlTiv3nNbZbRh+G/Iah4vVGw4L9pE9KymZzfv//2PeI9xd2/fN5tf6bc27927ezWPeXZv/xQp0iz4de/E6RgHenU1b8hTMMP4MHTv0HurNehq9G/LqbfJ1gqz7+HR32ruQLLv/5bVK7D5ca/AqxVLFbYwr+scVPShL29v+dXL55++bW/33Qaw5PVrL+ruTs1clmcvwAAAAAAAAAAAAAAAAAAAAAAAAAAAAAAAAAAAAAAAAAAAAAAAAAAAAAAAAAAAAAAAAAAAAAAAAAAAAAAAAAAAAAAAAAAAAAAAAAAAAAAAAAAAAAAAAAAAAAAAAAAAAAAAAAAAAAAAAAAAAAAAAAAAAAAAAAAAAAAAAAAAAAAAAAAAAAAAAAAAAAAAAAAAAAAAAAAAAAAAAAAAAAAAAAAAAAAAAAAAAAAAAAAAAAAAAAAAAAAAAAAAAAAAAAAAAAAAAAAAAAAAAAAAAAAAAAAAAAAAAAAAAAAAAAAAAAAAAAA",
          "dtype": "f8"
         },
         "z": {
          "bdata": "AAAAAAAA8D9pGBhIjPzvP0dEPJna8e8/G5jzY23f7z9AYBn4zsTvPz41N26Uoe8/b2T4oWB17z/bEyAh5z/vP9+Tk+7uAO8/q9/y9lS47j8jbWUUDmbuP+CFCIIoCu4//GXlpMyk7T++3EgYPTbtP6+JO/XVvuw/H87hVws/7D9y1LYwZ7frP7Fs2nmGKOs/4scQ8RWT6j9C9+B8zvfpPwQYCGZxV+k/ixsrjsSy6D+0qZbJjgroP4tvf3yUX+c/W4FMlZSy5j83ccf1RQTmP1VVVVVVVeU/VVVVVVVV5T9Xf0AqneHkP3m01jOQY+Q/FE8/4cba4z+IjBKd8EbjP/35nX7Zp+I/GtFJ4m/94T/wdQ6NyUfhP3120fInh+A/BmX7Z/Z33z/ZBjPdxs3dP4VAQyhgEdw/SH1mLrpE2j/ZBbbfG2rYPxrZV0wNhNY/Lw3tg0aV1D9H5D9KnKDSP4pEstzrqNA/3mB0IQ5izT+MNEv4Q3fJP+r6vkKGlsU/U70onW3EwT+XhkkqGAq8P7O2eWXEt7Q/m/DI72ovqz/SRnHFYrqaPwAAAAAAAAAAAAAAAAAAAADWRnHFYrqaP6HwyO9qL6s/srZ5ZcS3tD+XhkkqGAq8P1O9KJ1txME/7fq+QoaWxT+JNEv4Q3fJP95gdCEOYs0/ikSy3Ouo0D9I5D9KnKDSPy8N7YNGldQ/G9lXTA2E1j/aBbbfG2rYP0d9Zi66RNo/hkBDKGAR3D/aBjPdxs3dPwZl+2f2d98/fXbR8ieH4D/wdQ6NyUfhPxrRSeJv/eE//fmdftmn4j+IjBKd8EbjPxRPP+HG2uM/erTWM5Bj5D9Xf0AqneHkP1VVVVVVVeU/VVVVVVVV5T83ccf1RQTmP1uBTJWUsuY/i29/fJRf5z+0qZbJjgroP4sbK47Esug/BBgIZnFX6T9C9+B8zvfpP+LHEPEVk+o/sWzaeYYo6z9z1LYwZ7frPx/O4VcLP+w/r4k79dW+7D++3EgYPTbtP/xl5aTMpO0/4IUIgigK7j8jbWUUDmbuP6vf8vZUuO4/35OT7u4A7z/bEyAh5z/vP29k+KFgde8/PjU3bpSh7z9AYBn4zsTvPxuY82Nt3+8/R0Q8mdrx7z9pGBhIjPzvPwAAAAAAAPA/",
          "dtype": "f8"
         }
        },
        {
         "marker": {
          "colorscale": [
           [
            0,
            "#440154"
           ],
           [
            0.1111111111111111,
            "#482878"
           ],
           [
            0.2222222222222222,
            "#3e4989"
           ],
           [
            0.3333333333333333,
            "#31688e"
           ],
           [
            0.4444444444444444,
            "#26828e"
           ],
           [
            0.5555555555555556,
            "#1f9e89"
           ],
           [
            0.6666666666666666,
            "#35b779"
           ],
           [
            0.7777777777777778,
            "#6ece58"
           ],
           [
            0.8888888888888888,
            "#b5de2b"
           ],
           [
            1,
            "#fde725"
           ]
          ],
          "opacity": 1,
          "size": 2
         },
         "mode": "markers",
         "name": "Pixel 3",
         "type": "scatter3d",
         "x": {
          "bdata": "AAAAAAAAAAAWvQu3abmdP4z8C+N3E64/joXVMWnOtj/m8elkAbi+P0xVKBnAYMM/5kqoFqJyxz98dOUjjY7LP2JP/jInsc8/basDPnDr0T8+AsBMAP7TP8p1QM1aDtY/IaY5RpIa2D8/LAxwvSDaPyeXmPz/Htw/WYnjF5MT3j8vnZlHzfzfP5HMWKyU7OA/pgyvDKbT4T+es1tYBLPiP2s+jL0xiuM/KvMDtMlY5D9O1mD1gB7lP1L1wc8k2+U/av1I6pmO5j+6KwGX2jjnPzVGdc/02ec/",
          "dtype": "f8"
         },
         "y": {
          "bdata": "AAAAAAAAAAAAAAAAAAAAAAAAAAAAAAAAAAAAAAAAAAAAAAAAAAAAAAAAAAAAAAAAAAAAAAAAAAAAAAAAAAAAAAAAAAAAAAAAAAAAAAAAAAAAAAAAAAAAAAAAAAAAAAAAAAAAAAAAAAAAAAAAAAAAAAAAAAAAAAAAAAAAAAAAAAAAAAAAAAAAAAAAAAAAAAAAAAAAAAAAAAAAAAAAAAAAAAAAAAAAAAAAAAAAAAAAAAAAAAAAAAAAAAAAAAAAAAAAAAAAAAAAAAAAAAAAAAAAAAAAAAAAAAAA",
          "dtype": "f8"
         },
         "z": {
          "bdata": "AAAAAAAA8D9pGBhIjPzvP0dEPJna8e8/G5jzY23f7z9AYBn4zsTvPz41N26Uoe8/b2T4oWB17z/bEyAh5z/vP9+Tk+7uAO8/q9/y9lS47j8jbWUUDmbuP+CFCIIoCu4//GXlpMyk7T++3EgYPTbtP6+JO/XVvuw/H87hVws/7D9y1LYwZ7frP7Fs2nmGKOs/4scQ8RWT6j9C9+B8zvfpPwQYCGZxV+k/ixsrjsSy6D+0qZbJjgroP4tvf3yUX+c/W4FMlZSy5j83ccf1RQTmP1VVVVVVVeU/",
          "dtype": "f8"
         }
        },
        {
         "marker": {
          "color": "red",
          "colorscale": [
           [
            0,
            "#440154"
           ],
           [
            0.1111111111111111,
            "#482878"
           ],
           [
            0.2222222222222222,
            "#3e4989"
           ],
           [
            0.3333333333333333,
            "#31688e"
           ],
           [
            0.4444444444444444,
            "#26828e"
           ],
           [
            0.5555555555555556,
            "#1f9e89"
           ],
           [
            0.6666666666666666,
            "#35b779"
           ],
           [
            0.7777777777777778,
            "#6ece58"
           ],
           [
            0.8888888888888888,
            "#b5de2b"
           ],
           [
            1,
            "#fde725"
           ]
          ],
          "opacity": 0.8,
          "size": 10
         },
         "mode": "markers",
         "name": "Corners",
         "type": "scatter3d",
         "x": [
          0.7453559924999299,
          0.7071067811865474,
          0.7453559924999299,
          0.7071067811865476
         ],
         "y": [
          0,
          -0.7071067811865477,
          0,
          0.7071067811865475
         ],
         "z": [
          0.6666666666666666,
          0,
          -0.6666666666666666,
          0
         ]
        },
        {
         "marker": {
          "color": "blue",
          "colorscale": [
           [
            0,
            "#440154"
           ],
           [
            0.1111111111111111,
            "#482878"
           ],
           [
            0.2222222222222222,
            "#3e4989"
           ],
           [
            0.3333333333333333,
            "#31688e"
           ],
           [
            0.4444444444444444,
            "#26828e"
           ],
           [
            0.5555555555555556,
            "#1f9e89"
           ],
           [
            0.6666666666666666,
            "#35b779"
           ],
           [
            0.7777777777777778,
            "#6ece58"
           ],
           [
            0.8888888888888888,
            "#b5de2b"
           ],
           [
            1,
            "#fde725"
           ]
          ],
          "opacity": 0.8,
          "size": 4
         },
         "mode": "markers",
         "name": "Borders",
         "type": "scatter3d",
         "x": {
          "bdata": "NUZ1z/TZ5z//zCDH0UfoP0NLdCyvsOg/RSurEjMT6T+fZYIL8m3pPxAN+HV4v+k/3o1YJFYG6j/21531K0HqP/9WNq26buo//cnTB/KN6j8XWY7T/p3qP7ZTCL1Wnuo/MllencCO6j+zDuBfWG/qP6GMIQqOQOo/2HI0+h8D6j+eoEn1ELjpPz0+xgybYOk/zOjinyD+6D/C4rzNHJLoP0U5zYsUHug/mcumU4mj5z9pgQoJ7iPnP8s7f2aeoOY/yzt/Zp6g5j9pgQoJ7iPnP5jLplOJo+c/RTnNixQe6D/C4rzNHJLoP8zo4p8g/ug/PT7GDJtg6T+eoEn1ELjpP9hyNPofA+o/oYwhCo5A6j+zDuBfWG/qPzJZXp3Ajuo/tlMIvVae6j8WWY7T/p3qP/3J0wfyjeo//1Y2rbpu6j/21531K0HqP96NWCRWBuo/EA34dXi/6T+fZYIL8m3pP0UrqxIzE+k/REt0LK+w6D//zCDH0UfoPzVGdc/02ec/NUZ1z/TZ5z//zCDH0UfoP0NLdCyvsOg/RSurEjMT6T+fZYIL8m3pPxAN+HV4v+k/3o1YJFYG6j/21531K0HqP/9WNq26buo//cnTB/KN6j8YWY7T/p3qP7ZTCL1Wnuo/M1lencCO6j+0DuBfWG/qP6KMIQqOQOo/2XI0+h8D6j+foEn1ELjpPz4+xgybYOk/zejinyD+6D/E4rzNHJLoP0c5zYsUHug/m8umU4mj5z9rgQoJ7iPnP807f2aeoOY/zTt/Zp6g5j9rgQoJ7iPnP5rLplOJo+c/RznNixQe6D/E4rzNHJLoP83o4p8g/ug/Pj7GDJtg6T+foEn1ELjpP9lyNPofA+o/oowhCo5A6j+1DuBfWG/qPzNZXp3Ajuo/tlMIvVae6j8YWY7T/p3qP/3J0wfyjeo//1Y2rbpu6j/21531K0HqP92NWCRWBuo/EA34dXi/6T+fZYIL8m3pP0UrqxIzE+k/REt0LK+w6D//zCDH0UfoPzVGdc/02ec/",
          "dtype": "f8"
         },
         "y": {
          "bdata": "AAAAAAAAAADVkQZQUw+gv22460IOXrC//S3XqGH9uL//sWQo8+7AvwHSNwPtesW/hbSF3rwcyr9kkIW4kM3Ovxdepc7iwtG/g1G0fIse1L/rHp0WbnXWv4+7BIEow9i/hW8cAXID27+WDplQQjLdv7C3pmz1S9+/NQi7obSm4L/vLQOOCZrhv95fScgFf+K/NXDlgghV479fk/e/wBvkv6f7Xbcm0+S/EGLVt3J75b+FCAmOEhXmv847f2aeoOa/zjt/Zp6g5r+FCAmOEhXmvxBi1bdye+W/p/tdtybT5L9fk/e/wBvkvzVw5YIIVeO/3l9JyAV/4r/vLQOOCZrhvzUIu6G0puC/sLembPVL37+YDplQQjLdv4VvHAFyA9u/j7sEgSjD2L/sHp0WbnXWv4FRtHyLHtS/F16lzuLC0b9kkIW4kM3Ov4a0hd68HMq/ANI3A+16xb//sWQo8+7Av/0t16hh/bi/cbjrQg5esL/SkQZQUw+gvwAAAAAAAAAAAAAAAAAAAADUkQZQUw+gP2y460IOXrA/+i3XqGH9uD/9sWQo8+7AP//RNwPtesU/g7SF3rwcyj9gkIW4kM3OPxVepc7iwtE/gFG0fIse1D/nHp0WbnXWP427BIEow9g/gm8cAXID2z+UDplQQjLdP6y3pmz1S98/NAi7obSm4D/tLQOOCZrhP91fScgFf+I/MnDlgghV4z9dk/e/wBvkP6X7Xbcm0+Q/DmLVt3J75T+DCAmOEhXmP8w7f2aeoOY/zDt/Zp6g5j+DCAmOEhXmPw5i1bdye+U/pftdtybT5D9dk/e/wBvkPzJw5YIIVeM/3V9JyAV/4j/tLQOOCZrhPzQIu6G0puA/rLembPVL3z+VDplQQjLdP4JvHAFyA9s/jbsEgSjD2D/oHp0WbnXWP4BRtHyLHtQ/FV6lzuLC0T9gkIW4kM3OP4K0hd68HMo//9E3A+16xT/9sWQo8+7AP/st16hh/bg/cLjrQg5esD/RkQZQUw+gPwAAAAAAAAAA",
          "dtype": "f8"
         },
         "z": {
          "bdata": "VVVVVVVV5T8lS5mRxNHkPwDtvu3tQOQ/1vA18UGi4z+G4eIWWfXiP9CJbUj+OeI/vyMJ3Dhw4T91NMstVZjgP5J/HLLVZd8/bPN6Qb+B3T+Qk4qLzIbbPymFGMPxd9k/uySBnZ1Y1z+UrKVXnSzVPw3BPPP699I/5yH+Xti+0D/PmyMQlQrNP/Gq0GNunsg/H5my3m9AxD/gYPdOD+6/PwMhp1SCj7c/aDi1Rdjcrj+l4YG8Y0iePwAAAAAAAAAAAAAAAAAAAACq4YG8Y0iev2E4tUXY3K6/ASGnVIKPt7/gYPdOD+6/vx+Zst5vQMS/8KrQY26eyL/PmyMQlQrNv+ch/l7YvtC/D8E88/r30r+TrKVXnSzVv7skgZ2dWNe/KYUYw/F32b+Ok4qLzIbbv2zzekG/gd2/kn8cstVl3791NMstVZjgv78jCdw4cOG/0IltSP454r+G4eIWWfXiv9bwNfFBouO/AO2+7e1A5L8lS5mRxNHkv1VVVVVVVeW/VVVVVVVV5b8lS5mRxNHkvwDtvu3tQOS/1vA18UGi47+F4eIWWfXiv9CJbUj+OeK/vyMJ3Dhw4b91NMstVZjgv5F/HLLVZd+/bPN6Qb+B3b+Ok4qLzIbbvymFGMPxd9m/uySBnZ1Y17+VrKVXnSzVvw3BPPP699K/5yH+Xti+0L/OmyMQlQrNv/Gq0GNunsi/H5my3m9AxL/hYPdOD+6/vwMhp1SCj7e/aDi1Rdjcrr+l4YG8Y0ievwAAAAAAAAAAAAAAAAAAAACq4YG8Y0ieP2E4tUXY3K4/ASGnVIKPtz/hYPdOD+6/Px+Zst5vQMQ/8KrQY26eyD/OmyMQlQrNP+ch/l7YvtA/DsE88/r30j+UrKVXnSzVP7skgZ2dWNc/KYUYw/F32T+Nk4qLzIbbP2zzekG/gd0/kX8cstVl3z91NMstVZjgP74jCdw4cOE/0IltSP454j+F4eIWWfXiP9bwNfFBouM/AO2+7e1A5D8lS5mRxNHkP1VVVVVVVeU/",
          "dtype": "f8"
         }
        },
        {
         "marker": {
          "colorscale": [
           [
            0,
            "#440154"
           ],
           [
            0.1111111111111111,
            "#482878"
           ],
           [
            0.2222222222222222,
            "#3e4989"
           ],
           [
            0.3333333333333333,
            "#31688e"
           ],
           [
            0.4444444444444444,
            "#26828e"
           ],
           [
            0.5555555555555556,
            "#1f9e89"
           ],
           [
            0.6666666666666666,
            "#35b779"
           ],
           [
            0.7777777777777778,
            "#6ece58"
           ],
           [
            0.8888888888888888,
            "#b5de2b"
           ],
           [
            1,
            "#fde725"
           ]
          ],
          "opacity": 1,
          "size": 2
         },
         "mode": "markers",
         "name": "Pixel 4",
         "type": "scatter3d",
         "x": {
          "bdata": "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",
          "dtype": "f8"
         },
         "y": {
          "bdata": "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",
          "dtype": "f8"
         },
         "z": {
          "bdata": "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",
          "dtype": "f8"
         }
        },
        {
         "marker": {
          "color": "red",
          "colorscale": [
           [
            0,
            "#440154"
           ],
           [
            0.1111111111111111,
            "#482878"
           ],
           [
            0.2222222222222222,
            "#3e4989"
           ],
           [
            0.3333333333333333,
            "#31688e"
           ],
           [
            0.4444444444444444,
            "#26828e"
           ],
           [
            0.5555555555555556,
            "#1f9e89"
           ],
           [
            0.6666666666666666,
            "#35b779"
           ],
           [
            0.7777777777777778,
            "#6ece58"
           ],
           [
            0.8888888888888888,
            "#b5de2b"
           ],
           [
            1,
            "#fde725"
           ]
          ],
          "opacity": 0.8,
          "size": 10
         },
         "mode": "markers",
         "name": "Corners",
         "type": "scatter3d",
         "x": [
          4.5639891522016886e-17,
          0.7071067811865476,
          4.5639891522016886e-17,
          -0.7071067811865475
         ],
         "y": [
          0.7453559924999299,
          0.7071067811865475,
          0.7453559924999299,
          0.7071067811865476
         ],
         "z": [
          0.6666666666666666,
          0,
          -0.6666666666666666,
          0
         ]
        },
        {
         "marker": {
          "color": "blue",
          "colorscale": [
           [
            0,
            "#440154"
           ],
           [
            0.1111111111111111,
            "#482878"
           ],
           [
            0.2222222222222222,
            "#3e4989"
           ],
           [
            0.3333333333333333,
            "#31688e"
           ],
           [
            0.4444444444444444,
            "#26828e"
           ],
           [
            0.5555555555555556,
            "#1f9e89"
           ],
           [
            0.6666666666666666,
            "#35b779"
           ],
           [
            0.7777777777777778,
            "#6ece58"
           ],
           [
            0.8888888888888888,
            "#b5de2b"
           ],
           [
            1,
            "#fde725"
           ]
          ],
          "opacity": 0.8,
          "size": 4
         },
         "mode": "markers",
         "name": "Borders",
         "type": "scatter3d",
         "x": {
          "bdata": "/n0fWkJPijzbkQZQUw+gP3G460IOXrA//i3XqGH9uD8AsmQo8+7APwHSNwPtesU/hbSF3rwcyj9kkIW4kM3OPxZepc7iwtE/g1G0fIse1D/pHp0WbnXWP467BIEow9g/g28cAXID2z+VDplQQjLdP663pmz1S98/NQi7obSm4D/vLQOOCZrhP91fScgFf+I/M3DlgghV4z9ek/e/wBvkP6b7Xbcm0+Q/D2LVt3J75T+FCAmOEhXmP807f2aeoOY/zTt/Zp6g5j+FCAmOEhXmPxBi1bdye+U/p/tdtybT5D9ek/e/wBvkPzNw5YIIVeM/3V9JyAV/4j/vLQOOCZrhPzUIu6G0puA/rrembPVL3z+XDplQQjLdP4NvHAFyA9s/jrsEgSjD2D/qHp0WbnXWP4FRtHyLHtQ/Fl6lzuLC0T9kkIW4kM3OP4a0hd68HMo/ANI3A+16xT8AsmQo8+7AP/8t16hh/bg/c7jrQg5esD/YkQZQUw+gP/59H1pCT4o8/n0fWkJPijzNkQZQUw+gv2m460IOXrC/9i3XqGH9uL/8sWQo8+7Av/7RNwPtesW/grSF3rwcyr9fkIW4kM3OvxRepc7iwtG/f1G0fIse1L/nHp0WbnXWv467BIEow9i/gm8cAXID27+UDplQQjLdv6y3pmz1S9+/NAi7obSm4L/tLQOOCZrhv91fScgFf+K/MnDlgghV479dk/e/wBvkv6X7Xbcm0+S/DmLVt3J75b+ECAmOEhXmv8w7f2aeoOa/zDt/Zp6g5r+ECAmOEhXmvw5i1bdye+W/pftdtybT5L9dk/e/wBvkvzJw5YIIVeO/3V9JyAV/4r/tLQOOCZrhvzQIu6G0puC/rLembPVL37+UDplQQjLdv4JvHAFyA9u/jrsEgSjD2L/oHp0WbnXWv39RtHyLHtS/FF6lzuLC0b9fkIW4kM3Ov4K0hd68HMq//tE3A+16xb/8sWQo8+7Av/gt16hh/bi/bLjrQg5esL/LkQZQUw+gv/59H1pCT4o8",
          "dtype": "f8"
         },
         "y": {
          "bdata": "NUZ1z/TZ5z//zCDH0UfoP0RLdCyvsOg/RSurEjMT6T+gZYIL8m3pPxAN+HV4v+k/3o1YJFYG6j/21531K0HqP/9WNq26buo//cnTB/KN6j8XWY7T/p3qP7ZTCL1Wnuo/MllencCO6j+0DuBfWG/qP6GMIQqOQOo/2HI0+h8D6j+foEn1ELjpPz4+xgybYOk/zOjinyD+6D/D4rzNHJLoP0Y5zYsUHug/msumU4mj5z9rgQoJ7iPnP8w7f2aeoOY/zDt/Zp6g5j9rgQoJ7iPnP5rLplOJo+c/RjnNixQe6D/D4rzNHJLoP8zo4p8g/ug/Pj7GDJtg6T+foEn1ELjpP9hyNPofA+o/oYwhCo5A6j+zDuBfWG/qPzJZXp3Ajuo/tlMIvVae6j8XWY7T/p3qP/3J0wfyjeo//1Y2rbpu6j/21531K0HqP96NWCRWBuo/EA34dXi/6T+gZYIL8m3pP0UrqxIzE+k/REt0LK+w6D//zCDH0UfoPzVGdc/02ec/NUZ1z/TZ5z//zCDH0UfoP0RLdCyvsOg/RSurEjMT6T+gZYIL8m3pPxAN+HV4v+k/3o1YJFYG6j/21531K0HqP/9WNq26buo//cnTB/KN6j8YWY7T/p3qP7dTCL1Wnuo/M1lencCO6j+0DuBfWG/qP6KMIQqOQOo/2XI0+h8D6j+foEn1ELjpPz4+xgybYOk/zejinyD+6D/E4rzNHJLoP0c5zYsUHug/m8umU4mj5z9sgQoJ7iPnP807f2aeoOY/zTt/Zp6g5j9sgQoJ7iPnP5rLplOJo+c/RznNixQe6D/E4rzNHJLoP83o4p8g/ug/Pj7GDJtg6T+foEn1ELjpP9lyNPofA+o/oowhCo5A6j+0DuBfWG/qPzNZXp3Ajuo/t1MIvVae6j8YWY7T/p3qP/3J0wfyjeo//1Y2rbpu6j/21531K0HqP96NWCRWBuo/EA34dXi/6T+gZYIL8m3pP0UrqxIzE+k/REt0LK+w6D//zCDH0UfoPzVGdc/02ec/",
          "dtype": "f8"
         },
         "z": {
          "bdata": "VVVVVVVV5T8lS5mRxNHkPwHtvu3tQOQ/1vA18UGi4z+G4eIWWfXiP9CJbUj+OeI/vyMJ3Dhw4T91NMstVZjgP5F/HLLVZd8/bPN6Qb+B3T+Pk4qLzIbbPymFGMPxd9k/uySBnZ1Y1z+VrKVXnSzVPw3BPPP699I/5yH+Xti+0D/PmyMQlQrNP/Gq0GNunsg/H5my3m9AxD/hYPdOD+6/PwMhp1SCj7c/aDi1Rdjcrj+m4YG8Y0iePwAAAAAAAAAAAAAAAAAAAACr4YG8Y0iev2I4tUXY3K6/AiGnVIKPt7/hYPdOD+6/vx+Zst5vQMS/8KrQY26eyL/PmyMQlQrNv+ch/l7YvtC/DsE88/r30r+TrKVXnSzVv7skgZ2dWNe/KYUYw/F32b+Ok4qLzIbbv2zzekG/gd2/kX8cstVl3791NMstVZjgv78jCdw4cOG/0IltSP454r+G4eIWWfXiv9bwNfFBouO/AO2+7e1A5L8lS5mRxNHkv1VVVVVVVeW/VVVVVVVV5b8lS5mRxNHkvwHtvu3tQOS/1vA18UGi47+G4eIWWfXiv9CJbUj+OeK/vyMJ3Dhw4b91NMstVZjgv5F/HLLVZd+/bPN6Qb+B3b+Ok4qLzIbbvyqFGMPxd9m/uySBnZ1Y17+VrKVXnSzVvw3BPPP699K/5yH+Xti+0L/OmyMQlQrNv/Gq0GNunsi/H5my3m9AxL/hYPdOD+6/vwMhp1SCj7e/aDi1Rdjcrr+m4YG8Y0ievwAAAAAAAAAAAAAAAAAAAACr4YG8Y0ieP2E4tUXY3K4/ASGnVIKPtz/hYPdOD+6/Px+Zst5vQMQ/8KrQY26eyD/OmyMQlQrNP+ch/l7YvtA/DsE88/r30j+TrKVXnSzVP7skgZ2dWNc/KoUYw/F32T+Nk4qLzIbbP2zzekG/gd0/kX8cstVl3z91NMstVZjgP78jCdw4cOE/0IltSP454j+G4eIWWfXiP9bwNfFBouM/AO2+7e1A5D8lS5mRxNHkP1VVVVVVVeU/",
          "dtype": "f8"
         }
        },
        {
         "marker": {
          "colorscale": [
           [
            0,
            "#440154"
           ],
           [
            0.1111111111111111,
            "#482878"
           ],
           [
            0.2222222222222222,
            "#3e4989"
           ],
           [
            0.3333333333333333,
            "#31688e"
           ],
           [
            0.4444444444444444,
            "#26828e"
           ],
           [
            0.5555555555555556,
            "#1f9e89"
           ],
           [
            0.6666666666666666,
            "#35b779"
           ],
           [
            0.7777777777777778,
            "#6ece58"
           ],
           [
            0.8888888888888888,
            "#b5de2b"
           ],
           [
            1,
            "#fde725"
           ]
          ],
          "opacity": 1,
          "size": 2
         },
         "mode": "markers",
         "name": "Pixel 5",
         "type": "scatter3d",
         "x": {
          "bdata": "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",
          "dtype": "f8"
         },
         "y": {
          "bdata": "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",
          "dtype": "f8"
         },
         "z": {
          "bdata": "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",
          "dtype": "f8"
         }
        },
        {
         "marker": {
          "color": "red",
          "colorscale": [
           [
            0,
            "#440154"
           ],
           [
            0.1111111111111111,
            "#482878"
           ],
           [
            0.2222222222222222,
            "#3e4989"
           ],
           [
            0.3333333333333333,
            "#31688e"
           ],
           [
            0.4444444444444444,
            "#26828e"
           ],
           [
            0.5555555555555556,
            "#1f9e89"
           ],
           [
            0.6666666666666666,
            "#35b779"
           ],
           [
            0.7777777777777778,
            "#6ece58"
           ],
           [
            0.8888888888888888,
            "#b5de2b"
           ],
           [
            1,
            "#fde725"
           ]
          ],
          "opacity": 0.8,
          "size": 10
         },
         "mode": "markers",
         "name": "Corners",
         "type": "scatter3d",
         "x": [
          0.7071067811865476,
          0.7453559924999299,
          0,
          4.5639891522016886e-17
         ],
         "y": [
          0.7071067811865475,
          0,
          0,
          0.7453559924999299
         ],
         "z": [
          0,
          -0.6666666666666666,
          -1,
          -0.6666666666666666
         ]
        },
        {
         "marker": {
          "color": "blue",
          "colorscale": [
           [
            0,
            "#440154"
           ],
           [
            0.1111111111111111,
            "#482878"
           ],
           [
            0.2222222222222222,
            "#3e4989"
           ],
           [
            0.3333333333333333,
            "#31688e"
           ],
           [
            0.4444444444444444,
            "#26828e"
           ],
           [
            0.5555555555555556,
            "#1f9e89"
           ],
           [
            0.6666666666666666,
            "#35b779"
           ],
           [
            0.7777777777777778,
            "#6ece58"
           ],
           [
            0.8888888888888888,
            "#b5de2b"
           ],
           [
            1,
            "#fde725"
           ]
          ],
          "opacity": 0.8,
          "size": 4
         },
         "mode": "markers",
         "name": "Borders",
         "type": "scatter3d",
         "x": {
          "bdata": "zTt/Zp6g5j8sxmBi8RTnP/tco6t8huc/O+Blr1L05z99Goqgdl3oP6Yfg7XgwOg/TeI9ooMd6T/3M4A6U3LpPxXkMAtMvuk/w1wLmXsA6j+mTWHVCDjqPwHKn0I8ZOo/UyknN4eE6j9cq1exiZjqP5ZBAUUWoOo/c7FIzzOb6j9hrDvOHIrqPwB3JG48beo/atyukClF6j+2gzY6oBLqPz0mQOt51uk/8nsedaWR6T8eevbRHkXpP24D8HTn8eg/F+fra/+Y6D95tWaNXzvoPzVGdc/02ec/NUZ1z/TZ5z+6KwGX2jjnP2r9SOqZjuY/UvXBzyTb5T9O1mD1gB7lPyrzA7TJWOQ/aT6MvTGK4z+fs1tYBLPiP6YMrwym0+E/kcxYrJTs4D8vnZlHzfzfP1mJ4xeTE94/J5eY/P8e3D8/LAxwvSDaPyGmOUaSGtg/y3VAzVoO1j89AsBMAP7TP22rAz5w69E/Yk/+Miexzz9+dOUjjY7LP+RKqBaicsc/S1UoGcBgwz/m8elkAbi+P4+F1TFpzrY/h/wL43cTrj8QvQu3abmdPwAAAAAAAAAAAAAAAAAAAACQvEN51WRAPLKzqJWAllA8CrBguyMoWTyBO2LwP/FgPIolZScGYGU8PRLahEndaTww4AC5nmVuPEyuZKOpenE8oyLHtjzEczwyErxPew12PKNzpxBKVHg8gptEpIiWejx08qJVG9J8PBhgpb/0BH881s79lo+WgDyPDjCmYqSBPO4ug+Ucq4I8FETR1/6pgzxG4dKPYqCEPDMPC0S9jYU80c3DD6BxhjzQEYfqt0uHPF9T5+jMG4g8iw194MDhiDyh1nmNjZ2JPP59H1pCT4o8/n0fWkJPijy9uTs1clmcP+l0GsOT1aw/6Fcvnn75tT+ucVPShL29PwOsVSxW2MI/AVxUrsPlxj+DR32ruQLLPy2m3ydYKs8/QO6s16Gr0T8iTMMP4MHTPxCkYB3p1NU//FCnSLPh1z917ezWPeXZP3nebX+m3Ns//vY94j3F3T9oE9KymZzfPx+oeL1RsOA/eM1tltGH4T8/3suPIlTiP1T38LvNFOM/zyeNro3J4z8kXplQS3LkP5AJmFcZD+U/qtdT0i6g5T8SqZY54SXmP807f2aeoOY/",
          "dtype": "f8"
         },
         "y": {
          "bdata": "zDt/Zp6g5j8QqZY54SXmP6nXU9IuoOU/jwmYVxkP5T8kXplQS3LkP80nja6NyeM/U/fwu80U4z8+3suPIlTiP3fNbZbRh+E/H6h4vVGw4D9lE9KymZzfP/32PeI9xd0/eN5tf6bc2z9z7ezWPeXZP/tQp0iz4dc/D6RgHenU1T8fTMMP4MHTPz7urNehq9E/K6bfJ1gqzz+FR32ruQLLP/xbVK7D5cY//6tVLFbYwj+qcVPShL29P+VXL55++bU/3XQaw5PVrD+puTs1clmcPwAAAAAAAAAAAAAAAAAAAAAAAAAAAAAAAAAAAAAAAAAAAAAAAAAAAAAAAAAAAAAAAAAAAAAAAAAAAAAAAAAAAAAAAAAAAAAAAAAAAAAAAAAAAAAAAAAAAAAAAAAAAAAAAAAAAAAAAAAAAAAAAAAAAAAAAAAAAAAAAAAAAAAAAAAAAAAAAAAAAAAAAAAAAAAAAAAAAAAAAAAAAAAAAAAAAAAAAAAAAAAAAAAAAAAAAAAAAAAAAAAAAAAAAAAAAAAAAAAAAAAAAAAAAAAAAAAAAAAAAAAAAAAAAAAAAAAAAAAAAAAAAAAAAAAWvQu3abmdP4z8C+N3E64/joXVMWnOtj/m8elkAbi+P0xVKBnAYMM/5kqoFqJyxz98dOUjjY7LP2JP/jInsc8/basDPnDr0T8+AsBMAP7TP8p1QM1aDtY/IaY5RpIa2D8/LAxwvSDaPyeXmPz/Htw/WYnjF5MT3j8vnZlHzfzfP5HMWKyU7OA/pgyvDKbT4T+es1tYBLPiP2s+jL0xiuM/KvMDtMlY5D9O1mD1gB7lP1L1wc8k2+U/av1I6pmO5j+6KwGX2jjnPzVGdc/02ec/NUZ1z/TZ5z95tWaNXzvoPxfn62v/mOg/bgPwdOfx6D8eevbRHkXpP/J7HnWlkek/PSZA63nW6T+1gzY6oBLqP2rcrpApReo/AHckbjxt6j9hrDvOHIrqP3OxSM8zm+o/lkEBRRag6j9cq1exiZjqP1IpJzeHhOo/AcqfQjxk6j+mTWHVCDjqP8NcC5l7AOo/FOQwC0y+6T/4M4A6U3LpP0ziPaKDHek/pR+DteDA6D99Goqgdl3oPzrgZa9S9Oc/+lyjq3yG5z8sxmBi8RTnP8w7f2aeoOY/",
          "dtype": "f8"
         },
         "z": {
          "bdata": "AAAAAAAAAADWRnHFYrqav6HwyO9qL6u/srZ5ZcS3tL+XhkkqGAq8v1K9KJ1txMG/7fq+QoaWxb+INEv4Q3fJv95gdCEOYs2/ikSy3Ouo0L9H5D9KnKDSvy8N7YNGldS/GtlXTA2E1r/ZBbbfG2rYv0d9Zi66RNq/hEBDKGAR3L/aBjPdxs3dvwVl+2f2d9+/fXbR8ieH4L/wdQ6NyUfhvxrRSeJv/eG//fmdftmn4r+IjBKd8EbjvxRPP+HG2uO/erTWM5Bj5L9Xf0AqneHkv1VVVVVVVeW/VVVVVVVV5b83ccf1RQTmv1uBTJWUsua/i29/fJRf57+0qZbJjgrov4sbK47Esui/BBgIZnFX6b9C9+B8zvfpv+LHEPEVk+q/sWzaeYYo679z1LYwZ7frvx/O4VcLP+y/r4k79dW+7L++3EgYPTbtv/xl5aTMpO2/4IUIgigK7r8jbWUUDmbuv6vf8vZUuO6/35OT7u4A77/bEyAh5z/vv29k+KFgde+/PjU3bpSh779AYBn4zsTvvxuY82Nt3++/R0Q8mdrx779pGBhIjPzvvwAAAAAAAPC/AAAAAAAA8L9pGBhIjPzvv0dEPJna8e+/G5jzY23f779AYBn4zsTvvz41N26Uoe+/b2T4oWB177/bEyAh5z/vv9+Tk+7uAO+/q9/y9lS47r8jbWUUDmbuv+CFCIIoCu6//GXlpMyk7b++3EgYPTbtv6+JO/XVvuy/H87hVws/7L9y1LYwZ7frv7Fs2nmGKOu/4scQ8RWT6r9C9+B8zvfpvwQYCGZxV+m/ixsrjsSy6L+0qZbJjgrov4tvf3yUX+e/W4FMlZSy5r83ccf1RQTmv1VVVVVVVeW/VVVVVVVV5b9Xf0AqneHkv3m01jOQY+S/FE8/4cba47+IjBKd8Ebjv/35nX7Zp+K/GtFJ4m/94b/wdQ6NyUfhv3120fInh+C/BWX7Z/Z337/aBjPdxs3dv4VAQyhgEdy/R31mLrpE2r/aBbbfG2rYvxrZV0wNhNa/Lw3tg0aV1L9I5D9KnKDSv4pEstzrqNC/3mB0IQ5izb+MNEv4Q3fJv+r6vkKGlsW/U70onW3Ewb+XhkkqGAq8v7O2eWXEt7S/m/DI72ovq7/SRnHFYrqavwAAAAAAAAAA",
          "dtype": "f8"
         }
        },
        {
         "marker": {
          "colorscale": [
           [
            0,
            "#440154"
           ],
           [
            0.1111111111111111,
            "#482878"
           ],
           [
            0.2222222222222222,
            "#3e4989"
           ],
           [
            0.3333333333333333,
            "#31688e"
           ],
           [
            0.4444444444444444,
            "#26828e"
           ],
           [
            0.5555555555555556,
            "#1f9e89"
           ],
           [
            0.6666666666666666,
            "#35b779"
           ],
           [
            0.7777777777777778,
            "#6ece58"
           ],
           [
            0.8888888888888888,
            "#b5de2b"
           ],
           [
            1,
            "#fde725"
           ]
          ],
          "opacity": 1,
          "size": 2
         },
         "mode": "markers",
         "name": "Pixel 8",
         "type": "scatter3d",
         "x": {
          "bdata": "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",
          "dtype": "f8"
         },
         "y": {
          "bdata": "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",
          "dtype": "f8"
         },
         "z": {
          "bdata": "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",
          "dtype": "f8"
         }
        },
        {
         "marker": {
          "color": "red",
          "colorscale": [
           [
            0,
            "#440154"
           ],
           [
            0.1111111111111111,
            "#482878"
           ],
           [
            0.2222222222222222,
            "#3e4989"
           ],
           [
            0.3333333333333333,
            "#31688e"
           ],
           [
            0.4444444444444444,
            "#26828e"
           ],
           [
            0.5555555555555556,
            "#1f9e89"
           ],
           [
            0.6666666666666666,
            "#35b779"
           ],
           [
            0.7777777777777778,
            "#6ece58"
           ],
           [
            0.8888888888888888,
            "#b5de2b"
           ],
           [
            1,
            "#fde725"
           ]
          ],
          "opacity": 0.8,
          "size": 10
         },
         "mode": "markers",
         "name": "Corners",
         "type": "scatter3d",
         "x": [
          0.7071067811865474,
          -1.3691967456605065e-16,
          0,
          0.7453559924999299
         ],
         "y": [
          -0.7071067811865477,
          -0.7453559924999299,
          0,
          0
         ],
         "z": [
          0,
          -0.6666666666666666,
          -1,
          -0.6666666666666666
         ]
        },
        {
         "marker": {
          "color": "blue",
          "colorscale": [
           [
            0,
            "#440154"
           ],
           [
            0.1111111111111111,
            "#482878"
           ],
           [
            0.2222222222222222,
            "#3e4989"
           ],
           [
            0.3333333333333333,
            "#31688e"
           ],
           [
            0.4444444444444444,
            "#26828e"
           ],
           [
            0.5555555555555556,
            "#1f9e89"
           ],
           [
            0.6666666666666666,
            "#35b779"
           ],
           [
            0.7777777777777778,
            "#6ece58"
           ],
           [
            0.8888888888888888,
            "#b5de2b"
           ],
           [
            1,
            "#fde725"
           ]
          ],
          "opacity": 0.8,
          "size": 4
         },
         "mode": "markers",
         "name": "Borders",
         "type": "scatter3d",
         "x": {
          "bdata": "yzt/Zp6g5j8PqZY54SXmP6jXU9IuoOU/jQmYVxkP5T8jXplQS3LkP8wnja6NyeM/Uvfwu80U4z883suPIlTiP3bNbZbRh+E/Hqh4vVGw4D9jE9KymZzfP/z2PeI9xd0/dt5tf6bc2z9x7ezWPeXZP/lQp0iz4dc/DaRgHenU1T8cTMMP4MHTPz3urNehq9E/JabfJ1gqzz9+R32ruQLLP/dbVK7D5cY/+qtVLFbYwj+fcVPShL29P9pXL55++bU/yXQaw5PVrD+BuTs1clmcP36el8Nxu6O8fp6Xw3G7o7z5YBsqKjajvCnKXahQqaK8h36trtkUorxbTeXvyXihvFza0gs41aC8ZUsI800qoLzpUbzXk/CevB3muUP+fp28ZcZEWKsAnLzWFUj5k3aavEG2fGLX4Zi8EQi8j7dDl7zWNTqAlJ2VvKF0M3vm8JO8upZ9jDc/krylDc17HIqQvPOzKhJbpo28cQUXdf43irwmqMAKN8yGvKuNoyP3ZYO8J9yLnQQIgLxAWZPo32l5vAiEiMwa3nK8hg194MDhaLzSmuU1QJdYvAAAAAAAAAAAAAAAAAAAAAAWvQu3abmdP4z8C+N3E64/joXVMWnOtj/m8elkAbi+P0xVKBnAYMM/5kqoFqJyxz98dOUjjY7LP2JP/jInsc8/basDPnDr0T8+AsBMAP7TP8p1QM1aDtY/IaY5RpIa2D8/LAxwvSDaPyeXmPz/Htw/WYnjF5MT3j8vnZlHzfzfP5HMWKyU7OA/pgyvDKbT4T+es1tYBLPiP2s+jL0xiuM/KvMDtMlY5D9O1mD1gB7lP1L1wc8k2+U/av1I6pmO5j+6KwGX2jjnPzVGdc/02ec/NUZ1z/TZ5z95tWaNXzvoPxfn62v/mOg/bgPwdOfx6D8devbRHkXpP/J7HnWlkek/PSZA63nW6T+2gzY6oBLqP2rcrpApReo/AHckbjxt6j9hrDvOHIrqP3OxSM8zm+o/lkEBRRag6j9cq1exiZjqP1IpJzeHhOo/AcqfQjxk6j+lTWHVCDjqP8NcC5l7AOo/FOQwC0y+6T/3M4A6U3LpP0viPaKDHek/pR+DteDA6D98Goqgdl3oPzngZa9S9Oc/+Vyjq3yG5z8qxmBi8RTnP8s7f2aeoOY/",
          "dtype": "f8"
         },
         "y": {
          "bdata": "zjt/Zp6g5r8uxmBi8RTnv/tco6t8hue/O+Blr1L0579+Goqgdl3ov6cfg7XgwOi/TeI9ooMd6b/5M4A6U3LpvxbkMAtMvum/xFwLmXsA6r+mTWHVCDjqvwHKn0I8ZOq/UyknN4eE6r9dq1exiZjqv5dBAUUWoOq/dLFIzzOb6r9irDvOHIrqvwF3JG48beq/a9yukClF6r+2gzY6oBLqvz4mQOt51um/8nsedaWR6b8eevbRHkXpv24D8HTn8ei/F+fra/+Y6L95tWaNXzvovzVGdc/02ee/NUZ1z/TZ57+6KwGX2jjnv2r9SOqZjua/UvXBzyTb5b9O1mD1gB7lvyrzA7TJWOS/aT6MvTGK47+fs1tYBLPiv6YMrwym0+G/kcxYrJTs4L8vnZlHzfzfv1mJ4xeTE96/J5eY/P8e3L8/LAxwvSDavyGmOUaSGti/y3VAzVoO1r89AsBMAP7Tv22rAz5w69G/Yk/+Miexz79+dOUjjY7Lv+RKqBaicse/S1UoGcBgw7/m8elkAbi+v4+F1TFpzra/h/wL43cTrr8QvQu3abmdvwAAAAAAAAAAAAAAAAAAAAAAAAAAAAAAAAAAAAAAAAAAAAAAAAAAAAAAAAAAAAAAAAAAAAAAAAAAAAAAAAAAAAAAAAAAAAAAAAAAAAAAAAAAAAAAAAAAAAAAAAAAAAAAAAAAAAAAAAAAAAAAAAAAAAAAAAAAAAAAAAAAAAAAAAAAAAAAAAAAAAAAAAAAAAAAAAAAAAAAAAAAAAAAAAAAAAAAAAAAAAAAAAAAAAAAAAAAAAAAAAAAAAAAAAAAAAAAAAAAAAAAAAAAAAAAAAAAAAAAAAAAAAAAAAAAAAAAAAAAAAAAAAAAAACxuTs1clmcv+R0GsOT1ay/5lcvnn75tb+scVPShL29vwOsVSxW2MK/AFxUrsPlxr+GR32ruQLLvy6m3ydYKs+/Qe6s16Gr0b8iTMMP4MHTvxGkYB3p1NW//FCnSLPh17927ezWPeXZv3zebX+m3Nu///Y94j3F3b9pE9KymZzfvyGoeL1RsOC/ec1tltGH4b8/3suPIlTiv1b38LvNFOO/zyeNro3J478lXplQS3Lkv5EJmFcZD+W/qtdT0i6g5b8SqZY54SXmv847f2aeoOa/",
          "dtype": "f8"
         },
         "z": {
          "bdata": "AAAAAAAAAADXRnHFYrqav6HwyO9qL6u/srZ5ZcS3tL+XhkkqGAq8v1O9KJ1txMG/7fq+QoaWxb+INEv4Q3fJv95gdCEOYs2/ikSy3Ouo0L9H5D9KnKDSvzAN7YNGldS/GtlXTA2E1r/ZBbbfG2rYv0h9Zi66RNq/hUBDKGAR3L/aBjPdxs3dvwZl+2f2d9+/fXbR8ieH4L/vdQ6NyUfhvxrRSeJv/eG//fmdftmn4r+IjBKd8EbjvxRPP+HG2uO/erTWM5Bj5L9Xf0AqneHkv1VVVVVVVeW/VVVVVVVV5b83ccf1RQTmv1uBTJWUsua/i29/fJRf57+0qZbJjgrov4sbK47Esui/BBgIZnFX6b9C9+B8zvfpv+LHEPEVk+q/sWzaeYYo679z1LYwZ7frvx/O4VcLP+y/r4k79dW+7L++3EgYPTbtv/xl5aTMpO2/4IUIgigK7r8jbWUUDmbuv6vf8vZUuO6/35OT7u4A77/bEyAh5z/vv29k+KFgde+/PjU3bpSh779AYBn4zsTvvxuY82Nt3++/R0Q8mdrx779pGBhIjPzvvwAAAAAAAPC/AAAAAAAA8L9pGBhIjPzvv0dEPJna8e+/G5jzY23f779AYBn4zsTvvz41N26Uoe+/b2T4oWB177/bEyAh5z/vv9+Tk+7uAO+/q9/y9lS47r8jbWUUDmbuv+CFCIIoCu6//GXlpMyk7b++3EgYPTbtv6+JO/XVvuy/H87hVws/7L9y1LYwZ7frv7Fs2nmGKOu/4scQ8RWT6r9C9+B8zvfpvwQYCGZxV+m/ixsrjsSy6L+0qZbJjgrov4tvf3yUX+e/W4FMlZSy5r83ccf1RQTmv1VVVVVVVeW/VVVVVVVV5b9Xf0AqneHkv3m01jOQY+S/FE8/4cba47+IjBKd8Ebjv/35nX7Zp+K/GtFJ4m/94b/xdQ6NyUfhv3120fInh+C/BmX7Z/Z337/aBjPdxs3dv4ZAQyhgEdy/R31mLrpE2r/aBbbfG2rYvxvZV0wNhNa/Lw3tg0aV1L9I5D9KnKDSv4pEstzrqNC/3mB0IQ5izb+MNEv4Q3fJv+v6vkKGlsW/U70onW3Ewb+XhkkqGAq8v7O2eWXEt7S/m/DI72ovq7/RRnHFYrqavwAAAAAAAAAA",
          "dtype": "f8"
         }
        },
        {
         "marker": {
          "colorscale": [
           [
            0,
            "#440154"
           ],
           [
            0.1111111111111111,
            "#482878"
           ],
           [
            0.2222222222222222,
            "#3e4989"
           ],
           [
            0.3333333333333333,
            "#31688e"
           ],
           [
            0.4444444444444444,
            "#26828e"
           ],
           [
            0.5555555555555556,
            "#1f9e89"
           ],
           [
            0.6666666666666666,
            "#35b779"
           ],
           [
            0.7777777777777778,
            "#6ece58"
           ],
           [
            0.8888888888888888,
            "#b5de2b"
           ],
           [
            1,
            "#fde725"
           ]
          ],
          "opacity": 1,
          "size": 2
         },
         "mode": "markers",
         "name": "Pixel 11",
         "type": "scatter3d",
         "x": {
          "bdata": "NUZ1z/TZ5z+6KwGX2jjnP2r9SOqZjuY/UvXBzyTb5T9O1mD1gB7lPyvzA7TJWOQ/az6MvTGK4z+fs1tYBLPiP6cMrwym0+E/kcxYrJTs4D8wnZlHzfzfP1mJ4xeTE94/KJeY/P8e3D8/LAxwvSDaPyKmOUaSGtg/ynVAzVoO1j8+AsBMAP7TP22rAz5w69E/Yk/+Miexzz98dOUjjY7LP+ZKqBaicsc/TVUoGcBgwz/n8elkAbi+P46F1TFpzrY/jPwL43cTrj8WvQu3abmdPw==",
          "dtype": "f8"
         },
         "y": {
          "bdata": "AAAAAAAAAAAAAAAAAAAAAAAAAAAAAAAAAAAAAAAAAAAAAAAAAAAAAAAAAAAAAAAAAAAAAAAAAAAAAAAAAAAAAAAAAAAAAAAAAAAAAAAAAAAAAAAAAAAAAAAAAAAAAAAAAAAAAAAAAAAAAAAAAAAAAAAAAAAAAAAAAAAAAAAAAAAAAAAAAAAAAAAAAAAAAAAAAAAAAAAAAAAAAAAAAAAAAAAAAAAAAAAAAAAAAAAAAAAAAAAAAAAAAAAAAAAAAAAAAAAAAAAAAAAAAAAAAAAAAA==",
          "dtype": "f8"
         },
         "z": {
          "bdata": "VVVVVVVV5b83ccf1RQTmv1uBTJWUsua/i29/fJRf57+0qZbJjgrov4wbK47Esui/BBgIZnFX6b9D9+B8zvfpv+PHEPEVk+q/sWzaeYYo679z1LYwZ7frvx/O4VcLP+y/sIk79dW+7L++3EgYPTbtv/1l5aTMpO2/4IUIgigK7r8jbWUUDmbuv6vf8vZUuO6/35OT7u4A77/bEyAh5z/vv29k+KFgde+/PzU3bpSh779BYBn4zsTvvxuY82Nt3++/R0Q8mdrx779pGBhIjPzvvw==",
          "dtype": "f8"
         }
        }
       ],
       "layout": {
        "height": 800,
        "scene": {
         "aspectmode": "data",
         "xaxis": {
          "showbackground": false,
          "visible": false
         },
         "yaxis": {
          "showbackground": false,
          "visible": false
         },
         "zaxis": {
          "showbackground": false,
          "visible": false
         }
        },
        "template": {
         "data": {
          "bar": [
           {
            "error_x": {
             "color": "#2a3f5f"
            },
            "error_y": {
             "color": "#2a3f5f"
            },
            "marker": {
             "line": {
              "color": "#E5ECF6",
              "width": 0.5
             },
             "pattern": {
              "fillmode": "overlay",
              "size": 10,
              "solidity": 0.2
             }
            },
            "type": "bar"
           }
          ],
          "barpolar": [
           {
            "marker": {
             "line": {
              "color": "#E5ECF6",
              "width": 0.5
             },
             "pattern": {
              "fillmode": "overlay",
              "size": 10,
              "solidity": 0.2
             }
            },
            "type": "barpolar"
           }
          ],
          "carpet": [
           {
            "aaxis": {
             "endlinecolor": "#2a3f5f",
             "gridcolor": "white",
             "linecolor": "white",
             "minorgridcolor": "white",
             "startlinecolor": "#2a3f5f"
            },
            "baxis": {
             "endlinecolor": "#2a3f5f",
             "gridcolor": "white",
             "linecolor": "white",
             "minorgridcolor": "white",
             "startlinecolor": "#2a3f5f"
            },
            "type": "carpet"
           }
          ],
          "choropleth": [
           {
            "colorbar": {
             "outlinewidth": 0,
             "ticks": ""
            },
            "type": "choropleth"
           }
          ],
          "contour": [
           {
            "colorbar": {
             "outlinewidth": 0,
             "ticks": ""
            },
            "colorscale": [
             [
              0,
              "#0d0887"
             ],
             [
              0.1111111111111111,
              "#46039f"
             ],
             [
              0.2222222222222222,
              "#7201a8"
             ],
             [
              0.3333333333333333,
              "#9c179e"
             ],
             [
              0.4444444444444444,
              "#bd3786"
             ],
             [
              0.5555555555555556,
              "#d8576b"
             ],
             [
              0.6666666666666666,
              "#ed7953"
             ],
             [
              0.7777777777777778,
              "#fb9f3a"
             ],
             [
              0.8888888888888888,
              "#fdca26"
             ],
             [
              1,
              "#f0f921"
             ]
            ],
            "type": "contour"
           }
          ],
          "contourcarpet": [
           {
            "colorbar": {
             "outlinewidth": 0,
             "ticks": ""
            },
            "type": "contourcarpet"
           }
          ],
          "heatmap": [
           {
            "colorbar": {
             "outlinewidth": 0,
             "ticks": ""
            },
            "colorscale": [
             [
              0,
              "#0d0887"
             ],
             [
              0.1111111111111111,
              "#46039f"
             ],
             [
              0.2222222222222222,
              "#7201a8"
             ],
             [
              0.3333333333333333,
              "#9c179e"
             ],
             [
              0.4444444444444444,
              "#bd3786"
             ],
             [
              0.5555555555555556,
              "#d8576b"
             ],
             [
              0.6666666666666666,
              "#ed7953"
             ],
             [
              0.7777777777777778,
              "#fb9f3a"
             ],
             [
              0.8888888888888888,
              "#fdca26"
             ],
             [
              1,
              "#f0f921"
             ]
            ],
            "type": "heatmap"
           }
          ],
          "histogram": [
           {
            "marker": {
             "pattern": {
              "fillmode": "overlay",
              "size": 10,
              "solidity": 0.2
             }
            },
            "type": "histogram"
           }
          ],
          "histogram2d": [
           {
            "colorbar": {
             "outlinewidth": 0,
             "ticks": ""
            },
            "colorscale": [
             [
              0,
              "#0d0887"
             ],
             [
              0.1111111111111111,
              "#46039f"
             ],
             [
              0.2222222222222222,
              "#7201a8"
             ],
             [
              0.3333333333333333,
              "#9c179e"
             ],
             [
              0.4444444444444444,
              "#bd3786"
             ],
             [
              0.5555555555555556,
              "#d8576b"
             ],
             [
              0.6666666666666666,
              "#ed7953"
             ],
             [
              0.7777777777777778,
              "#fb9f3a"
             ],
             [
              0.8888888888888888,
              "#fdca26"
             ],
             [
              1,
              "#f0f921"
             ]
            ],
            "type": "histogram2d"
           }
          ],
          "histogram2dcontour": [
           {
            "colorbar": {
             "outlinewidth": 0,
             "ticks": ""
            },
            "colorscale": [
             [
              0,
              "#0d0887"
             ],
             [
              0.1111111111111111,
              "#46039f"
             ],
             [
              0.2222222222222222,
              "#7201a8"
             ],
             [
              0.3333333333333333,
              "#9c179e"
             ],
             [
              0.4444444444444444,
              "#bd3786"
             ],
             [
              0.5555555555555556,
              "#d8576b"
             ],
             [
              0.6666666666666666,
              "#ed7953"
             ],
             [
              0.7777777777777778,
              "#fb9f3a"
             ],
             [
              0.8888888888888888,
              "#fdca26"
             ],
             [
              1,
              "#f0f921"
             ]
            ],
            "type": "histogram2dcontour"
           }
          ],
          "mesh3d": [
           {
            "colorbar": {
             "outlinewidth": 0,
             "ticks": ""
            },
            "type": "mesh3d"
           }
          ],
          "parcoords": [
           {
            "line": {
             "colorbar": {
              "outlinewidth": 0,
              "ticks": ""
             }
            },
            "type": "parcoords"
           }
          ],
          "pie": [
           {
            "automargin": true,
            "type": "pie"
           }
          ],
          "scatter": [
           {
            "fillpattern": {
             "fillmode": "overlay",
             "size": 10,
             "solidity": 0.2
            },
            "type": "scatter"
           }
          ],
          "scatter3d": [
           {
            "line": {
             "colorbar": {
              "outlinewidth": 0,
              "ticks": ""
             }
            },
            "marker": {
             "colorbar": {
              "outlinewidth": 0,
              "ticks": ""
             }
            },
            "type": "scatter3d"
           }
          ],
          "scattercarpet": [
           {
            "marker": {
             "colorbar": {
              "outlinewidth": 0,
              "ticks": ""
             }
            },
            "type": "scattercarpet"
           }
          ],
          "scattergeo": [
           {
            "marker": {
             "colorbar": {
              "outlinewidth": 0,
              "ticks": ""
             }
            },
            "type": "scattergeo"
           }
          ],
          "scattergl": [
           {
            "marker": {
             "colorbar": {
              "outlinewidth": 0,
              "ticks": ""
             }
            },
            "type": "scattergl"
           }
          ],
          "scattermap": [
           {
            "marker": {
             "colorbar": {
              "outlinewidth": 0,
              "ticks": ""
             }
            },
            "type": "scattermap"
           }
          ],
          "scattermapbox": [
           {
            "marker": {
             "colorbar": {
              "outlinewidth": 0,
              "ticks": ""
             }
            },
            "type": "scattermapbox"
           }
          ],
          "scatterpolar": [
           {
            "marker": {
             "colorbar": {
              "outlinewidth": 0,
              "ticks": ""
             }
            },
            "type": "scatterpolar"
           }
          ],
          "scatterpolargl": [
           {
            "marker": {
             "colorbar": {
              "outlinewidth": 0,
              "ticks": ""
             }
            },
            "type": "scatterpolargl"
           }
          ],
          "scatterternary": [
           {
            "marker": {
             "colorbar": {
              "outlinewidth": 0,
              "ticks": ""
             }
            },
            "type": "scatterternary"
           }
          ],
          "surface": [
           {
            "colorbar": {
             "outlinewidth": 0,
             "ticks": ""
            },
            "colorscale": [
             [
              0,
              "#0d0887"
             ],
             [
              0.1111111111111111,
              "#46039f"
             ],
             [
              0.2222222222222222,
              "#7201a8"
             ],
             [
              0.3333333333333333,
              "#9c179e"
             ],
             [
              0.4444444444444444,
              "#bd3786"
             ],
             [
              0.5555555555555556,
              "#d8576b"
             ],
             [
              0.6666666666666666,
              "#ed7953"
             ],
             [
              0.7777777777777778,
              "#fb9f3a"
             ],
             [
              0.8888888888888888,
              "#fdca26"
             ],
             [
              1,
              "#f0f921"
             ]
            ],
            "type": "surface"
           }
          ],
          "table": [
           {
            "cells": {
             "fill": {
              "color": "#EBF0F8"
             },
             "line": {
              "color": "white"
             }
            },
            "header": {
             "fill": {
              "color": "#C8D4E3"
             },
             "line": {
              "color": "white"
             }
            },
            "type": "table"
           }
          ]
         },
         "layout": {
          "annotationdefaults": {
           "arrowcolor": "#2a3f5f",
           "arrowhead": 0,
           "arrowwidth": 1
          },
          "autotypenumbers": "strict",
          "coloraxis": {
           "colorbar": {
            "outlinewidth": 0,
            "ticks": ""
           }
          },
          "colorscale": {
           "diverging": [
            [
             0,
             "#8e0152"
            ],
            [
             0.1,
             "#c51b7d"
            ],
            [
             0.2,
             "#de77ae"
            ],
            [
             0.3,
             "#f1b6da"
            ],
            [
             0.4,
             "#fde0ef"
            ],
            [
             0.5,
             "#f7f7f7"
            ],
            [
             0.6,
             "#e6f5d0"
            ],
            [
             0.7,
             "#b8e186"
            ],
            [
             0.8,
             "#7fbc41"
            ],
            [
             0.9,
             "#4d9221"
            ],
            [
             1,
             "#276419"
            ]
           ],
           "sequential": [
            [
             0,
             "#0d0887"
            ],
            [
             0.1111111111111111,
             "#46039f"
            ],
            [
             0.2222222222222222,
             "#7201a8"
            ],
            [
             0.3333333333333333,
             "#9c179e"
            ],
            [
             0.4444444444444444,
             "#bd3786"
            ],
            [
             0.5555555555555556,
             "#d8576b"
            ],
            [
             0.6666666666666666,
             "#ed7953"
            ],
            [
             0.7777777777777778,
             "#fb9f3a"
            ],
            [
             0.8888888888888888,
             "#fdca26"
            ],
            [
             1,
             "#f0f921"
            ]
           ],
           "sequentialminus": [
            [
             0,
             "#0d0887"
            ],
            [
             0.1111111111111111,
             "#46039f"
            ],
            [
             0.2222222222222222,
             "#7201a8"
            ],
            [
             0.3333333333333333,
             "#9c179e"
            ],
            [
             0.4444444444444444,
             "#bd3786"
            ],
            [
             0.5555555555555556,
             "#d8576b"
            ],
            [
             0.6666666666666666,
             "#ed7953"
            ],
            [
             0.7777777777777778,
             "#fb9f3a"
            ],
            [
             0.8888888888888888,
             "#fdca26"
            ],
            [
             1,
             "#f0f921"
            ]
           ]
          },
          "colorway": [
           "#636efa",
           "#EF553B",
           "#00cc96",
           "#ab63fa",
           "#FFA15A",
           "#19d3f3",
           "#FF6692",
           "#B6E880",
           "#FF97FF",
           "#FECB52"
          ],
          "font": {
           "color": "#2a3f5f"
          },
          "geo": {
           "bgcolor": "white",
           "lakecolor": "white",
           "landcolor": "#E5ECF6",
           "showlakes": true,
           "showland": true,
           "subunitcolor": "white"
          },
          "hoverlabel": {
           "align": "left"
          },
          "hovermode": "closest",
          "mapbox": {
           "style": "light"
          },
          "paper_bgcolor": "white",
          "plot_bgcolor": "#E5ECF6",
          "polar": {
           "angularaxis": {
            "gridcolor": "white",
            "linecolor": "white",
            "ticks": ""
           },
           "bgcolor": "#E5ECF6",
           "radialaxis": {
            "gridcolor": "white",
            "linecolor": "white",
            "ticks": ""
           }
          },
          "scene": {
           "xaxis": {
            "backgroundcolor": "#E5ECF6",
            "gridcolor": "white",
            "gridwidth": 2,
            "linecolor": "white",
            "showbackground": true,
            "ticks": "",
            "zerolinecolor": "white"
           },
           "yaxis": {
            "backgroundcolor": "#E5ECF6",
            "gridcolor": "white",
            "gridwidth": 2,
            "linecolor": "white",
            "showbackground": true,
            "ticks": "",
            "zerolinecolor": "white"
           },
           "zaxis": {
            "backgroundcolor": "#E5ECF6",
            "gridcolor": "white",
            "gridwidth": 2,
            "linecolor": "white",
            "showbackground": true,
            "ticks": "",
            "zerolinecolor": "white"
           }
          },
          "shapedefaults": {
           "line": {
            "color": "#2a3f5f"
           }
          },
          "ternary": {
           "aaxis": {
            "gridcolor": "white",
            "linecolor": "white",
            "ticks": ""
           },
           "baxis": {
            "gridcolor": "white",
            "linecolor": "white",
            "ticks": ""
           },
           "bgcolor": "#E5ECF6",
           "caxis": {
            "gridcolor": "white",
            "linecolor": "white",
            "ticks": ""
           }
          },
          "title": {
           "x": 0.05
          },
          "xaxis": {
           "automargin": true,
           "gridcolor": "white",
           "linecolor": "white",
           "ticks": "",
           "title": {
            "standoff": 15
           },
           "zerolinecolor": "white",
           "zerolinewidth": 2
          },
          "yaxis": {
           "automargin": true,
           "gridcolor": "white",
           "linecolor": "white",
           "ticks": "",
           "title": {
            "standoff": 15
           },
           "zerolinecolor": "white",
           "zerolinewidth": 2
          }
         }
        },
        "title": {
         "text": "HEALPix Points on Sphere (order=0)"
        },
        "width": 800
       }
      }
     },
     "metadata": {},
     "output_type": "display_data"
    }
   ],
   "source": [
    "main(0,2.5)"
   ]
  },
  {
   "cell_type": "code",
   "execution_count": 7,
   "metadata": {},
   "outputs": [],
   "source": [
    "def getBoundaries(order, i):\n",
    "    x_coor = []\n",
    "    y_coor = []\n",
    "    z_coor = []\n",
    "    # for i in range(hp.order2npix(order)):\n",
    "    test = hp.boundaries(hp.order2nside(order), i, step=1)\n",
    "    x_coor.extend(test[0])\n",
    "    y_coor.extend(test[1])\n",
    "    z_coor.extend(test[2])\n",
    "    \n",
    "    return x_coor, y_coor, z_coor"
   ]
  },
  {
   "cell_type": "code",
   "execution_count": 8,
   "metadata": {},
   "outputs": [],
   "source": [
    "def getArcs(points, num_points):\n",
    "    \n",
    "    p1, p2, p3, p4= np.transpose(points)\n",
    "    arc12 = great_circle_arc(p1, p2, num_points)\n",
    "    arc23 = great_circle_arc(p2, p3, num_points)\n",
    "    arc34 = great_circle_arc(p3, p4, num_points)\n",
    "    arc41 = great_circle_arc(p4, p1, num_points)\n",
    "    \n",
    "    return arc12, arc23, arc34, arc41\n",
    "    "
   ]
  },
  {
   "cell_type": "code",
   "execution_count": 9,
   "metadata": {},
   "outputs": [],
   "source": [
    "def getPoints(arc12, arc23, arc34, arc41,theta_max, phi_max, num_points = 50):\n",
    "    new_points = []\n",
    "    all_arc_lengths = []\n",
    "    thetas = []\n",
    "    phis = []\n",
    "    \n",
    "    #This function returns arcs both from top to bottom as well as side to side\n",
    "    for i in range(num_points):\n",
    "        arc = great_circle_arc(arc12[i], arc34[num_points - 1 - i], num_points)\n",
    "        for j in range(num_points):\n",
    "            theta, phi = spherical(arc[j])\n",
    "            thetas.append(theta)\n",
    "            phis.append(phi)\n",
    "            if(theta < theta_max and phi<phi_max):\n",
    "                new_points.append(arc[j])\n",
    "                \n",
    "    # print(\"theta:\")\n",
    "    # print(np.max((thetas)) *180/np.pi)\n",
    "    # print(\"phi\")\n",
    "    # print(np.max((phis)) *180/np.pi)\n",
    "        # arc_lengths=[]\n",
    "        # for j in range(num_points-1):\n",
    "        #     arc_lengths.append(angle_finder(arc[j], arc[j+1]))\n",
    "        # all_arc_lengths.append(arc_lengths)\n",
    "    # for i in range(num_points):\n",
    "    #     arc = great_circle_arc(arc23[i], arc41[num_points -1 - i], num_points)\n",
    "    #     new_points.extend(arc)\n",
    "    #     arc_lengths=[]\n",
    "    #     for j in range(num_points-1):\n",
    "    #         arc_lengths.append(angle_finder(arc[j], arc[j+1]))\n",
    "    #     all_arc_lengths.append(arc_lengths)\n",
    "\n",
    "\n",
    "    \n",
    "\n",
    "                \n",
    "                    \n",
    "    return np.array(new_points), np.array(all_arc_lengths)"
   ]
  },
  {
   "cell_type": "code",
   "execution_count": 10,
   "metadata": {},
   "outputs": [],
   "source": [
    "def great_circle_arc(p1, p2, num_points=50):\n",
    "    \"\"\"Generates points along a great circle arc between two points.\"\"\"\n",
    "    p1_norm = p1 / np.linalg.norm(p1)\n",
    "    p2_norm = p2 / np.linalg.norm(p2)\n",
    "    points = []\n",
    "    for i in range(num_points):\n",
    "        t = i / (num_points - 1)\n",
    "        # Linear interpolation and normalization\n",
    "        pt = (1 - t) * p1_norm + t * p2_norm\n",
    "        pt_norm = pt / np.linalg.norm(pt)\n",
    "        points.append(pt_norm)\n",
    "    return np.array(points)"
   ]
  },
  {
   "cell_type": "code",
   "execution_count": 11,
   "metadata": {},
   "outputs": [],
   "source": [
    "def diff_in_angle(p1, p2):\n",
    "   new_p1 = spherical(p1)\n",
    "   new_p2 = spherical(p2)\n",
    "   theta= abs(math.degrees(new_p1[0]) - math.degrees(new_p2[0]))\n",
    "   phi = abs(math.degrees(new_p1[1]) - math.degrees(new_p2[1]))\n",
    "   return theta, phi"
   ]
  },
  {
   "cell_type": "code",
   "execution_count": 12,
   "metadata": {},
   "outputs": [],
   "source": [
    "def spherical(point):\n",
    "    return math.degrees(np.arccos(point[2])),  math.degrees(math.atan2(point[1], point[0])) % 360"
   ]
  },
  {
   "cell_type": "code",
   "execution_count": 13,
   "metadata": {},
   "outputs": [
    {
     "name": "stdout",
     "output_type": "stream",
     "text": [
      "Theta: 90.00°, Phi: 0.00°\n",
      "Theta: 90.00°, Phi: 90.00°\n",
      "Theta: 0.00°, Phi: 0.00°\n",
      "Theta: 90.00°, Phi: 225.00°\n",
      "Theta: 0.00°, Phi: 45.00°\n",
      "Theta: 90.00°, Phi: 270.00°\n",
      "Theta: 90.00°, Phi: 180.00°\n",
      "Theta: 180.00°, Phi: 0.00°\n"
     ]
    }
   ],
   "source": [
    "test_cases = [\n",
    "    (1, 0, 0),  # Along +x axis\n",
    "    (0, 1, 0),  # Along +y axis\n",
    "    (0, 0, 1),  # Along +z axis\n",
    "    (-1, -1, 0),  # In third quadrant of xy-plane\n",
    "    (1, 1, 1),  # General case\n",
    "    (0, -1, 0),  # Along -y axis\n",
    "    (-1, 0, 0),  # Along -x axis\n",
    "    (0, 0, -1),  # Along -z axis\n",
    "]\n",
    "\n",
    "for i in range(8):\n",
    "    theta, phi = spherical(test_cases[i])\n",
    "    print(f\"Theta: {theta:.2f}°, Phi: {phi:.2f}°\")"
   ]
  },
  {
   "cell_type": "code",
   "execution_count": 14,
   "metadata": {},
   "outputs": [],
   "source": [
    "import math\n",
    "\n",
    "def spherical_angle_diff(point1, point2):\n",
    "    \"\"\"\n",
    "    Calculates the difference in theta and phi angles between two points on a sphere given their Cartesian coordinates.\n",
    "\n",
    "    Args:\n",
    "        point1: A tuple of length 3 representing the Cartesian coordinates of the first point.\n",
    "        point2: A tuple of length 3 representing the Cartesian coordinates of the second point.\n",
    "\n",
    "    Returns:\n",
    "        A tuple containing the difference in theta and phi angles.\n",
    "    \"\"\"\n",
    "    \n",
    "    def to_spherical(point):\n",
    "        x, y, z = point\n",
    "        r = math.sqrt(x**2 + y**2 + z**2)\n",
    "        theta = math.atan2(y, x)\n",
    "        phi = math.acos(z / r)\n",
    "        return theta, phi\n",
    "\n",
    "    theta1, phi1 = to_spherical(point1)\n",
    "    theta2, phi2 = to_spherical(point2)\n",
    "\n",
    "    return (theta2 - theta1) *180/np.pi, (phi2 - phi1)*180/np.pi"
   ]
  },
  {
   "cell_type": "code",
   "execution_count": 15,
   "metadata": {},
   "outputs": [],
   "source": [
    "def angle_finder(point1, point2):\n",
    "\n",
    "    point1 = np.array(point1)\n",
    "    point2 = np.array(point2)\n",
    "\n",
    "    # Calculate the dot product of the two vectors\n",
    "    dot_product = np.dot(point1, point2)\n",
    "\n",
    "     # Ensure the value is within the valid range for arccos (-1 to 1)\n",
    "    cos_theta = np.clip(dot_product, -1, 1)\n",
    "    \n",
    "    # Calculate the angle in radians using arccos\n",
    "    angle = math.degrees(math.acos(cos_theta))\n",
    "\n",
    "    return angle"
   ]
  },
  {
   "cell_type": "code",
   "execution_count": 16,
   "metadata": {},
   "outputs": [],
   "source": [
    "    \n",
    "    def to_spherical(point):\n",
    "        x, y, z = point\n",
    "        r = math.sqrt(x**2 + y**2 + z**2)\n",
    "        theta = math.atan2(y, x)\n",
    "        phi = math.acos(z / r)\n",
    "        return theta, phi\n"
   ]
  },
  {
   "cell_type": "code",
   "execution_count": null,
   "metadata": {},
   "outputs": [],
   "source": []
  },
  {
   "cell_type": "code",
   "execution_count": null,
   "metadata": {},
   "outputs": [],
   "source": []
  }
 ],
 "metadata": {
  "kernelspec": {
   "display_name": "Cryo-EM_project",
   "language": "python",
   "name": "python3"
  },
  "language_info": {
   "codemirror_mode": {
    "name": "ipython",
    "version": 3
   },
   "file_extension": ".py",
   "mimetype": "text/x-python",
   "name": "python",
   "nbconvert_exporter": "python",
   "pygments_lexer": "ipython3",
   "version": "3.11.0"
  }
 },
 "nbformat": 4,
 "nbformat_minor": 2
}
