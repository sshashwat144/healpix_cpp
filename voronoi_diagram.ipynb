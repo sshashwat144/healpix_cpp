{
 "cells": [
  {
   "cell_type": "code",
   "execution_count": 53,
   "metadata": {},
   "outputs": [],
   "source": [
    "import numpy as np\n",
    "import matplotlib.pyplot as plt\n",
    "from mpl_toolkits.mplot3d import Axes3D\n",
    "from mpl_toolkits.mplot3d.art3d import Poly3DCollection\n",
    "import matplotlib.colors as mcolors\n",
    "import healpy as hp\n",
    "import math\n",
    "from shapely.geometry import Point, Polygon\n",
    "import plotly.graph_objects as go"
   ]
  },
  {
   "cell_type": "code",
   "execution_count": 59,
   "metadata": {},
   "outputs": [],
   "source": [
    "def main(order, i, num):\n",
    "    num_points = num\n",
    "    # Create points for sphere\n",
    "    theta = np.linspace(0, 2 * np.pi, 100)\n",
    "    phi = np.linspace(0, np.pi, 50)\n",
    "    theta, phi = np.meshgrid(theta, phi)\n",
    "    r = 1\n",
    "    # Convert to Cartesian coordinates\n",
    "    x = r * np.sin(phi) * np.cos(theta)\n",
    "    y = r * np.sin(phi) * np.sin(theta)\n",
    "    z = r * np.cos(phi)\n",
    "    \n",
    "    sphere = go.Surface(x=x,y=y,z=z,colorscale='Gray',opacity=.2,showscale=False)\n",
    "    points = getBoundaries2(order, i)\n",
    "    x = points[0] \n",
    "    y = points[1]\n",
    "    z = points[2]\n",
    "    # Create scatter3d plot\n",
    "    scatter5 = go.Scatter3d(x=x,y=y,z=z,mode='markers',marker=dict(size=2,color=\"red\",colorscale='Viridis',opacity=0.8), name=\"Borders\")\n",
    "    \n",
    "    points = getBoundaries(order, i)\n",
    "    x = points[0] \n",
    "    y = points[1]\n",
    "    z = points[2]\n",
    "    # Create scatter3d plot\n",
    "    scatter = go.Scatter3d(x=x,y=y,z=z,mode='markers',marker=dict(size=10,color=\"red\",colorscale='Viridis',opacity=0.8), name=\"Borders\")\n",
    "    \n",
    "\n",
    "    \n",
    "    arc12, arc23, arc34, arc41 = getArcs(points, num_points)\n",
    "\n",
    "    arcs = np.concatenate((arc12, arc23, arc34, arc41), axis = 0)\n",
    "    scatters = go.Scatter3d(x=arcs[:,0],y=arcs[:,1],z=arcs[:,2],mode='markers',marker=dict(size=4,color=\"blue\",colorscale='Viridis',opacity=0.8), name=\"Borders\")\n",
    "    \n",
    "    new_points, arc_lengths= getPoints(arc12, arc23, arc34, arc41, num_points)\n",
    "    #print(np.shape(new_points))\n",
    "    x1 = new_points[:,0]\n",
    "    y1 = new_points[:,1]\n",
    "    z1 = new_points[:,2]\n",
    "    # Create scatter3d plot\n",
    "    scatter1 = go.Scatter3d(x=x1,y=y1,z=z1,mode='markers',marker=dict(size=2,color=\"yellow\",colorscale='Viridis',opacity=0.8), name=\"Points\")\n",
    "    \n",
    "\n",
    "    # test1 = go.Scatter3d(x=new_points[150:153, 0], y=new_points[150:153,1],z= new_points[150:153, 2],mode='markers', marker=dict(size = 2, color='green',opacity=.8))\n",
    "  \n",
    "\n",
    "    # for j in range(10):\n",
    "    #     print(new_points[j+150,0], new_points[j+150, 1],new_points[j+150, 2] )\n",
    "        \n",
    "        \n",
    "        \n",
    "    p1 = go.Scatter3d(x=new_points[51:52, 0], y=new_points[51:52,1],z= new_points[51:52,2],mode='markers', marker=dict(size = 2, color='green',opacity=.8))\n",
    "    p2 = go.Scatter3d(x=new_points[(2598):(2599), 0], y=new_points[(2598):(2599),1],z= new_points[(2598):(2599), 2],mode='markers', marker=dict(size = 2, color='green',opacity=.8))    \n",
    "    # test = go.Scatter3d(x=new_points[0:50, 0], y=new_points[0:50,1],z= new_points[0:50, 2],mode='markers', marker=dict(size = 5, color='green',opacity=.8))\n",
    "    small_arcs = []\n",
    "    for i in range(num_points*num_points):\n",
    "        p1 = new_points[i]\n",
    "        p2 = new_points[(num_points*num_points-1 + num_points) - i//num_points + num_points*(i%num_points)]\n",
    "        small_arcs.append(angle_finder(p1,p2))    \n",
    "        \n",
    "#    # fig = go.Figure(data=[sphere, scatter, scatters, scatter1])\n",
    "#     fig.update_layout(\n",
    "#         title=f'HEALPix Points on Sphere (order={order})',\n",
    "#         scene=dict(\n",
    "#             xaxis=dict(showbackground=False, visible=False),\n",
    "#             yaxis=dict(showbackground=False, visible=False),\n",
    "#             zaxis=dict(showbackground=False, visible=False),\n",
    "#             aspectmode='data'\n",
    "#         ),\n",
    "#         width=800,\n",
    "#         height=800\n",
    "#     )\n",
    "#     # Display the plot\n",
    "    #fig.show()\n",
    "    return new_points\n",
    "\n",
    "# t,s  = main(0,0)"
   ]
  },
  {
   "cell_type": "code",
   "execution_count": 57,
   "metadata": {},
   "outputs": [
    {
     "name": "stdout",
     "output_type": "stream",
     "text": [
      "(3, 400)\n"
     ]
    }
   ],
   "source": [
    "main(0,0,50)"
   ]
  },
  {
   "cell_type": "code",
   "execution_count": 60,
   "metadata": {},
   "outputs": [
    {
     "name": "stdout",
     "output_type": "stream",
     "text": [
      "(3, 400)\n",
      "(4883, 3)\n"
     ]
    },
    {
     "ename": "ValueError",
     "evalue": "Duplicate generators present.",
     "output_type": "error",
     "traceback": [
      "\u001b[0;31m---------------------------------------------------------------------------\u001b[0m",
      "\u001b[0;31mValueError\u001b[0m                                Traceback (most recent call last)",
      "Cell \u001b[0;32mIn[60], line 8\u001b[0m\n\u001b[1;32m      6\u001b[0m unique \u001b[38;5;241m=\u001b[39m np\u001b[38;5;241m.\u001b[39munique(points, axis\u001b[38;5;241m=\u001b[39m\u001b[38;5;241m0\u001b[39m)\n\u001b[1;32m      7\u001b[0m \u001b[38;5;28mprint\u001b[39m(np\u001b[38;5;241m.\u001b[39mshape(unique))\n\u001b[0;32m----> 8\u001b[0m sv \u001b[38;5;241m=\u001b[39m \u001b[43mSphericalVoronoi\u001b[49m\u001b[43m(\u001b[49m\u001b[43munique\u001b[49m\u001b[43m,\u001b[49m\u001b[43m \u001b[49m\u001b[38;5;241;43m1\u001b[39;49m\u001b[43m,\u001b[49m\u001b[43m \u001b[49m\u001b[43m(\u001b[49m\u001b[38;5;241;43m0\u001b[39;49m\u001b[43m,\u001b[49m\u001b[38;5;241;43m0\u001b[39;49m\u001b[43m,\u001b[49m\u001b[38;5;241;43m0\u001b[39;49m\u001b[43m)\u001b[49m\u001b[43m)\u001b[49m\n\u001b[1;32m      9\u001b[0m SphericalVoronoi\u001b[38;5;241m.\u001b[39mcalculate_areas(sv)\n",
      "File \u001b[0;32m~/anaconda3/envs/Cryo-EM_project/lib/python3.11/site-packages/scipy/spatial/_spherical_voronoi.py:189\u001b[0m, in \u001b[0;36mSphericalVoronoi.__init__\u001b[0;34m(self, points, radius, center, threshold)\u001b[0m\n\u001b[1;32m    186\u001b[0m     \u001b[38;5;28;01mraise\u001b[39;00m \u001b[38;5;167;01mValueError\u001b[39;00m(\u001b[38;5;124mf\u001b[39m\u001b[38;5;124m\"\u001b[39m\u001b[38;5;124mRank of input points must be at least \u001b[39m\u001b[38;5;132;01m{\u001b[39;00m\u001b[38;5;28mself\u001b[39m\u001b[38;5;241m.\u001b[39m_dim\u001b[38;5;132;01m}\u001b[39;00m\u001b[38;5;124m\"\u001b[39m)\n\u001b[1;32m    188\u001b[0m \u001b[38;5;28;01mif\u001b[39;00m cKDTree(\u001b[38;5;28mself\u001b[39m\u001b[38;5;241m.\u001b[39mpoints)\u001b[38;5;241m.\u001b[39mquery_pairs(threshold \u001b[38;5;241m*\u001b[39m \u001b[38;5;28mself\u001b[39m\u001b[38;5;241m.\u001b[39mradius):\n\u001b[0;32m--> 189\u001b[0m     \u001b[38;5;28;01mraise\u001b[39;00m \u001b[38;5;167;01mValueError\u001b[39;00m(\u001b[38;5;124m\"\u001b[39m\u001b[38;5;124mDuplicate generators present.\u001b[39m\u001b[38;5;124m\"\u001b[39m)\n\u001b[1;32m    191\u001b[0m radii \u001b[38;5;241m=\u001b[39m np\u001b[38;5;241m.\u001b[39mlinalg\u001b[38;5;241m.\u001b[39mnorm(\u001b[38;5;28mself\u001b[39m\u001b[38;5;241m.\u001b[39mpoints \u001b[38;5;241m-\u001b[39m \u001b[38;5;28mself\u001b[39m\u001b[38;5;241m.\u001b[39mcenter, axis\u001b[38;5;241m=\u001b[39m\u001b[38;5;241m1\u001b[39m)\n\u001b[1;32m    192\u001b[0m max_discrepancy \u001b[38;5;241m=\u001b[39m np\u001b[38;5;241m.\u001b[39mabs(radii \u001b[38;5;241m-\u001b[39m \u001b[38;5;28mself\u001b[39m\u001b[38;5;241m.\u001b[39mradius)\u001b[38;5;241m.\u001b[39mmax()\n",
      "\u001b[0;31mValueError\u001b[0m: Duplicate generators present."
     ]
    }
   ],
   "source": [
    "from scipy.spatial import SphericalVoronoi, geometric_slerp\n",
    "\n",
    "from mpl_toolkits.mplot3d import proj3d\n",
    "\n",
    "points = main(0,0,50)\n",
    "unique = np.unique(points, axis=0)\n",
    "print(np.shape(unique))\n",
    "sv = SphericalVoronoi(unique, 1, (0,0,0))\n",
    "SphericalVoronoi.calculate_areas(sv)"
   ]
  },
  {
   "cell_type": "code",
   "execution_count": 4,
   "metadata": {},
   "outputs": [],
   "source": [
    "def getBoundaries2(order, i):\n",
    "    x_coor = []\n",
    "    y_coor = []\n",
    "    z_coor = []\n",
    "    # for i in range(hp.order2npix(order)):\n",
    "    test = hp.boundaries(hp.order2nside(order), i, step=100)\n",
    "    x_coor.extend(test[0])\n",
    "    y_coor.extend(test[1])\n",
    "    z_coor.extend(test[2])\n",
    "    #print(np.shape(test))\n",
    "    \n",
    "    return x_coor, y_coor, z_coor"
   ]
  },
  {
   "cell_type": "code",
   "execution_count": 5,
   "metadata": {},
   "outputs": [],
   "source": [
    "def getBoundaries(order, i):\n",
    "    x_coor = []\n",
    "    y_coor = []\n",
    "    z_coor = []\n",
    "    # for i in range(hp.order2npix(order)):\n",
    "    test = hp.boundaries(hp.order2nside(order), i, step=1)\n",
    "    x_coor.extend(test[0])\n",
    "    y_coor.extend(test[1])\n",
    "    z_coor.extend(test[2])\n",
    "    \n",
    "    return x_coor, y_coor, z_coor"
   ]
  },
  {
   "cell_type": "code",
   "execution_count": 6,
   "metadata": {},
   "outputs": [],
   "source": [
    "def getArcs(points, num_points):\n",
    "    \n",
    "    p1, p2, p3, p4= np.transpose(points)\n",
    "    arc12 = great_circle_arc(p1, p2, num_points)\n",
    "    arc23 = great_circle_arc(p2, p3, num_points)\n",
    "    arc34 = great_circle_arc(p3, p4, num_points)\n",
    "    arc41 = great_circle_arc(p4, p1, num_points)\n",
    "    \n",
    "    return arc12, arc23, arc34, arc41\n",
    "    "
   ]
  },
  {
   "cell_type": "code",
   "execution_count": 7,
   "metadata": {},
   "outputs": [],
   "source": [
    "def getPoints(arc12, arc23, arc34, arc41, num_points = 50):\n",
    "    new_points = []\n",
    "    all_arc_lengths = []\n",
    "    \n",
    "    #This function returns arcs both from top to bottom as well as side to side\n",
    "    for i in range(num_points):\n",
    "        arc = great_circle_arc(arc12[i], arc34[num_points - 1 - i], num_points)\n",
    "        new_points.extend(arc)\n",
    "        arc_lengths=[]\n",
    "        for j in range(num_points-1):\n",
    "            arc_lengths.append(angle_finder(arc[j], arc[j+1]))\n",
    "        all_arc_lengths.append(arc_lengths)\n",
    "    for i in range(num_points):\n",
    "        arc = great_circle_arc(arc23[i], arc41[num_points -1 - i], num_points)\n",
    "        new_points.extend(arc)\n",
    "        arc_lengths=[]\n",
    "        for j in range(num_points-1):\n",
    "            arc_lengths.append(angle_finder(arc[j], arc[j+1]))\n",
    "        all_arc_lengths.append(arc_lengths)\n",
    "\n",
    "\n",
    "    \n",
    "\n",
    "                \n",
    "                    \n",
    "    return np.array(new_points), np.array(all_arc_lengths)"
   ]
  },
  {
   "cell_type": "code",
   "execution_count": 8,
   "metadata": {},
   "outputs": [],
   "source": [
    "def great_circle_arc(p1, p2, num_points=50):\n",
    "    \"\"\"Generates points along a great circle arc between two points.\"\"\"\n",
    "\n",
    "    p1_norm = p1 / np.linalg.norm(p1)\n",
    "    p2_norm = p2 / np.linalg.norm(p2)\n",
    "    points = []\n",
    "    for i in range(num_points):\n",
    "        t = i / (num_points - 1)\n",
    "        # Linear interpolation and normalization\n",
    "        pt = (1 - t) * p1_norm + t * p2_norm\n",
    "        pt_norm = pt / np.linalg.norm(pt)\n",
    "        points.append(pt_norm)\n",
    "    return np.array(points)"
   ]
  },
  {
   "cell_type": "code",
   "execution_count": 9,
   "metadata": {},
   "outputs": [],
   "source": [
    "def diff_in_angle(p1, p2):\n",
    "   new_p1 = spherical(p1)\n",
    "   new_p2 = spherical(p2)\n",
    "   theta= abs(math.degrees(new_p1[0]) - math.degrees(new_p2[0]))\n",
    "   phi = abs(math.degrees(new_p1[1]) - math.degrees(new_p2[1]))\n",
    "   return theta, phi"
   ]
  },
  {
   "cell_type": "code",
   "execution_count": 10,
   "metadata": {},
   "outputs": [],
   "source": [
    "def spherical(point):\n",
    "    return np.arctan2(point[1], point[0]), np.arccos(point[2])"
   ]
  },
  {
   "cell_type": "code",
   "execution_count": 11,
   "metadata": {},
   "outputs": [],
   "source": [
    "import math\n",
    "\n",
    "def spherical_angle_diff(point1, point2):\n",
    "    \"\"\"\n",
    "    Calculates the difference in theta and phi angles between two points on a sphere given their Cartesian coordinates.\n",
    "\n",
    "    Args:\n",
    "        point1: A tuple of length 3 representing the Cartesian coordinates of the first point.\n",
    "        point2: A tuple of length 3 representing the Cartesian coordinates of the second point.\n",
    "\n",
    "    Returns:\n",
    "        A tuple containing the difference in theta and phi angles.\n",
    "    \"\"\"\n",
    "    \n",
    "    def to_spherical(point):\n",
    "        x, y, z = point\n",
    "        r = math.sqrt(x**2 + y**2 + z**2)\n",
    "        theta = math.atan2(y, x)\n",
    "        phi = math.acos(z / r)\n",
    "        return theta, phi\n",
    "\n",
    "    theta1, phi1 = to_spherical(point1)\n",
    "    theta2, phi2 = to_spherical(point2)\n",
    "\n",
    "    return (theta2 - theta1) *180/np.pi, (phi2 - phi1)*180/np.pi"
   ]
  },
  {
   "cell_type": "code",
   "execution_count": 12,
   "metadata": {},
   "outputs": [],
   "source": [
    "def angle_finder(point1, point2):\n",
    "\n",
    "    point1 = np.array(point1)\n",
    "    point2 = np.array(point2)\n",
    "\n",
    "    # Calculate the dot product of the two vectors\n",
    "    dot_product = np.dot(point1, point2)\n",
    "\n",
    "     # Ensure the value is within the valid range for arccos (-1 to 1)\n",
    "    cos_theta = np.clip(dot_product, -1, 1)\n",
    "    \n",
    "    # Calculate the angle in radians using arccos\n",
    "    angle = math.degrees(math.acos(cos_theta))\n",
    "\n",
    "    return angle"
   ]
  },
  {
   "cell_type": "code",
   "execution_count": null,
   "metadata": {},
   "outputs": [],
   "source": []
  }
 ],
 "metadata": {
  "kernelspec": {
   "display_name": "Cryo-EM_project",
   "language": "python",
   "name": "python3"
  },
  "language_info": {
   "codemirror_mode": {
    "name": "ipython",
    "version": 3
   },
   "file_extension": ".py",
   "mimetype": "text/x-python",
   "name": "python",
   "nbconvert_exporter": "python",
   "pygments_lexer": "ipython3",
   "version": "3.11.0"
  }
 },
 "nbformat": 4,
 "nbformat_minor": 2
}
